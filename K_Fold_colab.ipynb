{
  "nbformat": 4,
  "nbformat_minor": 0,
  "metadata": {
    "colab": {
      "provenance": [],
      "gpuType": "L4",
      "machine_shape": "hm"
    },
    "kernelspec": {
      "name": "python3",
      "display_name": "Python 3"
    },
    "language_info": {
      "name": "python"
    },
    "accelerator": "GPU"
  },
  "cells": [
    {
      "cell_type": "code",
      "source": [
        "from google.colab import drive\n",
        "drive.mount('/content/drive')"
      ],
      "metadata": {
        "id": "YCYPvawcWABR"
      },
      "execution_count": null,
      "outputs": []
    },
    {
      "cell_type": "code",
      "source": [
        "!pip install wandb"
      ],
      "metadata": {
        "collapsed": true,
        "id": "T-1XYBLl0crK"
      },
      "execution_count": null,
      "outputs": []
    },
    {
      "cell_type": "code",
      "source": [
        "import wandb\n",
        "\n",
        "wandb.login()"
      ],
      "metadata": {
        "id": "rkz4raCO0YwI"
      },
      "execution_count": null,
      "outputs": []
    },
    {
      "cell_type": "code",
      "source": [
        "from google.colab import drive\n",
        "import zipfile\n",
        "import os\n",
        "\n",
        "# 2. 압축 파일 경로 설정\n",
        "zip_file_path = '/content/drive/MyDrive/스마트팩토리_배터리/data/K-Fold.zip'\n",
        "extract_folder = '/content/data'\n",
        "\n",
        "# 3. 압축 해제\n",
        "with zipfile.ZipFile(zip_file_path, 'r') as zip_ref:\n",
        "    zip_ref.extractall(extract_folder)\n",
        "\n",
        "print(\"압축 해제가 완료되었습니다.\")\n"
      ],
      "metadata": {
        "id": "OSeRFAnNkXcJ"
      },
      "execution_count": null,
      "outputs": []
    },
    {
      "cell_type": "code",
      "source": [
        "pip install scikit-learn"
      ],
      "metadata": {
        "id": "Hz7-yjlF8yD4"
      },
      "execution_count": null,
      "outputs": []
    },
    {
      "cell_type": "code",
      "source": [
        "pip install pyyaml"
      ],
      "metadata": {
        "id": "vnda0A8XBukT"
      },
      "execution_count": null,
      "outputs": []
    },
    {
      "cell_type": "code",
      "source": [
        "pip install ultralytics"
      ],
      "metadata": {
        "id": "R0HgHaz4ESNy",
        "collapsed": true
      },
      "execution_count": null,
      "outputs": []
    },
    {
      "cell_type": "code",
      "source": [
        "import os\n",
        "from ultralytics import YOLO\n",
        "import wandb\n",
        "\n",
        "# 폴드 수와 경로 설정\n",
        "num_folds = 5\n",
        "#base_fold_path = 'K-Fold/folds'  # 폴드 디렉토리 경로\n",
        "data_config_template = '/content/data/K-Fold/fold_{}/data.yaml'  # 각 폴드에 맞는 data.yaml 경로\n",
        "\n",
        "# 각 폴드에 대해 모델 학습\n",
        "for fold in range(1, num_folds):\n",
        "    # WandB 프로젝트 설정\n",
        "\n",
        "    ###########################################\n",
        "    ########## name  번호 바꿔주기!! ##########\n",
        "    ###########################################\n",
        "    wandb.init(project='K-Fold', name='train_02')\n",
        "    # YOLOv8 모델 로드\n",
        "    model = YOLO('yolov8n.pt')\n",
        "\n",
        "    # 각 폴드에 맞는 데이터셋 설정 파일 경로\n",
        "    data_config = data_config_template.format(fold)\n",
        "\n",
        "    print(f\"폴드 {fold}에 대해 모델 학습 시작...\")\n",
        "\n",
        "    # 모델 학습\n",
        "    ### 파라미터들 바꿔주기\n",
        "    model.train(data=data_config, epochs=200, imgsz=270, batch=8, workers=12)\n",
        "\n",
        "    print(f\"폴드 {fold}에 대한 모델 학습이 완료되었습니다.\")\n",
        "    wandb.finish()\n",
        "\n",
        "print(\"모든 폴드에 대한 모델 학습이 완료되었습니다.\")\n"
      ],
      "metadata": {
        "id": "Z904TbAt2bpC"
      },
      "execution_count": null,
      "outputs": []
    },
    {
      "cell_type": "code",
      "source": [
        "import os\n",
        "\n",
        "# CPU 코어 수 확인\n",
        "cpu_cores = os.cpu_count()\n",
        "print(f\"사용 가능한 CPU 코어 수: {cpu_cores}\")\n"
      ],
      "metadata": {
        "id": "LVfH1wMMMULj"
      },
      "execution_count": null,
      "outputs": []
    },
    {
      "cell_type": "code",
      "source": [
        "import os\n",
        "from ultralytics import YOLO\n",
        "\n",
        "# 3. 모델 평가 및 테스트\n",
        "# 학습된 모델의 정확한 경로를 확인\n",
        "model_dir = 'runs/detect/train2/weights'\n",
        "model_path = os.path.join(model_dir, 'best.pt')\n",
        "\n",
        "# 모델 경로 확인\n",
        "if os.path.exists(model_path):\n",
        "    model = YOLO(model_path)\n",
        "    # 모델 평가 (검증 데이터셋 사용)\n",
        "    results = model.val(data=data_config)\n",
        "    print(results)\n",
        "else:\n",
        "    print(f\"모델 파일을 찾을 수 없습니다: {model_path}\")\n",
        "\n",
        "# 테스트 이미지 디렉토리 설정\n",
        "test_dir = '/content/data/YOLO_dataset/test/images'\n",
        "\n",
        "# PNG와 JPG 파일을 모두 가져오기\n",
        "images = [f for f in os.listdir(test_dir) if f.endswith('.png') or f.endswith('.jpg')]\n",
        "for image in images:\n",
        "    image_path = os.path.join(test_dir, image)\n",
        "    results = model(image_path)\n",
        "\n",
        "    # 예측 결과를 개별적으로 저장\n",
        "    for idx, result in enumerate(results):\n",
        "        save_path = f'/content/drive/MyDrive/smartFactory/Text/{os.path.splitext(image)[0]}_prediction_{idx}.png'\n",
        "        result.save(filename=save_path)\n",
        "\n",
        "print(\"예측 결과 저장이 완료되었습니다.\")\n"
      ],
      "metadata": {
        "id": "YfV7-jURNEq9",
        "collapsed": true
      },
      "execution_count": null,
      "outputs": []
    },
    {
      "cell_type": "code",
      "source": [
        "import shutil\n",
        "\n",
        "# run 폴더를 Google 드라이브로 복사\n",
        "source = '/content/runs'\n",
        "#########################################\n",
        "###########저장 경로 바꾸기 #############\n",
        "#########################################\n",
        "destination = '/content/drive/MyDrive/smartFactory/trian02'\n",
        "\n",
        "# destination 디렉토리가 없으면 생성\n",
        "os.makedirs(destination, exist_ok=True)\n",
        "\n",
        "# 디렉토리 복사\n",
        "shutil.copytree(source, destination, dirs_exist_ok=True)"
      ],
      "metadata": {
        "id": "3SAps0K4jjW5"
      },
      "execution_count": null,
      "outputs": []
    }
  ]
}