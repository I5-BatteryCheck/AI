{
 "cells": [
  {
   "cell_type": "code",
   "execution_count": 19,
   "id": "f3225428-0590-49b2-b55b-99918c298099",
   "metadata": {},
   "outputs": [
    {
     "name": "stdout",
     "output_type": "stream",
     "text": [
      "Requirement already satisfied: ultralytics in d:\\anaconda\\envs\\py380\\lib\\site-packages (8.2.68)\n",
      "Collecting ultralytics\n",
      "  Downloading ultralytics-8.2.69-py3-none-any.whl.metadata (41 kB)\n",
      "     ---------------------------------------- 0.0/41.3 kB ? eta -:--:--\n",
      "     --------- ------------------------------ 10.2/41.3 kB ? eta -:--:--\n",
      "     -------------------------------------- 41.3/41.3 kB 493.6 kB/s eta 0:00:00\n",
      "Note: you may need to restart the kernel to use updated packages.Collecting ray[tune]\n",
      "\n",
      "  Downloading ray-2.10.0-cp38-cp38-win_amd64.whl.metadata (13 kB)\n"
     ]
    },
    {
     "name": "stderr",
     "output_type": "stream",
     "text": [
      "  WARNING: The scripts ultralytics.exe and yolo.exe are installed in 'D:\\Anaconda\\envs\\py380\\Scripts' which is not on PATH.\n",
      "  Consider adding this directory to PATH or, if you prefer to suppress this warning, use --no-warn-script-location.\n",
      "  WARNING: The script jsonschema.exe is installed in 'D:\\Anaconda\\envs\\py380\\Scripts' which is not on PATH.\n",
      "  Consider adding this directory to PATH or, if you prefer to suppress this warning, use --no-warn-script-location.\n",
      "  WARNING: The scripts ray.exe, rllib.exe, serve.exe and tune.exe are installed in 'D:\\Anaconda\\envs\\py380\\Scripts' which is not on PATH.\n",
      "  Consider adding this directory to PATH or, if you prefer to suppress this warning, use --no-warn-script-location.\n"
     ]
    },
    {
     "name": "stdout",
     "output_type": "stream",
     "text": [
      "Requirement already satisfied: numpy<2.0.0,>=1.23.0 in d:\\anaconda\\envs\\py380\\lib\\site-packages (from ultralytics) (1.24.3)\n",
      "Requirement already satisfied: matplotlib>=3.3.0 in d:\\anaconda\\envs\\py380\\lib\\site-packages (from ultralytics) (3.7.5)\n",
      "Requirement already satisfied: opencv-python>=4.6.0 in d:\\anaconda\\envs\\py380\\lib\\site-packages (from ultralytics) (4.10.0.84)\n",
      "Requirement already satisfied: pillow>=7.1.2 in d:\\anaconda\\envs\\py380\\lib\\site-packages (from ultralytics) (10.3.0)\n",
      "Requirement already satisfied: pyyaml>=5.3.1 in d:\\anaconda\\envs\\py380\\lib\\site-packages (from ultralytics) (6.0.1)\n",
      "Requirement already satisfied: requests>=2.23.0 in d:\\anaconda\\envs\\py380\\lib\\site-packages (from ultralytics) (2.32.2)\n",
      "Requirement already satisfied: scipy>=1.4.1 in d:\\anaconda\\envs\\py380\\lib\\site-packages (from ultralytics) (1.10.1)\n",
      "Requirement already satisfied: torch>=1.8.0 in d:\\anaconda\\envs\\py380\\lib\\site-packages (from ultralytics) (2.1.0)\n",
      "Requirement already satisfied: torchvision>=0.9.0 in d:\\anaconda\\envs\\py380\\lib\\site-packages (from ultralytics) (0.16.0)\n",
      "Requirement already satisfied: tqdm>=4.64.0 in d:\\anaconda\\envs\\py380\\lib\\site-packages (from ultralytics) (4.66.4)\n",
      "Requirement already satisfied: psutil in d:\\anaconda\\envs\\py380\\lib\\site-packages (from ultralytics) (6.0.0)\n",
      "Requirement already satisfied: py-cpuinfo in d:\\anaconda\\envs\\py380\\lib\\site-packages (from ultralytics) (9.0.0)\n",
      "Requirement already satisfied: pandas>=1.1.4 in d:\\anaconda\\envs\\py380\\lib\\site-packages (from ultralytics) (2.0.3)\n",
      "Requirement already satisfied: seaborn>=0.11.0 in d:\\anaconda\\envs\\py380\\lib\\site-packages (from ultralytics) (0.13.2)\n",
      "Requirement already satisfied: ultralytics-thop>=2.0.0 in d:\\anaconda\\envs\\py380\\lib\\site-packages (from ultralytics) (2.0.0)\n",
      "Requirement already satisfied: click>=7.0 in d:\\anaconda\\envs\\py380\\lib\\site-packages (from ray[tune]) (8.1.7)\n",
      "Requirement already satisfied: filelock in d:\\anaconda\\envs\\py380\\lib\\site-packages (from ray[tune]) (3.13.1)\n",
      "Collecting jsonschema (from ray[tune])\n",
      "  Downloading jsonschema-4.23.0-py3-none-any.whl.metadata (7.9 kB)\n",
      "Collecting msgpack<2.0.0,>=1.0.0 (from ray[tune])\n",
      "  Downloading msgpack-1.0.8-cp38-cp38-win_amd64.whl.metadata (9.4 kB)\n",
      "Requirement already satisfied: packaging in d:\\anaconda\\envs\\py380\\lib\\site-packages (from ray[tune]) (24.1)\n",
      "Requirement already satisfied: protobuf!=3.19.5,>=3.15.3 in d:\\anaconda\\envs\\py380\\lib\\site-packages (from ray[tune]) (5.27.2)\n",
      "Collecting aiosignal (from ray[tune])\n",
      "  Downloading aiosignal-1.3.1-py3-none-any.whl.metadata (4.0 kB)\n",
      "Collecting frozenlist (from ray[tune])\n",
      "  Downloading frozenlist-1.4.1-cp38-cp38-win_amd64.whl.metadata (12 kB)\n",
      "Collecting tensorboardX>=1.9 (from ray[tune])\n",
      "  Downloading tensorboardX-2.6.2.2-py2.py3-none-any.whl.metadata (5.8 kB)\n",
      "Collecting pyarrow>=6.0.1 (from ray[tune])\n",
      "  Downloading pyarrow-17.0.0-cp38-cp38-win_amd64.whl.metadata (3.4 kB)\n",
      "Requirement already satisfied: fsspec in d:\\anaconda\\envs\\py380\\lib\\site-packages (from ray[tune]) (2024.6.1)\n",
      "Requirement already satisfied: colorama in d:\\anaconda\\envs\\py380\\lib\\site-packages (from click>=7.0->ray[tune]) (0.4.6)\n",
      "Requirement already satisfied: contourpy>=1.0.1 in d:\\anaconda\\envs\\py380\\lib\\site-packages (from matplotlib>=3.3.0->ultralytics) (1.1.1)\n",
      "Requirement already satisfied: cycler>=0.10 in d:\\anaconda\\envs\\py380\\lib\\site-packages (from matplotlib>=3.3.0->ultralytics) (0.12.1)\n",
      "Requirement already satisfied: fonttools>=4.22.0 in d:\\anaconda\\envs\\py380\\lib\\site-packages (from matplotlib>=3.3.0->ultralytics) (4.53.1)\n",
      "Requirement already satisfied: kiwisolver>=1.0.1 in d:\\anaconda\\envs\\py380\\lib\\site-packages (from matplotlib>=3.3.0->ultralytics) (1.4.5)\n",
      "Requirement already satisfied: pyparsing>=2.3.1 in d:\\anaconda\\envs\\py380\\lib\\site-packages (from matplotlib>=3.3.0->ultralytics) (3.1.2)\n",
      "Requirement already satisfied: python-dateutil>=2.7 in d:\\anaconda\\envs\\py380\\lib\\site-packages (from matplotlib>=3.3.0->ultralytics) (2.9.0.post0)\n",
      "Requirement already satisfied: importlib-resources>=3.2.0 in d:\\anaconda\\envs\\py380\\lib\\site-packages (from matplotlib>=3.3.0->ultralytics) (6.4.0)\n",
      "Requirement already satisfied: pytz>=2020.1 in d:\\anaconda\\envs\\py380\\lib\\site-packages (from pandas>=1.1.4->ultralytics) (2024.1)\n",
      "Requirement already satisfied: tzdata>=2022.1 in d:\\anaconda\\envs\\py380\\lib\\site-packages (from pandas>=1.1.4->ultralytics) (2024.1)\n",
      "Requirement already satisfied: charset-normalizer<4,>=2 in d:\\anaconda\\envs\\py380\\lib\\site-packages (from requests>=2.23.0->ultralytics) (2.0.4)\n",
      "Requirement already satisfied: idna<4,>=2.5 in d:\\anaconda\\envs\\py380\\lib\\site-packages (from requests>=2.23.0->ultralytics) (3.7)\n",
      "Requirement already satisfied: urllib3<3,>=1.21.1 in d:\\anaconda\\envs\\py380\\lib\\site-packages (from requests>=2.23.0->ultralytics) (2.2.2)\n",
      "Requirement already satisfied: certifi>=2017.4.17 in d:\\anaconda\\envs\\py380\\lib\\site-packages (from requests>=2.23.0->ultralytics) (2024.7.4)\n",
      "Requirement already satisfied: typing-extensions in d:\\anaconda\\envs\\py380\\lib\\site-packages (from torch>=1.8.0->ultralytics) (4.11.0)\n",
      "Requirement already satisfied: sympy in d:\\anaconda\\envs\\py380\\lib\\site-packages (from torch>=1.8.0->ultralytics) (1.12)\n",
      "Requirement already satisfied: networkx in d:\\anaconda\\envs\\py380\\lib\\site-packages (from torch>=1.8.0->ultralytics) (3.1)\n",
      "Requirement already satisfied: jinja2 in d:\\anaconda\\envs\\py380\\lib\\site-packages (from torch>=1.8.0->ultralytics) (3.1.4)\n",
      "Collecting attrs>=22.2.0 (from jsonschema->ray[tune])\n",
      "  Downloading attrs-23.2.0-py3-none-any.whl.metadata (9.5 kB)\n",
      "Collecting jsonschema-specifications>=2023.03.6 (from jsonschema->ray[tune])\n",
      "  Downloading jsonschema_specifications-2023.12.1-py3-none-any.whl.metadata (3.0 kB)\n",
      "Collecting pkgutil-resolve-name>=1.3.10 (from jsonschema->ray[tune])\n",
      "  Downloading pkgutil_resolve_name-1.3.10-py3-none-any.whl.metadata (624 bytes)\n",
      "Collecting referencing>=0.28.4 (from jsonschema->ray[tune])\n",
      "  Downloading referencing-0.35.1-py3-none-any.whl.metadata (2.8 kB)\n",
      "Collecting rpds-py>=0.7.1 (from jsonschema->ray[tune])\n",
      "  Downloading rpds_py-0.19.1-cp38-none-win_amd64.whl.metadata (4.2 kB)\n",
      "Requirement already satisfied: zipp>=3.1.0 in d:\\anaconda\\envs\\py380\\lib\\site-packages (from importlib-resources>=3.2.0->matplotlib>=3.3.0->ultralytics) (3.19.2)\n",
      "Requirement already satisfied: six>=1.5 in d:\\anaconda\\envs\\py380\\lib\\site-packages (from python-dateutil>=2.7->matplotlib>=3.3.0->ultralytics) (1.16.0)\n",
      "Requirement already satisfied: MarkupSafe>=2.0 in d:\\anaconda\\envs\\py380\\lib\\site-packages (from jinja2->torch>=1.8.0->ultralytics) (2.1.3)\n",
      "Requirement already satisfied: mpmath>=0.19 in d:\\anaconda\\envs\\py380\\lib\\site-packages (from sympy->torch>=1.8.0->ultralytics) (1.3.0)\n",
      "Downloading ultralytics-8.2.69-py3-none-any.whl (825 kB)\n",
      "   ---------------------------------------- 0.0/825.4 kB ? eta -:--:--\n",
      "   ----------------- ---------------------- 368.6/825.4 kB 7.6 MB/s eta 0:00:01\n",
      "   ----------------------------- ---------- 614.4/825.4 kB 9.6 MB/s eta 0:00:01\n",
      "   ------------------------------------- -- 768.0/825.4 kB 5.4 MB/s eta 0:00:01\n",
      "   ---------------------------------------- 825.4/825.4 kB 5.2 MB/s eta 0:00:00\n",
      "Downloading msgpack-1.0.8-cp38-cp38-win_amd64.whl (75 kB)\n",
      "   ---------------------------------------- 0.0/75.3 kB ? eta -:--:--\n",
      "   ---------------------------------------- 75.3/75.3 kB 4.3 MB/s eta 0:00:00\n",
      "Downloading pyarrow-17.0.0-cp38-cp38-win_amd64.whl (25.2 MB)\n",
      "   ---------------------------------------- 0.0/25.2 MB ? eta -:--:--\n",
      "    --------------------------------------- 0.6/25.2 MB 12.2 MB/s eta 0:00:03\n",
      "   -- ------------------------------------- 1.7/25.2 MB 17.8 MB/s eta 0:00:02\n",
      "   ---- ----------------------------------- 2.7/25.2 MB 16.9 MB/s eta 0:00:02\n",
      "   ----- ---------------------------------- 3.4/25.2 MB 16.8 MB/s eta 0:00:02\n",
      "   ------- -------------------------------- 4.7/25.2 MB 17.7 MB/s eta 0:00:02\n",
      "   --------- ------------------------------ 5.9/25.2 MB 18.9 MB/s eta 0:00:02\n",
      "   ----------- ---------------------------- 7.0/25.2 MB 19.4 MB/s eta 0:00:01\n",
      "   ------------ --------------------------- 8.1/25.2 MB 19.8 MB/s eta 0:00:01\n",
      "   -------------- ------------------------- 9.3/25.2 MB 20.4 MB/s eta 0:00:01\n",
      "   ---------------- ----------------------- 10.3/25.2 MB 20.5 MB/s eta 0:00:01\n",
      "   ------------------ --------------------- 11.6/25.2 MB 21.8 MB/s eta 0:00:01\n",
      "   -------------------- ------------------- 12.7/25.2 MB 22.5 MB/s eta 0:00:01\n",
      "   --------------------- ------------------ 13.5/25.2 MB 23.4 MB/s eta 0:00:01\n",
      "   ----------------------- ---------------- 15.0/25.2 MB 24.2 MB/s eta 0:00:01\n",
      "   ------------------------- -------------- 16.3/25.2 MB 25.2 MB/s eta 0:00:01\n",
      "   ---------------------------- ----------- 17.7/25.2 MB 25.2 MB/s eta 0:00:01\n",
      "   ----------------------------- ---------- 18.6/25.2 MB 26.2 MB/s eta 0:00:01\n",
      "   ------------------------------- -------- 19.9/25.2 MB 26.2 MB/s eta 0:00:01\n",
      "   ---------------------------------- ----- 21.5/25.2 MB 26.2 MB/s eta 0:00:01\n",
      "   ------------------------------------ --- 23.3/25.2 MB 28.5 MB/s eta 0:00:01\n",
      "   -------------------------------------- - 24.5/25.2 MB 27.3 MB/s eta 0:00:01\n",
      "   ---------------------------------------  25.2/25.2 MB 27.3 MB/s eta 0:00:01\n",
      "   ---------------------------------------  25.2/25.2 MB 27.3 MB/s eta 0:00:01\n",
      "   ---------------------------------------- 25.2/25.2 MB 22.6 MB/s eta 0:00:00\n",
      "Downloading tensorboardX-2.6.2.2-py2.py3-none-any.whl (101 kB)\n",
      "   ---------------------------------------- 0.0/101.7 kB ? eta -:--:--\n",
      "   ---------------------------------------- 101.7/101.7 kB ? eta 0:00:00\n",
      "Downloading aiosignal-1.3.1-py3-none-any.whl (7.6 kB)\n",
      "Downloading frozenlist-1.4.1-cp38-cp38-win_amd64.whl (50 kB)\n",
      "   ---------------------------------------- 0.0/50.8 kB ? eta -:--:--\n",
      "   ---------------------------------------- 50.8/50.8 kB ? eta 0:00:00\n",
      "Downloading jsonschema-4.23.0-py3-none-any.whl (88 kB)\n",
      "   ---------------------------------------- 0.0/88.5 kB ? eta -:--:--\n",
      "   ---------------------------------------- 88.5/88.5 kB 4.9 MB/s eta 0:00:00\n",
      "Downloading ray-2.10.0-cp38-cp38-win_amd64.whl (25.4 MB)\n",
      "   ---------------------------------------- 0.0/25.4 MB ? eta -:--:--\n",
      "   - -------------------------------------- 0.8/25.4 MB 16.5 MB/s eta 0:00:02\n",
      "   --- ------------------------------------ 2.3/25.4 MB 24.7 MB/s eta 0:00:01\n",
      "   ------ --------------------------------- 4.0/25.4 MB 25.8 MB/s eta 0:00:01\n",
      "   ------- -------------------------------- 5.0/25.4 MB 24.4 MB/s eta 0:00:01\n",
      "   --------- ------------------------------ 6.1/25.4 MB 24.2 MB/s eta 0:00:01\n",
      "   ----------- ---------------------------- 7.1/25.4 MB 23.8 MB/s eta 0:00:01\n",
      "   ------------ --------------------------- 8.0/25.4 MB 23.3 MB/s eta 0:00:01\n",
      "   -------------- ------------------------- 9.2/25.4 MB 23.5 MB/s eta 0:00:01\n",
      "   ---------------- ----------------------- 10.3/25.4 MB 24.2 MB/s eta 0:00:01\n",
      "   ------------------ --------------------- 11.5/25.4 MB 24.2 MB/s eta 0:00:01\n",
      "   ------------------- -------------------- 12.7/25.4 MB 25.2 MB/s eta 0:00:01\n",
      "   ---------------------- ----------------- 14.2/25.4 MB 24.2 MB/s eta 0:00:01\n",
      "   ------------------------ --------------- 15.6/25.4 MB 24.2 MB/s eta 0:00:01\n",
      "   ------------------------- -------------- 16.5/25.4 MB 24.2 MB/s eta 0:00:01\n",
      "   --------------------------- ------------ 17.5/25.4 MB 24.2 MB/s eta 0:00:01\n",
      "   ----------------------------- ---------- 18.4/25.4 MB 23.4 MB/s eta 0:00:01\n",
      "   ------------------------------ --------- 19.4/25.4 MB 23.4 MB/s eta 0:00:01\n",
      "   -------------------------------- ------- 20.4/25.4 MB 22.5 MB/s eta 0:00:01\n",
      "   --------------------------------- ------ 21.3/25.4 MB 22.6 MB/s eta 0:00:01\n",
      "   ----------------------------------- ---- 22.3/25.4 MB 21.9 MB/s eta 0:00:01\n",
      "   ------------------------------------ --- 23.1/25.4 MB 21.8 MB/s eta 0:00:01\n",
      "   -------------------------------------- - 24.8/25.4 MB 21.8 MB/s eta 0:00:01\n",
      "   ---------------------------------------  25.4/25.4 MB 21.9 MB/s eta 0:00:01\n",
      "   ---------------------------------------  25.4/25.4 MB 21.9 MB/s eta 0:00:01\n",
      "   ---------------------------------------- 25.4/25.4 MB 19.2 MB/s eta 0:00:00\n",
      "Downloading attrs-23.2.0-py3-none-any.whl (60 kB)\n",
      "   ---------------------------------------- 0.0/60.8 kB ? eta -:--:--\n",
      "   ---------------------------------------- 60.8/60.8 kB 3.2 MB/s eta 0:00:00\n",
      "Downloading jsonschema_specifications-2023.12.1-py3-none-any.whl (18 kB)\n",
      "Downloading pkgutil_resolve_name-1.3.10-py3-none-any.whl (4.7 kB)\n",
      "Downloading referencing-0.35.1-py3-none-any.whl (26 kB)\n",
      "Downloading rpds_py-0.19.1-cp38-none-win_amd64.whl (210 kB)\n",
      "   ---------------------------------------- 0.0/210.7 kB ? eta -:--:--\n",
      "   --------------------------------------- 210.7/210.7 kB 12.5 MB/s eta 0:00:00\n",
      "Installing collected packages: tensorboardX, rpds-py, pyarrow, pkgutil-resolve-name, msgpack, frozenlist, attrs, referencing, aiosignal, jsonschema-specifications, ultralytics, jsonschema, ray\n",
      "  Attempting uninstall: ultralytics\n",
      "    Found existing installation: ultralytics 8.2.68\n",
      "    Uninstalling ultralytics-8.2.68:\n",
      "      Successfully uninstalled ultralytics-8.2.68\n",
      "Successfully installed aiosignal-1.3.1 attrs-23.2.0 frozenlist-1.4.1 jsonschema-4.23.0 jsonschema-specifications-2023.12.1 msgpack-1.0.8 pkgutil-resolve-name-1.3.10 pyarrow-17.0.0 ray-2.10.0 referencing-0.35.1 rpds-py-0.19.1 tensorboardX-2.6.2.2 ultralytics-8.2.69\n"
     ]
    }
   ],
   "source": [
    "pip install -U ultralytics \"ray[tune]\""
   ]
  },
  {
   "cell_type": "code",
   "execution_count": null,
   "id": "5237862a-13ab-477e-9be6-3aa912461738",
   "metadata": {},
   "outputs": [],
   "source": [
    "from ultralytics import YOLO\n",
    "\n",
    "# Load a YOLOv8n model\n",
    "model = YOLO(\"yolov8n.pt\")\n",
    "\n",
    "# Start tuning hyperparameters for YOLOv8n training on the COCO8 dataset\n",
    "result_grid = model.tune(data=\"coco8.yaml\", use_ray=True)"
   ]
  },
  {
   "cell_type": "code",
   "execution_count": 1,
   "id": "7689ea88-a259-4887-bfaf-1a583e1fc226",
   "metadata": {},
   "outputs": [
    {
     "name": "stdout",
     "output_type": "stream",
     "text": [
      "Requirement already satisfied: scikit-learn in d:\\anaconda\\envs\\py380\\lib\\site-packages (1.3.2)\n",
      "Requirement already satisfied: numpy<2.0,>=1.17.3 in d:\\anaconda\\envs\\py380\\lib\\site-packages (from scikit-learn) (1.24.3)\n",
      "Requirement already satisfied: scipy>=1.5.0 in d:\\anaconda\\envs\\py380\\lib\\site-packages (from scikit-learn) (1.10.1)\n",
      "Requirement already satisfied: joblib>=1.1.1 in d:\\anaconda\\envs\\py380\\lib\\site-packages (from scikit-learn) (1.4.2)\n",
      "Requirement already satisfied: threadpoolctl>=2.0.0 in d:\\anaconda\\envs\\py380\\lib\\site-packages (from scikit-learn) (3.5.0)\n",
      "Note: you may need to restart the kernel to use updated packages.\n"
     ]
    }
   ],
   "source": [
    "pip install scikit-learn"
   ]
  },
  {
   "cell_type": "code",
   "execution_count": 2,
   "id": "9de8258b-7515-4adf-97bf-e96ac8acd837",
   "metadata": {},
   "outputs": [
    {
     "name": "stdout",
     "output_type": "stream",
     "text": [
      "Requirement already satisfied: pyyaml in d:\\anaconda\\envs\\py380\\lib\\site-packages (6.0.1)\n",
      "Note: you may need to restart the kernel to use updated packages.\n"
     ]
    }
   ],
   "source": [
    "pip install pyyaml"
   ]
  },
  {
   "cell_type": "code",
   "execution_count": 6,
   "id": "150d498d-846d-482b-91cf-281c39cc6d5b",
   "metadata": {},
   "outputs": [
    {
     "name": "stdout",
     "output_type": "stream",
     "text": [
      "data.yaml 파일이 생성되었습니다.\n"
     ]
    }
   ],
   "source": [
    "#yaml파일 생성\n",
    "import yaml\n",
    "\n",
    "# yaml 파일 데이터 정의\n",
    "data = {\n",
    "    'train': 'train/images',\n",
    "    'val': 'valid/images',\n",
    "    'test': 'test/images',\n",
    "    'nc': 3,  # 클래스 수\n",
    "    'names': ['Battery', 'Damaged','Pollution']  # 클래스 이름 리스트\n",
    "}\n",
    "\n",
    "# yaml 파일 생성\n",
    "with open('YOLO_dataset_only_new/data.yaml', 'w') as file:\n",
    "    yaml.dump(data, file, default_flow_style=False)\n",
    "\n",
    "print(\"data.yaml 파일이 생성되었습니다.\")"
   ]
  },
  {
   "cell_type": "code",
   "execution_count": 7,
   "id": "5960f005-86eb-482f-8760-5656b6209b29",
   "metadata": {},
   "outputs": [
    {
     "name": "stdout",
     "output_type": "stream",
     "text": [
      "Requirement already satisfied: ultralytics in d:\\anaconda\\envs\\py380\\lib\\site-packages (8.2.68)\n",
      "Requirement already satisfied: numpy<2.0.0,>=1.23.0 in d:\\anaconda\\envs\\py380\\lib\\site-packages (from ultralytics) (1.24.3)\n",
      "Requirement already satisfied: matplotlib>=3.3.0 in d:\\anaconda\\envs\\py380\\lib\\site-packages (from ultralytics) (3.7.5)\n",
      "Requirement already satisfied: opencv-python>=4.6.0 in d:\\anaconda\\envs\\py380\\lib\\site-packages (from ultralytics) (4.10.0.84)\n",
      "Requirement already satisfied: pillow>=7.1.2 in d:\\anaconda\\envs\\py380\\lib\\site-packages (from ultralytics) (10.3.0)\n",
      "Requirement already satisfied: pyyaml>=5.3.1 in d:\\anaconda\\envs\\py380\\lib\\site-packages (from ultralytics) (6.0.1)\n",
      "Requirement already satisfied: requests>=2.23.0 in d:\\anaconda\\envs\\py380\\lib\\site-packages (from ultralytics) (2.32.2)\n",
      "Requirement already satisfied: scipy>=1.4.1 in d:\\anaconda\\envs\\py380\\lib\\site-packages (from ultralytics) (1.10.1)\n",
      "Requirement already satisfied: torch>=1.8.0 in d:\\anaconda\\envs\\py380\\lib\\site-packages (from ultralytics) (2.1.0)\n",
      "Requirement already satisfied: torchvision>=0.9.0 in d:\\anaconda\\envs\\py380\\lib\\site-packages (from ultralytics) (0.16.0)\n",
      "Requirement already satisfied: tqdm>=4.64.0 in d:\\anaconda\\envs\\py380\\lib\\site-packages (from ultralytics) (4.66.4)\n",
      "Requirement already satisfied: psutil in d:\\anaconda\\envs\\py380\\lib\\site-packages (from ultralytics) (6.0.0)\n",
      "Requirement already satisfied: py-cpuinfo in d:\\anaconda\\envs\\py380\\lib\\site-packages (from ultralytics) (9.0.0)\n",
      "Requirement already satisfied: pandas>=1.1.4 in d:\\anaconda\\envs\\py380\\lib\\site-packages (from ultralytics) (2.0.3)\n",
      "Requirement already satisfied: seaborn>=0.11.0 in d:\\anaconda\\envs\\py380\\lib\\site-packages (from ultralytics) (0.13.2)\n",
      "Requirement already satisfied: ultralytics-thop>=2.0.0 in d:\\anaconda\\envs\\py380\\lib\\site-packages (from ultralytics) (2.0.0)\n",
      "Requirement already satisfied: contourpy>=1.0.1 in d:\\anaconda\\envs\\py380\\lib\\site-packages (from matplotlib>=3.3.0->ultralytics) (1.1.1)\n",
      "Requirement already satisfied: cycler>=0.10 in d:\\anaconda\\envs\\py380\\lib\\site-packages (from matplotlib>=3.3.0->ultralytics) (0.12.1)\n",
      "Requirement already satisfied: fonttools>=4.22.0 in d:\\anaconda\\envs\\py380\\lib\\site-packages (from matplotlib>=3.3.0->ultralytics) (4.53.1)\n",
      "Requirement already satisfied: kiwisolver>=1.0.1 in d:\\anaconda\\envs\\py380\\lib\\site-packages (from matplotlib>=3.3.0->ultralytics) (1.4.5)\n",
      "Requirement already satisfied: packaging>=20.0 in d:\\anaconda\\envs\\py380\\lib\\site-packages (from matplotlib>=3.3.0->ultralytics) (24.1)\n",
      "Requirement already satisfied: pyparsing>=2.3.1 in d:\\anaconda\\envs\\py380\\lib\\site-packages (from matplotlib>=3.3.0->ultralytics) (3.1.2)\n",
      "Requirement already satisfied: python-dateutil>=2.7 in d:\\anaconda\\envs\\py380\\lib\\site-packages (from matplotlib>=3.3.0->ultralytics) (2.9.0.post0)\n",
      "Requirement already satisfied: importlib-resources>=3.2.0 in d:\\anaconda\\envs\\py380\\lib\\site-packages (from matplotlib>=3.3.0->ultralytics) (6.4.0)\n",
      "Requirement already satisfied: pytz>=2020.1 in d:\\anaconda\\envs\\py380\\lib\\site-packages (from pandas>=1.1.4->ultralytics) (2024.1)\n",
      "Requirement already satisfied: tzdata>=2022.1 in d:\\anaconda\\envs\\py380\\lib\\site-packages (from pandas>=1.1.4->ultralytics) (2024.1)\n",
      "Requirement already satisfied: charset-normalizer<4,>=2 in d:\\anaconda\\envs\\py380\\lib\\site-packages (from requests>=2.23.0->ultralytics) (2.0.4)\n",
      "Requirement already satisfied: idna<4,>=2.5 in d:\\anaconda\\envs\\py380\\lib\\site-packages (from requests>=2.23.0->ultralytics) (3.7)\n",
      "Requirement already satisfied: urllib3<3,>=1.21.1 in d:\\anaconda\\envs\\py380\\lib\\site-packages (from requests>=2.23.0->ultralytics) (2.2.2)\n",
      "Requirement already satisfied: certifi>=2017.4.17 in d:\\anaconda\\envs\\py380\\lib\\site-packages (from requests>=2.23.0->ultralytics) (2024.7.4)\n",
      "Requirement already satisfied: filelock in d:\\anaconda\\envs\\py380\\lib\\site-packages (from torch>=1.8.0->ultralytics) (3.13.1)\n",
      "Requirement already satisfied: typing-extensions in d:\\anaconda\\envs\\py380\\lib\\site-packages (from torch>=1.8.0->ultralytics) (4.11.0)\n",
      "Requirement already satisfied: sympy in d:\\anaconda\\envs\\py380\\lib\\site-packages (from torch>=1.8.0->ultralytics) (1.12)\n",
      "Requirement already satisfied: networkx in d:\\anaconda\\envs\\py380\\lib\\site-packages (from torch>=1.8.0->ultralytics) (3.1)\n",
      "Requirement already satisfied: jinja2 in d:\\anaconda\\envs\\py380\\lib\\site-packages (from torch>=1.8.0->ultralytics) (3.1.4)\n",
      "Requirement already satisfied: fsspec in d:\\anaconda\\envs\\py380\\lib\\site-packages (from torch>=1.8.0->ultralytics) (2024.6.1)\n",
      "Requirement already satisfied: colorama in d:\\anaconda\\envs\\py380\\lib\\site-packages (from tqdm>=4.64.0->ultralytics) (0.4.6)\n",
      "Requirement already satisfied: zipp>=3.1.0 in d:\\anaconda\\envs\\py380\\lib\\site-packages (from importlib-resources>=3.2.0->matplotlib>=3.3.0->ultralytics) (3.19.2)\n",
      "Requirement already satisfied: six>=1.5 in d:\\anaconda\\envs\\py380\\lib\\site-packages (from python-dateutil>=2.7->matplotlib>=3.3.0->ultralytics) (1.16.0)\n",
      "Requirement already satisfied: MarkupSafe>=2.0 in d:\\anaconda\\envs\\py380\\lib\\site-packages (from jinja2->torch>=1.8.0->ultralytics) (2.1.3)\n",
      "Requirement already satisfied: mpmath>=0.19 in d:\\anaconda\\envs\\py380\\lib\\site-packages (from sympy->torch>=1.8.0->ultralytics) (1.3.0)\n",
      "Note: you may need to restart the kernel to use updated packages.\n"
     ]
    }
   ],
   "source": [
    "pip install ultralytics"
   ]
  },
  {
   "cell_type": "code",
   "execution_count": null,
   "id": "ce5d3722-44c2-403a-a1d2-f2fae10093c0",
   "metadata": {},
   "outputs": [
    {
     "name": "stdout",
     "output_type": "stream",
     "text": [
      "New https://pypi.org/project/ultralytics/8.2.73 available  Update with 'pip install -U ultralytics'\n",
      "Ultralytics YOLOv8.2.69  Python-3.8.19 torch-2.1.0 CUDA:0 (NVIDIA GeForce RTX 3050 Ti Laptop GPU, 4096MiB)\n",
      "\u001b[34m\u001b[1mengine\\trainer: \u001b[0mtask=detect, mode=train, model=yolov8n.pt, data=C:/Users/lenovo/smartfactory/YOLO_dataset_only_new/data.yaml, epochs=200, time=None, patience=100, batch=8, imgsz=270, save=True, save_period=-1, cache=False, device=None, workers=8, project=None, name=train33, exist_ok=False, pretrained=True, optimizer=auto, verbose=True, seed=0, deterministic=True, single_cls=False, rect=False, cos_lr=False, close_mosaic=10, resume=False, amp=True, fraction=1.0, profile=False, freeze=None, multi_scale=False, overlap_mask=True, mask_ratio=4, dropout=0.0, val=True, split=val, save_json=False, save_hybrid=False, conf=None, iou=0.7, max_det=300, half=False, dnn=False, plots=True, source=None, vid_stride=1, stream_buffer=False, visualize=False, augment=False, agnostic_nms=False, classes=None, retina_masks=False, embed=None, show=False, save_frames=False, save_txt=False, save_conf=False, save_crop=False, show_labels=True, show_conf=True, show_boxes=True, line_width=None, format=torchscript, keras=False, optimize=False, int8=False, dynamic=False, simplify=False, opset=None, workspace=4, nms=False, lr0=0.01, lrf=0.01, momentum=0.937, weight_decay=0.0005, warmup_epochs=3.0, warmup_momentum=0.8, warmup_bias_lr=0.1, box=7.5, cls=0.5, dfl=1.5, pose=12.0, kobj=1.0, label_smoothing=0.0, nbs=64, hsv_h=0.015, hsv_s=0.7, hsv_v=0.4, degrees=0.0, translate=0.1, scale=0.5, shear=0.0, perspective=0.0, flipud=0.0, fliplr=0.5, bgr=0.0, mosaic=1.0, mixup=0.0, copy_paste=0.0, auto_augment=randaugment, erasing=0.4, crop_fraction=1.0, cfg=None, tracker=botsort.yaml, save_dir=runs\\detect\\train33\n"
     ]
    },
    {
     "name": "stderr",
     "output_type": "stream",
     "text": [
      "D:\\Anaconda\\envs\\py380\\lib\\site-packages\\tqdm\\auto.py:21: TqdmWarning: IProgress not found. Please update jupyter and ipywidgets. See https://ipywidgets.readthedocs.io/en/stable/user_install.html\n",
      "  from .autonotebook import tqdm as notebook_tqdm\n",
      "2024-08-05 09:59:44,766\tINFO util.py:154 -- Missing packages: ['ipywidgets']. Run `pip install -U ipywidgets`, then restart the notebook server for rich notebook output.\n",
      "2024-08-05 09:59:47,001\tINFO util.py:154 -- Missing packages: ['ipywidgets']. Run `pip install -U ipywidgets`, then restart the notebook server for rich notebook output.\n"
     ]
    },
    {
     "name": "stdout",
     "output_type": "stream",
     "text": [
      "Overriding model.yaml nc=80 with nc=3\n",
      "\n",
      "                   from  n    params  module                                       arguments                     \n",
      "  0                  -1  1       464  ultralytics.nn.modules.conv.Conv             [3, 16, 3, 2]                 \n",
      "  1                  -1  1      4672  ultralytics.nn.modules.conv.Conv             [16, 32, 3, 2]                \n",
      "  2                  -1  1      7360  ultralytics.nn.modules.block.C2f             [32, 32, 1, True]             \n",
      "  3                  -1  1     18560  ultralytics.nn.modules.conv.Conv             [32, 64, 3, 2]                \n",
      "  4                  -1  2     49664  ultralytics.nn.modules.block.C2f             [64, 64, 2, True]             \n",
      "  5                  -1  1     73984  ultralytics.nn.modules.conv.Conv             [64, 128, 3, 2]               \n",
      "  6                  -1  2    197632  ultralytics.nn.modules.block.C2f             [128, 128, 2, True]           \n",
      "  7                  -1  1    295424  ultralytics.nn.modules.conv.Conv             [128, 256, 3, 2]              \n",
      "  8                  -1  1    460288  ultralytics.nn.modules.block.C2f             [256, 256, 1, True]           \n",
      "  9                  -1  1    164608  ultralytics.nn.modules.block.SPPF            [256, 256, 5]                 \n",
      " 10                  -1  1         0  torch.nn.modules.upsampling.Upsample         [None, 2, 'nearest']          \n",
      " 11             [-1, 6]  1         0  ultralytics.nn.modules.conv.Concat           [1]                           \n",
      " 12                  -1  1    148224  ultralytics.nn.modules.block.C2f             [384, 128, 1]                 \n",
      " 13                  -1  1         0  torch.nn.modules.upsampling.Upsample         [None, 2, 'nearest']          \n",
      " 14             [-1, 4]  1         0  ultralytics.nn.modules.conv.Concat           [1]                           \n",
      " 15                  -1  1     37248  ultralytics.nn.modules.block.C2f             [192, 64, 1]                  \n",
      " 16                  -1  1     36992  ultralytics.nn.modules.conv.Conv             [64, 64, 3, 2]                \n",
      " 17            [-1, 12]  1         0  ultralytics.nn.modules.conv.Concat           [1]                           \n",
      " 18                  -1  1    123648  ultralytics.nn.modules.block.C2f             [192, 128, 1]                 \n",
      " 19                  -1  1    147712  ultralytics.nn.modules.conv.Conv             [128, 128, 3, 2]              \n",
      " 20             [-1, 9]  1         0  ultralytics.nn.modules.conv.Concat           [1]                           \n",
      " 21                  -1  1    493056  ultralytics.nn.modules.block.C2f             [384, 256, 1]                 \n",
      " 22        [15, 18, 21]  1    751897  ultralytics.nn.modules.head.Detect           [3, [64, 128, 256]]           \n",
      "Model summary: 225 layers, 3,011,433 parameters, 3,011,417 gradients, 8.2 GFLOPs\n",
      "\n",
      "Transferred 319/355 items from pretrained weights\n"
     ]
    },
    {
     "name": "stderr",
     "output_type": "stream",
     "text": [
      "Failed to detect the name of this notebook, you can set it manually with the WANDB_NOTEBOOK_NAME environment variable to enable code saving.\n",
      "\u001b[34m\u001b[1mwandb\u001b[0m: Currently logged in as: \u001b[33mlhb0126\u001b[0m (\u001b[33mlhb0126-kyonggi-university\u001b[0m). Use \u001b[1m`wandb login --relogin`\u001b[0m to force relogin\n"
     ]
    },
    {
     "data": {
      "text/html": [
       "Tracking run with wandb version 0.17.5"
      ],
      "text/plain": [
       "<IPython.core.display.HTML object>"
      ]
     },
     "metadata": {},
     "output_type": "display_data"
    },
    {
     "data": {
      "text/html": [
       "Run data is saved locally in <code>C:\\Users\\lenovo\\smartfactory\\wandb\\run-20240805_095951-c3wt2bep</code>"
      ],
      "text/plain": [
       "<IPython.core.display.HTML object>"
      ]
     },
     "metadata": {},
     "output_type": "display_data"
    },
    {
     "data": {
      "text/html": [
       "Syncing run <strong><a href='https://wandb.ai/lhb0126-kyonggi-university/YOLOv8/runs/c3wt2bep' target=\"_blank\">train33</a></strong> to <a href='https://wandb.ai/lhb0126-kyonggi-university/YOLOv8' target=\"_blank\">Weights & Biases</a> (<a href='https://wandb.me/run' target=\"_blank\">docs</a>)<br/>"
      ],
      "text/plain": [
       "<IPython.core.display.HTML object>"
      ]
     },
     "metadata": {},
     "output_type": "display_data"
    },
    {
     "data": {
      "text/html": [
       " View project at <a href='https://wandb.ai/lhb0126-kyonggi-university/YOLOv8' target=\"_blank\">https://wandb.ai/lhb0126-kyonggi-university/YOLOv8</a>"
      ],
      "text/plain": [
       "<IPython.core.display.HTML object>"
      ]
     },
     "metadata": {},
     "output_type": "display_data"
    },
    {
     "data": {
      "text/html": [
       " View run at <a href='https://wandb.ai/lhb0126-kyonggi-university/YOLOv8/runs/c3wt2bep' target=\"_blank\">https://wandb.ai/lhb0126-kyonggi-university/YOLOv8/runs/c3wt2bep</a>"
      ],
      "text/plain": [
       "<IPython.core.display.HTML object>"
      ]
     },
     "metadata": {},
     "output_type": "display_data"
    },
    {
     "name": "stdout",
     "output_type": "stream",
     "text": [
      "Freezing layer 'model.22.dfl.conv.weight'\n",
      "\u001b[34m\u001b[1mAMP: \u001b[0mrunning Automatic Mixed Precision (AMP) checks with YOLOv8n...\n",
      "\u001b[34m\u001b[1mAMP: \u001b[0mchecks passed \n",
      "WARNING  imgsz=[270] must be multiple of max stride 32, updating to [288]\n"
     ]
    },
    {
     "name": "stderr",
     "output_type": "stream",
     "text": [
      "\u001b[34m\u001b[1mtrain: \u001b[0mScanning C:\\Users\\lenovo\\smartfactory\\YOLO_dataset_only_new\\train\\labels.cache... 1285 images, 0 backgrounds, 0 \u001b[0m\n",
      "\u001b[34m\u001b[1mval: \u001b[0mScanning C:\\Users\\lenovo\\smartfactory\\YOLO_dataset_only_new\\valid\\labels.cache... 369 images, 0 backgrounds, 0 cor\u001b[0m\n"
     ]
    },
    {
     "name": "stdout",
     "output_type": "stream",
     "text": [
      "Plotting labels to runs\\detect\\train33\\labels.jpg... \n",
      "\u001b[34m\u001b[1moptimizer:\u001b[0m 'optimizer=auto' found, ignoring 'lr0=0.01' and 'momentum=0.937' and determining best 'optimizer', 'lr0' and 'momentum' automatically... \n",
      "\u001b[34m\u001b[1moptimizer:\u001b[0m AdamW(lr=0.001429, momentum=0.9) with parameter groups 57 weight(decay=0.0), 64 weight(decay=0.0005), 63 bias(decay=0.0)\n",
      "Image sizes 288 train, 288 val\n",
      "Using 8 dataloader workers\n",
      "Logging results to \u001b[1mruns\\detect\\train33\u001b[0m\n",
      "Starting training for 200 epochs...\n",
      "\n",
      "      Epoch    GPU_mem   box_loss   cls_loss   dfl_loss  Instances       Size\n"
     ]
    },
    {
     "name": "stderr",
     "output_type": "stream",
     "text": [
      "      1/200     0.602G     0.9945       1.36      0.955         16        288: 100%|██████████| 161/161 [00:18<00:00,  \n",
      "                 Class     Images  Instances      Box(P          R      mAP50  mAP50-95): 100%|██████████| 24/24 [00:03"
     ]
    },
    {
     "name": "stdout",
     "output_type": "stream",
     "text": [
      "                   all        369        704      0.518      0.538      0.459      0.312\n"
     ]
    },
    {
     "name": "stderr",
     "output_type": "stream",
     "text": [
      "\n"
     ]
    },
    {
     "name": "stdout",
     "output_type": "stream",
     "text": [
      "\n",
      "      Epoch    GPU_mem   box_loss   cls_loss   dfl_loss  Instances       Size\n"
     ]
    },
    {
     "name": "stderr",
     "output_type": "stream",
     "text": [
      "      2/200     0.673G     0.9685     0.7955     0.9337         12        288: 100%|██████████| 161/161 [00:13<00:00, 1\n",
      "                 Class     Images  Instances      Box(P          R      mAP50  mAP50-95): 100%|██████████| 24/24 [00:01"
     ]
    },
    {
     "name": "stdout",
     "output_type": "stream",
     "text": [
      "                   all        369        704      0.599      0.546      0.514      0.323\n"
     ]
    },
    {
     "name": "stderr",
     "output_type": "stream",
     "text": [
      "\n"
     ]
    },
    {
     "name": "stdout",
     "output_type": "stream",
     "text": [
      "\n",
      "      Epoch    GPU_mem   box_loss   cls_loss   dfl_loss  Instances       Size\n"
     ]
    },
    {
     "name": "stderr",
     "output_type": "stream",
     "text": [
      "      3/200     0.671G       1.02     0.7811     0.9546         16        288: 100%|██████████| 161/161 [00:14<00:00, 1\n",
      "                 Class     Images  Instances      Box(P          R      mAP50  mAP50-95): 100%|██████████| 24/24 [00:02"
     ]
    },
    {
     "name": "stdout",
     "output_type": "stream",
     "text": [
      "                   all        369        704      0.648      0.582      0.583      0.359\n"
     ]
    },
    {
     "name": "stderr",
     "output_type": "stream",
     "text": [
      "\n"
     ]
    },
    {
     "name": "stdout",
     "output_type": "stream",
     "text": [
      "\n",
      "      Epoch    GPU_mem   box_loss   cls_loss   dfl_loss  Instances       Size\n"
     ]
    },
    {
     "name": "stderr",
     "output_type": "stream",
     "text": [
      "      4/200     0.673G     0.9752     0.7076     0.9392         15        288: 100%|██████████| 161/161 [00:14<00:00, 1\n",
      "                 Class     Images  Instances      Box(P          R      mAP50  mAP50-95): 100%|██████████| 24/24 [00:02"
     ]
    },
    {
     "name": "stdout",
     "output_type": "stream",
     "text": [
      "                   all        369        704      0.715      0.631      0.641      0.376\n"
     ]
    },
    {
     "name": "stderr",
     "output_type": "stream",
     "text": [
      "\n"
     ]
    },
    {
     "name": "stdout",
     "output_type": "stream",
     "text": [
      "\n",
      "      Epoch    GPU_mem   box_loss   cls_loss   dfl_loss  Instances       Size\n"
     ]
    },
    {
     "name": "stderr",
     "output_type": "stream",
     "text": [
      "      5/200     0.671G     0.9609     0.6551     0.9317         13        288: 100%|██████████| 161/161 [00:14<00:00, 1\n",
      "                 Class     Images  Instances      Box(P          R      mAP50  mAP50-95): 100%|██████████| 24/24 [00:02"
     ]
    },
    {
     "name": "stdout",
     "output_type": "stream",
     "text": [
      "                   all        369        704       0.72      0.641      0.626      0.402\n"
     ]
    },
    {
     "name": "stderr",
     "output_type": "stream",
     "text": [
      "\n"
     ]
    },
    {
     "name": "stdout",
     "output_type": "stream",
     "text": [
      "\n",
      "      Epoch    GPU_mem   box_loss   cls_loss   dfl_loss  Instances       Size\n"
     ]
    },
    {
     "name": "stderr",
     "output_type": "stream",
     "text": [
      "      6/200     0.671G     0.9293      0.623     0.9255         16        288: 100%|██████████| 161/161 [00:13<00:00, 1\n",
      "                 Class     Images  Instances      Box(P          R      mAP50  mAP50-95): 100%|██████████| 24/24 [00:03"
     ]
    },
    {
     "name": "stdout",
     "output_type": "stream",
     "text": [
      "                   all        369        704      0.772      0.616       0.65      0.403\n"
     ]
    },
    {
     "name": "stderr",
     "output_type": "stream",
     "text": [
      "\n"
     ]
    },
    {
     "name": "stdout",
     "output_type": "stream",
     "text": [
      "\n",
      "      Epoch    GPU_mem   box_loss   cls_loss   dfl_loss  Instances       Size\n"
     ]
    },
    {
     "name": "stderr",
     "output_type": "stream",
     "text": [
      "      7/200     0.665G     0.9394     0.5956     0.9304         13        288: 100%|██████████| 161/161 [00:14<00:00, 1\n",
      "                 Class     Images  Instances      Box(P          R      mAP50  mAP50-95): 100%|██████████| 24/24 [00:02"
     ]
    },
    {
     "name": "stdout",
     "output_type": "stream",
     "text": [
      "                   all        369        704      0.792      0.657      0.694      0.423\n"
     ]
    },
    {
     "name": "stderr",
     "output_type": "stream",
     "text": [
      "\n"
     ]
    },
    {
     "name": "stdout",
     "output_type": "stream",
     "text": [
      "\n",
      "      Epoch    GPU_mem   box_loss   cls_loss   dfl_loss  Instances       Size\n"
     ]
    },
    {
     "name": "stderr",
     "output_type": "stream",
     "text": [
      "      8/200     0.669G     0.9313     0.5786     0.9248         10        288: 100%|██████████| 161/161 [00:12<00:00, 1\n",
      "                 Class     Images  Instances      Box(P          R      mAP50  mAP50-95): 100%|██████████| 24/24 [00:02"
     ]
    },
    {
     "name": "stdout",
     "output_type": "stream",
     "text": [
      "                   all        369        704      0.816      0.673       0.71      0.425\n"
     ]
    },
    {
     "name": "stderr",
     "output_type": "stream",
     "text": [
      "\n"
     ]
    },
    {
     "name": "stdout",
     "output_type": "stream",
     "text": [
      "\n",
      "      Epoch    GPU_mem   box_loss   cls_loss   dfl_loss  Instances       Size\n"
     ]
    },
    {
     "name": "stderr",
     "output_type": "stream",
     "text": [
      "      9/200     0.671G     0.9272     0.5817     0.9344         19        288: 100%|██████████| 161/161 [00:14<00:00, 1\n",
      "                 Class     Images  Instances      Box(P          R      mAP50  mAP50-95): 100%|██████████| 24/24 [00:02"
     ]
    },
    {
     "name": "stdout",
     "output_type": "stream",
     "text": [
      "                   all        369        704      0.798      0.649      0.706      0.421\n"
     ]
    },
    {
     "name": "stderr",
     "output_type": "stream",
     "text": [
      "\n"
     ]
    },
    {
     "name": "stdout",
     "output_type": "stream",
     "text": [
      "\n",
      "      Epoch    GPU_mem   box_loss   cls_loss   dfl_loss  Instances       Size\n"
     ]
    },
    {
     "name": "stderr",
     "output_type": "stream",
     "text": [
      "     10/200     0.669G     0.8965     0.5501     0.9192          7        288: 100%|██████████| 161/161 [00:13<00:00, 1\n",
      "                 Class     Images  Instances      Box(P          R      mAP50  mAP50-95): 100%|██████████| 24/24 [00:02"
     ]
    },
    {
     "name": "stdout",
     "output_type": "stream",
     "text": [
      "                   all        369        704      0.785      0.662      0.699      0.431\n"
     ]
    },
    {
     "name": "stderr",
     "output_type": "stream",
     "text": [
      "\n"
     ]
    },
    {
     "name": "stdout",
     "output_type": "stream",
     "text": [
      "\n",
      "      Epoch    GPU_mem   box_loss   cls_loss   dfl_loss  Instances       Size\n"
     ]
    },
    {
     "name": "stderr",
     "output_type": "stream",
     "text": [
      "     11/200     0.671G     0.8865     0.5405     0.9164         30        288: 100%|██████████| 161/161 [00:13<00:00, 1\n",
      "                 Class     Images  Instances      Box(P          R      mAP50  mAP50-95): 100%|██████████| 24/24 [00:02"
     ]
    },
    {
     "name": "stdout",
     "output_type": "stream",
     "text": [
      "                   all        369        704      0.838      0.691      0.723      0.445\n"
     ]
    },
    {
     "name": "stderr",
     "output_type": "stream",
     "text": [
      "\n"
     ]
    },
    {
     "name": "stdout",
     "output_type": "stream",
     "text": [
      "\n",
      "      Epoch    GPU_mem   box_loss   cls_loss   dfl_loss  Instances       Size\n"
     ]
    },
    {
     "name": "stderr",
     "output_type": "stream",
     "text": [
      "     12/200     0.671G     0.9088     0.5467     0.9242         11        288: 100%|██████████| 161/161 [00:12<00:00, 1\n",
      "                 Class     Images  Instances      Box(P          R      mAP50  mAP50-95): 100%|██████████| 24/24 [00:01"
     ]
    },
    {
     "name": "stdout",
     "output_type": "stream",
     "text": [
      "                   all        369        704      0.828      0.703      0.733       0.45\n"
     ]
    },
    {
     "name": "stderr",
     "output_type": "stream",
     "text": [
      "\n"
     ]
    },
    {
     "name": "stdout",
     "output_type": "stream",
     "text": [
      "\n",
      "      Epoch    GPU_mem   box_loss   cls_loss   dfl_loss  Instances       Size\n"
     ]
    },
    {
     "name": "stderr",
     "output_type": "stream",
     "text": [
      "     13/200     0.671G     0.8989     0.5462      0.927         13        288: 100%|██████████| 161/161 [00:13<00:00, 1\n",
      "                 Class     Images  Instances      Box(P          R      mAP50  mAP50-95): 100%|██████████| 24/24 [00:02"
     ]
    },
    {
     "name": "stdout",
     "output_type": "stream",
     "text": [
      "                   all        369        704      0.801      0.674      0.714      0.437\n"
     ]
    },
    {
     "name": "stderr",
     "output_type": "stream",
     "text": [
      "\n"
     ]
    },
    {
     "name": "stdout",
     "output_type": "stream",
     "text": [
      "\n",
      "      Epoch    GPU_mem   box_loss   cls_loss   dfl_loss  Instances       Size\n"
     ]
    },
    {
     "name": "stderr",
     "output_type": "stream",
     "text": [
      "     14/200     0.671G     0.9089     0.5395     0.9173         13        288: 100%|██████████| 161/161 [00:12<00:00, 1\n",
      "                 Class     Images  Instances      Box(P          R      mAP50  mAP50-95): 100%|██████████| 24/24 [00:01"
     ]
    },
    {
     "name": "stdout",
     "output_type": "stream",
     "text": [
      "                   all        369        704      0.792      0.703      0.733      0.454\n"
     ]
    },
    {
     "name": "stderr",
     "output_type": "stream",
     "text": [
      "\n"
     ]
    },
    {
     "name": "stdout",
     "output_type": "stream",
     "text": [
      "\n",
      "      Epoch    GPU_mem   box_loss   cls_loss   dfl_loss  Instances       Size\n"
     ]
    },
    {
     "name": "stderr",
     "output_type": "stream",
     "text": [
      "     15/200     0.665G     0.8942     0.5393     0.9171         14        288: 100%|██████████| 161/161 [00:13<00:00, 1\n",
      "                 Class     Images  Instances      Box(P          R      mAP50  mAP50-95): 100%|██████████| 24/24 [00:02"
     ]
    },
    {
     "name": "stdout",
     "output_type": "stream",
     "text": [
      "                   all        369        704       0.82      0.698      0.745      0.462\n"
     ]
    },
    {
     "name": "stderr",
     "output_type": "stream",
     "text": [
      "\n"
     ]
    },
    {
     "name": "stdout",
     "output_type": "stream",
     "text": [
      "\n",
      "      Epoch    GPU_mem   box_loss   cls_loss   dfl_loss  Instances       Size\n"
     ]
    },
    {
     "name": "stderr",
     "output_type": "stream",
     "text": [
      "     16/200     0.669G     0.8861     0.5326     0.9155         13        288: 100%|██████████| 161/161 [00:12<00:00, 1\n",
      "                 Class     Images  Instances      Box(P          R      mAP50  mAP50-95): 100%|██████████| 24/24 [00:01"
     ]
    },
    {
     "name": "stdout",
     "output_type": "stream",
     "text": [
      "                   all        369        704      0.815       0.69      0.717      0.448\n"
     ]
    },
    {
     "name": "stderr",
     "output_type": "stream",
     "text": [
      "\n"
     ]
    },
    {
     "name": "stdout",
     "output_type": "stream",
     "text": [
      "\n",
      "      Epoch    GPU_mem   box_loss   cls_loss   dfl_loss  Instances       Size\n"
     ]
    },
    {
     "name": "stderr",
     "output_type": "stream",
     "text": [
      "     17/200     0.671G     0.8605     0.5081     0.9126         11        288: 100%|██████████| 161/161 [00:13<00:00, 1\n",
      "                 Class     Images  Instances      Box(P          R      mAP50  mAP50-95): 100%|██████████| 24/24 [00:02"
     ]
    },
    {
     "name": "stdout",
     "output_type": "stream",
     "text": [
      "                   all        369        704      0.831      0.696      0.732      0.446\n"
     ]
    },
    {
     "name": "stderr",
     "output_type": "stream",
     "text": [
      "\n"
     ]
    },
    {
     "name": "stdout",
     "output_type": "stream",
     "text": [
      "\n",
      "      Epoch    GPU_mem   box_loss   cls_loss   dfl_loss  Instances       Size\n"
     ]
    },
    {
     "name": "stderr",
     "output_type": "stream",
     "text": [
      "     18/200     0.671G     0.8655     0.5043      0.912         16        288: 100%|██████████| 161/161 [00:14<00:00, 1\n",
      "                 Class     Images  Instances      Box(P          R      mAP50  mAP50-95): 100%|██████████| 24/24 [00:02"
     ]
    },
    {
     "name": "stdout",
     "output_type": "stream",
     "text": [
      "                   all        369        704      0.874      0.698      0.731      0.466\n"
     ]
    },
    {
     "name": "stderr",
     "output_type": "stream",
     "text": [
      "\n"
     ]
    },
    {
     "name": "stdout",
     "output_type": "stream",
     "text": [
      "\n",
      "      Epoch    GPU_mem   box_loss   cls_loss   dfl_loss  Instances       Size\n"
     ]
    },
    {
     "name": "stderr",
     "output_type": "stream",
     "text": [
      "     19/200     0.669G     0.9036     0.5226      0.917         10        288: 100%|██████████| 161/161 [00:13<00:00, 1\n",
      "                 Class     Images  Instances      Box(P          R      mAP50  mAP50-95): 100%|██████████| 24/24 [00:01"
     ]
    },
    {
     "name": "stdout",
     "output_type": "stream",
     "text": [
      "                   all        369        704       0.81      0.721      0.753      0.456\n"
     ]
    },
    {
     "name": "stderr",
     "output_type": "stream",
     "text": [
      "\n"
     ]
    },
    {
     "name": "stdout",
     "output_type": "stream",
     "text": [
      "\n",
      "      Epoch    GPU_mem   box_loss   cls_loss   dfl_loss  Instances       Size\n"
     ]
    },
    {
     "name": "stderr",
     "output_type": "stream",
     "text": [
      "     20/200     0.669G     0.8772     0.5117     0.9155          9        288: 100%|██████████| 161/161 [00:12<00:00, 1\n",
      "                 Class     Images  Instances      Box(P          R      mAP50  mAP50-95): 100%|██████████| 24/24 [00:02"
     ]
    },
    {
     "name": "stdout",
     "output_type": "stream",
     "text": [
      "                   all        369        704      0.764      0.709      0.722      0.446\n"
     ]
    },
    {
     "name": "stderr",
     "output_type": "stream",
     "text": [
      "\n"
     ]
    },
    {
     "name": "stdout",
     "output_type": "stream",
     "text": [
      "\n",
      "      Epoch    GPU_mem   box_loss   cls_loss   dfl_loss  Instances       Size\n"
     ]
    },
    {
     "name": "stderr",
     "output_type": "stream",
     "text": [
      "     21/200     0.669G     0.8483     0.4915     0.9105         15        288: 100%|██████████| 161/161 [00:14<00:00, 1\n",
      "                 Class     Images  Instances      Box(P          R      mAP50  mAP50-95): 100%|██████████| 24/24 [00:02"
     ]
    },
    {
     "name": "stdout",
     "output_type": "stream",
     "text": [
      "                   all        369        704      0.804      0.725      0.756      0.472\n"
     ]
    },
    {
     "name": "stderr",
     "output_type": "stream",
     "text": [
      "\n"
     ]
    },
    {
     "name": "stdout",
     "output_type": "stream",
     "text": [
      "\n",
      "      Epoch    GPU_mem   box_loss   cls_loss   dfl_loss  Instances       Size\n"
     ]
    },
    {
     "name": "stderr",
     "output_type": "stream",
     "text": [
      "     22/200     0.669G     0.8594      0.495     0.9087         10        288: 100%|██████████| 161/161 [00:13<00:00, 1\n",
      "                 Class     Images  Instances      Box(P          R      mAP50  mAP50-95): 100%|██████████| 24/24 [00:02"
     ]
    },
    {
     "name": "stdout",
     "output_type": "stream",
     "text": [
      "                   all        369        704      0.809      0.696      0.733      0.456\n"
     ]
    },
    {
     "name": "stderr",
     "output_type": "stream",
     "text": [
      "\n"
     ]
    },
    {
     "name": "stdout",
     "output_type": "stream",
     "text": [
      "\n",
      "      Epoch    GPU_mem   box_loss   cls_loss   dfl_loss  Instances       Size\n"
     ]
    },
    {
     "name": "stderr",
     "output_type": "stream",
     "text": [
      "     23/200     0.667G     0.8545     0.4918     0.9084         16        288: 100%|██████████| 161/161 [00:13<00:00, 1\n",
      "                 Class     Images  Instances      Box(P          R      mAP50  mAP50-95): 100%|██████████| 24/24 [00:01"
     ]
    },
    {
     "name": "stdout",
     "output_type": "stream",
     "text": [
      "                   all        369        704      0.846       0.68      0.743      0.466\n"
     ]
    },
    {
     "name": "stderr",
     "output_type": "stream",
     "text": [
      "\n"
     ]
    },
    {
     "name": "stdout",
     "output_type": "stream",
     "text": [
      "\n",
      "      Epoch    GPU_mem   box_loss   cls_loss   dfl_loss  Instances       Size\n"
     ]
    },
    {
     "name": "stderr",
     "output_type": "stream",
     "text": [
      "     24/200     0.671G     0.8765     0.5097     0.9134         29        288: 100%|██████████| 161/161 [00:13<00:00, 1\n",
      "                 Class     Images  Instances      Box(P          R      mAP50  mAP50-95): 100%|██████████| 24/24 [00:02"
     ]
    },
    {
     "name": "stdout",
     "output_type": "stream",
     "text": [
      "                   all        369        704      0.807       0.69      0.721      0.443\n"
     ]
    },
    {
     "name": "stderr",
     "output_type": "stream",
     "text": [
      "\n"
     ]
    },
    {
     "name": "stdout",
     "output_type": "stream",
     "text": [
      "\n",
      "      Epoch    GPU_mem   box_loss   cls_loss   dfl_loss  Instances       Size\n"
     ]
    },
    {
     "name": "stderr",
     "output_type": "stream",
     "text": [
      "     25/200     0.669G     0.8665     0.4911     0.9075         14        288: 100%|██████████| 161/161 [00:14<00:00, 1\n",
      "                 Class     Images  Instances      Box(P          R      mAP50  mAP50-95): 100%|██████████| 24/24 [00:02"
     ]
    },
    {
     "name": "stdout",
     "output_type": "stream",
     "text": [
      "                   all        369        704      0.835      0.708      0.747      0.465\n"
     ]
    },
    {
     "name": "stderr",
     "output_type": "stream",
     "text": [
      "\n"
     ]
    },
    {
     "name": "stdout",
     "output_type": "stream",
     "text": [
      "\n",
      "      Epoch    GPU_mem   box_loss   cls_loss   dfl_loss  Instances       Size\n"
     ]
    },
    {
     "name": "stderr",
     "output_type": "stream",
     "text": [
      "     26/200     0.665G     0.8512     0.4784     0.9048         28        288:  60%|██████    | 97/161 [00:08<00:06, 10"
     ]
    }
   ],
   "source": [
    "from ultralytics import YOLO\n",
    "import yaml\n",
    "# 2. YOLOv8 모델 학습\n",
    "# 모델 로드 (사전 학습된 모델 사용)\n",
    "model = YOLO('yolov8n.pt')  # YOLOv8의 다양한 버전 중 하나 선택 (예: yolov8s.pt, yolov8m.pt 등)\n",
    "\n",
    "# 데이터셋 설정 파일 경로\n",
    "data_config = 'C:/Users/lenovo/smartfactory/YOLO_dataset_only_new/data.yaml'\n",
    "\n",
    "# 모델 학습\n",
    "model.train(data=data_config, epochs=200, imgsz=270, batch=8)\n",
    "\n",
    "print(\"모델 학습이 완료되었습니다.\")\n"
   ]
  },
  {
   "cell_type": "code",
   "execution_count": 15,
   "id": "e8d1b132-cd31-4e19-b020-e7c836b2e7cb",
   "metadata": {},
   "outputs": [
    {
     "name": "stdout",
     "output_type": "stream",
     "text": [
      "New https://pypi.org/project/ultralytics/8.2.71 available  Update with 'pip install -U ultralytics'\n",
      "Ultralytics YOLOv8.2.69  Python-3.8.19 torch-2.1.0 CUDA:0 (NVIDIA GeForce RTX 3050 Ti Laptop GPU, 4096MiB)\n",
      "\u001b[34m\u001b[1mengine\\trainer: \u001b[0mtask=detect, mode=train, model=yolov8n.pt, data=C:/Users/lenovo/smartfactory/YOLO_dataset_only_new/data.yaml, epochs=200, time=None, patience=100, batch=16, imgsz=270, save=True, save_period=-1, cache=False, device=None, workers=8, project=None, name=train31, exist_ok=False, pretrained=True, optimizer=AdamW, verbose=True, seed=0, deterministic=True, single_cls=False, rect=False, cos_lr=False, close_mosaic=10, resume=False, amp=True, fraction=1.0, profile=False, freeze=None, multi_scale=False, overlap_mask=True, mask_ratio=4, dropout=0.0, val=True, split=val, save_json=False, save_hybrid=False, conf=None, iou=0.7, max_det=300, half=False, dnn=False, plots=True, source=None, vid_stride=1, stream_buffer=False, visualize=False, augment=False, agnostic_nms=False, classes=None, retina_masks=False, embed=None, show=False, save_frames=False, save_txt=False, save_conf=False, save_crop=False, show_labels=True, show_conf=True, show_boxes=True, line_width=None, format=torchscript, keras=False, optimize=False, int8=False, dynamic=False, simplify=False, opset=None, workspace=4, nms=False, lr0=0.001, lrf=0.1, momentum=0.9, weight_decay=0.0005, warmup_epochs=3.0, warmup_momentum=0.8, warmup_bias_lr=0.1, box=7.5, cls=0.5, dfl=1.5, pose=12.0, kobj=1.0, label_smoothing=0.0, nbs=64, hsv_h=0.015, hsv_s=0.7, hsv_v=0.4, degrees=0.0, translate=0.1, scale=0.5, shear=0.0, perspective=0.0, flipud=0.0, fliplr=0.5, bgr=0.0, mosaic=1.0, mixup=0.0, copy_paste=0.0, auto_augment=randaugment, erasing=0.4, crop_fraction=1.0, cfg=None, tracker=botsort.yaml, save_dir=runs\\detect\\train31\n",
      "Overriding model.yaml nc=80 with nc=3\n",
      "\n",
      "                   from  n    params  module                                       arguments                     \n",
      "  0                  -1  1       464  ultralytics.nn.modules.conv.Conv             [3, 16, 3, 2]                 \n",
      "  1                  -1  1      4672  ultralytics.nn.modules.conv.Conv             [16, 32, 3, 2]                \n",
      "  2                  -1  1      7360  ultralytics.nn.modules.block.C2f             [32, 32, 1, True]             \n",
      "  3                  -1  1     18560  ultralytics.nn.modules.conv.Conv             [32, 64, 3, 2]                \n",
      "  4                  -1  2     49664  ultralytics.nn.modules.block.C2f             [64, 64, 2, True]             \n",
      "  5                  -1  1     73984  ultralytics.nn.modules.conv.Conv             [64, 128, 3, 2]               \n",
      "  6                  -1  2    197632  ultralytics.nn.modules.block.C2f             [128, 128, 2, True]           \n",
      "  7                  -1  1    295424  ultralytics.nn.modules.conv.Conv             [128, 256, 3, 2]              \n",
      "  8                  -1  1    460288  ultralytics.nn.modules.block.C2f             [256, 256, 1, True]           \n",
      "  9                  -1  1    164608  ultralytics.nn.modules.block.SPPF            [256, 256, 5]                 \n",
      " 10                  -1  1         0  torch.nn.modules.upsampling.Upsample         [None, 2, 'nearest']          \n",
      " 11             [-1, 6]  1         0  ultralytics.nn.modules.conv.Concat           [1]                           \n",
      " 12                  -1  1    148224  ultralytics.nn.modules.block.C2f             [384, 128, 1]                 \n",
      " 13                  -1  1         0  torch.nn.modules.upsampling.Upsample         [None, 2, 'nearest']          \n",
      " 14             [-1, 4]  1         0  ultralytics.nn.modules.conv.Concat           [1]                           \n",
      " 15                  -1  1     37248  ultralytics.nn.modules.block.C2f             [192, 64, 1]                  \n",
      " 16                  -1  1     36992  ultralytics.nn.modules.conv.Conv             [64, 64, 3, 2]                \n",
      " 17            [-1, 12]  1         0  ultralytics.nn.modules.conv.Concat           [1]                           \n",
      " 18                  -1  1    123648  ultralytics.nn.modules.block.C2f             [192, 128, 1]                 \n",
      " 19                  -1  1    147712  ultralytics.nn.modules.conv.Conv             [128, 128, 3, 2]              \n",
      " 20             [-1, 9]  1         0  ultralytics.nn.modules.conv.Concat           [1]                           \n",
      " 21                  -1  1    493056  ultralytics.nn.modules.block.C2f             [384, 256, 1]                 \n",
      " 22        [15, 18, 21]  1    751897  ultralytics.nn.modules.head.Detect           [3, [64, 128, 256]]           \n",
      "Model summary: 225 layers, 3,011,433 parameters, 3,011,417 gradients, 8.2 GFLOPs\n",
      "\n",
      "Transferred 319/355 items from pretrained weights\n",
      "Freezing layer 'model.22.dfl.conv.weight'\n",
      "\u001b[34m\u001b[1mAMP: \u001b[0mrunning Automatic Mixed Precision (AMP) checks with YOLOv8n...\n",
      "\u001b[34m\u001b[1mAMP: \u001b[0mchecks passed \n",
      "WARNING  imgsz=[270] must be multiple of max stride 32, updating to [288]\n"
     ]
    },
    {
     "name": "stderr",
     "output_type": "stream",
     "text": [
      "\u001b[34m\u001b[1mtrain: \u001b[0mScanning C:\\Users\\lenovo\\smartfactory\\YOLO_dataset_only_new\\train\\labels.cache... 1285 images, 0 backgrounds, 0 \u001b[0m\n",
      "\u001b[34m\u001b[1mval: \u001b[0mScanning C:\\Users\\lenovo\\smartfactory\\YOLO_dataset_only_new\\valid\\labels.cache... 369 images, 0 backgrounds, 0 cor\u001b[0m\n"
     ]
    },
    {
     "name": "stdout",
     "output_type": "stream",
     "text": [
      "Plotting labels to runs\\detect\\train31\\labels.jpg... \n",
      "\u001b[34m\u001b[1moptimizer:\u001b[0m AdamW(lr=0.001, momentum=0.9) with parameter groups 57 weight(decay=0.0), 64 weight(decay=0.0005), 63 bias(decay=0.0)\n",
      "Image sizes 288 train, 288 val\n",
      "Using 8 dataloader workers\n",
      "Logging results to \u001b[1mruns\\detect\\train31\u001b[0m\n",
      "Starting training for 200 epochs...\n",
      "\n",
      "      Epoch    GPU_mem   box_loss   cls_loss   dfl_loss  Instances       Size\n"
     ]
    },
    {
     "name": "stderr",
     "output_type": "stream",
     "text": [
      "      1/200      1.01G      0.988       1.28     0.9507         19        288: 100%|██████████| 81/81 [00:09<00:00,  8.\n",
      "                 Class     Images  Instances      Box(P          R      mAP50  mAP50-95): 100%|██████████| 12/12 [00:01"
     ]
    },
    {
     "name": "stdout",
     "output_type": "stream",
     "text": [
      "                   all        369        704      0.354      0.604      0.494      0.328\n"
     ]
    },
    {
     "name": "stderr",
     "output_type": "stream",
     "text": [
      "\n"
     ]
    },
    {
     "name": "stdout",
     "output_type": "stream",
     "text": [
      "\n",
      "      Epoch    GPU_mem   box_loss   cls_loss   dfl_loss  Instances       Size\n"
     ]
    },
    {
     "name": "stderr",
     "output_type": "stream",
     "text": [
      "      2/200     0.914G      0.975     0.6836     0.9378         13        288: 100%|██████████| 81/81 [00:07<00:00, 10.\n",
      "                 Class     Images  Instances      Box(P          R      mAP50  mAP50-95): 100%|██████████| 12/12 [00:01"
     ]
    },
    {
     "name": "stdout",
     "output_type": "stream",
     "text": [
      "                   all        369        704       0.61      0.594      0.535      0.361\n"
     ]
    },
    {
     "name": "stderr",
     "output_type": "stream",
     "text": [
      "\n"
     ]
    },
    {
     "name": "stdout",
     "output_type": "stream",
     "text": [
      "\n",
      "      Epoch    GPU_mem   box_loss   cls_loss   dfl_loss  Instances       Size\n"
     ]
    },
    {
     "name": "stderr",
     "output_type": "stream",
     "text": [
      "      3/200     0.998G     0.9591     0.6611     0.9325         20        288: 100%|██████████| 81/81 [00:07<00:00, 10.\n",
      "                 Class     Images  Instances      Box(P          R      mAP50  mAP50-95): 100%|██████████| 12/12 [00:01"
     ]
    },
    {
     "name": "stdout",
     "output_type": "stream",
     "text": [
      "                   all        369        704      0.593      0.592      0.559      0.356\n"
     ]
    },
    {
     "name": "stderr",
     "output_type": "stream",
     "text": [
      "\n"
     ]
    },
    {
     "name": "stdout",
     "output_type": "stream",
     "text": [
      "\n",
      "      Epoch    GPU_mem   box_loss   cls_loss   dfl_loss  Instances       Size\n"
     ]
    },
    {
     "name": "stderr",
     "output_type": "stream",
     "text": [
      "      4/200      1.01G     0.9425     0.6307     0.9318         15        288: 100%|██████████| 81/81 [00:07<00:00, 10.\n",
      "                 Class     Images  Instances      Box(P          R      mAP50  mAP50-95): 100%|██████████| 12/12 [00:01"
     ]
    },
    {
     "name": "stdout",
     "output_type": "stream",
     "text": [
      "                   all        369        704      0.684      0.602      0.604      0.376\n"
     ]
    },
    {
     "name": "stderr",
     "output_type": "stream",
     "text": [
      "\n"
     ]
    },
    {
     "name": "stdout",
     "output_type": "stream",
     "text": [
      "\n",
      "      Epoch    GPU_mem   box_loss   cls_loss   dfl_loss  Instances       Size\n"
     ]
    },
    {
     "name": "stderr",
     "output_type": "stream",
     "text": [
      "      5/200     0.935G     0.9358     0.5962     0.9261         13        288: 100%|██████████| 81/81 [00:07<00:00, 10.\n",
      "                 Class     Images  Instances      Box(P          R      mAP50  mAP50-95): 100%|██████████| 12/12 [00:01"
     ]
    },
    {
     "name": "stdout",
     "output_type": "stream",
     "text": [
      "                   all        369        704      0.791      0.597      0.641      0.396\n"
     ]
    },
    {
     "name": "stderr",
     "output_type": "stream",
     "text": [
      "\n"
     ]
    },
    {
     "name": "stdout",
     "output_type": "stream",
     "text": [
      "\n",
      "      Epoch    GPU_mem   box_loss   cls_loss   dfl_loss  Instances       Size\n"
     ]
    },
    {
     "name": "stderr",
     "output_type": "stream",
     "text": [
      "      6/200      1.01G     0.9037     0.5681     0.9219         16        288: 100%|██████████| 81/81 [00:07<00:00, 11.\n",
      "                 Class     Images  Instances      Box(P          R      mAP50  mAP50-95): 100%|██████████| 12/12 [00:01"
     ]
    },
    {
     "name": "stdout",
     "output_type": "stream",
     "text": [
      "                   all        369        704      0.778      0.641      0.693      0.421\n"
     ]
    },
    {
     "name": "stderr",
     "output_type": "stream",
     "text": [
      "\n"
     ]
    },
    {
     "name": "stdout",
     "output_type": "stream",
     "text": [
      "\n",
      "      Epoch    GPU_mem   box_loss   cls_loss   dfl_loss  Instances       Size\n"
     ]
    },
    {
     "name": "stderr",
     "output_type": "stream",
     "text": [
      "      7/200     0.906G     0.9131     0.5603     0.9136         14        288: 100%|██████████| 81/81 [00:07<00:00, 10.\n",
      "                 Class     Images  Instances      Box(P          R      mAP50  mAP50-95): 100%|██████████| 12/12 [00:01"
     ]
    },
    {
     "name": "stdout",
     "output_type": "stream",
     "text": [
      "                   all        369        704      0.786      0.662      0.686      0.427\n"
     ]
    },
    {
     "name": "stderr",
     "output_type": "stream",
     "text": [
      "\n"
     ]
    },
    {
     "name": "stdout",
     "output_type": "stream",
     "text": [
      "\n",
      "      Epoch    GPU_mem   box_loss   cls_loss   dfl_loss  Instances       Size\n"
     ]
    },
    {
     "name": "stderr",
     "output_type": "stream",
     "text": [
      "      8/200     0.914G     0.8907     0.5392     0.9148          9        288: 100%|██████████| 81/81 [00:07<00:00, 10.\n",
      "                 Class     Images  Instances      Box(P          R      mAP50  mAP50-95): 100%|██████████| 12/12 [00:01"
     ]
    },
    {
     "name": "stdout",
     "output_type": "stream",
     "text": [
      "                   all        369        704      0.782      0.674      0.701      0.424\n"
     ]
    },
    {
     "name": "stderr",
     "output_type": "stream",
     "text": [
      "\n"
     ]
    },
    {
     "name": "stdout",
     "output_type": "stream",
     "text": [
      "\n",
      "      Epoch    GPU_mem   box_loss   cls_loss   dfl_loss  Instances       Size\n"
     ]
    },
    {
     "name": "stderr",
     "output_type": "stream",
     "text": [
      "      9/200     0.914G     0.8727     0.5248     0.9138         17        288: 100%|██████████| 81/81 [00:07<00:00, 10.\n",
      "                 Class     Images  Instances      Box(P          R      mAP50  mAP50-95): 100%|██████████| 12/12 [00:01"
     ]
    },
    {
     "name": "stdout",
     "output_type": "stream",
     "text": [
      "                   all        369        704      0.798       0.67      0.713       0.44\n"
     ]
    },
    {
     "name": "stderr",
     "output_type": "stream",
     "text": [
      "\n"
     ]
    },
    {
     "name": "stdout",
     "output_type": "stream",
     "text": [
      "\n",
      "      Epoch    GPU_mem   box_loss   cls_loss   dfl_loss  Instances       Size\n"
     ]
    },
    {
     "name": "stderr",
     "output_type": "stream",
     "text": [
      "     10/200     0.912G       0.88     0.5255     0.9113          7        288: 100%|██████████| 81/81 [00:07<00:00, 10.\n",
      "                 Class     Images  Instances      Box(P          R      mAP50  mAP50-95): 100%|██████████| 12/12 [00:01"
     ]
    },
    {
     "name": "stdout",
     "output_type": "stream",
     "text": [
      "                   all        369        704      0.813      0.695      0.729       0.46\n"
     ]
    },
    {
     "name": "stderr",
     "output_type": "stream",
     "text": [
      "\n"
     ]
    },
    {
     "name": "stdout",
     "output_type": "stream",
     "text": [
      "\n",
      "      Epoch    GPU_mem   box_loss   cls_loss   dfl_loss  Instances       Size\n"
     ]
    },
    {
     "name": "stderr",
     "output_type": "stream",
     "text": [
      "     11/200     0.906G      0.883     0.5114     0.9113         25        288: 100%|██████████| 81/81 [00:07<00:00, 10.\n",
      "                 Class     Images  Instances      Box(P          R      mAP50  mAP50-95): 100%|██████████| 12/12 [00:01"
     ]
    },
    {
     "name": "stdout",
     "output_type": "stream",
     "text": [
      "                   all        369        704      0.802      0.682      0.715      0.452\n"
     ]
    },
    {
     "name": "stderr",
     "output_type": "stream",
     "text": [
      "\n"
     ]
    },
    {
     "name": "stdout",
     "output_type": "stream",
     "text": [
      "\n",
      "      Epoch    GPU_mem   box_loss   cls_loss   dfl_loss  Instances       Size\n"
     ]
    },
    {
     "name": "stderr",
     "output_type": "stream",
     "text": [
      "     12/200     0.935G     0.8788     0.5132     0.9125         10        288: 100%|██████████| 81/81 [00:08<00:00,  9.\n",
      "                 Class     Images  Instances      Box(P          R      mAP50  mAP50-95): 100%|██████████| 12/12 [00:01"
     ]
    },
    {
     "name": "stdout",
     "output_type": "stream",
     "text": [
      "                   all        369        704      0.853      0.687      0.738      0.442\n"
     ]
    },
    {
     "name": "stderr",
     "output_type": "stream",
     "text": [
      "\n"
     ]
    },
    {
     "name": "stdout",
     "output_type": "stream",
     "text": [
      "\n",
      "      Epoch    GPU_mem   box_loss   cls_loss   dfl_loss  Instances       Size\n"
     ]
    },
    {
     "name": "stderr",
     "output_type": "stream",
     "text": [
      "     13/200     0.914G     0.8801     0.5125     0.9106         18        288: 100%|██████████| 81/81 [00:07<00:00, 10.\n",
      "                 Class     Images  Instances      Box(P          R      mAP50  mAP50-95): 100%|██████████| 12/12 [00:01"
     ]
    },
    {
     "name": "stdout",
     "output_type": "stream",
     "text": [
      "                   all        369        704      0.835       0.67      0.724      0.447\n"
     ]
    },
    {
     "name": "stderr",
     "output_type": "stream",
     "text": [
      "\n"
     ]
    },
    {
     "name": "stdout",
     "output_type": "stream",
     "text": [
      "\n",
      "      Epoch    GPU_mem   box_loss   cls_loss   dfl_loss  Instances       Size\n"
     ]
    },
    {
     "name": "stderr",
     "output_type": "stream",
     "text": [
      "     14/200     0.914G     0.8663     0.5048     0.9068         13        288: 100%|██████████| 81/81 [00:07<00:00, 10.\n",
      "                 Class     Images  Instances      Box(P          R      mAP50  mAP50-95): 100%|██████████| 12/12 [00:01"
     ]
    },
    {
     "name": "stdout",
     "output_type": "stream",
     "text": [
      "                   all        369        704      0.834       0.68      0.732      0.432\n"
     ]
    },
    {
     "name": "stderr",
     "output_type": "stream",
     "text": [
      "\n"
     ]
    },
    {
     "name": "stdout",
     "output_type": "stream",
     "text": [
      "\n",
      "      Epoch    GPU_mem   box_loss   cls_loss   dfl_loss  Instances       Size\n"
     ]
    },
    {
     "name": "stderr",
     "output_type": "stream",
     "text": [
      "     15/200     0.906G     0.8744     0.5095     0.9102         15        288: 100%|██████████| 81/81 [00:07<00:00, 10.\n",
      "                 Class     Images  Instances      Box(P          R      mAP50  mAP50-95): 100%|██████████| 12/12 [00:01"
     ]
    },
    {
     "name": "stdout",
     "output_type": "stream",
     "text": [
      "                   all        369        704      0.848      0.673      0.717      0.446\n"
     ]
    },
    {
     "name": "stderr",
     "output_type": "stream",
     "text": [
      "\n"
     ]
    },
    {
     "name": "stdout",
     "output_type": "stream",
     "text": [
      "\n",
      "      Epoch    GPU_mem   box_loss   cls_loss   dfl_loss  Instances       Size\n"
     ]
    },
    {
     "name": "stderr",
     "output_type": "stream",
     "text": [
      "     16/200     0.914G      0.882     0.5082      0.912         12        288: 100%|██████████| 81/81 [00:07<00:00, 10.\n",
      "                 Class     Images  Instances      Box(P          R      mAP50  mAP50-95): 100%|██████████| 12/12 [00:01"
     ]
    },
    {
     "name": "stdout",
     "output_type": "stream",
     "text": [
      "                   all        369        704      0.803      0.678      0.742      0.464\n"
     ]
    },
    {
     "name": "stderr",
     "output_type": "stream",
     "text": [
      "\n"
     ]
    },
    {
     "name": "stdout",
     "output_type": "stream",
     "text": [
      "\n",
      "      Epoch    GPU_mem   box_loss   cls_loss   dfl_loss  Instances       Size\n"
     ]
    },
    {
     "name": "stderr",
     "output_type": "stream",
     "text": [
      "     17/200     0.912G     0.8626      0.491     0.9106         12        288: 100%|██████████| 81/81 [00:07<00:00, 10.\n",
      "                 Class     Images  Instances      Box(P          R      mAP50  mAP50-95): 100%|██████████| 12/12 [00:01"
     ]
    },
    {
     "name": "stdout",
     "output_type": "stream",
     "text": [
      "                   all        369        704      0.834      0.702      0.747      0.479\n"
     ]
    },
    {
     "name": "stderr",
     "output_type": "stream",
     "text": [
      "\n"
     ]
    },
    {
     "name": "stdout",
     "output_type": "stream",
     "text": [
      "\n",
      "      Epoch    GPU_mem   box_loss   cls_loss   dfl_loss  Instances       Size\n"
     ]
    },
    {
     "name": "stderr",
     "output_type": "stream",
     "text": [
      "     18/200     0.914G     0.8882     0.4989     0.9151         15        288: 100%|██████████| 81/81 [00:07<00:00, 10.\n",
      "                 Class     Images  Instances      Box(P          R      mAP50  mAP50-95): 100%|██████████| 12/12 [00:01"
     ]
    },
    {
     "name": "stdout",
     "output_type": "stream",
     "text": [
      "                   all        369        704       0.83      0.707      0.753      0.464\n"
     ]
    },
    {
     "name": "stderr",
     "output_type": "stream",
     "text": [
      "\n"
     ]
    },
    {
     "name": "stdout",
     "output_type": "stream",
     "text": [
      "\n",
      "      Epoch    GPU_mem   box_loss   cls_loss   dfl_loss  Instances       Size\n"
     ]
    },
    {
     "name": "stderr",
     "output_type": "stream",
     "text": [
      "     19/200     0.906G      0.848       0.48     0.9098         12        288: 100%|██████████| 81/81 [00:07<00:00, 10.\n",
      "                 Class     Images  Instances      Box(P          R      mAP50  mAP50-95): 100%|██████████| 12/12 [00:01"
     ]
    },
    {
     "name": "stdout",
     "output_type": "stream",
     "text": [
      "                   all        369        704      0.786      0.712      0.728      0.458\n"
     ]
    },
    {
     "name": "stderr",
     "output_type": "stream",
     "text": [
      "\n"
     ]
    },
    {
     "name": "stdout",
     "output_type": "stream",
     "text": [
      "\n",
      "      Epoch    GPU_mem   box_loss   cls_loss   dfl_loss  Instances       Size\n"
     ]
    },
    {
     "name": "stderr",
     "output_type": "stream",
     "text": [
      "     20/200     0.933G     0.8503     0.4798     0.9124          5        288: 100%|██████████| 81/81 [00:07<00:00, 10.\n",
      "                 Class     Images  Instances      Box(P          R      mAP50  mAP50-95): 100%|██████████| 12/12 [00:01"
     ]
    },
    {
     "name": "stdout",
     "output_type": "stream",
     "text": [
      "                   all        369        704      0.807      0.708      0.752      0.473\n"
     ]
    },
    {
     "name": "stderr",
     "output_type": "stream",
     "text": [
      "\n"
     ]
    },
    {
     "name": "stdout",
     "output_type": "stream",
     "text": [
      "\n",
      "      Epoch    GPU_mem   box_loss   cls_loss   dfl_loss  Instances       Size\n"
     ]
    },
    {
     "name": "stderr",
     "output_type": "stream",
     "text": [
      "     21/200     0.914G     0.8475      0.484      0.906         17        288: 100%|██████████| 81/81 [00:07<00:00, 10.\n",
      "                 Class     Images  Instances      Box(P          R      mAP50  mAP50-95): 100%|██████████| 12/12 [00:01"
     ]
    },
    {
     "name": "stdout",
     "output_type": "stream",
     "text": [
      "                   all        369        704      0.863      0.669      0.717      0.451\n"
     ]
    },
    {
     "name": "stderr",
     "output_type": "stream",
     "text": [
      "\n"
     ]
    },
    {
     "name": "stdout",
     "output_type": "stream",
     "text": [
      "\n",
      "      Epoch    GPU_mem   box_loss   cls_loss   dfl_loss  Instances       Size\n"
     ]
    },
    {
     "name": "stderr",
     "output_type": "stream",
     "text": [
      "     22/200     0.912G     0.8584      0.486     0.9094         11        288: 100%|██████████| 81/81 [00:07<00:00, 10.\n",
      "                 Class     Images  Instances      Box(P          R      mAP50  mAP50-95): 100%|██████████| 12/12 [00:01"
     ]
    },
    {
     "name": "stdout",
     "output_type": "stream",
     "text": [
      "                   all        369        704      0.854      0.712      0.747      0.466\n"
     ]
    },
    {
     "name": "stderr",
     "output_type": "stream",
     "text": [
      "\n"
     ]
    },
    {
     "name": "stdout",
     "output_type": "stream",
     "text": [
      "\n",
      "      Epoch    GPU_mem   box_loss   cls_loss   dfl_loss  Instances       Size\n"
     ]
    },
    {
     "name": "stderr",
     "output_type": "stream",
     "text": [
      "     23/200     0.906G      0.849     0.4754     0.9004         19        288: 100%|██████████| 81/81 [00:07<00:00, 10.\n",
      "                 Class     Images  Instances      Box(P          R      mAP50  mAP50-95): 100%|██████████| 12/12 [00:01"
     ]
    },
    {
     "name": "stdout",
     "output_type": "stream",
     "text": [
      "                   all        369        704      0.793        0.7      0.747      0.468\n"
     ]
    },
    {
     "name": "stderr",
     "output_type": "stream",
     "text": [
      "\n"
     ]
    },
    {
     "name": "stdout",
     "output_type": "stream",
     "text": [
      "\n",
      "      Epoch    GPU_mem   box_loss   cls_loss   dfl_loss  Instances       Size\n"
     ]
    },
    {
     "name": "stderr",
     "output_type": "stream",
     "text": [
      "     24/200     0.914G     0.8338     0.4656     0.9016         21        288: 100%|██████████| 81/81 [00:07<00:00, 10.\n",
      "                 Class     Images  Instances      Box(P          R      mAP50  mAP50-95): 100%|██████████| 12/12 [00:01"
     ]
    },
    {
     "name": "stdout",
     "output_type": "stream",
     "text": [
      "                   all        369        704      0.893       0.69      0.755      0.478\n"
     ]
    },
    {
     "name": "stderr",
     "output_type": "stream",
     "text": [
      "\n"
     ]
    },
    {
     "name": "stdout",
     "output_type": "stream",
     "text": [
      "\n",
      "      Epoch    GPU_mem   box_loss   cls_loss   dfl_loss  Instances       Size\n"
     ]
    },
    {
     "name": "stderr",
     "output_type": "stream",
     "text": [
      "     25/200     0.912G      0.834     0.4613     0.9002         11        288: 100%|██████████| 81/81 [00:07<00:00, 10.\n",
      "                 Class     Images  Instances      Box(P          R      mAP50  mAP50-95): 100%|██████████| 12/12 [00:01"
     ]
    },
    {
     "name": "stdout",
     "output_type": "stream",
     "text": [
      "                   all        369        704      0.878      0.705      0.769       0.48\n"
     ]
    },
    {
     "name": "stderr",
     "output_type": "stream",
     "text": [
      "\n"
     ]
    },
    {
     "name": "stdout",
     "output_type": "stream",
     "text": [
      "\n",
      "      Epoch    GPU_mem   box_loss   cls_loss   dfl_loss  Instances       Size\n"
     ]
    },
    {
     "name": "stderr",
     "output_type": "stream",
     "text": [
      "     26/200     0.914G     0.8446      0.477     0.9022         19        288: 100%|██████████| 81/81 [00:07<00:00, 10.\n",
      "                 Class     Images  Instances      Box(P          R      mAP50  mAP50-95): 100%|██████████| 12/12 [00:01"
     ]
    },
    {
     "name": "stdout",
     "output_type": "stream",
     "text": [
      "                   all        369        704      0.874      0.705      0.763      0.473\n"
     ]
    },
    {
     "name": "stderr",
     "output_type": "stream",
     "text": [
      "\n"
     ]
    },
    {
     "name": "stdout",
     "output_type": "stream",
     "text": [
      "\n",
      "      Epoch    GPU_mem   box_loss   cls_loss   dfl_loss  Instances       Size\n"
     ]
    },
    {
     "name": "stderr",
     "output_type": "stream",
     "text": [
      "     27/200     0.906G     0.8442     0.4679     0.9051          9        288: 100%|██████████| 81/81 [00:07<00:00, 10.\n",
      "                 Class     Images  Instances      Box(P          R      mAP50  mAP50-95): 100%|██████████| 12/12 [00:01"
     ]
    },
    {
     "name": "stdout",
     "output_type": "stream",
     "text": [
      "                   all        369        704       0.88      0.686      0.739      0.466\n"
     ]
    },
    {
     "name": "stderr",
     "output_type": "stream",
     "text": [
      "\n"
     ]
    },
    {
     "name": "stdout",
     "output_type": "stream",
     "text": [
      "\n",
      "      Epoch    GPU_mem   box_loss   cls_loss   dfl_loss  Instances       Size\n"
     ]
    },
    {
     "name": "stderr",
     "output_type": "stream",
     "text": [
      "     28/200     0.935G     0.8455     0.4617     0.9015         19        288: 100%|██████████| 81/81 [00:07<00:00, 10.\n",
      "                 Class     Images  Instances      Box(P          R      mAP50  mAP50-95): 100%|██████████| 12/12 [00:01"
     ]
    },
    {
     "name": "stdout",
     "output_type": "stream",
     "text": [
      "                   all        369        704       0.86      0.696      0.747      0.469\n"
     ]
    },
    {
     "name": "stderr",
     "output_type": "stream",
     "text": [
      "\n"
     ]
    },
    {
     "name": "stdout",
     "output_type": "stream",
     "text": [
      "\n",
      "      Epoch    GPU_mem   box_loss   cls_loss   dfl_loss  Instances       Size\n"
     ]
    },
    {
     "name": "stderr",
     "output_type": "stream",
     "text": [
      "     29/200     0.914G     0.8444     0.4673     0.9053         11        288: 100%|██████████| 81/81 [00:07<00:00, 10.\n",
      "                 Class     Images  Instances      Box(P          R      mAP50  mAP50-95): 100%|██████████| 12/12 [00:01"
     ]
    },
    {
     "name": "stdout",
     "output_type": "stream",
     "text": [
      "                   all        369        704      0.865      0.702      0.753      0.478\n"
     ]
    },
    {
     "name": "stderr",
     "output_type": "stream",
     "text": [
      "\n"
     ]
    },
    {
     "name": "stdout",
     "output_type": "stream",
     "text": [
      "\n",
      "      Epoch    GPU_mem   box_loss   cls_loss   dfl_loss  Instances       Size\n"
     ]
    },
    {
     "name": "stderr",
     "output_type": "stream",
     "text": [
      "     30/200     0.914G     0.8282      0.464     0.8984         30        288: 100%|██████████| 81/81 [00:07<00:00, 10.\n",
      "                 Class     Images  Instances      Box(P          R      mAP50  mAP50-95): 100%|██████████| 12/12 [00:01"
     ]
    },
    {
     "name": "stdout",
     "output_type": "stream",
     "text": [
      "                   all        369        704      0.873      0.706      0.769      0.488\n"
     ]
    },
    {
     "name": "stderr",
     "output_type": "stream",
     "text": [
      "\n"
     ]
    },
    {
     "name": "stdout",
     "output_type": "stream",
     "text": [
      "\n",
      "      Epoch    GPU_mem   box_loss   cls_loss   dfl_loss  Instances       Size\n"
     ]
    },
    {
     "name": "stderr",
     "output_type": "stream",
     "text": [
      "     31/200     0.906G     0.8371     0.4641     0.9088         15        288: 100%|██████████| 81/81 [00:07<00:00, 10.\n",
      "                 Class     Images  Instances      Box(P          R      mAP50  mAP50-95): 100%|██████████| 12/12 [00:01"
     ]
    },
    {
     "name": "stdout",
     "output_type": "stream",
     "text": [
      "                   all        369        704      0.869      0.714      0.766      0.486\n"
     ]
    },
    {
     "name": "stderr",
     "output_type": "stream",
     "text": [
      "\n"
     ]
    },
    {
     "name": "stdout",
     "output_type": "stream",
     "text": [
      "\n",
      "      Epoch    GPU_mem   box_loss   cls_loss   dfl_loss  Instances       Size\n"
     ]
    },
    {
     "name": "stderr",
     "output_type": "stream",
     "text": [
      "     32/200     0.914G     0.8212     0.4487     0.8988         13        288: 100%|██████████| 81/81 [00:07<00:00, 10.\n",
      "                 Class     Images  Instances      Box(P          R      mAP50  mAP50-95): 100%|██████████| 12/12 [00:01"
     ]
    },
    {
     "name": "stdout",
     "output_type": "stream",
     "text": [
      "                   all        369        704      0.898      0.723      0.779      0.477\n"
     ]
    },
    {
     "name": "stderr",
     "output_type": "stream",
     "text": [
      "\n"
     ]
    },
    {
     "name": "stdout",
     "output_type": "stream",
     "text": [
      "\n",
      "      Epoch    GPU_mem   box_loss   cls_loss   dfl_loss  Instances       Size\n"
     ]
    },
    {
     "name": "stderr",
     "output_type": "stream",
     "text": [
      "     33/200     0.914G     0.8357     0.4652     0.8954         20        288: 100%|██████████| 81/81 [00:07<00:00, 10.\n",
      "                 Class     Images  Instances      Box(P          R      mAP50  mAP50-95): 100%|██████████| 12/12 [00:01"
     ]
    },
    {
     "name": "stdout",
     "output_type": "stream",
     "text": [
      "                   all        369        704      0.826      0.727      0.765      0.485\n"
     ]
    },
    {
     "name": "stderr",
     "output_type": "stream",
     "text": [
      "\n"
     ]
    },
    {
     "name": "stdout",
     "output_type": "stream",
     "text": [
      "\n",
      "      Epoch    GPU_mem   box_loss   cls_loss   dfl_loss  Instances       Size\n"
     ]
    },
    {
     "name": "stderr",
     "output_type": "stream",
     "text": [
      "     34/200     0.914G     0.8273     0.4642     0.8984         15        288: 100%|██████████| 81/81 [00:08<00:00,  9.\n",
      "                 Class     Images  Instances      Box(P          R      mAP50  mAP50-95): 100%|██████████| 12/12 [00:01"
     ]
    },
    {
     "name": "stdout",
     "output_type": "stream",
     "text": [
      "                   all        369        704      0.847      0.711       0.75       0.47\n"
     ]
    },
    {
     "name": "stderr",
     "output_type": "stream",
     "text": [
      "\n"
     ]
    },
    {
     "name": "stdout",
     "output_type": "stream",
     "text": [
      "\n",
      "      Epoch    GPU_mem   box_loss   cls_loss   dfl_loss  Instances       Size\n"
     ]
    },
    {
     "name": "stderr",
     "output_type": "stream",
     "text": [
      "     35/200     0.906G     0.8258     0.4514     0.9043         11        288: 100%|██████████| 81/81 [00:07<00:00, 10.\n",
      "                 Class     Images  Instances      Box(P          R      mAP50  mAP50-95): 100%|██████████| 12/12 [00:01"
     ]
    },
    {
     "name": "stdout",
     "output_type": "stream",
     "text": [
      "                   all        369        704       0.86      0.705      0.772      0.479\n"
     ]
    },
    {
     "name": "stderr",
     "output_type": "stream",
     "text": [
      "\n"
     ]
    },
    {
     "name": "stdout",
     "output_type": "stream",
     "text": [
      "\n",
      "      Epoch    GPU_mem   box_loss   cls_loss   dfl_loss  Instances       Size\n"
     ]
    },
    {
     "name": "stderr",
     "output_type": "stream",
     "text": [
      "     36/200     0.935G     0.8304     0.4518     0.8964         30        288: 100%|██████████| 81/81 [00:07<00:00, 10.\n",
      "                 Class     Images  Instances      Box(P          R      mAP50  mAP50-95): 100%|██████████| 12/12 [00:01"
     ]
    },
    {
     "name": "stdout",
     "output_type": "stream",
     "text": [
      "                   all        369        704      0.896      0.735       0.78      0.474\n"
     ]
    },
    {
     "name": "stderr",
     "output_type": "stream",
     "text": [
      "\n"
     ]
    },
    {
     "name": "stdout",
     "output_type": "stream",
     "text": [
      "\n",
      "      Epoch    GPU_mem   box_loss   cls_loss   dfl_loss  Instances       Size\n"
     ]
    },
    {
     "name": "stderr",
     "output_type": "stream",
     "text": [
      "     37/200     0.914G     0.8229     0.4497     0.8953         16        288: 100%|██████████| 81/81 [00:07<00:00, 10.\n",
      "                 Class     Images  Instances      Box(P          R      mAP50  mAP50-95): 100%|██████████| 12/12 [00:01"
     ]
    },
    {
     "name": "stdout",
     "output_type": "stream",
     "text": [
      "                   all        369        704      0.846      0.735       0.77      0.491\n"
     ]
    },
    {
     "name": "stderr",
     "output_type": "stream",
     "text": [
      "\n"
     ]
    },
    {
     "name": "stdout",
     "output_type": "stream",
     "text": [
      "\n",
      "      Epoch    GPU_mem   box_loss   cls_loss   dfl_loss  Instances       Size\n"
     ]
    },
    {
     "name": "stderr",
     "output_type": "stream",
     "text": [
      "     38/200     0.914G     0.8341     0.4565     0.8952         14        288: 100%|██████████| 81/81 [00:07<00:00, 10.\n",
      "                 Class     Images  Instances      Box(P          R      mAP50  mAP50-95): 100%|██████████| 12/12 [00:01"
     ]
    },
    {
     "name": "stdout",
     "output_type": "stream",
     "text": [
      "                   all        369        704      0.862      0.727      0.786      0.477\n"
     ]
    },
    {
     "name": "stderr",
     "output_type": "stream",
     "text": [
      "\n"
     ]
    },
    {
     "name": "stdout",
     "output_type": "stream",
     "text": [
      "\n",
      "      Epoch    GPU_mem   box_loss   cls_loss   dfl_loss  Instances       Size\n"
     ]
    },
    {
     "name": "stderr",
     "output_type": "stream",
     "text": [
      "     39/200     0.906G     0.8062     0.4428     0.8978         10        288: 100%|██████████| 81/81 [00:07<00:00, 10.\n",
      "                 Class     Images  Instances      Box(P          R      mAP50  mAP50-95): 100%|██████████| 12/12 [00:01"
     ]
    },
    {
     "name": "stdout",
     "output_type": "stream",
     "text": [
      "                   all        369        704      0.854      0.736      0.776      0.491\n"
     ]
    },
    {
     "name": "stderr",
     "output_type": "stream",
     "text": [
      "\n"
     ]
    },
    {
     "name": "stdout",
     "output_type": "stream",
     "text": [
      "\n",
      "      Epoch    GPU_mem   box_loss   cls_loss   dfl_loss  Instances       Size\n"
     ]
    },
    {
     "name": "stderr",
     "output_type": "stream",
     "text": [
      "     40/200     0.914G     0.8178     0.4495     0.8984         15        288: 100%|██████████| 81/81 [00:07<00:00, 10.\n",
      "                 Class     Images  Instances      Box(P          R      mAP50  mAP50-95): 100%|██████████| 12/12 [00:01"
     ]
    },
    {
     "name": "stdout",
     "output_type": "stream",
     "text": [
      "                   all        369        704      0.833      0.751      0.774      0.478\n"
     ]
    },
    {
     "name": "stderr",
     "output_type": "stream",
     "text": [
      "\n"
     ]
    },
    {
     "name": "stdout",
     "output_type": "stream",
     "text": [
      "\n",
      "      Epoch    GPU_mem   box_loss   cls_loss   dfl_loss  Instances       Size\n"
     ]
    },
    {
     "name": "stderr",
     "output_type": "stream",
     "text": [
      "     41/200     0.914G     0.8072      0.444     0.8949         19        288: 100%|██████████| 81/81 [00:07<00:00, 10.\n",
      "                 Class     Images  Instances      Box(P          R      mAP50  mAP50-95): 100%|██████████| 12/12 [00:01"
     ]
    },
    {
     "name": "stdout",
     "output_type": "stream",
     "text": [
      "                   all        369        704      0.883      0.708      0.776      0.489\n"
     ]
    },
    {
     "name": "stderr",
     "output_type": "stream",
     "text": [
      "\n"
     ]
    },
    {
     "name": "stdout",
     "output_type": "stream",
     "text": [
      "\n",
      "      Epoch    GPU_mem   box_loss   cls_loss   dfl_loss  Instances       Size\n"
     ]
    },
    {
     "name": "stderr",
     "output_type": "stream",
     "text": [
      "     42/200     0.914G     0.8038     0.4434     0.8918         19        288: 100%|██████████| 81/81 [00:07<00:00, 10.\n",
      "                 Class     Images  Instances      Box(P          R      mAP50  mAP50-95): 100%|██████████| 12/12 [00:01"
     ]
    },
    {
     "name": "stdout",
     "output_type": "stream",
     "text": [
      "                   all        369        704      0.907      0.713      0.784      0.494\n"
     ]
    },
    {
     "name": "stderr",
     "output_type": "stream",
     "text": [
      "\n"
     ]
    },
    {
     "name": "stdout",
     "output_type": "stream",
     "text": [
      "\n",
      "      Epoch    GPU_mem   box_loss   cls_loss   dfl_loss  Instances       Size\n"
     ]
    },
    {
     "name": "stderr",
     "output_type": "stream",
     "text": [
      "     43/200     0.906G     0.8163     0.4446     0.8941         18        288: 100%|██████████| 81/81 [00:07<00:00, 10.\n",
      "                 Class     Images  Instances      Box(P          R      mAP50  mAP50-95): 100%|██████████| 12/12 [00:01"
     ]
    },
    {
     "name": "stdout",
     "output_type": "stream",
     "text": [
      "                   all        369        704       0.87      0.728      0.775      0.495\n"
     ]
    },
    {
     "name": "stderr",
     "output_type": "stream",
     "text": [
      "\n"
     ]
    },
    {
     "name": "stdout",
     "output_type": "stream",
     "text": [
      "\n",
      "      Epoch    GPU_mem   box_loss   cls_loss   dfl_loss  Instances       Size\n"
     ]
    },
    {
     "name": "stderr",
     "output_type": "stream",
     "text": [
      "     44/200     0.933G      0.817     0.4435     0.8912          6        288: 100%|██████████| 81/81 [00:07<00:00, 10.\n",
      "                 Class     Images  Instances      Box(P          R      mAP50  mAP50-95): 100%|██████████| 12/12 [00:01"
     ]
    },
    {
     "name": "stdout",
     "output_type": "stream",
     "text": [
      "                   all        369        704      0.858      0.731      0.785      0.485\n"
     ]
    },
    {
     "name": "stderr",
     "output_type": "stream",
     "text": [
      "\n"
     ]
    },
    {
     "name": "stdout",
     "output_type": "stream",
     "text": [
      "\n",
      "      Epoch    GPU_mem   box_loss   cls_loss   dfl_loss  Instances       Size\n"
     ]
    },
    {
     "name": "stderr",
     "output_type": "stream",
     "text": [
      "     45/200     0.914G     0.8171     0.4362     0.8919         14        288: 100%|██████████| 81/81 [00:07<00:00, 10.\n",
      "                 Class     Images  Instances      Box(P          R      mAP50  mAP50-95): 100%|██████████| 12/12 [00:01"
     ]
    },
    {
     "name": "stdout",
     "output_type": "stream",
     "text": [
      "                   all        369        704      0.818      0.762      0.777      0.488\n"
     ]
    },
    {
     "name": "stderr",
     "output_type": "stream",
     "text": [
      "\n"
     ]
    },
    {
     "name": "stdout",
     "output_type": "stream",
     "text": [
      "\n",
      "      Epoch    GPU_mem   box_loss   cls_loss   dfl_loss  Instances       Size\n"
     ]
    },
    {
     "name": "stderr",
     "output_type": "stream",
     "text": [
      "     46/200     0.914G     0.8072     0.4339     0.8919         18        288: 100%|██████████| 81/81 [00:07<00:00, 10.\n",
      "                 Class     Images  Instances      Box(P          R      mAP50  mAP50-95): 100%|██████████| 12/12 [00:01"
     ]
    },
    {
     "name": "stdout",
     "output_type": "stream",
     "text": [
      "                   all        369        704       0.83      0.722      0.766      0.488\n"
     ]
    },
    {
     "name": "stderr",
     "output_type": "stream",
     "text": [
      "\n"
     ]
    },
    {
     "name": "stdout",
     "output_type": "stream",
     "text": [
      "\n",
      "      Epoch    GPU_mem   box_loss   cls_loss   dfl_loss  Instances       Size\n"
     ]
    },
    {
     "name": "stderr",
     "output_type": "stream",
     "text": [
      "     47/200     0.906G     0.8025     0.4346     0.8952         17        288: 100%|██████████| 81/81 [00:07<00:00, 10.\n",
      "                 Class     Images  Instances      Box(P          R      mAP50  mAP50-95): 100%|██████████| 12/12 [00:01"
     ]
    },
    {
     "name": "stdout",
     "output_type": "stream",
     "text": [
      "                   all        369        704      0.827      0.744       0.78      0.502\n"
     ]
    },
    {
     "name": "stderr",
     "output_type": "stream",
     "text": [
      "\n"
     ]
    },
    {
     "name": "stdout",
     "output_type": "stream",
     "text": [
      "\n",
      "      Epoch    GPU_mem   box_loss   cls_loss   dfl_loss  Instances       Size\n"
     ]
    },
    {
     "name": "stderr",
     "output_type": "stream",
     "text": [
      "     48/200     0.914G     0.8313     0.4503     0.8998         11        288: 100%|██████████| 81/81 [00:07<00:00, 10.\n",
      "                 Class     Images  Instances      Box(P          R      mAP50  mAP50-95): 100%|██████████| 12/12 [00:01"
     ]
    },
    {
     "name": "stdout",
     "output_type": "stream",
     "text": [
      "                   all        369        704      0.842      0.741      0.784      0.496\n"
     ]
    },
    {
     "name": "stderr",
     "output_type": "stream",
     "text": [
      "\n"
     ]
    },
    {
     "name": "stdout",
     "output_type": "stream",
     "text": [
      "\n",
      "      Epoch    GPU_mem   box_loss   cls_loss   dfl_loss  Instances       Size\n"
     ]
    },
    {
     "name": "stderr",
     "output_type": "stream",
     "text": [
      "     49/200     0.914G     0.7968     0.4355     0.8952         19        288: 100%|██████████| 81/81 [00:07<00:00, 10.\n",
      "                 Class     Images  Instances      Box(P          R      mAP50  mAP50-95): 100%|██████████| 12/12 [00:01"
     ]
    },
    {
     "name": "stdout",
     "output_type": "stream",
     "text": [
      "                   all        369        704      0.892      0.719       0.79      0.495\n"
     ]
    },
    {
     "name": "stderr",
     "output_type": "stream",
     "text": [
      "\n"
     ]
    },
    {
     "name": "stdout",
     "output_type": "stream",
     "text": [
      "\n",
      "      Epoch    GPU_mem   box_loss   cls_loss   dfl_loss  Instances       Size\n"
     ]
    },
    {
     "name": "stderr",
     "output_type": "stream",
     "text": [
      "     50/200     0.914G      0.788     0.4297     0.8881         18        288: 100%|██████████| 81/81 [00:07<00:00, 10.\n",
      "                 Class     Images  Instances      Box(P          R      mAP50  mAP50-95): 100%|██████████| 12/12 [00:01"
     ]
    },
    {
     "name": "stdout",
     "output_type": "stream",
     "text": [
      "                   all        369        704       0.83      0.735      0.778      0.495\n"
     ]
    },
    {
     "name": "stderr",
     "output_type": "stream",
     "text": [
      "\n"
     ]
    },
    {
     "name": "stdout",
     "output_type": "stream",
     "text": [
      "\n",
      "      Epoch    GPU_mem   box_loss   cls_loss   dfl_loss  Instances       Size\n"
     ]
    },
    {
     "name": "stderr",
     "output_type": "stream",
     "text": [
      "     51/200     0.906G     0.7995     0.4336       0.89         20        288: 100%|██████████| 81/81 [00:07<00:00, 11.\n",
      "                 Class     Images  Instances      Box(P          R      mAP50  mAP50-95): 100%|██████████| 12/12 [00:01"
     ]
    },
    {
     "name": "stdout",
     "output_type": "stream",
     "text": [
      "                   all        369        704      0.848      0.741      0.789      0.497\n"
     ]
    },
    {
     "name": "stderr",
     "output_type": "stream",
     "text": [
      "\n"
     ]
    },
    {
     "name": "stdout",
     "output_type": "stream",
     "text": [
      "\n",
      "      Epoch    GPU_mem   box_loss   cls_loss   dfl_loss  Instances       Size\n"
     ]
    },
    {
     "name": "stderr",
     "output_type": "stream",
     "text": [
      "     52/200     0.935G     0.8052     0.4398     0.8903          9        288: 100%|██████████| 81/81 [00:07<00:00, 10.\n",
      "                 Class     Images  Instances      Box(P          R      mAP50  mAP50-95): 100%|██████████| 12/12 [00:01"
     ]
    },
    {
     "name": "stdout",
     "output_type": "stream",
     "text": [
      "                   all        369        704      0.876       0.73      0.796      0.494\n"
     ]
    },
    {
     "name": "stderr",
     "output_type": "stream",
     "text": [
      "\n"
     ]
    },
    {
     "name": "stdout",
     "output_type": "stream",
     "text": [
      "\n",
      "      Epoch    GPU_mem   box_loss   cls_loss   dfl_loss  Instances       Size\n"
     ]
    },
    {
     "name": "stderr",
     "output_type": "stream",
     "text": [
      "     53/200     0.914G     0.8149     0.4331     0.8927         22        288: 100%|██████████| 81/81 [00:07<00:00, 10.\n",
      "                 Class     Images  Instances      Box(P          R      mAP50  mAP50-95): 100%|██████████| 12/12 [00:01"
     ]
    },
    {
     "name": "stdout",
     "output_type": "stream",
     "text": [
      "                   all        369        704      0.892      0.722      0.791      0.502\n"
     ]
    },
    {
     "name": "stderr",
     "output_type": "stream",
     "text": [
      "\n"
     ]
    },
    {
     "name": "stdout",
     "output_type": "stream",
     "text": [
      "\n",
      "      Epoch    GPU_mem   box_loss   cls_loss   dfl_loss  Instances       Size\n"
     ]
    },
    {
     "name": "stderr",
     "output_type": "stream",
     "text": [
      "     54/200     0.914G     0.8093      0.435      0.895         11        288: 100%|██████████| 81/81 [00:07<00:00, 10.\n",
      "                 Class     Images  Instances      Box(P          R      mAP50  mAP50-95): 100%|██████████| 12/12 [00:01"
     ]
    },
    {
     "name": "stdout",
     "output_type": "stream",
     "text": [
      "                   all        369        704      0.903      0.735      0.801      0.502\n"
     ]
    },
    {
     "name": "stderr",
     "output_type": "stream",
     "text": [
      "\n"
     ]
    },
    {
     "name": "stdout",
     "output_type": "stream",
     "text": [
      "\n",
      "      Epoch    GPU_mem   box_loss   cls_loss   dfl_loss  Instances       Size\n"
     ]
    },
    {
     "name": "stderr",
     "output_type": "stream",
     "text": [
      "     55/200     0.906G     0.7944     0.4259     0.8844         19        288: 100%|██████████| 81/81 [00:07<00:00, 10.\n",
      "                 Class     Images  Instances      Box(P          R      mAP50  mAP50-95): 100%|██████████| 12/12 [00:01"
     ]
    },
    {
     "name": "stdout",
     "output_type": "stream",
     "text": [
      "                   all        369        704      0.881      0.713      0.784      0.496\n"
     ]
    },
    {
     "name": "stderr",
     "output_type": "stream",
     "text": [
      "\n"
     ]
    },
    {
     "name": "stdout",
     "output_type": "stream",
     "text": [
      "\n",
      "      Epoch    GPU_mem   box_loss   cls_loss   dfl_loss  Instances       Size\n"
     ]
    },
    {
     "name": "stderr",
     "output_type": "stream",
     "text": [
      "     56/200     0.914G     0.7962     0.4366     0.8879         15        288: 100%|██████████| 81/81 [00:07<00:00, 10.\n",
      "                 Class     Images  Instances      Box(P          R      mAP50  mAP50-95): 100%|██████████| 12/12 [00:01"
     ]
    },
    {
     "name": "stdout",
     "output_type": "stream",
     "text": [
      "                   all        369        704      0.861      0.732      0.782      0.492\n"
     ]
    },
    {
     "name": "stderr",
     "output_type": "stream",
     "text": [
      "\n"
     ]
    },
    {
     "name": "stdout",
     "output_type": "stream",
     "text": [
      "\n",
      "      Epoch    GPU_mem   box_loss   cls_loss   dfl_loss  Instances       Size\n"
     ]
    },
    {
     "name": "stderr",
     "output_type": "stream",
     "text": [
      "     57/200     0.914G     0.8103     0.4376     0.8891         14        288: 100%|██████████| 81/81 [00:07<00:00, 10.\n",
      "                 Class     Images  Instances      Box(P          R      mAP50  mAP50-95): 100%|██████████| 12/12 [00:01"
     ]
    },
    {
     "name": "stdout",
     "output_type": "stream",
     "text": [
      "                   all        369        704      0.834      0.736       0.79      0.492\n"
     ]
    },
    {
     "name": "stderr",
     "output_type": "stream",
     "text": [
      "\n"
     ]
    },
    {
     "name": "stdout",
     "output_type": "stream",
     "text": [
      "\n",
      "      Epoch    GPU_mem   box_loss   cls_loss   dfl_loss  Instances       Size\n"
     ]
    },
    {
     "name": "stderr",
     "output_type": "stream",
     "text": [
      "     58/200     0.914G     0.7957     0.4293     0.8898         21        288: 100%|██████████| 81/81 [00:07<00:00, 10.\n",
      "                 Class     Images  Instances      Box(P          R      mAP50  mAP50-95): 100%|██████████| 12/12 [00:01"
     ]
    },
    {
     "name": "stdout",
     "output_type": "stream",
     "text": [
      "                   all        369        704       0.86      0.751      0.793      0.505\n"
     ]
    },
    {
     "name": "stderr",
     "output_type": "stream",
     "text": [
      "\n"
     ]
    },
    {
     "name": "stdout",
     "output_type": "stream",
     "text": [
      "\n",
      "      Epoch    GPU_mem   box_loss   cls_loss   dfl_loss  Instances       Size\n"
     ]
    },
    {
     "name": "stderr",
     "output_type": "stream",
     "text": [
      "     59/200     0.906G     0.7981     0.4257     0.8908          5        288: 100%|██████████| 81/81 [00:07<00:00, 10.\n",
      "                 Class     Images  Instances      Box(P          R      mAP50  mAP50-95): 100%|██████████| 12/12 [00:01"
     ]
    },
    {
     "name": "stdout",
     "output_type": "stream",
     "text": [
      "                   all        369        704      0.862      0.765      0.805      0.505\n"
     ]
    },
    {
     "name": "stderr",
     "output_type": "stream",
     "text": [
      "\n"
     ]
    },
    {
     "name": "stdout",
     "output_type": "stream",
     "text": [
      "\n",
      "      Epoch    GPU_mem   box_loss   cls_loss   dfl_loss  Instances       Size\n"
     ]
    },
    {
     "name": "stderr",
     "output_type": "stream",
     "text": [
      "     60/200     0.935G     0.7957     0.4245     0.8888         16        288: 100%|██████████| 81/81 [00:07<00:00, 10.\n",
      "                 Class     Images  Instances      Box(P          R      mAP50  mAP50-95): 100%|██████████| 12/12 [00:01"
     ]
    },
    {
     "name": "stdout",
     "output_type": "stream",
     "text": [
      "                   all        369        704      0.834      0.742      0.785      0.489\n"
     ]
    },
    {
     "name": "stderr",
     "output_type": "stream",
     "text": [
      "\n"
     ]
    },
    {
     "name": "stdout",
     "output_type": "stream",
     "text": [
      "\n",
      "      Epoch    GPU_mem   box_loss   cls_loss   dfl_loss  Instances       Size\n"
     ]
    },
    {
     "name": "stderr",
     "output_type": "stream",
     "text": [
      "     61/200     0.914G     0.7957     0.4264     0.8887         25        288: 100%|██████████| 81/81 [00:07<00:00, 10.\n",
      "                 Class     Images  Instances      Box(P          R      mAP50  mAP50-95): 100%|██████████| 12/12 [00:01"
     ]
    },
    {
     "name": "stdout",
     "output_type": "stream",
     "text": [
      "                   all        369        704      0.873       0.71      0.785      0.502\n"
     ]
    },
    {
     "name": "stderr",
     "output_type": "stream",
     "text": [
      "\n"
     ]
    },
    {
     "name": "stdout",
     "output_type": "stream",
     "text": [
      "\n",
      "      Epoch    GPU_mem   box_loss   cls_loss   dfl_loss  Instances       Size\n"
     ]
    },
    {
     "name": "stderr",
     "output_type": "stream",
     "text": [
      "     62/200     0.914G     0.7888     0.4235     0.8926         24        288: 100%|██████████| 81/81 [00:07<00:00, 10.\n",
      "                 Class     Images  Instances      Box(P          R      mAP50  mAP50-95): 100%|██████████| 12/12 [00:01"
     ]
    },
    {
     "name": "stdout",
     "output_type": "stream",
     "text": [
      "                   all        369        704      0.889      0.737      0.792      0.497\n"
     ]
    },
    {
     "name": "stderr",
     "output_type": "stream",
     "text": [
      "\n"
     ]
    },
    {
     "name": "stdout",
     "output_type": "stream",
     "text": [
      "\n",
      "      Epoch    GPU_mem   box_loss   cls_loss   dfl_loss  Instances       Size\n"
     ]
    },
    {
     "name": "stderr",
     "output_type": "stream",
     "text": [
      "     63/200     0.906G     0.7904     0.4212     0.8907         19        288: 100%|██████████| 81/81 [00:07<00:00, 10.\n",
      "                 Class     Images  Instances      Box(P          R      mAP50  mAP50-95): 100%|██████████| 12/12 [00:01"
     ]
    },
    {
     "name": "stdout",
     "output_type": "stream",
     "text": [
      "                   all        369        704      0.867      0.764      0.808      0.503\n"
     ]
    },
    {
     "name": "stderr",
     "output_type": "stream",
     "text": [
      "\n"
     ]
    },
    {
     "name": "stdout",
     "output_type": "stream",
     "text": [
      "\n",
      "      Epoch    GPU_mem   box_loss   cls_loss   dfl_loss  Instances       Size\n"
     ]
    },
    {
     "name": "stderr",
     "output_type": "stream",
     "text": [
      "     64/200     0.914G     0.7898     0.4206     0.8872         19        288: 100%|██████████| 81/81 [00:07<00:00, 10.\n",
      "                 Class     Images  Instances      Box(P          R      mAP50  mAP50-95): 100%|██████████| 12/12 [00:01"
     ]
    },
    {
     "name": "stdout",
     "output_type": "stream",
     "text": [
      "                   all        369        704      0.857      0.725      0.787      0.506\n"
     ]
    },
    {
     "name": "stderr",
     "output_type": "stream",
     "text": [
      "\n"
     ]
    },
    {
     "name": "stdout",
     "output_type": "stream",
     "text": [
      "\n",
      "      Epoch    GPU_mem   box_loss   cls_loss   dfl_loss  Instances       Size\n"
     ]
    },
    {
     "name": "stderr",
     "output_type": "stream",
     "text": [
      "     65/200     0.914G     0.7906     0.4228     0.8941         26        288: 100%|██████████| 81/81 [00:07<00:00, 10.\n",
      "                 Class     Images  Instances      Box(P          R      mAP50  mAP50-95): 100%|██████████| 12/12 [00:01"
     ]
    },
    {
     "name": "stdout",
     "output_type": "stream",
     "text": [
      "                   all        369        704      0.904      0.743      0.798      0.513\n"
     ]
    },
    {
     "name": "stderr",
     "output_type": "stream",
     "text": [
      "\n"
     ]
    },
    {
     "name": "stdout",
     "output_type": "stream",
     "text": [
      "\n",
      "      Epoch    GPU_mem   box_loss   cls_loss   dfl_loss  Instances       Size\n"
     ]
    },
    {
     "name": "stderr",
     "output_type": "stream",
     "text": [
      "     66/200     0.914G     0.7909     0.4187     0.8939         21        288: 100%|██████████| 81/81 [00:07<00:00, 10.\n",
      "                 Class     Images  Instances      Box(P          R      mAP50  mAP50-95): 100%|██████████| 12/12 [00:01"
     ]
    },
    {
     "name": "stdout",
     "output_type": "stream",
     "text": [
      "                   all        369        704      0.878       0.74      0.795      0.513\n"
     ]
    },
    {
     "name": "stderr",
     "output_type": "stream",
     "text": [
      "\n"
     ]
    },
    {
     "name": "stdout",
     "output_type": "stream",
     "text": [
      "\n",
      "      Epoch    GPU_mem   box_loss   cls_loss   dfl_loss  Instances       Size\n"
     ]
    },
    {
     "name": "stderr",
     "output_type": "stream",
     "text": [
      "     67/200     0.906G     0.7906     0.4202     0.8849         18        288: 100%|██████████| 81/81 [00:07<00:00, 10.\n",
      "                 Class     Images  Instances      Box(P          R      mAP50  mAP50-95): 100%|██████████| 12/12 [00:01"
     ]
    },
    {
     "name": "stdout",
     "output_type": "stream",
     "text": [
      "                   all        369        704      0.847      0.739      0.784      0.499\n"
     ]
    },
    {
     "name": "stderr",
     "output_type": "stream",
     "text": [
      "\n"
     ]
    },
    {
     "name": "stdout",
     "output_type": "stream",
     "text": [
      "\n",
      "      Epoch    GPU_mem   box_loss   cls_loss   dfl_loss  Instances       Size\n"
     ]
    },
    {
     "name": "stderr",
     "output_type": "stream",
     "text": [
      "     68/200     0.935G     0.8085     0.4292     0.8917         13        288: 100%|██████████| 81/81 [00:07<00:00, 10.\n",
      "                 Class     Images  Instances      Box(P          R      mAP50  mAP50-95): 100%|██████████| 12/12 [00:01"
     ]
    },
    {
     "name": "stdout",
     "output_type": "stream",
     "text": [
      "                   all        369        704      0.839      0.741      0.793       0.51\n"
     ]
    },
    {
     "name": "stderr",
     "output_type": "stream",
     "text": [
      "\n"
     ]
    },
    {
     "name": "stdout",
     "output_type": "stream",
     "text": [
      "\n",
      "      Epoch    GPU_mem   box_loss   cls_loss   dfl_loss  Instances       Size\n"
     ]
    },
    {
     "name": "stderr",
     "output_type": "stream",
     "text": [
      "     69/200     0.914G     0.8035     0.4274     0.8922         18        288: 100%|██████████| 81/81 [00:07<00:00, 10.\n",
      "                 Class     Images  Instances      Box(P          R      mAP50  mAP50-95): 100%|██████████| 12/12 [00:01"
     ]
    },
    {
     "name": "stdout",
     "output_type": "stream",
     "text": [
      "                   all        369        704       0.87      0.738      0.791      0.508\n"
     ]
    },
    {
     "name": "stderr",
     "output_type": "stream",
     "text": [
      "\n"
     ]
    },
    {
     "name": "stdout",
     "output_type": "stream",
     "text": [
      "\n",
      "      Epoch    GPU_mem   box_loss   cls_loss   dfl_loss  Instances       Size\n"
     ]
    },
    {
     "name": "stderr",
     "output_type": "stream",
     "text": [
      "     70/200     0.914G     0.7913     0.4155     0.8903         19        288: 100%|██████████| 81/81 [00:07<00:00, 10.\n",
      "                 Class     Images  Instances      Box(P          R      mAP50  mAP50-95): 100%|██████████| 12/12 [00:01"
     ]
    },
    {
     "name": "stdout",
     "output_type": "stream",
     "text": [
      "                   all        369        704      0.849      0.766      0.808      0.518\n"
     ]
    },
    {
     "name": "stderr",
     "output_type": "stream",
     "text": [
      "\n"
     ]
    },
    {
     "name": "stdout",
     "output_type": "stream",
     "text": [
      "\n",
      "      Epoch    GPU_mem   box_loss   cls_loss   dfl_loss  Instances       Size\n"
     ]
    },
    {
     "name": "stderr",
     "output_type": "stream",
     "text": [
      "     71/200     0.906G     0.7839     0.4192     0.8878         10        288: 100%|██████████| 81/81 [00:07<00:00, 10.\n",
      "                 Class     Images  Instances      Box(P          R      mAP50  mAP50-95): 100%|██████████| 12/12 [00:01"
     ]
    },
    {
     "name": "stdout",
     "output_type": "stream",
     "text": [
      "                   all        369        704       0.89       0.76      0.811       0.51\n"
     ]
    },
    {
     "name": "stderr",
     "output_type": "stream",
     "text": [
      "\n"
     ]
    },
    {
     "name": "stdout",
     "output_type": "stream",
     "text": [
      "\n",
      "      Epoch    GPU_mem   box_loss   cls_loss   dfl_loss  Instances       Size\n"
     ]
    },
    {
     "name": "stderr",
     "output_type": "stream",
     "text": [
      "     72/200     0.914G     0.7911     0.4202     0.8931         17        288: 100%|██████████| 81/81 [00:07<00:00, 10.\n",
      "                 Class     Images  Instances      Box(P          R      mAP50  mAP50-95): 100%|██████████| 12/12 [00:01"
     ]
    },
    {
     "name": "stdout",
     "output_type": "stream",
     "text": [
      "                   all        369        704      0.875      0.758      0.811      0.512\n"
     ]
    },
    {
     "name": "stderr",
     "output_type": "stream",
     "text": [
      "\n"
     ]
    },
    {
     "name": "stdout",
     "output_type": "stream",
     "text": [
      "\n",
      "      Epoch    GPU_mem   box_loss   cls_loss   dfl_loss  Instances       Size\n"
     ]
    },
    {
     "name": "stderr",
     "output_type": "stream",
     "text": [
      "     73/200     0.914G     0.7843     0.4174     0.8907         14        288: 100%|██████████| 81/81 [00:07<00:00, 10.\n",
      "                 Class     Images  Instances      Box(P          R      mAP50  mAP50-95): 100%|██████████| 12/12 [00:01"
     ]
    },
    {
     "name": "stdout",
     "output_type": "stream",
     "text": [
      "                   all        369        704      0.825      0.759      0.782      0.507\n"
     ]
    },
    {
     "name": "stderr",
     "output_type": "stream",
     "text": [
      "\n"
     ]
    },
    {
     "name": "stdout",
     "output_type": "stream",
     "text": [
      "\n",
      "      Epoch    GPU_mem   box_loss   cls_loss   dfl_loss  Instances       Size\n"
     ]
    },
    {
     "name": "stderr",
     "output_type": "stream",
     "text": [
      "     74/200     0.914G     0.7848     0.4111     0.8892         12        288: 100%|██████████| 81/81 [00:07<00:00, 10.\n",
      "                 Class     Images  Instances      Box(P          R      mAP50  mAP50-95): 100%|██████████| 12/12 [00:01"
     ]
    },
    {
     "name": "stdout",
     "output_type": "stream",
     "text": [
      "                   all        369        704      0.912       0.72        0.8      0.503\n"
     ]
    },
    {
     "name": "stderr",
     "output_type": "stream",
     "text": [
      "\n"
     ]
    },
    {
     "name": "stdout",
     "output_type": "stream",
     "text": [
      "\n",
      "      Epoch    GPU_mem   box_loss   cls_loss   dfl_loss  Instances       Size\n"
     ]
    },
    {
     "name": "stderr",
     "output_type": "stream",
     "text": [
      "     75/200     0.906G     0.7904      0.421     0.8926          6        288: 100%|██████████| 81/81 [00:07<00:00, 10.\n",
      "                 Class     Images  Instances      Box(P          R      mAP50  mAP50-95): 100%|██████████| 12/12 [00:01"
     ]
    },
    {
     "name": "stdout",
     "output_type": "stream",
     "text": [
      "                   all        369        704       0.84      0.748      0.787      0.501\n"
     ]
    },
    {
     "name": "stderr",
     "output_type": "stream",
     "text": [
      "\n"
     ]
    },
    {
     "name": "stdout",
     "output_type": "stream",
     "text": [
      "\n",
      "      Epoch    GPU_mem   box_loss   cls_loss   dfl_loss  Instances       Size\n"
     ]
    },
    {
     "name": "stderr",
     "output_type": "stream",
     "text": [
      "     76/200     0.935G     0.7872     0.4154     0.8935         16        288: 100%|██████████| 81/81 [00:07<00:00, 10.\n",
      "                 Class     Images  Instances      Box(P          R      mAP50  mAP50-95): 100%|██████████| 12/12 [00:01"
     ]
    },
    {
     "name": "stdout",
     "output_type": "stream",
     "text": [
      "                   all        369        704      0.863      0.753      0.791      0.504\n"
     ]
    },
    {
     "name": "stderr",
     "output_type": "stream",
     "text": [
      "\n"
     ]
    },
    {
     "name": "stdout",
     "output_type": "stream",
     "text": [
      "\n",
      "      Epoch    GPU_mem   box_loss   cls_loss   dfl_loss  Instances       Size\n"
     ]
    },
    {
     "name": "stderr",
     "output_type": "stream",
     "text": [
      "     77/200     0.914G     0.7664     0.4127     0.8813         20        288: 100%|██████████| 81/81 [00:07<00:00, 10.\n",
      "                 Class     Images  Instances      Box(P          R      mAP50  mAP50-95): 100%|██████████| 12/12 [00:01"
     ]
    },
    {
     "name": "stdout",
     "output_type": "stream",
     "text": [
      "                   all        369        704      0.875      0.725      0.789      0.507\n"
     ]
    },
    {
     "name": "stderr",
     "output_type": "stream",
     "text": [
      "\n"
     ]
    },
    {
     "name": "stdout",
     "output_type": "stream",
     "text": [
      "\n",
      "      Epoch    GPU_mem   box_loss   cls_loss   dfl_loss  Instances       Size\n"
     ]
    },
    {
     "name": "stderr",
     "output_type": "stream",
     "text": [
      "     78/200     0.914G     0.7881     0.4184     0.8905         16        288: 100%|██████████| 81/81 [00:07<00:00, 10.\n",
      "                 Class     Images  Instances      Box(P          R      mAP50  mAP50-95): 100%|██████████| 12/12 [00:01"
     ]
    },
    {
     "name": "stdout",
     "output_type": "stream",
     "text": [
      "                   all        369        704      0.883      0.749      0.798      0.496\n"
     ]
    },
    {
     "name": "stderr",
     "output_type": "stream",
     "text": [
      "\n"
     ]
    },
    {
     "name": "stdout",
     "output_type": "stream",
     "text": [
      "\n",
      "      Epoch    GPU_mem   box_loss   cls_loss   dfl_loss  Instances       Size\n"
     ]
    },
    {
     "name": "stderr",
     "output_type": "stream",
     "text": [
      "     79/200     0.906G     0.7877     0.4109      0.885         28        288: 100%|██████████| 81/81 [00:07<00:00, 10.\n",
      "                 Class     Images  Instances      Box(P          R      mAP50  mAP50-95): 100%|██████████| 12/12 [00:01"
     ]
    },
    {
     "name": "stdout",
     "output_type": "stream",
     "text": [
      "                   all        369        704      0.876      0.745      0.797      0.499\n"
     ]
    },
    {
     "name": "stderr",
     "output_type": "stream",
     "text": [
      "\n"
     ]
    },
    {
     "name": "stdout",
     "output_type": "stream",
     "text": [
      "\n",
      "      Epoch    GPU_mem   box_loss   cls_loss   dfl_loss  Instances       Size\n"
     ]
    },
    {
     "name": "stderr",
     "output_type": "stream",
     "text": [
      "     80/200     0.912G     0.7888     0.4179     0.8911          9        288: 100%|██████████| 81/81 [00:07<00:00, 10.\n",
      "                 Class     Images  Instances      Box(P          R      mAP50  mAP50-95): 100%|██████████| 12/12 [00:01"
     ]
    },
    {
     "name": "stdout",
     "output_type": "stream",
     "text": [
      "                   all        369        704        0.9      0.729      0.802      0.513\n"
     ]
    },
    {
     "name": "stderr",
     "output_type": "stream",
     "text": [
      "\n"
     ]
    },
    {
     "name": "stdout",
     "output_type": "stream",
     "text": [
      "\n",
      "      Epoch    GPU_mem   box_loss   cls_loss   dfl_loss  Instances       Size\n"
     ]
    },
    {
     "name": "stderr",
     "output_type": "stream",
     "text": [
      "     81/200     0.914G     0.7837     0.4127     0.8883          9        288: 100%|██████████| 81/81 [00:07<00:00, 10.\n",
      "                 Class     Images  Instances      Box(P          R      mAP50  mAP50-95): 100%|██████████| 12/12 [00:01"
     ]
    },
    {
     "name": "stdout",
     "output_type": "stream",
     "text": [
      "                   all        369        704      0.861      0.758      0.799      0.505\n"
     ]
    },
    {
     "name": "stderr",
     "output_type": "stream",
     "text": [
      "\n"
     ]
    },
    {
     "name": "stdout",
     "output_type": "stream",
     "text": [
      "\n",
      "      Epoch    GPU_mem   box_loss   cls_loss   dfl_loss  Instances       Size\n"
     ]
    },
    {
     "name": "stderr",
     "output_type": "stream",
     "text": [
      "     82/200     0.914G     0.7893     0.4198     0.8869         12        288: 100%|██████████| 81/81 [00:07<00:00, 10.\n",
      "                 Class     Images  Instances      Box(P          R      mAP50  mAP50-95): 100%|██████████| 12/12 [00:01"
     ]
    },
    {
     "name": "stdout",
     "output_type": "stream",
     "text": [
      "                   all        369        704      0.879       0.75      0.806      0.503\n"
     ]
    },
    {
     "name": "stderr",
     "output_type": "stream",
     "text": [
      "\n"
     ]
    },
    {
     "name": "stdout",
     "output_type": "stream",
     "text": [
      "\n",
      "      Epoch    GPU_mem   box_loss   cls_loss   dfl_loss  Instances       Size\n"
     ]
    },
    {
     "name": "stderr",
     "output_type": "stream",
     "text": [
      "     83/200     0.908G     0.7944     0.4161     0.8875         12        288: 100%|██████████| 81/81 [00:07<00:00, 10.\n",
      "                 Class     Images  Instances      Box(P          R      mAP50  mAP50-95): 100%|██████████| 12/12 [00:01"
     ]
    },
    {
     "name": "stdout",
     "output_type": "stream",
     "text": [
      "                   all        369        704      0.888      0.738      0.802      0.514\n"
     ]
    },
    {
     "name": "stderr",
     "output_type": "stream",
     "text": [
      "\n"
     ]
    },
    {
     "name": "stdout",
     "output_type": "stream",
     "text": [
      "\n",
      "      Epoch    GPU_mem   box_loss   cls_loss   dfl_loss  Instances       Size\n"
     ]
    },
    {
     "name": "stderr",
     "output_type": "stream",
     "text": [
      "     84/200     0.935G     0.7673     0.3995     0.8863         13        288: 100%|██████████| 81/81 [00:07<00:00, 10.\n",
      "                 Class     Images  Instances      Box(P          R      mAP50  mAP50-95): 100%|██████████| 12/12 [00:01"
     ]
    },
    {
     "name": "stdout",
     "output_type": "stream",
     "text": [
      "                   all        369        704      0.865      0.746      0.799      0.507\n"
     ]
    },
    {
     "name": "stderr",
     "output_type": "stream",
     "text": [
      "\n"
     ]
    },
    {
     "name": "stdout",
     "output_type": "stream",
     "text": [
      "\n",
      "      Epoch    GPU_mem   box_loss   cls_loss   dfl_loss  Instances       Size\n"
     ]
    },
    {
     "name": "stderr",
     "output_type": "stream",
     "text": [
      "     85/200     0.914G     0.7972     0.4155     0.8871         15        288: 100%|██████████| 81/81 [00:07<00:00, 10.\n",
      "                 Class     Images  Instances      Box(P          R      mAP50  mAP50-95): 100%|██████████| 12/12 [00:01"
     ]
    },
    {
     "name": "stdout",
     "output_type": "stream",
     "text": [
      "                   all        369        704      0.902      0.742      0.801      0.508\n"
     ]
    },
    {
     "name": "stderr",
     "output_type": "stream",
     "text": [
      "\n"
     ]
    },
    {
     "name": "stdout",
     "output_type": "stream",
     "text": [
      "\n",
      "      Epoch    GPU_mem   box_loss   cls_loss   dfl_loss  Instances       Size\n"
     ]
    },
    {
     "name": "stderr",
     "output_type": "stream",
     "text": [
      "     86/200     0.914G     0.7794     0.4181       0.89         23        288: 100%|██████████| 81/81 [00:07<00:00, 10.\n",
      "                 Class     Images  Instances      Box(P          R      mAP50  mAP50-95): 100%|██████████| 12/12 [00:01"
     ]
    },
    {
     "name": "stdout",
     "output_type": "stream",
     "text": [
      "                   all        369        704      0.888      0.746      0.789      0.516\n"
     ]
    },
    {
     "name": "stderr",
     "output_type": "stream",
     "text": [
      "\n"
     ]
    },
    {
     "name": "stdout",
     "output_type": "stream",
     "text": [
      "\n",
      "      Epoch    GPU_mem   box_loss   cls_loss   dfl_loss  Instances       Size\n"
     ]
    },
    {
     "name": "stderr",
     "output_type": "stream",
     "text": [
      "     87/200     0.906G     0.7778     0.4075     0.8822         16        288: 100%|██████████| 81/81 [00:07<00:00, 10.\n",
      "                 Class     Images  Instances      Box(P          R      mAP50  mAP50-95): 100%|██████████| 12/12 [00:01"
     ]
    },
    {
     "name": "stdout",
     "output_type": "stream",
     "text": [
      "                   all        369        704      0.886       0.75      0.804      0.517\n"
     ]
    },
    {
     "name": "stderr",
     "output_type": "stream",
     "text": [
      "\n"
     ]
    },
    {
     "name": "stdout",
     "output_type": "stream",
     "text": [
      "\n",
      "      Epoch    GPU_mem   box_loss   cls_loss   dfl_loss  Instances       Size\n"
     ]
    },
    {
     "name": "stderr",
     "output_type": "stream",
     "text": [
      "     88/200     0.914G     0.7732     0.4015     0.8843         15        288: 100%|██████████| 81/81 [00:07<00:00, 10.\n",
      "                 Class     Images  Instances      Box(P          R      mAP50  mAP50-95): 100%|██████████| 12/12 [00:01"
     ]
    },
    {
     "name": "stdout",
     "output_type": "stream",
     "text": [
      "                   all        369        704      0.828      0.782      0.807      0.518\n"
     ]
    },
    {
     "name": "stderr",
     "output_type": "stream",
     "text": [
      "\n"
     ]
    },
    {
     "name": "stdout",
     "output_type": "stream",
     "text": [
      "\n",
      "      Epoch    GPU_mem   box_loss   cls_loss   dfl_loss  Instances       Size\n"
     ]
    },
    {
     "name": "stderr",
     "output_type": "stream",
     "text": [
      "     89/200     0.914G     0.7727     0.4039     0.8855         27        288: 100%|██████████| 81/81 [00:07<00:00, 10.\n",
      "                 Class     Images  Instances      Box(P          R      mAP50  mAP50-95): 100%|██████████| 12/12 [00:01"
     ]
    },
    {
     "name": "stdout",
     "output_type": "stream",
     "text": [
      "                   all        369        704      0.873      0.761      0.804      0.516\n"
     ]
    },
    {
     "name": "stderr",
     "output_type": "stream",
     "text": [
      "\n"
     ]
    },
    {
     "name": "stdout",
     "output_type": "stream",
     "text": [
      "\n",
      "      Epoch    GPU_mem   box_loss   cls_loss   dfl_loss  Instances       Size\n"
     ]
    },
    {
     "name": "stderr",
     "output_type": "stream",
     "text": [
      "     90/200     0.914G     0.7752     0.4068     0.8842         29        288: 100%|██████████| 81/81 [00:07<00:00, 10.\n",
      "                 Class     Images  Instances      Box(P          R      mAP50  mAP50-95): 100%|██████████| 12/12 [00:01"
     ]
    },
    {
     "name": "stdout",
     "output_type": "stream",
     "text": [
      "                   all        369        704       0.86      0.747      0.793      0.514\n"
     ]
    },
    {
     "name": "stderr",
     "output_type": "stream",
     "text": [
      "\n"
     ]
    },
    {
     "name": "stdout",
     "output_type": "stream",
     "text": [
      "\n",
      "      Epoch    GPU_mem   box_loss   cls_loss   dfl_loss  Instances       Size\n"
     ]
    },
    {
     "name": "stderr",
     "output_type": "stream",
     "text": [
      "     91/200     0.906G     0.7766     0.4032     0.8865         21        288: 100%|██████████| 81/81 [00:07<00:00, 10.\n",
      "                 Class     Images  Instances      Box(P          R      mAP50  mAP50-95): 100%|██████████| 12/12 [00:01"
     ]
    },
    {
     "name": "stdout",
     "output_type": "stream",
     "text": [
      "                   all        369        704      0.868      0.739       0.79      0.513\n"
     ]
    },
    {
     "name": "stderr",
     "output_type": "stream",
     "text": [
      "\n"
     ]
    },
    {
     "name": "stdout",
     "output_type": "stream",
     "text": [
      "\n",
      "      Epoch    GPU_mem   box_loss   cls_loss   dfl_loss  Instances       Size\n"
     ]
    },
    {
     "name": "stderr",
     "output_type": "stream",
     "text": [
      "     92/200     0.935G     0.7637     0.4036     0.8845         17        288: 100%|██████████| 81/81 [00:07<00:00, 10.\n",
      "                 Class     Images  Instances      Box(P          R      mAP50  mAP50-95): 100%|██████████| 12/12 [00:01"
     ]
    },
    {
     "name": "stdout",
     "output_type": "stream",
     "text": [
      "                   all        369        704      0.901      0.741      0.801      0.523\n"
     ]
    },
    {
     "name": "stderr",
     "output_type": "stream",
     "text": [
      "\n"
     ]
    },
    {
     "name": "stdout",
     "output_type": "stream",
     "text": [
      "\n",
      "      Epoch    GPU_mem   box_loss   cls_loss   dfl_loss  Instances       Size\n"
     ]
    },
    {
     "name": "stderr",
     "output_type": "stream",
     "text": [
      "     93/200     0.914G     0.7631     0.3953      0.884         22        288: 100%|██████████| 81/81 [00:07<00:00, 10.\n",
      "                 Class     Images  Instances      Box(P          R      mAP50  mAP50-95): 100%|██████████| 12/12 [00:01"
     ]
    },
    {
     "name": "stdout",
     "output_type": "stream",
     "text": [
      "                   all        369        704      0.876      0.774      0.812      0.515\n"
     ]
    },
    {
     "name": "stderr",
     "output_type": "stream",
     "text": [
      "\n"
     ]
    },
    {
     "name": "stdout",
     "output_type": "stream",
     "text": [
      "\n",
      "      Epoch    GPU_mem   box_loss   cls_loss   dfl_loss  Instances       Size\n"
     ]
    },
    {
     "name": "stderr",
     "output_type": "stream",
     "text": [
      "     94/200     0.914G      0.777     0.4031     0.8828         13        288: 100%|██████████| 81/81 [00:07<00:00, 10.\n",
      "                 Class     Images  Instances      Box(P          R      mAP50  mAP50-95): 100%|██████████| 12/12 [00:01"
     ]
    },
    {
     "name": "stdout",
     "output_type": "stream",
     "text": [
      "                   all        369        704      0.875      0.752      0.791      0.509\n"
     ]
    },
    {
     "name": "stderr",
     "output_type": "stream",
     "text": [
      "\n"
     ]
    },
    {
     "name": "stdout",
     "output_type": "stream",
     "text": [
      "\n",
      "      Epoch    GPU_mem   box_loss   cls_loss   dfl_loss  Instances       Size\n"
     ]
    },
    {
     "name": "stderr",
     "output_type": "stream",
     "text": [
      "     95/200     0.906G      0.772     0.4078     0.8829         20        288: 100%|██████████| 81/81 [00:07<00:00, 10.\n",
      "                 Class     Images  Instances      Box(P          R      mAP50  mAP50-95): 100%|██████████| 12/12 [00:01"
     ]
    },
    {
     "name": "stdout",
     "output_type": "stream",
     "text": [
      "                   all        369        704        0.9      0.743      0.805      0.522\n"
     ]
    },
    {
     "name": "stderr",
     "output_type": "stream",
     "text": [
      "\n"
     ]
    },
    {
     "name": "stdout",
     "output_type": "stream",
     "text": [
      "\n",
      "      Epoch    GPU_mem   box_loss   cls_loss   dfl_loss  Instances       Size\n"
     ]
    },
    {
     "name": "stderr",
     "output_type": "stream",
     "text": [
      "     96/200     0.914G     0.7602     0.3976     0.8829         10        288: 100%|██████████| 81/81 [00:07<00:00, 10.\n",
      "                 Class     Images  Instances      Box(P          R      mAP50  mAP50-95): 100%|██████████| 12/12 [00:01"
     ]
    },
    {
     "name": "stdout",
     "output_type": "stream",
     "text": [
      "                   all        369        704       0.83      0.784      0.804      0.515\n"
     ]
    },
    {
     "name": "stderr",
     "output_type": "stream",
     "text": [
      "\n"
     ]
    },
    {
     "name": "stdout",
     "output_type": "stream",
     "text": [
      "\n",
      "      Epoch    GPU_mem   box_loss   cls_loss   dfl_loss  Instances       Size\n"
     ]
    },
    {
     "name": "stderr",
     "output_type": "stream",
     "text": [
      "     97/200     0.914G     0.7652     0.3974     0.8863         14        288: 100%|██████████| 81/81 [00:07<00:00, 10.\n",
      "                 Class     Images  Instances      Box(P          R      mAP50  mAP50-95): 100%|██████████| 12/12 [00:01"
     ]
    },
    {
     "name": "stdout",
     "output_type": "stream",
     "text": [
      "                   all        369        704      0.818      0.772      0.798      0.506\n"
     ]
    },
    {
     "name": "stderr",
     "output_type": "stream",
     "text": [
      "\n"
     ]
    },
    {
     "name": "stdout",
     "output_type": "stream",
     "text": [
      "\n",
      "      Epoch    GPU_mem   box_loss   cls_loss   dfl_loss  Instances       Size\n"
     ]
    },
    {
     "name": "stderr",
     "output_type": "stream",
     "text": [
      "     98/200     0.914G     0.7572     0.3904     0.8827         23        288: 100%|██████████| 81/81 [00:07<00:00, 10.\n",
      "                 Class     Images  Instances      Box(P          R      mAP50  mAP50-95): 100%|██████████| 12/12 [00:01"
     ]
    },
    {
     "name": "stdout",
     "output_type": "stream",
     "text": [
      "                   all        369        704      0.849      0.766      0.803      0.506\n"
     ]
    },
    {
     "name": "stderr",
     "output_type": "stream",
     "text": [
      "\n"
     ]
    },
    {
     "name": "stdout",
     "output_type": "stream",
     "text": [
      "\n",
      "      Epoch    GPU_mem   box_loss   cls_loss   dfl_loss  Instances       Size\n"
     ]
    },
    {
     "name": "stderr",
     "output_type": "stream",
     "text": [
      "     99/200     0.906G     0.7765     0.4016     0.8862         21        288: 100%|██████████| 81/81 [00:07<00:00, 10.\n",
      "                 Class     Images  Instances      Box(P          R      mAP50  mAP50-95): 100%|██████████| 12/12 [00:01"
     ]
    },
    {
     "name": "stdout",
     "output_type": "stream",
     "text": [
      "                   all        369        704      0.875       0.76      0.815      0.526\n"
     ]
    },
    {
     "name": "stderr",
     "output_type": "stream",
     "text": [
      "\n"
     ]
    },
    {
     "name": "stdout",
     "output_type": "stream",
     "text": [
      "\n",
      "      Epoch    GPU_mem   box_loss   cls_loss   dfl_loss  Instances       Size\n"
     ]
    },
    {
     "name": "stderr",
     "output_type": "stream",
     "text": [
      "    100/200     0.935G      0.763      0.399     0.8816         12        288: 100%|██████████| 81/81 [00:07<00:00, 10.\n",
      "                 Class     Images  Instances      Box(P          R      mAP50  mAP50-95): 100%|██████████| 12/12 [00:02"
     ]
    },
    {
     "name": "stdout",
     "output_type": "stream",
     "text": [
      "                   all        369        704      0.855      0.765      0.805      0.516\n"
     ]
    },
    {
     "name": "stderr",
     "output_type": "stream",
     "text": [
      "\n"
     ]
    },
    {
     "name": "stdout",
     "output_type": "stream",
     "text": [
      "\n",
      "      Epoch    GPU_mem   box_loss   cls_loss   dfl_loss  Instances       Size\n"
     ]
    },
    {
     "name": "stderr",
     "output_type": "stream",
     "text": [
      "    101/200     0.914G     0.7553     0.3947     0.8801         11        288: 100%|██████████| 81/81 [00:07<00:00, 10.\n",
      "                 Class     Images  Instances      Box(P          R      mAP50  mAP50-95): 100%|██████████| 12/12 [00:01"
     ]
    },
    {
     "name": "stdout",
     "output_type": "stream",
     "text": [
      "                   all        369        704      0.871      0.755      0.805      0.514\n"
     ]
    },
    {
     "name": "stderr",
     "output_type": "stream",
     "text": [
      "\n"
     ]
    },
    {
     "name": "stdout",
     "output_type": "stream",
     "text": [
      "\n",
      "      Epoch    GPU_mem   box_loss   cls_loss   dfl_loss  Instances       Size\n"
     ]
    },
    {
     "name": "stderr",
     "output_type": "stream",
     "text": [
      "    102/200     0.914G     0.7496     0.3931     0.8833         12        288: 100%|██████████| 81/81 [00:07<00:00, 10.\n",
      "                 Class     Images  Instances      Box(P          R      mAP50  mAP50-95): 100%|██████████| 12/12 [00:01"
     ]
    },
    {
     "name": "stdout",
     "output_type": "stream",
     "text": [
      "                   all        369        704      0.884      0.735      0.796      0.517\n"
     ]
    },
    {
     "name": "stderr",
     "output_type": "stream",
     "text": [
      "\n"
     ]
    },
    {
     "name": "stdout",
     "output_type": "stream",
     "text": [
      "\n",
      "      Epoch    GPU_mem   box_loss   cls_loss   dfl_loss  Instances       Size\n"
     ]
    },
    {
     "name": "stderr",
     "output_type": "stream",
     "text": [
      "    103/200     0.906G     0.7589     0.3929     0.8802         12        288: 100%|██████████| 81/81 [00:07<00:00, 10.\n",
      "                 Class     Images  Instances      Box(P          R      mAP50  mAP50-95): 100%|██████████| 12/12 [00:01"
     ]
    },
    {
     "name": "stdout",
     "output_type": "stream",
     "text": [
      "                   all        369        704      0.875      0.759      0.807      0.512\n"
     ]
    },
    {
     "name": "stderr",
     "output_type": "stream",
     "text": [
      "\n"
     ]
    },
    {
     "name": "stdout",
     "output_type": "stream",
     "text": [
      "\n",
      "      Epoch    GPU_mem   box_loss   cls_loss   dfl_loss  Instances       Size\n"
     ]
    },
    {
     "name": "stderr",
     "output_type": "stream",
     "text": [
      "    104/200     0.914G     0.7746     0.4031     0.8869         14        288: 100%|██████████| 81/81 [00:08<00:00,  9.\n",
      "                 Class     Images  Instances      Box(P          R      mAP50  mAP50-95): 100%|██████████| 12/12 [00:01"
     ]
    },
    {
     "name": "stdout",
     "output_type": "stream",
     "text": [
      "                   all        369        704       0.86      0.768      0.811      0.519\n"
     ]
    },
    {
     "name": "stderr",
     "output_type": "stream",
     "text": [
      "\n"
     ]
    },
    {
     "name": "stdout",
     "output_type": "stream",
     "text": [
      "\n",
      "      Epoch    GPU_mem   box_loss   cls_loss   dfl_loss  Instances       Size\n"
     ]
    },
    {
     "name": "stderr",
     "output_type": "stream",
     "text": [
      "    105/200     0.914G     0.7582     0.3952     0.8825         12        288: 100%|██████████| 81/81 [00:08<00:00,  9.\n",
      "                 Class     Images  Instances      Box(P          R      mAP50  mAP50-95): 100%|██████████| 12/12 [00:01"
     ]
    },
    {
     "name": "stdout",
     "output_type": "stream",
     "text": [
      "                   all        369        704       0.89      0.731      0.792      0.509\n"
     ]
    },
    {
     "name": "stderr",
     "output_type": "stream",
     "text": [
      "\n"
     ]
    },
    {
     "name": "stdout",
     "output_type": "stream",
     "text": [
      "\n",
      "      Epoch    GPU_mem   box_loss   cls_loss   dfl_loss  Instances       Size\n"
     ]
    },
    {
     "name": "stderr",
     "output_type": "stream",
     "text": [
      "    106/200     0.914G     0.7639     0.3958     0.8814         11        288: 100%|██████████| 81/81 [00:08<00:00, 10.\n",
      "                 Class     Images  Instances      Box(P          R      mAP50  mAP50-95): 100%|██████████| 12/12 [00:01"
     ]
    },
    {
     "name": "stdout",
     "output_type": "stream",
     "text": [
      "                   all        369        704      0.892      0.733      0.795      0.513\n"
     ]
    },
    {
     "name": "stderr",
     "output_type": "stream",
     "text": [
      "\n"
     ]
    },
    {
     "name": "stdout",
     "output_type": "stream",
     "text": [
      "\n",
      "      Epoch    GPU_mem   box_loss   cls_loss   dfl_loss  Instances       Size\n"
     ]
    },
    {
     "name": "stderr",
     "output_type": "stream",
     "text": [
      "    107/200     0.906G     0.7544     0.3865     0.8768         17        288: 100%|██████████| 81/81 [00:07<00:00, 10.\n",
      "                 Class     Images  Instances      Box(P          R      mAP50  mAP50-95): 100%|██████████| 12/12 [00:01"
     ]
    },
    {
     "name": "stdout",
     "output_type": "stream",
     "text": [
      "                   all        369        704      0.874      0.763      0.812      0.508\n"
     ]
    },
    {
     "name": "stderr",
     "output_type": "stream",
     "text": [
      "\n"
     ]
    },
    {
     "name": "stdout",
     "output_type": "stream",
     "text": [
      "\n",
      "      Epoch    GPU_mem   box_loss   cls_loss   dfl_loss  Instances       Size\n"
     ]
    },
    {
     "name": "stderr",
     "output_type": "stream",
     "text": [
      "    108/200     0.935G     0.7558     0.3884     0.8778         20        288: 100%|██████████| 81/81 [00:08<00:00,  9.\n",
      "                 Class     Images  Instances      Box(P          R      mAP50  mAP50-95): 100%|██████████| 12/12 [00:01"
     ]
    },
    {
     "name": "stdout",
     "output_type": "stream",
     "text": [
      "                   all        369        704      0.894       0.75      0.807      0.515\n"
     ]
    },
    {
     "name": "stderr",
     "output_type": "stream",
     "text": [
      "\n"
     ]
    },
    {
     "name": "stdout",
     "output_type": "stream",
     "text": [
      "\n",
      "      Epoch    GPU_mem   box_loss   cls_loss   dfl_loss  Instances       Size\n"
     ]
    },
    {
     "name": "stderr",
     "output_type": "stream",
     "text": [
      "    109/200     0.914G     0.7681     0.3935     0.8859         14        288: 100%|██████████| 81/81 [00:08<00:00, 10.\n",
      "                 Class     Images  Instances      Box(P          R      mAP50  mAP50-95): 100%|██████████| 12/12 [00:01"
     ]
    },
    {
     "name": "stdout",
     "output_type": "stream",
     "text": [
      "                   all        369        704      0.869      0.761       0.81      0.523\n"
     ]
    },
    {
     "name": "stderr",
     "output_type": "stream",
     "text": [
      "\n"
     ]
    },
    {
     "name": "stdout",
     "output_type": "stream",
     "text": [
      "\n",
      "      Epoch    GPU_mem   box_loss   cls_loss   dfl_loss  Instances       Size\n"
     ]
    },
    {
     "name": "stderr",
     "output_type": "stream",
     "text": [
      "    110/200     0.912G     0.7643     0.3935     0.8843         12        288: 100%|██████████| 81/81 [00:08<00:00,  9.\n",
      "                 Class     Images  Instances      Box(P          R      mAP50  mAP50-95): 100%|██████████| 12/12 [00:01"
     ]
    },
    {
     "name": "stdout",
     "output_type": "stream",
     "text": [
      "                   all        369        704      0.865      0.788      0.822      0.514\n"
     ]
    },
    {
     "name": "stderr",
     "output_type": "stream",
     "text": [
      "\n"
     ]
    },
    {
     "name": "stdout",
     "output_type": "stream",
     "text": [
      "\n",
      "      Epoch    GPU_mem   box_loss   cls_loss   dfl_loss  Instances       Size\n"
     ]
    },
    {
     "name": "stderr",
     "output_type": "stream",
     "text": [
      "    111/200     0.906G     0.7613     0.3883     0.8773         24        288: 100%|██████████| 81/81 [00:08<00:00,  9.\n",
      "                 Class     Images  Instances      Box(P          R      mAP50  mAP50-95): 100%|██████████| 12/12 [00:01"
     ]
    },
    {
     "name": "stdout",
     "output_type": "stream",
     "text": [
      "                   all        369        704      0.904       0.77       0.82      0.517\n"
     ]
    },
    {
     "name": "stderr",
     "output_type": "stream",
     "text": [
      "\n"
     ]
    },
    {
     "name": "stdout",
     "output_type": "stream",
     "text": [
      "\n",
      "      Epoch    GPU_mem   box_loss   cls_loss   dfl_loss  Instances       Size\n"
     ]
    },
    {
     "name": "stderr",
     "output_type": "stream",
     "text": [
      "    112/200     0.914G     0.7439     0.3882     0.8806         18        288: 100%|██████████| 81/81 [00:08<00:00,  9.\n",
      "                 Class     Images  Instances      Box(P          R      mAP50  mAP50-95): 100%|██████████| 12/12 [00:01"
     ]
    },
    {
     "name": "stdout",
     "output_type": "stream",
     "text": [
      "                   all        369        704      0.854      0.752        0.8      0.513\n"
     ]
    },
    {
     "name": "stderr",
     "output_type": "stream",
     "text": [
      "\n"
     ]
    },
    {
     "name": "stdout",
     "output_type": "stream",
     "text": [
      "\n",
      "      Epoch    GPU_mem   box_loss   cls_loss   dfl_loss  Instances       Size\n"
     ]
    },
    {
     "name": "stderr",
     "output_type": "stream",
     "text": [
      "    113/200     0.914G     0.7655     0.3959     0.8816         14        288: 100%|██████████| 81/81 [00:08<00:00,  9.\n",
      "                 Class     Images  Instances      Box(P          R      mAP50  mAP50-95): 100%|██████████| 12/12 [00:01"
     ]
    },
    {
     "name": "stdout",
     "output_type": "stream",
     "text": [
      "                   all        369        704      0.903      0.743      0.818      0.514\n"
     ]
    },
    {
     "name": "stderr",
     "output_type": "stream",
     "text": [
      "\n"
     ]
    },
    {
     "name": "stdout",
     "output_type": "stream",
     "text": [
      "\n",
      "      Epoch    GPU_mem   box_loss   cls_loss   dfl_loss  Instances       Size\n"
     ]
    },
    {
     "name": "stderr",
     "output_type": "stream",
     "text": [
      "    114/200     0.914G     0.7603     0.3901     0.8833         23        288: 100%|██████████| 81/81 [00:08<00:00, 10.\n",
      "                 Class     Images  Instances      Box(P          R      mAP50  mAP50-95): 100%|██████████| 12/12 [00:02"
     ]
    },
    {
     "name": "stdout",
     "output_type": "stream",
     "text": [
      "                   all        369        704      0.849      0.789      0.811      0.512\n"
     ]
    },
    {
     "name": "stderr",
     "output_type": "stream",
     "text": [
      "\n"
     ]
    },
    {
     "name": "stdout",
     "output_type": "stream",
     "text": [
      "\n",
      "      Epoch    GPU_mem   box_loss   cls_loss   dfl_loss  Instances       Size\n"
     ]
    },
    {
     "name": "stderr",
     "output_type": "stream",
     "text": [
      "    115/200     0.906G     0.7589     0.3874     0.8842          9        288: 100%|██████████| 81/81 [00:09<00:00,  8.\n",
      "                 Class     Images  Instances      Box(P          R      mAP50  mAP50-95): 100%|██████████| 12/12 [00:01"
     ]
    },
    {
     "name": "stdout",
     "output_type": "stream",
     "text": [
      "                   all        369        704      0.903      0.725      0.808      0.516\n"
     ]
    },
    {
     "name": "stderr",
     "output_type": "stream",
     "text": [
      "\n"
     ]
    },
    {
     "name": "stdout",
     "output_type": "stream",
     "text": [
      "\n",
      "      Epoch    GPU_mem   box_loss   cls_loss   dfl_loss  Instances       Size\n"
     ]
    },
    {
     "name": "stderr",
     "output_type": "stream",
     "text": [
      "    116/200     0.935G     0.7498     0.3869       0.88         18        288: 100%|██████████| 81/81 [00:08<00:00,  9.\n",
      "                 Class     Images  Instances      Box(P          R      mAP50  mAP50-95): 100%|██████████| 12/12 [00:02"
     ]
    },
    {
     "name": "stdout",
     "output_type": "stream",
     "text": [
      "                   all        369        704      0.851      0.785       0.82      0.522\n"
     ]
    },
    {
     "name": "stderr",
     "output_type": "stream",
     "text": [
      "\n"
     ]
    },
    {
     "name": "stdout",
     "output_type": "stream",
     "text": [
      "\n",
      "      Epoch    GPU_mem   box_loss   cls_loss   dfl_loss  Instances       Size\n"
     ]
    },
    {
     "name": "stderr",
     "output_type": "stream",
     "text": [
      "    117/200     0.914G     0.7589     0.3904     0.8802         20        288: 100%|██████████| 81/81 [00:07<00:00, 10.\n",
      "                 Class     Images  Instances      Box(P          R      mAP50  mAP50-95): 100%|██████████| 12/12 [00:01"
     ]
    },
    {
     "name": "stdout",
     "output_type": "stream",
     "text": [
      "                   all        369        704      0.875      0.766      0.817      0.513\n"
     ]
    },
    {
     "name": "stderr",
     "output_type": "stream",
     "text": [
      "\n"
     ]
    },
    {
     "name": "stdout",
     "output_type": "stream",
     "text": [
      "\n",
      "      Epoch    GPU_mem   box_loss   cls_loss   dfl_loss  Instances       Size\n"
     ]
    },
    {
     "name": "stderr",
     "output_type": "stream",
     "text": [
      "    118/200     0.914G     0.7481     0.3852     0.8783         11        288: 100%|██████████| 81/81 [00:07<00:00, 10.\n",
      "                 Class     Images  Instances      Box(P          R      mAP50  mAP50-95): 100%|██████████| 12/12 [00:01"
     ]
    },
    {
     "name": "stdout",
     "output_type": "stream",
     "text": [
      "                   all        369        704      0.891      0.761      0.818      0.527\n"
     ]
    },
    {
     "name": "stderr",
     "output_type": "stream",
     "text": [
      "\n"
     ]
    },
    {
     "name": "stdout",
     "output_type": "stream",
     "text": [
      "\n",
      "      Epoch    GPU_mem   box_loss   cls_loss   dfl_loss  Instances       Size\n"
     ]
    },
    {
     "name": "stderr",
     "output_type": "stream",
     "text": [
      "    119/200     0.906G     0.7398     0.3799     0.8767          9        288: 100%|██████████| 81/81 [00:07<00:00, 10.\n",
      "                 Class     Images  Instances      Box(P          R      mAP50  mAP50-95): 100%|██████████| 12/12 [00:01"
     ]
    },
    {
     "name": "stdout",
     "output_type": "stream",
     "text": [
      "                   all        369        704      0.869      0.773      0.815      0.524\n"
     ]
    },
    {
     "name": "stderr",
     "output_type": "stream",
     "text": [
      "\n"
     ]
    },
    {
     "name": "stdout",
     "output_type": "stream",
     "text": [
      "\n",
      "      Epoch    GPU_mem   box_loss   cls_loss   dfl_loss  Instances       Size\n"
     ]
    },
    {
     "name": "stderr",
     "output_type": "stream",
     "text": [
      "    120/200     0.914G     0.7491     0.3838     0.8827         15        288: 100%|██████████| 81/81 [00:07<00:00, 10.\n",
      "                 Class     Images  Instances      Box(P          R      mAP50  mAP50-95): 100%|██████████| 12/12 [00:01"
     ]
    },
    {
     "name": "stdout",
     "output_type": "stream",
     "text": [
      "                   all        369        704      0.899      0.769      0.815      0.513\n"
     ]
    },
    {
     "name": "stderr",
     "output_type": "stream",
     "text": [
      "\n"
     ]
    },
    {
     "name": "stdout",
     "output_type": "stream",
     "text": [
      "\n",
      "      Epoch    GPU_mem   box_loss   cls_loss   dfl_loss  Instances       Size\n"
     ]
    },
    {
     "name": "stderr",
     "output_type": "stream",
     "text": [
      "    121/200     0.914G     0.7517     0.3826      0.881         19        288: 100%|██████████| 81/81 [00:08<00:00, 10.\n",
      "                 Class     Images  Instances      Box(P          R      mAP50  mAP50-95): 100%|██████████| 12/12 [00:01"
     ]
    },
    {
     "name": "stdout",
     "output_type": "stream",
     "text": [
      "                   all        369        704      0.873      0.787       0.82      0.522\n"
     ]
    },
    {
     "name": "stderr",
     "output_type": "stream",
     "text": [
      "\n"
     ]
    },
    {
     "name": "stdout",
     "output_type": "stream",
     "text": [
      "\n",
      "      Epoch    GPU_mem   box_loss   cls_loss   dfl_loss  Instances       Size\n"
     ]
    },
    {
     "name": "stderr",
     "output_type": "stream",
     "text": [
      "    122/200     0.914G     0.7491     0.3934     0.8841         19        288: 100%|██████████| 81/81 [00:07<00:00, 10.\n",
      "                 Class     Images  Instances      Box(P          R      mAP50  mAP50-95): 100%|██████████| 12/12 [00:01"
     ]
    },
    {
     "name": "stdout",
     "output_type": "stream",
     "text": [
      "                   all        369        704      0.912      0.754      0.815      0.515\n"
     ]
    },
    {
     "name": "stderr",
     "output_type": "stream",
     "text": [
      "\n"
     ]
    },
    {
     "name": "stdout",
     "output_type": "stream",
     "text": [
      "\n",
      "      Epoch    GPU_mem   box_loss   cls_loss   dfl_loss  Instances       Size\n"
     ]
    },
    {
     "name": "stderr",
     "output_type": "stream",
     "text": [
      "    123/200     0.906G     0.7493     0.3847     0.8788          8        288: 100%|██████████| 81/81 [00:07<00:00, 10.\n",
      "                 Class     Images  Instances      Box(P          R      mAP50  mAP50-95): 100%|██████████| 12/12 [00:01"
     ]
    },
    {
     "name": "stdout",
     "output_type": "stream",
     "text": [
      "                   all        369        704      0.879      0.766      0.811      0.518\n"
     ]
    },
    {
     "name": "stderr",
     "output_type": "stream",
     "text": [
      "\n"
     ]
    },
    {
     "name": "stdout",
     "output_type": "stream",
     "text": [
      "\n",
      "      Epoch    GPU_mem   box_loss   cls_loss   dfl_loss  Instances       Size\n"
     ]
    },
    {
     "name": "stderr",
     "output_type": "stream",
     "text": [
      "    124/200     0.935G     0.7326     0.3768     0.8773         20        288: 100%|██████████| 81/81 [00:08<00:00,  9.\n",
      "                 Class     Images  Instances      Box(P          R      mAP50  mAP50-95): 100%|██████████| 12/12 [00:01"
     ]
    },
    {
     "name": "stdout",
     "output_type": "stream",
     "text": [
      "                   all        369        704      0.867       0.78      0.815      0.524\n"
     ]
    },
    {
     "name": "stderr",
     "output_type": "stream",
     "text": [
      "\n"
     ]
    },
    {
     "name": "stdout",
     "output_type": "stream",
     "text": [
      "\n",
      "      Epoch    GPU_mem   box_loss   cls_loss   dfl_loss  Instances       Size\n"
     ]
    },
    {
     "name": "stderr",
     "output_type": "stream",
     "text": [
      "    125/200     0.914G     0.7515     0.3813     0.8816         13        288: 100%|██████████| 81/81 [00:08<00:00,  9.\n",
      "                 Class     Images  Instances      Box(P          R      mAP50  mAP50-95): 100%|██████████| 12/12 [00:01"
     ]
    },
    {
     "name": "stdout",
     "output_type": "stream",
     "text": [
      "                   all        369        704      0.869      0.761      0.814      0.521\n"
     ]
    },
    {
     "name": "stderr",
     "output_type": "stream",
     "text": [
      "\n"
     ]
    },
    {
     "name": "stdout",
     "output_type": "stream",
     "text": [
      "\n",
      "      Epoch    GPU_mem   box_loss   cls_loss   dfl_loss  Instances       Size\n"
     ]
    },
    {
     "name": "stderr",
     "output_type": "stream",
     "text": [
      "    126/200     0.912G     0.7574     0.3832     0.8788         10        288: 100%|██████████| 81/81 [00:08<00:00,  9.\n",
      "                 Class     Images  Instances      Box(P          R      mAP50  mAP50-95): 100%|██████████| 12/12 [00:01"
     ]
    },
    {
     "name": "stdout",
     "output_type": "stream",
     "text": [
      "                   all        369        704      0.856      0.781      0.809      0.524\n"
     ]
    },
    {
     "name": "stderr",
     "output_type": "stream",
     "text": [
      "\n"
     ]
    },
    {
     "name": "stdout",
     "output_type": "stream",
     "text": [
      "\n",
      "      Epoch    GPU_mem   box_loss   cls_loss   dfl_loss  Instances       Size\n"
     ]
    },
    {
     "name": "stderr",
     "output_type": "stream",
     "text": [
      "    127/200     0.906G     0.7571     0.3904     0.8832         19        288: 100%|██████████| 81/81 [00:08<00:00, 10.\n",
      "                 Class     Images  Instances      Box(P          R      mAP50  mAP50-95): 100%|██████████| 12/12 [00:01"
     ]
    },
    {
     "name": "stdout",
     "output_type": "stream",
     "text": [
      "                   all        369        704      0.863      0.775      0.814      0.518\n"
     ]
    },
    {
     "name": "stderr",
     "output_type": "stream",
     "text": [
      "\n"
     ]
    },
    {
     "name": "stdout",
     "output_type": "stream",
     "text": [
      "\n",
      "      Epoch    GPU_mem   box_loss   cls_loss   dfl_loss  Instances       Size\n"
     ]
    },
    {
     "name": "stderr",
     "output_type": "stream",
     "text": [
      "    128/200     0.912G      0.747     0.3792     0.8825          5        288: 100%|██████████| 81/81 [00:08<00:00,  9.\n",
      "                 Class     Images  Instances      Box(P          R      mAP50  mAP50-95): 100%|██████████| 12/12 [00:02"
     ]
    },
    {
     "name": "stdout",
     "output_type": "stream",
     "text": [
      "                   all        369        704      0.871       0.76      0.802       0.51\n"
     ]
    },
    {
     "name": "stderr",
     "output_type": "stream",
     "text": [
      "\n"
     ]
    },
    {
     "name": "stdout",
     "output_type": "stream",
     "text": [
      "\n",
      "      Epoch    GPU_mem   box_loss   cls_loss   dfl_loss  Instances       Size\n"
     ]
    },
    {
     "name": "stderr",
     "output_type": "stream",
     "text": [
      "    129/200     0.914G     0.7514     0.3871     0.8764         11        288: 100%|██████████| 81/81 [00:08<00:00, 10.\n",
      "                 Class     Images  Instances      Box(P          R      mAP50  mAP50-95): 100%|██████████| 12/12 [00:01"
     ]
    },
    {
     "name": "stdout",
     "output_type": "stream",
     "text": [
      "                   all        369        704      0.856      0.779       0.81      0.514\n"
     ]
    },
    {
     "name": "stderr",
     "output_type": "stream",
     "text": [
      "\n"
     ]
    },
    {
     "name": "stdout",
     "output_type": "stream",
     "text": [
      "\n",
      "      Epoch    GPU_mem   box_loss   cls_loss   dfl_loss  Instances       Size\n"
     ]
    },
    {
     "name": "stderr",
     "output_type": "stream",
     "text": [
      "    130/200     0.914G     0.7425     0.3768     0.8779         22        288: 100%|██████████| 81/81 [00:08<00:00,  9.\n",
      "                 Class     Images  Instances      Box(P          R      mAP50  mAP50-95): 100%|██████████| 12/12 [00:02"
     ]
    },
    {
     "name": "stdout",
     "output_type": "stream",
     "text": [
      "                   all        369        704      0.876      0.777      0.811      0.524\n"
     ]
    },
    {
     "name": "stderr",
     "output_type": "stream",
     "text": [
      "\n"
     ]
    },
    {
     "name": "stdout",
     "output_type": "stream",
     "text": [
      "\n",
      "      Epoch    GPU_mem   box_loss   cls_loss   dfl_loss  Instances       Size\n"
     ]
    },
    {
     "name": "stderr",
     "output_type": "stream",
     "text": [
      "    131/200     0.906G     0.7462     0.3791     0.8833         28        288: 100%|██████████| 81/81 [00:08<00:00,  9.\n",
      "                 Class     Images  Instances      Box(P          R      mAP50  mAP50-95): 100%|██████████| 12/12 [00:01"
     ]
    },
    {
     "name": "stdout",
     "output_type": "stream",
     "text": [
      "                   all        369        704      0.867      0.781      0.808      0.522\n"
     ]
    },
    {
     "name": "stderr",
     "output_type": "stream",
     "text": [
      "\n"
     ]
    },
    {
     "name": "stdout",
     "output_type": "stream",
     "text": [
      "\n",
      "      Epoch    GPU_mem   box_loss   cls_loss   dfl_loss  Instances       Size\n"
     ]
    },
    {
     "name": "stderr",
     "output_type": "stream",
     "text": [
      "    132/200     0.935G      0.742     0.3804     0.8796         19        288: 100%|██████████| 81/81 [00:08<00:00,  9.\n",
      "                 Class     Images  Instances      Box(P          R      mAP50  mAP50-95): 100%|██████████| 12/12 [00:01"
     ]
    },
    {
     "name": "stdout",
     "output_type": "stream",
     "text": [
      "                   all        369        704      0.871      0.768      0.811      0.518\n"
     ]
    },
    {
     "name": "stderr",
     "output_type": "stream",
     "text": [
      "\n"
     ]
    },
    {
     "name": "stdout",
     "output_type": "stream",
     "text": [
      "\n",
      "      Epoch    GPU_mem   box_loss   cls_loss   dfl_loss  Instances       Size\n"
     ]
    },
    {
     "name": "stderr",
     "output_type": "stream",
     "text": [
      "    133/200     0.914G     0.7496     0.3821      0.879         13        288: 100%|██████████| 81/81 [00:08<00:00,  9.\n",
      "                 Class     Images  Instances      Box(P          R      mAP50  mAP50-95): 100%|██████████| 12/12 [00:01"
     ]
    },
    {
     "name": "stdout",
     "output_type": "stream",
     "text": [
      "                   all        369        704      0.882      0.758      0.814      0.518\n"
     ]
    },
    {
     "name": "stderr",
     "output_type": "stream",
     "text": [
      "\n"
     ]
    },
    {
     "name": "stdout",
     "output_type": "stream",
     "text": [
      "\n",
      "      Epoch    GPU_mem   box_loss   cls_loss   dfl_loss  Instances       Size\n"
     ]
    },
    {
     "name": "stderr",
     "output_type": "stream",
     "text": [
      "    134/200     0.914G     0.7265     0.3748     0.8782         13        288: 100%|██████████| 81/81 [00:08<00:00, 10.\n",
      "                 Class     Images  Instances      Box(P          R      mAP50  mAP50-95): 100%|██████████| 12/12 [00:01"
     ]
    },
    {
     "name": "stdout",
     "output_type": "stream",
     "text": [
      "                   all        369        704      0.829      0.793      0.812      0.516\n"
     ]
    },
    {
     "name": "stderr",
     "output_type": "stream",
     "text": [
      "\n"
     ]
    },
    {
     "name": "stdout",
     "output_type": "stream",
     "text": [
      "\n",
      "      Epoch    GPU_mem   box_loss   cls_loss   dfl_loss  Instances       Size\n"
     ]
    },
    {
     "name": "stderr",
     "output_type": "stream",
     "text": [
      "    135/200     0.906G     0.7486     0.3753     0.8812         14        288: 100%|██████████| 81/81 [00:08<00:00,  9.\n",
      "                 Class     Images  Instances      Box(P          R      mAP50  mAP50-95): 100%|██████████| 12/12 [00:01"
     ]
    },
    {
     "name": "stdout",
     "output_type": "stream",
     "text": [
      "                   all        369        704      0.897      0.743      0.815      0.526\n"
     ]
    },
    {
     "name": "stderr",
     "output_type": "stream",
     "text": [
      "\n"
     ]
    },
    {
     "name": "stdout",
     "output_type": "stream",
     "text": [
      "\n",
      "      Epoch    GPU_mem   box_loss   cls_loss   dfl_loss  Instances       Size\n"
     ]
    },
    {
     "name": "stderr",
     "output_type": "stream",
     "text": [
      "    136/200     0.914G     0.7443     0.3809     0.8746         13        288: 100%|██████████| 81/81 [00:08<00:00,  9.\n",
      "                 Class     Images  Instances      Box(P          R      mAP50  mAP50-95): 100%|██████████| 12/12 [00:01"
     ]
    },
    {
     "name": "stdout",
     "output_type": "stream",
     "text": [
      "                   all        369        704      0.849      0.749      0.797      0.513\n"
     ]
    },
    {
     "name": "stderr",
     "output_type": "stream",
     "text": [
      "\n"
     ]
    },
    {
     "name": "stdout",
     "output_type": "stream",
     "text": [
      "\n",
      "      Epoch    GPU_mem   box_loss   cls_loss   dfl_loss  Instances       Size\n"
     ]
    },
    {
     "name": "stderr",
     "output_type": "stream",
     "text": [
      "    137/200     0.914G     0.7513     0.3798     0.8794         11        288: 100%|██████████| 81/81 [00:08<00:00,  9.\n",
      "                 Class     Images  Instances      Box(P          R      mAP50  mAP50-95): 100%|██████████| 12/12 [00:01"
     ]
    },
    {
     "name": "stdout",
     "output_type": "stream",
     "text": [
      "                   all        369        704      0.899      0.744      0.805      0.523\n"
     ]
    },
    {
     "name": "stderr",
     "output_type": "stream",
     "text": [
      "\n"
     ]
    },
    {
     "name": "stdout",
     "output_type": "stream",
     "text": [
      "\n",
      "      Epoch    GPU_mem   box_loss   cls_loss   dfl_loss  Instances       Size\n"
     ]
    },
    {
     "name": "stderr",
     "output_type": "stream",
     "text": [
      "    138/200     0.914G     0.7319     0.3736     0.8727         14        288: 100%|██████████| 81/81 [00:08<00:00,  9.\n",
      "                 Class     Images  Instances      Box(P          R      mAP50  mAP50-95): 100%|██████████| 12/12 [00:01"
     ]
    },
    {
     "name": "stdout",
     "output_type": "stream",
     "text": [
      "                   all        369        704      0.884       0.76      0.814      0.517\n"
     ]
    },
    {
     "name": "stderr",
     "output_type": "stream",
     "text": [
      "\n"
     ]
    },
    {
     "name": "stdout",
     "output_type": "stream",
     "text": [
      "\n",
      "      Epoch    GPU_mem   box_loss   cls_loss   dfl_loss  Instances       Size\n"
     ]
    },
    {
     "name": "stderr",
     "output_type": "stream",
     "text": [
      "    139/200     0.906G     0.7485     0.3774     0.8805         21        288: 100%|██████████| 81/81 [00:08<00:00,  9.\n",
      "                 Class     Images  Instances      Box(P          R      mAP50  mAP50-95): 100%|██████████| 12/12 [00:01"
     ]
    },
    {
     "name": "stdout",
     "output_type": "stream",
     "text": [
      "                   all        369        704      0.901      0.759      0.824       0.53\n"
     ]
    },
    {
     "name": "stderr",
     "output_type": "stream",
     "text": [
      "\n"
     ]
    },
    {
     "name": "stdout",
     "output_type": "stream",
     "text": [
      "\n",
      "      Epoch    GPU_mem   box_loss   cls_loss   dfl_loss  Instances       Size\n"
     ]
    },
    {
     "name": "stderr",
     "output_type": "stream",
     "text": [
      "    140/200     0.935G      0.732     0.3748     0.8749         14        288: 100%|██████████| 81/81 [00:08<00:00,  9.\n",
      "                 Class     Images  Instances      Box(P          R      mAP50  mAP50-95): 100%|██████████| 12/12 [00:02"
     ]
    },
    {
     "name": "stdout",
     "output_type": "stream",
     "text": [
      "                   all        369        704      0.901      0.765      0.822      0.521\n"
     ]
    },
    {
     "name": "stderr",
     "output_type": "stream",
     "text": [
      "\n"
     ]
    },
    {
     "name": "stdout",
     "output_type": "stream",
     "text": [
      "\n",
      "      Epoch    GPU_mem   box_loss   cls_loss   dfl_loss  Instances       Size\n"
     ]
    },
    {
     "name": "stderr",
     "output_type": "stream",
     "text": [
      "    141/200     0.914G     0.7412     0.3723     0.8821         16        288: 100%|██████████| 81/81 [00:08<00:00,  9.\n",
      "                 Class     Images  Instances      Box(P          R      mAP50  mAP50-95): 100%|██████████| 12/12 [00:01"
     ]
    },
    {
     "name": "stdout",
     "output_type": "stream",
     "text": [
      "                   all        369        704      0.874      0.772      0.811      0.526\n"
     ]
    },
    {
     "name": "stderr",
     "output_type": "stream",
     "text": [
      "\n"
     ]
    },
    {
     "name": "stdout",
     "output_type": "stream",
     "text": [
      "\n",
      "      Epoch    GPU_mem   box_loss   cls_loss   dfl_loss  Instances       Size\n"
     ]
    },
    {
     "name": "stderr",
     "output_type": "stream",
     "text": [
      "    142/200     0.914G     0.7533     0.3733      0.882         24        288: 100%|██████████| 81/81 [00:09<00:00,  8.\n",
      "                 Class     Images  Instances      Box(P          R      mAP50  mAP50-95): 100%|██████████| 12/12 [00:02"
     ]
    },
    {
     "name": "stdout",
     "output_type": "stream",
     "text": [
      "                   all        369        704      0.872      0.782      0.819      0.525\n"
     ]
    },
    {
     "name": "stderr",
     "output_type": "stream",
     "text": [
      "\n"
     ]
    },
    {
     "name": "stdout",
     "output_type": "stream",
     "text": [
      "\n",
      "      Epoch    GPU_mem   box_loss   cls_loss   dfl_loss  Instances       Size\n"
     ]
    },
    {
     "name": "stderr",
     "output_type": "stream",
     "text": [
      "    143/200     0.906G      0.728     0.3714     0.8766         19        288: 100%|██████████| 81/81 [00:09<00:00,  8.\n",
      "                 Class     Images  Instances      Box(P          R      mAP50  mAP50-95): 100%|██████████| 12/12 [00:02"
     ]
    },
    {
     "name": "stdout",
     "output_type": "stream",
     "text": [
      "                   all        369        704      0.827      0.792      0.816      0.525\n"
     ]
    },
    {
     "name": "stderr",
     "output_type": "stream",
     "text": [
      "\n"
     ]
    },
    {
     "name": "stdout",
     "output_type": "stream",
     "text": [
      "\n",
      "      Epoch    GPU_mem   box_loss   cls_loss   dfl_loss  Instances       Size\n"
     ]
    },
    {
     "name": "stderr",
     "output_type": "stream",
     "text": [
      "    144/200     0.914G     0.7413     0.3752     0.8775         11        288: 100%|██████████| 81/81 [00:09<00:00,  8.\n",
      "                 Class     Images  Instances      Box(P          R      mAP50  mAP50-95): 100%|██████████| 12/12 [00:01"
     ]
    },
    {
     "name": "stdout",
     "output_type": "stream",
     "text": [
      "                   all        369        704      0.878       0.77      0.815      0.525\n"
     ]
    },
    {
     "name": "stderr",
     "output_type": "stream",
     "text": [
      "\n"
     ]
    },
    {
     "name": "stdout",
     "output_type": "stream",
     "text": [
      "\n",
      "      Epoch    GPU_mem   box_loss   cls_loss   dfl_loss  Instances       Size\n"
     ]
    },
    {
     "name": "stderr",
     "output_type": "stream",
     "text": [
      "    145/200     0.914G     0.7327     0.3661     0.8786         19        288: 100%|██████████| 81/81 [00:08<00:00,  9.\n",
      "                 Class     Images  Instances      Box(P          R      mAP50  mAP50-95): 100%|██████████| 12/12 [00:02"
     ]
    },
    {
     "name": "stdout",
     "output_type": "stream",
     "text": [
      "                   all        369        704      0.869      0.774      0.815      0.527\n"
     ]
    },
    {
     "name": "stderr",
     "output_type": "stream",
     "text": [
      "\n"
     ]
    },
    {
     "name": "stdout",
     "output_type": "stream",
     "text": [
      "\n",
      "      Epoch    GPU_mem   box_loss   cls_loss   dfl_loss  Instances       Size\n"
     ]
    },
    {
     "name": "stderr",
     "output_type": "stream",
     "text": [
      "    146/200     0.914G     0.7372      0.369     0.8759         14        288: 100%|██████████| 81/81 [00:08<00:00,  9.\n",
      "                 Class     Images  Instances      Box(P          R      mAP50  mAP50-95): 100%|██████████| 12/12 [00:02"
     ]
    },
    {
     "name": "stdout",
     "output_type": "stream",
     "text": [
      "                   all        369        704      0.913      0.755      0.821      0.528\n"
     ]
    },
    {
     "name": "stderr",
     "output_type": "stream",
     "text": [
      "\n"
     ]
    },
    {
     "name": "stdout",
     "output_type": "stream",
     "text": [
      "\n",
      "      Epoch    GPU_mem   box_loss   cls_loss   dfl_loss  Instances       Size\n"
     ]
    },
    {
     "name": "stderr",
     "output_type": "stream",
     "text": [
      "    147/200     0.906G     0.7408     0.3716     0.8769         18        288: 100%|██████████| 81/81 [00:09<00:00,  8.\n",
      "                 Class     Images  Instances      Box(P          R      mAP50  mAP50-95): 100%|██████████| 12/12 [00:01"
     ]
    },
    {
     "name": "stdout",
     "output_type": "stream",
     "text": [
      "                   all        369        704       0.89      0.774      0.821      0.524\n"
     ]
    },
    {
     "name": "stderr",
     "output_type": "stream",
     "text": [
      "\n"
     ]
    },
    {
     "name": "stdout",
     "output_type": "stream",
     "text": [
      "\n",
      "      Epoch    GPU_mem   box_loss   cls_loss   dfl_loss  Instances       Size\n"
     ]
    },
    {
     "name": "stderr",
     "output_type": "stream",
     "text": [
      "    148/200     0.935G     0.7305      0.373     0.8757         12        288: 100%|██████████| 81/81 [00:07<00:00, 10.\n",
      "                 Class     Images  Instances      Box(P          R      mAP50  mAP50-95): 100%|██████████| 12/12 [00:01"
     ]
    },
    {
     "name": "stdout",
     "output_type": "stream",
     "text": [
      "                   all        369        704      0.886      0.749      0.813      0.525\n"
     ]
    },
    {
     "name": "stderr",
     "output_type": "stream",
     "text": [
      "\n"
     ]
    },
    {
     "name": "stdout",
     "output_type": "stream",
     "text": [
      "\n",
      "      Epoch    GPU_mem   box_loss   cls_loss   dfl_loss  Instances       Size\n"
     ]
    },
    {
     "name": "stderr",
     "output_type": "stream",
     "text": [
      "    149/200     0.914G     0.7274     0.3683      0.877         19        288: 100%|██████████| 81/81 [00:08<00:00,  9.\n",
      "                 Class     Images  Instances      Box(P          R      mAP50  mAP50-95): 100%|██████████| 12/12 [00:01"
     ]
    },
    {
     "name": "stdout",
     "output_type": "stream",
     "text": [
      "                   all        369        704      0.884      0.742      0.807      0.522\n"
     ]
    },
    {
     "name": "stderr",
     "output_type": "stream",
     "text": [
      "\n"
     ]
    },
    {
     "name": "stdout",
     "output_type": "stream",
     "text": [
      "\n",
      "      Epoch    GPU_mem   box_loss   cls_loss   dfl_loss  Instances       Size\n"
     ]
    },
    {
     "name": "stderr",
     "output_type": "stream",
     "text": [
      "    150/200     0.914G     0.7243     0.3663     0.8775         22        288: 100%|██████████| 81/81 [00:08<00:00,  9.\n",
      "                 Class     Images  Instances      Box(P          R      mAP50  mAP50-95): 100%|██████████| 12/12 [00:01"
     ]
    },
    {
     "name": "stdout",
     "output_type": "stream",
     "text": [
      "                   all        369        704      0.911      0.739      0.816      0.526\n"
     ]
    },
    {
     "name": "stderr",
     "output_type": "stream",
     "text": [
      "\n"
     ]
    },
    {
     "name": "stdout",
     "output_type": "stream",
     "text": [
      "\n",
      "      Epoch    GPU_mem   box_loss   cls_loss   dfl_loss  Instances       Size\n"
     ]
    },
    {
     "name": "stderr",
     "output_type": "stream",
     "text": [
      "    151/200     0.906G     0.7377     0.3713     0.8784         16        288: 100%|██████████| 81/81 [00:07<00:00, 10.\n",
      "                 Class     Images  Instances      Box(P          R      mAP50  mAP50-95): 100%|██████████| 12/12 [00:01"
     ]
    },
    {
     "name": "stdout",
     "output_type": "stream",
     "text": [
      "                   all        369        704      0.897      0.758      0.809      0.518\n"
     ]
    },
    {
     "name": "stderr",
     "output_type": "stream",
     "text": [
      "\n"
     ]
    },
    {
     "name": "stdout",
     "output_type": "stream",
     "text": [
      "\n",
      "      Epoch    GPU_mem   box_loss   cls_loss   dfl_loss  Instances       Size\n"
     ]
    },
    {
     "name": "stderr",
     "output_type": "stream",
     "text": [
      "    152/200     0.914G     0.7246     0.3624     0.8703         16        288: 100%|██████████| 81/81 [00:07<00:00, 10.\n",
      "                 Class     Images  Instances      Box(P          R      mAP50  mAP50-95): 100%|██████████| 12/12 [00:01"
     ]
    },
    {
     "name": "stdout",
     "output_type": "stream",
     "text": [
      "                   all        369        704      0.857      0.759      0.812      0.529\n"
     ]
    },
    {
     "name": "stderr",
     "output_type": "stream",
     "text": [
      "\n"
     ]
    },
    {
     "name": "stdout",
     "output_type": "stream",
     "text": [
      "\n",
      "      Epoch    GPU_mem   box_loss   cls_loss   dfl_loss  Instances       Size\n"
     ]
    },
    {
     "name": "stderr",
     "output_type": "stream",
     "text": [
      "    153/200     0.914G     0.7308     0.3711     0.8728         25        288: 100%|██████████| 81/81 [00:08<00:00,  9.\n",
      "                 Class     Images  Instances      Box(P          R      mAP50  mAP50-95): 100%|██████████| 12/12 [00:01"
     ]
    },
    {
     "name": "stdout",
     "output_type": "stream",
     "text": [
      "                   all        369        704      0.861      0.775      0.825      0.532\n"
     ]
    },
    {
     "name": "stderr",
     "output_type": "stream",
     "text": [
      "\n"
     ]
    },
    {
     "name": "stdout",
     "output_type": "stream",
     "text": [
      "\n",
      "      Epoch    GPU_mem   box_loss   cls_loss   dfl_loss  Instances       Size\n"
     ]
    },
    {
     "name": "stderr",
     "output_type": "stream",
     "text": [
      "    154/200     0.914G     0.7221     0.3646     0.8774         17        288: 100%|██████████| 81/81 [00:08<00:00,  9.\n",
      "                 Class     Images  Instances      Box(P          R      mAP50  mAP50-95): 100%|██████████| 12/12 [00:01"
     ]
    },
    {
     "name": "stdout",
     "output_type": "stream",
     "text": [
      "                   all        369        704      0.887      0.771      0.829      0.531\n"
     ]
    },
    {
     "name": "stderr",
     "output_type": "stream",
     "text": [
      "\n"
     ]
    },
    {
     "name": "stdout",
     "output_type": "stream",
     "text": [
      "\n",
      "      Epoch    GPU_mem   box_loss   cls_loss   dfl_loss  Instances       Size\n"
     ]
    },
    {
     "name": "stderr",
     "output_type": "stream",
     "text": [
      "    155/200     0.906G     0.7304     0.3695     0.8759         16        288: 100%|██████████| 81/81 [00:08<00:00,  9.\n",
      "                 Class     Images  Instances      Box(P          R      mAP50  mAP50-95): 100%|██████████| 12/12 [00:01"
     ]
    },
    {
     "name": "stdout",
     "output_type": "stream",
     "text": [
      "                   all        369        704      0.894      0.774       0.82      0.533\n"
     ]
    },
    {
     "name": "stderr",
     "output_type": "stream",
     "text": [
      "\n"
     ]
    },
    {
     "name": "stdout",
     "output_type": "stream",
     "text": [
      "\n",
      "      Epoch    GPU_mem   box_loss   cls_loss   dfl_loss  Instances       Size\n"
     ]
    },
    {
     "name": "stderr",
     "output_type": "stream",
     "text": [
      "    156/200     0.935G     0.7318     0.3673      0.874         22        288: 100%|██████████| 81/81 [00:08<00:00,  9.\n",
      "                 Class     Images  Instances      Box(P          R      mAP50  mAP50-95): 100%|██████████| 12/12 [00:01"
     ]
    },
    {
     "name": "stdout",
     "output_type": "stream",
     "text": [
      "                   all        369        704      0.922      0.758      0.827      0.528\n"
     ]
    },
    {
     "name": "stderr",
     "output_type": "stream",
     "text": [
      "\n"
     ]
    },
    {
     "name": "stdout",
     "output_type": "stream",
     "text": [
      "\n",
      "      Epoch    GPU_mem   box_loss   cls_loss   dfl_loss  Instances       Size\n"
     ]
    },
    {
     "name": "stderr",
     "output_type": "stream",
     "text": [
      "    157/200     0.914G     0.7214      0.361     0.8711         20        288: 100%|██████████| 81/81 [00:08<00:00,  9.\n",
      "                 Class     Images  Instances      Box(P          R      mAP50  mAP50-95): 100%|██████████| 12/12 [00:01"
     ]
    },
    {
     "name": "stdout",
     "output_type": "stream",
     "text": [
      "                   all        369        704      0.867      0.785      0.827      0.532\n"
     ]
    },
    {
     "name": "stderr",
     "output_type": "stream",
     "text": [
      "\n"
     ]
    },
    {
     "name": "stdout",
     "output_type": "stream",
     "text": [
      "\n",
      "      Epoch    GPU_mem   box_loss   cls_loss   dfl_loss  Instances       Size\n"
     ]
    },
    {
     "name": "stderr",
     "output_type": "stream",
     "text": [
      "    158/200     0.914G     0.7381       0.37     0.8753         22        288: 100%|██████████| 81/81 [00:08<00:00,  9.\n",
      "                 Class     Images  Instances      Box(P          R      mAP50  mAP50-95): 100%|██████████| 12/12 [00:01"
     ]
    },
    {
     "name": "stdout",
     "output_type": "stream",
     "text": [
      "                   all        369        704       0.89      0.755      0.822      0.526\n"
     ]
    },
    {
     "name": "stderr",
     "output_type": "stream",
     "text": [
      "\n"
     ]
    },
    {
     "name": "stdout",
     "output_type": "stream",
     "text": [
      "\n",
      "      Epoch    GPU_mem   box_loss   cls_loss   dfl_loss  Instances       Size\n"
     ]
    },
    {
     "name": "stderr",
     "output_type": "stream",
     "text": [
      "    159/200     0.906G     0.7184     0.3583     0.8747         11        288: 100%|██████████| 81/81 [00:08<00:00,  9.\n",
      "                 Class     Images  Instances      Box(P          R      mAP50  mAP50-95): 100%|██████████| 12/12 [00:01"
     ]
    },
    {
     "name": "stdout",
     "output_type": "stream",
     "text": [
      "                   all        369        704        0.9       0.76      0.826      0.531\n"
     ]
    },
    {
     "name": "stderr",
     "output_type": "stream",
     "text": [
      "\n"
     ]
    },
    {
     "name": "stdout",
     "output_type": "stream",
     "text": [
      "\n",
      "      Epoch    GPU_mem   box_loss   cls_loss   dfl_loss  Instances       Size\n"
     ]
    },
    {
     "name": "stderr",
     "output_type": "stream",
     "text": [
      "    160/200     0.914G     0.7211     0.3616     0.8749         15        288: 100%|██████████| 81/81 [00:08<00:00,  9.\n",
      "                 Class     Images  Instances      Box(P          R      mAP50  mAP50-95): 100%|██████████| 12/12 [00:01"
     ]
    },
    {
     "name": "stdout",
     "output_type": "stream",
     "text": [
      "                   all        369        704      0.873      0.771      0.816      0.525\n"
     ]
    },
    {
     "name": "stderr",
     "output_type": "stream",
     "text": [
      "\n"
     ]
    },
    {
     "name": "stdout",
     "output_type": "stream",
     "text": [
      "\n",
      "      Epoch    GPU_mem   box_loss   cls_loss   dfl_loss  Instances       Size\n"
     ]
    },
    {
     "name": "stderr",
     "output_type": "stream",
     "text": [
      "    161/200     0.914G     0.7255     0.3625       0.87         20        288: 100%|██████████| 81/81 [00:08<00:00,  9.\n",
      "                 Class     Images  Instances      Box(P          R      mAP50  mAP50-95): 100%|██████████| 12/12 [00:01"
     ]
    },
    {
     "name": "stdout",
     "output_type": "stream",
     "text": [
      "                   all        369        704      0.878      0.772      0.819       0.53\n"
     ]
    },
    {
     "name": "stderr",
     "output_type": "stream",
     "text": [
      "\n"
     ]
    },
    {
     "name": "stdout",
     "output_type": "stream",
     "text": [
      "\n",
      "      Epoch    GPU_mem   box_loss   cls_loss   dfl_loss  Instances       Size\n"
     ]
    },
    {
     "name": "stderr",
     "output_type": "stream",
     "text": [
      "    162/200     0.914G     0.7169     0.3544      0.873          9        288: 100%|██████████| 81/81 [00:09<00:00,  8.\n",
      "                 Class     Images  Instances      Box(P          R      mAP50  mAP50-95): 100%|██████████| 12/12 [00:01"
     ]
    },
    {
     "name": "stdout",
     "output_type": "stream",
     "text": [
      "                   all        369        704      0.878       0.77      0.819      0.526\n"
     ]
    },
    {
     "name": "stderr",
     "output_type": "stream",
     "text": [
      "\n"
     ]
    },
    {
     "name": "stdout",
     "output_type": "stream",
     "text": [
      "\n",
      "      Epoch    GPU_mem   box_loss   cls_loss   dfl_loss  Instances       Size\n"
     ]
    },
    {
     "name": "stderr",
     "output_type": "stream",
     "text": [
      "    163/200     0.906G     0.7175     0.3584     0.8733         13        288: 100%|██████████| 81/81 [00:08<00:00,  9.\n",
      "                 Class     Images  Instances      Box(P          R      mAP50  mAP50-95): 100%|██████████| 12/12 [00:01"
     ]
    },
    {
     "name": "stdout",
     "output_type": "stream",
     "text": [
      "                   all        369        704      0.919      0.745      0.815      0.522\n"
     ]
    },
    {
     "name": "stderr",
     "output_type": "stream",
     "text": [
      "\n"
     ]
    },
    {
     "name": "stdout",
     "output_type": "stream",
     "text": [
      "\n",
      "      Epoch    GPU_mem   box_loss   cls_loss   dfl_loss  Instances       Size\n"
     ]
    },
    {
     "name": "stderr",
     "output_type": "stream",
     "text": [
      "    164/200     0.935G     0.6937     0.3575     0.8671         27        288: 100%|██████████| 81/81 [00:08<00:00,  9.\n",
      "                 Class     Images  Instances      Box(P          R      mAP50  mAP50-95): 100%|██████████| 12/12 [00:01"
     ]
    },
    {
     "name": "stdout",
     "output_type": "stream",
     "text": [
      "                   all        369        704      0.866       0.76       0.81      0.524\n"
     ]
    },
    {
     "name": "stderr",
     "output_type": "stream",
     "text": [
      "\n"
     ]
    },
    {
     "name": "stdout",
     "output_type": "stream",
     "text": [
      "\n",
      "      Epoch    GPU_mem   box_loss   cls_loss   dfl_loss  Instances       Size\n"
     ]
    },
    {
     "name": "stderr",
     "output_type": "stream",
     "text": [
      "    165/200     0.914G     0.7312     0.3649     0.8725         17        288: 100%|██████████| 81/81 [00:08<00:00,  9.\n",
      "                 Class     Images  Instances      Box(P          R      mAP50  mAP50-95): 100%|██████████| 12/12 [00:01"
     ]
    },
    {
     "name": "stdout",
     "output_type": "stream",
     "text": [
      "                   all        369        704      0.884      0.758      0.817      0.522\n"
     ]
    },
    {
     "name": "stderr",
     "output_type": "stream",
     "text": [
      "\n"
     ]
    },
    {
     "name": "stdout",
     "output_type": "stream",
     "text": [
      "\n",
      "      Epoch    GPU_mem   box_loss   cls_loss   dfl_loss  Instances       Size\n"
     ]
    },
    {
     "name": "stderr",
     "output_type": "stream",
     "text": [
      "    166/200     0.914G     0.7098     0.3537     0.8735         16        288: 100%|██████████| 81/81 [00:08<00:00,  9.\n",
      "                 Class     Images  Instances      Box(P          R      mAP50  mAP50-95): 100%|██████████| 12/12 [00:01"
     ]
    },
    {
     "name": "stdout",
     "output_type": "stream",
     "text": [
      "                   all        369        704      0.899      0.762      0.822      0.521\n"
     ]
    },
    {
     "name": "stderr",
     "output_type": "stream",
     "text": [
      "\n"
     ]
    },
    {
     "name": "stdout",
     "output_type": "stream",
     "text": [
      "\n",
      "      Epoch    GPU_mem   box_loss   cls_loss   dfl_loss  Instances       Size\n"
     ]
    },
    {
     "name": "stderr",
     "output_type": "stream",
     "text": [
      "    167/200     0.906G     0.7013     0.3496     0.8686         12        288: 100%|██████████| 81/81 [00:07<00:00, 10.\n",
      "                 Class     Images  Instances      Box(P          R      mAP50  mAP50-95): 100%|██████████| 12/12 [00:01"
     ]
    },
    {
     "name": "stdout",
     "output_type": "stream",
     "text": [
      "                   all        369        704       0.89      0.752      0.818      0.529\n"
     ]
    },
    {
     "name": "stderr",
     "output_type": "stream",
     "text": [
      "\n"
     ]
    },
    {
     "name": "stdout",
     "output_type": "stream",
     "text": [
      "\n",
      "      Epoch    GPU_mem   box_loss   cls_loss   dfl_loss  Instances       Size\n"
     ]
    },
    {
     "name": "stderr",
     "output_type": "stream",
     "text": [
      "    168/200     0.914G     0.7232     0.3614     0.8701         12        288: 100%|██████████| 81/81 [00:07<00:00, 10.\n",
      "                 Class     Images  Instances      Box(P          R      mAP50  mAP50-95): 100%|██████████| 12/12 [00:01"
     ]
    },
    {
     "name": "stdout",
     "output_type": "stream",
     "text": [
      "                   all        369        704      0.911       0.75      0.821      0.524\n"
     ]
    },
    {
     "name": "stderr",
     "output_type": "stream",
     "text": [
      "\n"
     ]
    },
    {
     "name": "stdout",
     "output_type": "stream",
     "text": [
      "\n",
      "      Epoch    GPU_mem   box_loss   cls_loss   dfl_loss  Instances       Size\n"
     ]
    },
    {
     "name": "stderr",
     "output_type": "stream",
     "text": [
      "    169/200     0.912G     0.7249     0.3572     0.8746          7        288: 100%|██████████| 81/81 [00:08<00:00,  9.\n",
      "                 Class     Images  Instances      Box(P          R      mAP50  mAP50-95): 100%|██████████| 12/12 [00:01"
     ]
    },
    {
     "name": "stdout",
     "output_type": "stream",
     "text": [
      "                   all        369        704      0.901      0.756      0.823      0.527\n"
     ]
    },
    {
     "name": "stderr",
     "output_type": "stream",
     "text": [
      "\n"
     ]
    },
    {
     "name": "stdout",
     "output_type": "stream",
     "text": [
      "\n",
      "      Epoch    GPU_mem   box_loss   cls_loss   dfl_loss  Instances       Size\n"
     ]
    },
    {
     "name": "stderr",
     "output_type": "stream",
     "text": [
      "    170/200     0.914G     0.7149     0.3538     0.8698         13        288: 100%|██████████| 81/81 [00:08<00:00,  9.\n",
      "                 Class     Images  Instances      Box(P          R      mAP50  mAP50-95): 100%|██████████| 12/12 [00:01"
     ]
    },
    {
     "name": "stdout",
     "output_type": "stream",
     "text": [
      "                   all        369        704      0.891      0.751      0.811      0.523\n"
     ]
    },
    {
     "name": "stderr",
     "output_type": "stream",
     "text": [
      "\n"
     ]
    },
    {
     "name": "stdout",
     "output_type": "stream",
     "text": [
      "\n",
      "      Epoch    GPU_mem   box_loss   cls_loss   dfl_loss  Instances       Size\n"
     ]
    },
    {
     "name": "stderr",
     "output_type": "stream",
     "text": [
      "    171/200     0.906G     0.7063     0.3566     0.8697         16        288: 100%|██████████| 81/81 [00:07<00:00, 10.\n",
      "                 Class     Images  Instances      Box(P          R      mAP50  mAP50-95): 100%|██████████| 12/12 [00:01"
     ]
    },
    {
     "name": "stdout",
     "output_type": "stream",
     "text": [
      "                   all        369        704      0.921      0.739      0.805      0.522\n"
     ]
    },
    {
     "name": "stderr",
     "output_type": "stream",
     "text": [
      "\n"
     ]
    },
    {
     "name": "stdout",
     "output_type": "stream",
     "text": [
      "\n",
      "      Epoch    GPU_mem   box_loss   cls_loss   dfl_loss  Instances       Size\n"
     ]
    },
    {
     "name": "stderr",
     "output_type": "stream",
     "text": [
      "    172/200     0.937G     0.7126     0.3573     0.8676         13        288: 100%|██████████| 81/81 [00:07<00:00, 10.\n",
      "                 Class     Images  Instances      Box(P          R      mAP50  mAP50-95): 100%|██████████| 12/12 [00:01"
     ]
    },
    {
     "name": "stdout",
     "output_type": "stream",
     "text": [
      "                   all        369        704      0.916      0.749      0.819      0.521\n"
     ]
    },
    {
     "name": "stderr",
     "output_type": "stream",
     "text": [
      "\n"
     ]
    },
    {
     "name": "stdout",
     "output_type": "stream",
     "text": [
      "\n",
      "      Epoch    GPU_mem   box_loss   cls_loss   dfl_loss  Instances       Size\n"
     ]
    },
    {
     "name": "stderr",
     "output_type": "stream",
     "text": [
      "    173/200     0.914G     0.7211     0.3512      0.874         17        288: 100%|██████████| 81/81 [00:07<00:00, 10.\n",
      "                 Class     Images  Instances      Box(P          R      mAP50  mAP50-95): 100%|██████████| 12/12 [00:01"
     ]
    },
    {
     "name": "stdout",
     "output_type": "stream",
     "text": [
      "                   all        369        704      0.854      0.786      0.828      0.528\n"
     ]
    },
    {
     "name": "stderr",
     "output_type": "stream",
     "text": [
      "\n"
     ]
    },
    {
     "name": "stdout",
     "output_type": "stream",
     "text": [
      "\n",
      "      Epoch    GPU_mem   box_loss   cls_loss   dfl_loss  Instances       Size\n"
     ]
    },
    {
     "name": "stderr",
     "output_type": "stream",
     "text": [
      "    174/200     0.914G     0.7032     0.3496     0.8692         15        288: 100%|██████████| 81/81 [00:07<00:00, 10.\n",
      "                 Class     Images  Instances      Box(P          R      mAP50  mAP50-95): 100%|██████████| 12/12 [00:01"
     ]
    },
    {
     "name": "stdout",
     "output_type": "stream",
     "text": [
      "                   all        369        704      0.906      0.744      0.821      0.528\n"
     ]
    },
    {
     "name": "stderr",
     "output_type": "stream",
     "text": [
      "\n"
     ]
    },
    {
     "name": "stdout",
     "output_type": "stream",
     "text": [
      "\n",
      "      Epoch    GPU_mem   box_loss   cls_loss   dfl_loss  Instances       Size\n"
     ]
    },
    {
     "name": "stderr",
     "output_type": "stream",
     "text": [
      "    175/200     0.906G     0.7098     0.3501     0.8724         16        288: 100%|██████████| 81/81 [00:07<00:00, 10.\n",
      "                 Class     Images  Instances      Box(P          R      mAP50  mAP50-95): 100%|██████████| 12/12 [00:01"
     ]
    },
    {
     "name": "stdout",
     "output_type": "stream",
     "text": [
      "                   all        369        704      0.888      0.769      0.823      0.529\n"
     ]
    },
    {
     "name": "stderr",
     "output_type": "stream",
     "text": [
      "\n"
     ]
    },
    {
     "name": "stdout",
     "output_type": "stream",
     "text": [
      "\n",
      "      Epoch    GPU_mem   box_loss   cls_loss   dfl_loss  Instances       Size\n"
     ]
    },
    {
     "name": "stderr",
     "output_type": "stream",
     "text": [
      "    176/200     0.914G     0.7258     0.3566     0.8738          6        288: 100%|██████████| 81/81 [00:07<00:00, 10.\n",
      "                 Class     Images  Instances      Box(P          R      mAP50  mAP50-95): 100%|██████████| 12/12 [00:01"
     ]
    },
    {
     "name": "stdout",
     "output_type": "stream",
     "text": [
      "                   all        369        704      0.911      0.749      0.816      0.529\n"
     ]
    },
    {
     "name": "stderr",
     "output_type": "stream",
     "text": [
      "\n"
     ]
    },
    {
     "name": "stdout",
     "output_type": "stream",
     "text": [
      "\n",
      "      Epoch    GPU_mem   box_loss   cls_loss   dfl_loss  Instances       Size\n"
     ]
    },
    {
     "name": "stderr",
     "output_type": "stream",
     "text": [
      "    177/200     0.914G     0.7039     0.3516     0.8711         12        288: 100%|██████████| 81/81 [00:08<00:00, 10.\n",
      "                 Class     Images  Instances      Box(P          R      mAP50  mAP50-95): 100%|██████████| 12/12 [00:01"
     ]
    },
    {
     "name": "stdout",
     "output_type": "stream",
     "text": [
      "                   all        369        704      0.913      0.747      0.816      0.529\n"
     ]
    },
    {
     "name": "stderr",
     "output_type": "stream",
     "text": [
      "\n"
     ]
    },
    {
     "name": "stdout",
     "output_type": "stream",
     "text": [
      "\n",
      "      Epoch    GPU_mem   box_loss   cls_loss   dfl_loss  Instances       Size\n"
     ]
    },
    {
     "name": "stderr",
     "output_type": "stream",
     "text": [
      "    178/200     0.914G     0.7143     0.3526     0.8729         11        288: 100%|██████████| 81/81 [00:07<00:00, 10.\n",
      "                 Class     Images  Instances      Box(P          R      mAP50  mAP50-95): 100%|██████████| 12/12 [00:01"
     ]
    },
    {
     "name": "stdout",
     "output_type": "stream",
     "text": [
      "                   all        369        704      0.896      0.762      0.825      0.529\n"
     ]
    },
    {
     "name": "stderr",
     "output_type": "stream",
     "text": [
      "\n"
     ]
    },
    {
     "name": "stdout",
     "output_type": "stream",
     "text": [
      "\n",
      "      Epoch    GPU_mem   box_loss   cls_loss   dfl_loss  Instances       Size\n"
     ]
    },
    {
     "name": "stderr",
     "output_type": "stream",
     "text": [
      "    179/200     0.906G     0.7096     0.3532      0.873         16        288: 100%|██████████| 81/81 [00:07<00:00, 10.\n",
      "                 Class     Images  Instances      Box(P          R      mAP50  mAP50-95): 100%|██████████| 12/12 [00:01"
     ]
    },
    {
     "name": "stdout",
     "output_type": "stream",
     "text": [
      "                   all        369        704      0.909      0.742      0.816      0.524\n"
     ]
    },
    {
     "name": "stderr",
     "output_type": "stream",
     "text": [
      "\n"
     ]
    },
    {
     "name": "stdout",
     "output_type": "stream",
     "text": [
      "\n",
      "      Epoch    GPU_mem   box_loss   cls_loss   dfl_loss  Instances       Size\n"
     ]
    },
    {
     "name": "stderr",
     "output_type": "stream",
     "text": [
      "    180/200     0.935G     0.7053      0.352     0.8693         16        288: 100%|██████████| 81/81 [00:07<00:00, 10.\n",
      "                 Class     Images  Instances      Box(P          R      mAP50  mAP50-95): 100%|██████████| 12/12 [00:01"
     ]
    },
    {
     "name": "stdout",
     "output_type": "stream",
     "text": [
      "                   all        369        704      0.858      0.772      0.813      0.526\n"
     ]
    },
    {
     "name": "stderr",
     "output_type": "stream",
     "text": [
      "\n"
     ]
    },
    {
     "name": "stdout",
     "output_type": "stream",
     "text": [
      "\n",
      "      Epoch    GPU_mem   box_loss   cls_loss   dfl_loss  Instances       Size\n"
     ]
    },
    {
     "name": "stderr",
     "output_type": "stream",
     "text": [
      "    181/200     0.914G      0.689     0.3462     0.8665         12        288: 100%|██████████| 81/81 [00:08<00:00,  9.\n",
      "                 Class     Images  Instances      Box(P          R      mAP50  mAP50-95): 100%|██████████| 12/12 [00:01"
     ]
    },
    {
     "name": "stdout",
     "output_type": "stream",
     "text": [
      "                   all        369        704      0.882      0.775      0.822      0.526\n"
     ]
    },
    {
     "name": "stderr",
     "output_type": "stream",
     "text": [
      "\n"
     ]
    },
    {
     "name": "stdout",
     "output_type": "stream",
     "text": [
      "\n",
      "      Epoch    GPU_mem   box_loss   cls_loss   dfl_loss  Instances       Size\n"
     ]
    },
    {
     "name": "stderr",
     "output_type": "stream",
     "text": [
      "    182/200     0.914G      0.705     0.3515      0.875         15        288: 100%|██████████| 81/81 [00:07<00:00, 10.\n",
      "                 Class     Images  Instances      Box(P          R      mAP50  mAP50-95): 100%|██████████| 12/12 [00:01"
     ]
    },
    {
     "name": "stdout",
     "output_type": "stream",
     "text": [
      "                   all        369        704      0.876      0.777      0.819       0.53\n"
     ]
    },
    {
     "name": "stderr",
     "output_type": "stream",
     "text": [
      "\n"
     ]
    },
    {
     "name": "stdout",
     "output_type": "stream",
     "text": [
      "\n",
      "      Epoch    GPU_mem   box_loss   cls_loss   dfl_loss  Instances       Size\n"
     ]
    },
    {
     "name": "stderr",
     "output_type": "stream",
     "text": [
      "    183/200     0.906G     0.7009     0.3457      0.874         14        288: 100%|██████████| 81/81 [00:07<00:00, 10.\n",
      "                 Class     Images  Instances      Box(P          R      mAP50  mAP50-95): 100%|██████████| 12/12 [00:01"
     ]
    },
    {
     "name": "stdout",
     "output_type": "stream",
     "text": [
      "                   all        369        704      0.869      0.767       0.82      0.527\n"
     ]
    },
    {
     "name": "stderr",
     "output_type": "stream",
     "text": [
      "\n"
     ]
    },
    {
     "name": "stdout",
     "output_type": "stream",
     "text": [
      "\n",
      "      Epoch    GPU_mem   box_loss   cls_loss   dfl_loss  Instances       Size\n"
     ]
    },
    {
     "name": "stderr",
     "output_type": "stream",
     "text": [
      "    184/200     0.914G     0.7036     0.3431     0.8699         16        288: 100%|██████████| 81/81 [00:07<00:00, 10.\n",
      "                 Class     Images  Instances      Box(P          R      mAP50  mAP50-95): 100%|██████████| 12/12 [00:01"
     ]
    },
    {
     "name": "stdout",
     "output_type": "stream",
     "text": [
      "                   all        369        704      0.918      0.753      0.826      0.531\n"
     ]
    },
    {
     "name": "stderr",
     "output_type": "stream",
     "text": [
      "\n"
     ]
    },
    {
     "name": "stdout",
     "output_type": "stream",
     "text": [
      "\n",
      "      Epoch    GPU_mem   box_loss   cls_loss   dfl_loss  Instances       Size\n"
     ]
    },
    {
     "name": "stderr",
     "output_type": "stream",
     "text": [
      "    185/200     0.914G     0.7061     0.3501     0.8722         14        288: 100%|██████████| 81/81 [00:07<00:00, 10.\n",
      "                 Class     Images  Instances      Box(P          R      mAP50  mAP50-95): 100%|██████████| 12/12 [00:01"
     ]
    },
    {
     "name": "stdout",
     "output_type": "stream",
     "text": [
      "                   all        369        704      0.905       0.76       0.83      0.526\n"
     ]
    },
    {
     "name": "stderr",
     "output_type": "stream",
     "text": [
      "\n"
     ]
    },
    {
     "name": "stdout",
     "output_type": "stream",
     "text": [
      "\n",
      "      Epoch    GPU_mem   box_loss   cls_loss   dfl_loss  Instances       Size\n"
     ]
    },
    {
     "name": "stderr",
     "output_type": "stream",
     "text": [
      "    186/200     0.914G     0.6978     0.3498     0.8732         15        288: 100%|██████████| 81/81 [00:07<00:00, 10.\n",
      "                 Class     Images  Instances      Box(P          R      mAP50  mAP50-95): 100%|██████████| 12/12 [00:01"
     ]
    },
    {
     "name": "stdout",
     "output_type": "stream",
     "text": [
      "                   all        369        704      0.895      0.759      0.822      0.524\n"
     ]
    },
    {
     "name": "stderr",
     "output_type": "stream",
     "text": [
      "\n"
     ]
    },
    {
     "name": "stdout",
     "output_type": "stream",
     "text": [
      "\n",
      "      Epoch    GPU_mem   box_loss   cls_loss   dfl_loss  Instances       Size\n"
     ]
    },
    {
     "name": "stderr",
     "output_type": "stream",
     "text": [
      "    187/200     0.906G     0.7027     0.3504     0.8708         12        288: 100%|██████████| 81/81 [00:08<00:00,  9.\n",
      "                 Class     Images  Instances      Box(P          R      mAP50  mAP50-95): 100%|██████████| 12/12 [00:01"
     ]
    },
    {
     "name": "stdout",
     "output_type": "stream",
     "text": [
      "                   all        369        704      0.878      0.773       0.82      0.522\n"
     ]
    },
    {
     "name": "stderr",
     "output_type": "stream",
     "text": [
      "\n"
     ]
    },
    {
     "name": "stdout",
     "output_type": "stream",
     "text": [
      "\n",
      "      Epoch    GPU_mem   box_loss   cls_loss   dfl_loss  Instances       Size\n"
     ]
    },
    {
     "name": "stderr",
     "output_type": "stream",
     "text": [
      "    188/200     0.933G     0.6997     0.3525     0.8719         10        288: 100%|██████████| 81/81 [00:09<00:00,  8.\n",
      "                 Class     Images  Instances      Box(P          R      mAP50  mAP50-95): 100%|██████████| 12/12 [00:01"
     ]
    },
    {
     "name": "stdout",
     "output_type": "stream",
     "text": [
      "                   all        369        704      0.916      0.753      0.823      0.524\n"
     ]
    },
    {
     "name": "stderr",
     "output_type": "stream",
     "text": [
      "\n"
     ]
    },
    {
     "name": "stdout",
     "output_type": "stream",
     "text": [
      "\n",
      "      Epoch    GPU_mem   box_loss   cls_loss   dfl_loss  Instances       Size\n"
     ]
    },
    {
     "name": "stderr",
     "output_type": "stream",
     "text": [
      "    189/200     0.912G     0.6991     0.3433     0.8694         11        288: 100%|██████████| 81/81 [00:08<00:00,  9.\n",
      "                 Class     Images  Instances      Box(P          R      mAP50  mAP50-95): 100%|██████████| 12/12 [00:02"
     ]
    },
    {
     "name": "stdout",
     "output_type": "stream",
     "text": [
      "                   all        369        704      0.893      0.753      0.822      0.522\n"
     ]
    },
    {
     "name": "stderr",
     "output_type": "stream",
     "text": [
      "\n"
     ]
    },
    {
     "name": "stdout",
     "output_type": "stream",
     "text": [
      "\n",
      "      Epoch    GPU_mem   box_loss   cls_loss   dfl_loss  Instances       Size\n"
     ]
    },
    {
     "name": "stderr",
     "output_type": "stream",
     "text": [
      "    190/200     0.914G     0.7085     0.3467     0.8679         23        288: 100%|██████████| 81/81 [00:08<00:00,  9.\n",
      "                 Class     Images  Instances      Box(P          R      mAP50  mAP50-95): 100%|██████████| 12/12 [00:01"
     ]
    },
    {
     "name": "stdout",
     "output_type": "stream",
     "text": [
      "                   all        369        704      0.921      0.757       0.83       0.53\n"
     ]
    },
    {
     "name": "stderr",
     "output_type": "stream",
     "text": [
      "\n"
     ]
    },
    {
     "name": "stdout",
     "output_type": "stream",
     "text": [
      "Closing dataloader mosaic\n",
      "\n",
      "      Epoch    GPU_mem   box_loss   cls_loss   dfl_loss  Instances       Size\n"
     ]
    },
    {
     "name": "stderr",
     "output_type": "stream",
     "text": [
      "    191/200     0.904G      0.722     0.3382      0.843         12        288: 100%|██████████| 81/81 [00:08<00:00, 10.\n",
      "                 Class     Images  Instances      Box(P          R      mAP50  mAP50-95): 100%|██████████| 12/12 [00:01"
     ]
    },
    {
     "name": "stdout",
     "output_type": "stream",
     "text": [
      "                   all        369        704      0.906      0.754      0.815      0.521\n"
     ]
    },
    {
     "name": "stderr",
     "output_type": "stream",
     "text": [
      "\n"
     ]
    },
    {
     "name": "stdout",
     "output_type": "stream",
     "text": [
      "\n",
      "      Epoch    GPU_mem   box_loss   cls_loss   dfl_loss  Instances       Size\n"
     ]
    },
    {
     "name": "stderr",
     "output_type": "stream",
     "text": [
      "    192/200     0.914G     0.7172     0.3378     0.8417         10        288: 100%|██████████| 81/81 [00:07<00:00, 10.\n",
      "                 Class     Images  Instances      Box(P          R      mAP50  mAP50-95): 100%|██████████| 12/12 [00:02"
     ]
    },
    {
     "name": "stdout",
     "output_type": "stream",
     "text": [
      "                   all        369        704      0.896      0.758      0.807      0.516\n"
     ]
    },
    {
     "name": "stderr",
     "output_type": "stream",
     "text": [
      "\n"
     ]
    },
    {
     "name": "stdout",
     "output_type": "stream",
     "text": [
      "\n",
      "      Epoch    GPU_mem   box_loss   cls_loss   dfl_loss  Instances       Size\n"
     ]
    },
    {
     "name": "stderr",
     "output_type": "stream",
     "text": [
      "    193/200     0.914G     0.7166     0.3384     0.8418         14        288: 100%|██████████| 81/81 [00:08<00:00,  9.\n",
      "                 Class     Images  Instances      Box(P          R      mAP50  mAP50-95): 100%|██████████| 12/12 [00:01"
     ]
    },
    {
     "name": "stdout",
     "output_type": "stream",
     "text": [
      "                   all        369        704      0.899       0.75      0.811      0.521\n"
     ]
    },
    {
     "name": "stderr",
     "output_type": "stream",
     "text": [
      "\n"
     ]
    },
    {
     "name": "stdout",
     "output_type": "stream",
     "text": [
      "\n",
      "      Epoch    GPU_mem   box_loss   cls_loss   dfl_loss  Instances       Size\n"
     ]
    },
    {
     "name": "stderr",
     "output_type": "stream",
     "text": [
      "    194/200     0.912G      0.714     0.3363     0.8381          9        288: 100%|██████████| 81/81 [00:07<00:00, 10.\n",
      "                 Class     Images  Instances      Box(P          R      mAP50  mAP50-95): 100%|██████████| 12/12 [00:01"
     ]
    },
    {
     "name": "stdout",
     "output_type": "stream",
     "text": [
      "                   all        369        704      0.877      0.776      0.813      0.518\n"
     ]
    },
    {
     "name": "stderr",
     "output_type": "stream",
     "text": [
      "\n"
     ]
    },
    {
     "name": "stdout",
     "output_type": "stream",
     "text": [
      "\n",
      "      Epoch    GPU_mem   box_loss   cls_loss   dfl_loss  Instances       Size\n"
     ]
    },
    {
     "name": "stderr",
     "output_type": "stream",
     "text": [
      "    195/200     0.904G     0.7177     0.3388     0.8427         10        288: 100%|██████████| 81/81 [00:07<00:00, 10.\n",
      "                 Class     Images  Instances      Box(P          R      mAP50  mAP50-95): 100%|██████████| 12/12 [00:01"
     ]
    },
    {
     "name": "stdout",
     "output_type": "stream",
     "text": [
      "                   all        369        704      0.866      0.768      0.816      0.521\n"
     ]
    },
    {
     "name": "stderr",
     "output_type": "stream",
     "text": [
      "\n"
     ]
    },
    {
     "name": "stdout",
     "output_type": "stream",
     "text": [
      "\n",
      "      Epoch    GPU_mem   box_loss   cls_loss   dfl_loss  Instances       Size\n"
     ]
    },
    {
     "name": "stderr",
     "output_type": "stream",
     "text": [
      "    196/200     0.933G     0.7103     0.3287     0.8394          8        288: 100%|██████████| 81/81 [00:08<00:00,  9.\n",
      "                 Class     Images  Instances      Box(P          R      mAP50  mAP50-95): 100%|██████████| 12/12 [00:01"
     ]
    },
    {
     "name": "stdout",
     "output_type": "stream",
     "text": [
      "                   all        369        704      0.867      0.773      0.812      0.525\n"
     ]
    },
    {
     "name": "stderr",
     "output_type": "stream",
     "text": [
      "\n"
     ]
    },
    {
     "name": "stdout",
     "output_type": "stream",
     "text": [
      "\n",
      "      Epoch    GPU_mem   box_loss   cls_loss   dfl_loss  Instances       Size\n"
     ]
    },
    {
     "name": "stderr",
     "output_type": "stream",
     "text": [
      "    197/200     0.912G      0.714     0.3347     0.8419         10        288: 100%|██████████| 81/81 [00:07<00:00, 10.\n",
      "                 Class     Images  Instances      Box(P          R      mAP50  mAP50-95): 100%|██████████| 12/12 [00:01"
     ]
    },
    {
     "name": "stdout",
     "output_type": "stream",
     "text": [
      "                   all        369        704      0.862      0.768      0.811      0.522\n"
     ]
    },
    {
     "name": "stderr",
     "output_type": "stream",
     "text": [
      "\n"
     ]
    },
    {
     "name": "stdout",
     "output_type": "stream",
     "text": [
      "\n",
      "      Epoch    GPU_mem   box_loss   cls_loss   dfl_loss  Instances       Size\n"
     ]
    },
    {
     "name": "stderr",
     "output_type": "stream",
     "text": [
      "    198/200     0.912G     0.7029     0.3334     0.8384         10        288: 100%|██████████| 81/81 [00:08<00:00,  9.\n",
      "                 Class     Images  Instances      Box(P          R      mAP50  mAP50-95): 100%|██████████| 12/12 [00:01"
     ]
    },
    {
     "name": "stdout",
     "output_type": "stream",
     "text": [
      "                   all        369        704      0.868      0.775      0.819      0.519\n"
     ]
    },
    {
     "name": "stderr",
     "output_type": "stream",
     "text": [
      "\n"
     ]
    },
    {
     "name": "stdout",
     "output_type": "stream",
     "text": [
      "\n",
      "      Epoch    GPU_mem   box_loss   cls_loss   dfl_loss  Instances       Size\n"
     ]
    },
    {
     "name": "stderr",
     "output_type": "stream",
     "text": [
      "    199/200     0.906G     0.7085     0.3341     0.8384          8        288: 100%|██████████| 81/81 [00:08<00:00, 10.\n",
      "                 Class     Images  Instances      Box(P          R      mAP50  mAP50-95): 100%|██████████| 12/12 [00:01"
     ]
    },
    {
     "name": "stdout",
     "output_type": "stream",
     "text": [
      "                   all        369        704      0.919      0.749      0.821      0.524\n"
     ]
    },
    {
     "name": "stderr",
     "output_type": "stream",
     "text": [
      "\n"
     ]
    },
    {
     "name": "stdout",
     "output_type": "stream",
     "text": [
      "\n",
      "      Epoch    GPU_mem   box_loss   cls_loss   dfl_loss  Instances       Size\n"
     ]
    },
    {
     "name": "stderr",
     "output_type": "stream",
     "text": [
      "    200/200     0.912G     0.7023     0.3267     0.8303         10        288: 100%|██████████| 81/81 [00:08<00:00, 10.\n",
      "                 Class     Images  Instances      Box(P          R      mAP50  mAP50-95): 100%|██████████| 12/12 [00:01"
     ]
    },
    {
     "name": "stdout",
     "output_type": "stream",
     "text": [
      "                   all        369        704      0.893      0.759      0.817      0.521\n"
     ]
    },
    {
     "name": "stderr",
     "output_type": "stream",
     "text": [
      "\n"
     ]
    },
    {
     "name": "stdout",
     "output_type": "stream",
     "text": [
      "\n",
      "200 epochs completed in 0.584 hours.\n",
      "Optimizer stripped from runs\\detect\\train31\\weights\\last.pt, 6.2MB\n",
      "Optimizer stripped from runs\\detect\\train31\\weights\\best.pt, 6.2MB\n",
      "\n",
      "Validating runs\\detect\\train31\\weights\\best.pt...\n",
      "Ultralytics YOLOv8.2.69  Python-3.8.19 torch-2.1.0 CUDA:0 (NVIDIA GeForce RTX 3050 Ti Laptop GPU, 4096MiB)\n",
      "Model summary (fused): 168 layers, 3,006,233 parameters, 0 gradients, 8.1 GFLOPs\n"
     ]
    },
    {
     "name": "stderr",
     "output_type": "stream",
     "text": [
      "                 Class     Images  Instances      Box(P          R      mAP50  mAP50-95): 100%|██████████| 12/12 [00:02\n"
     ]
    },
    {
     "name": "stdout",
     "output_type": "stream",
     "text": [
      "                   all        369        704      0.894      0.774       0.82      0.532\n",
      "               Battery        367        369      0.992      0.995      0.991      0.875\n",
      "               Damaged        105        126      0.796      0.682      0.738      0.364\n",
      "             Pollution        170        209      0.895      0.646      0.731      0.358\n",
      "Speed: 0.2ms preprocess, 1.0ms inference, 0.0ms loss, 1.5ms postprocess per image\n",
      "Results saved to \u001b[1mruns\\detect\\train31\u001b[0m\n"
     ]
    },
    {
     "data": {
      "text/html": [
       "<style>\n",
       "    table.wandb td:nth-child(1) { padding: 0 10px; text-align: left ; width: auto;} td:nth-child(2) {text-align: left ; width: 100%}\n",
       "    .wandb-row { display: flex; flex-direction: row; flex-wrap: wrap; justify-content: flex-start; width: 100% }\n",
       "    .wandb-col { display: flex; flex-direction: column; flex-basis: 100%; flex: 1; padding: 10px; }\n",
       "    </style>\n",
       "<div class=\"wandb-row\"><div class=\"wandb-col\"><h3>Run history:</h3><br/><table class=\"wandb\"><tr><td>lr/pg0</td><td>█▁▁▁▁▁▁▁▁▁▁▁▁▁▁▁▁▁▁▁▁▁▁▁▁▁▁▁▁▁▁▁▁▁▁▁▁▁▁▁</td></tr><tr><td>lr/pg1</td><td>▅███▇▇▇▇▇▇▆▆▆▆▆▅▅▅▅▅▅▄▄▄▄▄▃▃▃▃▃▃▂▂▂▂▂▁▁▁</td></tr><tr><td>lr/pg2</td><td>▅███▇▇▇▇▇▇▆▆▆▆▆▅▅▅▅▅▅▄▄▄▄▄▃▃▃▃▃▃▂▂▂▂▂▁▁▁</td></tr><tr><td>metrics/mAP50(B)</td><td>▁▅▆▆▆▆▇▇▇▇▇▇▇▇█▇▇▇▇▇▇▇▇██▇██████████████</td></tr><tr><td>metrics/mAP50-95(B)</td><td>▁▃▄▅▅▆▆▆▆▆▆▆▇▇▇▇▇▇█▇▇▇▇█▇▇▇▇██████████▇█</td></tr><tr><td>metrics/precision(B)</td><td>▁▅▇▅▇▇███▆▇▇▇▆▇▇▇▆█▆▇▇▇▇█▇▆▇▇▇▇▇▇█████▇▇</td></tr><tr><td>metrics/recall(B)</td><td>▁▃▄▄▅▅▆▆▅▆▆▆▆▆▇▆▆█▆▇▆▆▇▇▇▇█▇▇▆▇▇▇▆▆▇▇▇▇▇</td></tr><tr><td>model/GFLOPs</td><td>▁</td></tr><tr><td>model/parameters</td><td>▁</td></tr><tr><td>model/speed_PyTorch(ms)</td><td>▁</td></tr><tr><td>train/box_loss</td><td>█▆▆▆▅▅▄▄▄▄▄▄▃▄▃▃▃▃▃▃▂▃▂▂▂▂▂▂▂▂▂▂▁▂▁▂▁▁▂▁</td></tr><tr><td>train/cls_loss</td><td>█▆▅▅▄▄▃▃▃▃▃▃▃▃▃▃▃▂▃▂▂▂▂▂▂▂▂▂▂▂▂▂▂▂▁▂▁▂▁▁</td></tr><tr><td>train/dfl_loss</td><td>█▇▆▆▆▆▅▅▅▅▅▅▅▅▅▅▅▅▅▄▄▄▄▄▅▄▄▄▄▄▄▄▃▄▄▄▄▄▂▁</td></tr><tr><td>val/box_loss</td><td>██▇▇▅▅▅▆▅▄▄▄▃▃▂▄▄▂▁▂▂▃▂▁▃▂▂▂▁▁▁▂▁▂▂▂▂▂▂▂</td></tr><tr><td>val/cls_loss</td><td>█▆▄▅▄▄▃▃▃▃▃▃▂▃▂▃▂▂▂▂▂▂▂▂▂▂▂▁▁▁▁▁▁▁▁▁▁▁▁▁</td></tr><tr><td>val/dfl_loss</td><td>▇▆▇█▃▅▄▅▄▃▄▃▃▃▃▃▃▂▂▂▂▂▁▁▄▃▂▂▂▁▂▁▁▂▁▂▂▂▂▂</td></tr></table><br/></div><div class=\"wandb-col\"><h3>Run summary:</h3><br/><table class=\"wandb\"><tr><td>lr/pg0</td><td>0.0001</td></tr><tr><td>lr/pg1</td><td>0.0001</td></tr><tr><td>lr/pg2</td><td>0.0001</td></tr><tr><td>metrics/mAP50(B)</td><td>0.81996</td></tr><tr><td>metrics/mAP50-95(B)</td><td>0.53232</td></tr><tr><td>metrics/precision(B)</td><td>0.89433</td></tr><tr><td>metrics/recall(B)</td><td>0.77432</td></tr><tr><td>model/GFLOPs</td><td>8.196</td></tr><tr><td>model/parameters</td><td>3011433</td></tr><tr><td>model/speed_PyTorch(ms)</td><td>0.737</td></tr><tr><td>train/box_loss</td><td>0.7023</td></tr><tr><td>train/cls_loss</td><td>0.32672</td></tr><tr><td>train/dfl_loss</td><td>0.83032</td></tr><tr><td>val/box_loss</td><td>0.78888</td></tr><tr><td>val/cls_loss</td><td>0.36798</td></tr><tr><td>val/dfl_loss</td><td>0.8487</td></tr></table><br/></div></div>"
      ],
      "text/plain": [
       "<IPython.core.display.HTML object>"
      ]
     },
     "metadata": {},
     "output_type": "display_data"
    },
    {
     "data": {
      "text/html": [
       " View run <strong style=\"color:#cdcd00\">test29</strong> at: <a href='https://wandb.ai/lhb0126-kyonggi-university/yolo-evaluation/runs/rybhzfnz' target=\"_blank\">https://wandb.ai/lhb0126-kyonggi-university/yolo-evaluation/runs/rybhzfnz</a><br/> View project at: <a href='https://wandb.ai/lhb0126-kyonggi-university/yolo-evaluation' target=\"_blank\">https://wandb.ai/lhb0126-kyonggi-university/yolo-evaluation</a><br/>Synced 6 W&B file(s), 24 media file(s), 5 artifact file(s) and 0 other file(s)"
      ],
      "text/plain": [
       "<IPython.core.display.HTML object>"
      ]
     },
     "metadata": {},
     "output_type": "display_data"
    },
    {
     "data": {
      "text/html": [
       "Find logs at: <code>.\\wandb\\run-20240802_142919-rybhzfnz\\logs</code>"
      ],
      "text/plain": [
       "<IPython.core.display.HTML object>"
      ]
     },
     "metadata": {},
     "output_type": "display_data"
    },
    {
     "data": {
      "text/html": [
       "The new W&B backend becomes opt-out in version 0.18.0; try it out with `wandb.require(\"core\")`! See https://wandb.me/wandb-core for more information."
      ],
      "text/plain": [
       "<IPython.core.display.HTML object>"
      ]
     },
     "metadata": {},
     "output_type": "display_data"
    },
    {
     "name": "stdout",
     "output_type": "stream",
     "text": [
      "모델 학습이 완료되었습니다.\n"
     ]
    }
   ],
   "source": [
    "########################### 파인튜닝 코드 #############################\n",
    "\n",
    "\n",
    "from ultralytics import YOLO\n",
    "import yaml\n",
    "\n",
    "# 1. YOLOv8 모델 로드 (사전 학습된 모델 사용)\n",
    "model = YOLO('yolov8n.pt')  # YOLOv8의 다양한 버전 중 하나 선택 (예: yolov8s.pt, yolov8m.pt 등)\n",
    "\n",
    "# 2. 데이터셋 설정 파일 경로\n",
    "data_config = 'C:/Users/lenovo/smartfactory/YOLO_dataset_only_new/data.yaml'\n",
    "\n",
    "# 3. 모델 학습\n",
    "model.train(data=data_config, epochs=200, imgsz=270, \n",
    "            batch=16,  # 배치 사이즈 조정 (GPU 메모리에 따라 설정)\n",
    "            lr0=0.001,  # 초기 학습률\n",
    "            lrf=0.1,   # 최종 학습률 비율\n",
    "            momentum=0.9,  # 모멘텀\n",
    "            optimizer=\"AdamW\" \n",
    "            #weight_decay=0.0005,  # 가중치 감소\n",
    "            #save_period=1,  # 모델 저장 주기\n",
    "            #workers=4,  # 데이터 로딩을 위한 워커 수\n",
    "            #freeze=2   # 특정 레이어를 고정하여 학습 (0: 모든 레이어, 1: 백본 고정, 2: 백본 + FPN 고정)\n",
    "           )  \n",
    "\n",
    "print(\"모델 학습이 완료되었습니다.\")\n"
   ]
  },
  {
   "cell_type": "code",
   "execution_count": 10,
   "id": "8d7a8ecd-a24a-40ac-afad-8ea6214f580d",
   "metadata": {},
   "outputs": [
    {
     "name": "stdout",
     "output_type": "stream",
     "text": [
      "\n",
      "image 1/1 C:\\Users\\lenovo\\smartfactory\\YOLO_dataset_renewal\\test\\images\\battery_img_002_3.jpg: 288x288 1 Battery, 17.1ms\n",
      "Speed: 2.9ms preprocess, 17.1ms inference, 2.0ms postprocess per image at shape (1, 3, 288, 288)\n",
      "\n",
      "image 1/1 C:\\Users\\lenovo\\smartfactory\\YOLO_dataset_renewal\\test\\images\\battery_img_003_1.jpg: 224x288 1 Battery, 1 Pollution, 19.0ms\n",
      "Speed: 4.0ms preprocess, 19.0ms inference, 2.0ms postprocess per image at shape (1, 3, 224, 288)\n",
      "\n",
      "image 1/1 C:\\Users\\lenovo\\smartfactory\\YOLO_dataset_renewal\\test\\images\\battery_img_003_3.jpg: 224x288 1 Battery, 1 Pollution, 16.0ms\n",
      "Speed: 1.9ms preprocess, 16.0ms inference, 3.0ms postprocess per image at shape (1, 3, 224, 288)\n",
      "\n",
      "image 1/1 C:\\Users\\lenovo\\smartfactory\\YOLO_dataset_renewal\\test\\images\\battery_img_004_2.jpg: 224x288 1 Battery, 1 Damaged, 16.0ms\n",
      "Speed: 2.0ms preprocess, 16.0ms inference, 6.0ms postprocess per image at shape (1, 3, 224, 288)\n",
      "\n",
      "image 1/1 C:\\Users\\lenovo\\smartfactory\\YOLO_dataset_renewal\\test\\images\\battery_img_006_2.jpg: 288x288 1 Battery, 1 Damaged, 18.0ms\n",
      "Speed: 3.0ms preprocess, 18.0ms inference, 3.0ms postprocess per image at shape (1, 3, 288, 288)\n",
      "\n",
      "image 1/1 C:\\Users\\lenovo\\smartfactory\\YOLO_dataset_renewal\\test\\images\\battery_img_008_2.jpg: 288x288 1 Battery, 4 Damageds, 19.0ms\n",
      "Speed: 3.0ms preprocess, 19.0ms inference, 3.0ms postprocess per image at shape (1, 3, 288, 288)\n",
      "\n",
      "image 1/1 C:\\Users\\lenovo\\smartfactory\\YOLO_dataset_renewal\\test\\images\\battery_img_008_6.jpg: 224x288 1 Battery, 19.0ms\n",
      "Speed: 3.0ms preprocess, 19.0ms inference, 3.0ms postprocess per image at shape (1, 3, 224, 288)\n",
      "\n",
      "image 1/1 C:\\Users\\lenovo\\smartfactory\\YOLO_dataset_renewal\\test\\images\\battery_img_011_2.jpg: 288x288 1 Battery, 1 Damaged, 20.0ms\n",
      "Speed: 2.0ms preprocess, 20.0ms inference, 3.0ms postprocess per image at shape (1, 3, 288, 288)\n",
      "\n",
      "image 1/1 C:\\Users\\lenovo\\smartfactory\\YOLO_dataset_renewal\\test\\images\\battery_img_011_3.jpg: 224x288 1 Battery, 17.0ms\n",
      "Speed: 2.0ms preprocess, 17.0ms inference, 3.0ms postprocess per image at shape (1, 3, 224, 288)\n",
      "\n",
      "image 1/1 C:\\Users\\lenovo\\smartfactory\\YOLO_dataset_renewal\\test\\images\\battery_img_012_4.jpg: 224x288 1 Battery, 1 Pollution, 16.0ms\n",
      "Speed: 2.0ms preprocess, 16.0ms inference, 4.0ms postprocess per image at shape (1, 3, 224, 288)\n",
      "\n",
      "image 1/1 C:\\Users\\lenovo\\smartfactory\\YOLO_dataset_renewal\\test\\images\\battery_img_013_4.jpg: 288x288 1 Battery, 1 Pollution, 21.1ms\n",
      "Speed: 1.9ms preprocess, 21.1ms inference, 2.9ms postprocess per image at shape (1, 3, 288, 288)\n",
      "\n",
      "image 1/1 C:\\Users\\lenovo\\smartfactory\\YOLO_dataset_renewal\\test\\images\\battery_img_014_3.jpg: 288x288 1 Battery, 20.0ms\n",
      "Speed: 1.9ms preprocess, 20.0ms inference, 3.0ms postprocess per image at shape (1, 3, 288, 288)\n",
      "\n",
      "image 1/1 C:\\Users\\lenovo\\smartfactory\\YOLO_dataset_renewal\\test\\images\\battery_img_015_1.jpg: 224x288 1 Battery, 1 Pollution, 18.0ms\n",
      "Speed: 1.9ms preprocess, 18.0ms inference, 4.0ms postprocess per image at shape (1, 3, 224, 288)\n",
      "\n",
      "image 1/1 C:\\Users\\lenovo\\smartfactory\\YOLO_dataset_renewal\\test\\images\\battery_img_016_3.jpg: 224x288 1 Battery, 14.9ms\n",
      "Speed: 2.1ms preprocess, 14.9ms inference, 4.0ms postprocess per image at shape (1, 3, 224, 288)\n",
      "\n",
      "image 1/1 C:\\Users\\lenovo\\smartfactory\\YOLO_dataset_renewal\\test\\images\\battery_img_016_4.jpg: 288x288 1 Battery, 1 Pollution, 23.0ms\n",
      "Speed: 2.9ms preprocess, 23.0ms inference, 2.0ms postprocess per image at shape (1, 3, 288, 288)\n",
      "\n",
      "image 1/1 C:\\Users\\lenovo\\smartfactory\\YOLO_dataset_renewal\\test\\images\\battery_img_017_1.jpg: 288x288 1 Battery, 1 Pollution, 17.0ms\n",
      "Speed: 2.0ms preprocess, 17.0ms inference, 3.0ms postprocess per image at shape (1, 3, 288, 288)\n",
      "\n",
      "image 1/1 C:\\Users\\lenovo\\smartfactory\\YOLO_dataset_renewal\\test\\images\\battery_img_018_5.jpg: 288x288 1 Battery, 2 Damageds, 18.0ms\n",
      "Speed: 2.0ms preprocess, 18.0ms inference, 2.1ms postprocess per image at shape (1, 3, 288, 288)\n",
      "\n",
      "image 1/1 C:\\Users\\lenovo\\smartfactory\\YOLO_dataset_renewal\\test\\images\\battery_img_019_1.jpg: 288x288 1 Battery, 1 Pollution, 20.0ms\n",
      "Speed: 3.0ms preprocess, 20.0ms inference, 2.0ms postprocess per image at shape (1, 3, 288, 288)\n",
      "\n",
      "image 1/1 C:\\Users\\lenovo\\smartfactory\\YOLO_dataset_renewal\\test\\images\\battery_img_019_2.jpg: 224x288 1 Battery, 24.0ms\n",
      "Speed: 3.0ms preprocess, 24.0ms inference, 2.0ms postprocess per image at shape (1, 3, 224, 288)\n",
      "\n",
      "image 1/1 C:\\Users\\lenovo\\smartfactory\\YOLO_dataset_renewal\\test\\images\\battery_img_019_4.jpg: 288x288 1 Battery, 2 Pollutions, 23.0ms\n",
      "Speed: 2.9ms preprocess, 23.0ms inference, 4.0ms postprocess per image at shape (1, 3, 288, 288)\n",
      "\n",
      "image 1/1 C:\\Users\\lenovo\\smartfactory\\YOLO_dataset_renewal\\test\\images\\battery_img_019_6.jpg: 288x288 1 Battery, 1 Pollution, 17.0ms\n",
      "Speed: 4.1ms preprocess, 17.0ms inference, 7.0ms postprocess per image at shape (1, 3, 288, 288)\n",
      "\n",
      "image 1/1 C:\\Users\\lenovo\\smartfactory\\YOLO_dataset_renewal\\test\\images\\battery_img_021_1.jpg: 288x288 1 Battery, 1 Pollution, 18.0ms\n",
      "Speed: 2.0ms preprocess, 18.0ms inference, 4.0ms postprocess per image at shape (1, 3, 288, 288)\n",
      "\n",
      "image 1/1 C:\\Users\\lenovo\\smartfactory\\YOLO_dataset_renewal\\test\\images\\battery_img_025_1.jpg: 224x288 1 Battery, 1 Pollution, 20.0ms\n",
      "Speed: 2.0ms preprocess, 20.0ms inference, 5.0ms postprocess per image at shape (1, 3, 224, 288)\n",
      "\n",
      "image 1/1 C:\\Users\\lenovo\\smartfactory\\YOLO_dataset_renewal\\test\\images\\battery_img_025_6.jpg: 224x288 1 Battery, 19.0ms\n",
      "Speed: 2.0ms preprocess, 19.0ms inference, 5.0ms postprocess per image at shape (1, 3, 224, 288)\n",
      "\n",
      "image 1/1 C:\\Users\\lenovo\\smartfactory\\YOLO_dataset_renewal\\test\\images\\battery_img_028_5.jpg: 288x288 1 Battery, 1 Damaged, 26.0ms\n",
      "Speed: 3.9ms preprocess, 26.0ms inference, 2.0ms postprocess per image at shape (1, 3, 288, 288)\n",
      "\n",
      "image 1/1 C:\\Users\\lenovo\\smartfactory\\YOLO_dataset_renewal\\test\\images\\battery_img_031_2.jpg: 288x288 1 Battery, 21.0ms\n",
      "Speed: 2.0ms preprocess, 21.0ms inference, 3.0ms postprocess per image at shape (1, 3, 288, 288)\n",
      "\n",
      "image 1/1 C:\\Users\\lenovo\\smartfactory\\YOLO_dataset_renewal\\test\\images\\battery_img_032_3.jpg: 288x288 1 Battery, 1 Pollution, 18.0ms\n",
      "Speed: 3.0ms preprocess, 18.0ms inference, 3.0ms postprocess per image at shape (1, 3, 288, 288)\n",
      "\n",
      "image 1/1 C:\\Users\\lenovo\\smartfactory\\YOLO_dataset_renewal\\test\\images\\battery_img_032_6.jpg: 288x288 1 Battery, 1 Pollution, 17.0ms\n",
      "Speed: 3.0ms preprocess, 17.0ms inference, 3.0ms postprocess per image at shape (1, 3, 288, 288)\n",
      "\n",
      "image 1/1 C:\\Users\\lenovo\\smartfactory\\YOLO_dataset_renewal\\test\\images\\battery_img_033_1.jpg: 224x288 1 Battery, 2 Pollutions, 19.1ms\n",
      "Speed: 2.0ms preprocess, 19.1ms inference, 1.9ms postprocess per image at shape (1, 3, 224, 288)\n",
      "\n",
      "image 1/1 C:\\Users\\lenovo\\smartfactory\\YOLO_dataset_renewal\\test\\images\\battery_img_034_2.jpg: 224x288 1 Battery, 1 Damaged, 16.0ms\n",
      "Speed: 2.0ms preprocess, 16.0ms inference, 4.0ms postprocess per image at shape (1, 3, 224, 288)\n",
      "\n",
      "image 1/1 C:\\Users\\lenovo\\smartfactory\\YOLO_dataset_renewal\\test\\images\\battery_img_035_2.jpg: 288x288 1 Battery, 2 Damageds, 18.0ms\n",
      "Speed: 3.0ms preprocess, 18.0ms inference, 3.0ms postprocess per image at shape (1, 3, 288, 288)\n",
      "\n",
      "image 1/1 C:\\Users\\lenovo\\smartfactory\\YOLO_dataset_renewal\\test\\images\\battery_img_037_5.jpg: 288x288 1 Battery, 1 Damaged, 19.0ms\n",
      "Speed: 4.0ms preprocess, 19.0ms inference, 3.0ms postprocess per image at shape (1, 3, 288, 288)\n",
      "\n",
      "image 1/1 C:\\Users\\lenovo\\smartfactory\\YOLO_dataset_renewal\\test\\images\\battery_img_038_6.jpg: 224x288 1 Battery, 1 Pollution, 18.0ms\n",
      "Speed: 3.0ms preprocess, 18.0ms inference, 3.0ms postprocess per image at shape (1, 3, 224, 288)\n",
      "\n",
      "image 1/1 C:\\Users\\lenovo\\smartfactory\\YOLO_dataset_renewal\\test\\images\\battery_img_039_1.jpg: 288x288 1 Battery, 1 Pollution, 19.0ms\n",
      "Speed: 3.0ms preprocess, 19.0ms inference, 2.0ms postprocess per image at shape (1, 3, 288, 288)\n",
      "\n",
      "image 1/1 C:\\Users\\lenovo\\smartfactory\\YOLO_dataset_renewal\\test\\images\\battery_img_039_6.jpg: 288x288 1 Battery, 1 Pollution, 17.0ms\n",
      "Speed: 2.9ms preprocess, 17.0ms inference, 3.0ms postprocess per image at shape (1, 3, 288, 288)\n",
      "\n",
      "image 1/1 C:\\Users\\lenovo\\smartfactory\\YOLO_dataset_renewal\\test\\images\\battery_img_040_5.jpg: 288x288 1 Battery, 1 Damaged, 18.0ms\n",
      "Speed: 2.0ms preprocess, 18.0ms inference, 4.0ms postprocess per image at shape (1, 3, 288, 288)\n",
      "\n",
      "image 1/1 C:\\Users\\lenovo\\smartfactory\\YOLO_dataset_renewal\\test\\images\\battery_img_042_2.jpg: 224x288 1 Battery, 1 Damaged, 20.0ms\n",
      "Speed: 2.0ms preprocess, 20.0ms inference, 2.0ms postprocess per image at shape (1, 3, 224, 288)\n",
      "\n",
      "image 1/1 C:\\Users\\lenovo\\smartfactory\\YOLO_dataset_renewal\\test\\images\\battery_img_043_3.jpg: 224x288 1 Battery, 15.9ms\n",
      "Speed: 2.1ms preprocess, 15.9ms inference, 3.0ms postprocess per image at shape (1, 3, 224, 288)\n",
      "\n",
      "image 1/1 C:\\Users\\lenovo\\smartfactory\\YOLO_dataset_renewal\\test\\images\\battery_img_043_6.jpg: 224x288 1 Battery, 1 Pollution, 16.0ms\n",
      "Speed: 2.0ms preprocess, 16.0ms inference, 3.9ms postprocess per image at shape (1, 3, 224, 288)\n",
      "\n",
      "image 1/1 C:\\Users\\lenovo\\smartfactory\\YOLO_dataset_renewal\\test\\images\\battery_img_046_1.jpg: 288x288 1 Battery, 1 Pollution, 19.0ms\n",
      "Speed: 2.0ms preprocess, 19.0ms inference, 2.0ms postprocess per image at shape (1, 3, 288, 288)\n",
      "\n",
      "image 1/1 C:\\Users\\lenovo\\smartfactory\\YOLO_dataset_renewal\\test\\images\\battery_img_046_5.jpg: 224x288 1 Battery, 1 Damaged, 17.0ms\n",
      "Speed: 2.0ms preprocess, 17.0ms inference, 3.0ms postprocess per image at shape (1, 3, 224, 288)\n",
      "\n",
      "image 1/1 C:\\Users\\lenovo\\smartfactory\\YOLO_dataset_renewal\\test\\images\\battery_img_047_4.jpg: 224x288 1 Battery, 2 Pollutions, 15.0ms\n",
      "Speed: 2.0ms preprocess, 15.0ms inference, 3.0ms postprocess per image at shape (1, 3, 224, 288)\n",
      "\n",
      "image 1/1 C:\\Users\\lenovo\\smartfactory\\YOLO_dataset_renewal\\test\\images\\battery_img_049_2.jpg: 224x288 1 Battery, 1 Damaged, 23.0ms\n",
      "Speed: 2.9ms preprocess, 23.0ms inference, 4.0ms postprocess per image at shape (1, 3, 224, 288)\n",
      "\n",
      "image 1/1 C:\\Users\\lenovo\\smartfactory\\YOLO_dataset_renewal\\test\\images\\battery_img_050_2.jpg: 288x288 1 Battery, 3 Damageds, 17.9ms\n",
      "Speed: 3.0ms preprocess, 17.9ms inference, 3.0ms postprocess per image at shape (1, 3, 288, 288)\n",
      "\n",
      "image 1/1 C:\\Users\\lenovo\\smartfactory\\YOLO_dataset_renewal\\test\\images\\battery_img_050_4.jpg: 224x288 1 Battery, 1 Damaged, 1 Pollution, 19.0ms\n",
      "Speed: 2.9ms preprocess, 19.0ms inference, 3.0ms postprocess per image at shape (1, 3, 224, 288)\n",
      "\n",
      "image 1/1 C:\\Users\\lenovo\\smartfactory\\YOLO_dataset_renewal\\test\\images\\battery_img_053_4.jpg: 288x288 1 Battery, 1 Damaged, 19.0ms\n",
      "Speed: 2.0ms preprocess, 19.0ms inference, 2.0ms postprocess per image at shape (1, 3, 288, 288)\n",
      "\n",
      "image 1/1 C:\\Users\\lenovo\\smartfactory\\YOLO_dataset_renewal\\test\\images\\battery_img_055_3.jpg: 288x288 1 Battery, 1 Pollution, 17.0ms\n",
      "Speed: 3.0ms preprocess, 17.0ms inference, 3.1ms postprocess per image at shape (1, 3, 288, 288)\n",
      "\n",
      "image 1/1 C:\\Users\\lenovo\\smartfactory\\YOLO_dataset_renewal\\test\\images\\battery_img_056_3.jpg: 224x288 1 Battery, 1 Damaged, 27.0ms\n",
      "Speed: 2.9ms preprocess, 27.0ms inference, 4.0ms postprocess per image at shape (1, 3, 224, 288)\n",
      "\n",
      "image 1/1 C:\\Users\\lenovo\\smartfactory\\YOLO_dataset_renewal\\test\\images\\battery_img_056_4.jpg: 288x288 1 Battery, 1 Damaged, 18.0ms\n",
      "Speed: 2.0ms preprocess, 18.0ms inference, 2.0ms postprocess per image at shape (1, 3, 288, 288)\n",
      "\n",
      "image 1/1 C:\\Users\\lenovo\\smartfactory\\YOLO_dataset_renewal\\test\\images\\battery_img_059_3.jpg: 288x288 1 Battery, 18.0ms\n",
      "Speed: 1.9ms preprocess, 18.0ms inference, 2.0ms postprocess per image at shape (1, 3, 288, 288)\n",
      "\n",
      "image 1/1 C:\\Users\\lenovo\\smartfactory\\YOLO_dataset_renewal\\test\\images\\battery_img_059_4.jpg: 288x288 1 Battery, 1 Damaged, 18.0ms\n",
      "Speed: 3.0ms preprocess, 18.0ms inference, 2.0ms postprocess per image at shape (1, 3, 288, 288)\n",
      "\n",
      "image 1/1 C:\\Users\\lenovo\\smartfactory\\YOLO_dataset_renewal\\test\\images\\battery_img_061_1.jpg: 288x288 1 Battery, 2 Damageds, 18.0ms\n",
      "Speed: 2.0ms preprocess, 18.0ms inference, 2.0ms postprocess per image at shape (1, 3, 288, 288)\n",
      "\n",
      "image 1/1 C:\\Users\\lenovo\\smartfactory\\YOLO_dataset_renewal\\test\\images\\battery_img_063_2.jpg: 288x288 1 Battery, 1 Pollution, 18.0ms\n",
      "Speed: 2.0ms preprocess, 18.0ms inference, 3.0ms postprocess per image at shape (1, 3, 288, 288)\n",
      "\n",
      "image 1/1 C:\\Users\\lenovo\\smartfactory\\YOLO_dataset_renewal\\test\\images\\battery_img_064_4.jpg: 288x288 1 Battery, 1 Damaged, 19.0ms\n",
      "Speed: 3.0ms preprocess, 19.0ms inference, 5.0ms postprocess per image at shape (1, 3, 288, 288)\n",
      "\n",
      "image 1/1 C:\\Users\\lenovo\\smartfactory\\YOLO_dataset_renewal\\test\\images\\battery_img_069_3.jpg: 288x288 1 Battery, 1 Damaged, 18.0ms\n",
      "Speed: 3.0ms preprocess, 18.0ms inference, 2.0ms postprocess per image at shape (1, 3, 288, 288)\n",
      "\n",
      "image 1/1 C:\\Users\\lenovo\\smartfactory\\YOLO_dataset_renewal\\test\\images\\battery_img_070_1.jpg: 224x288 1 Battery, 1 Damaged, 18.0ms\n",
      "Speed: 2.0ms preprocess, 18.0ms inference, 2.0ms postprocess per image at shape (1, 3, 224, 288)\n",
      "\n",
      "image 1/1 C:\\Users\\lenovo\\smartfactory\\YOLO_dataset_renewal\\test\\images\\battery_img_071_3.jpg: 224x288 1 Battery, 2 Damageds, 1 Pollution, 15.0ms\n",
      "Speed: 2.0ms preprocess, 15.0ms inference, 3.0ms postprocess per image at shape (1, 3, 224, 288)\n",
      "\n",
      "image 1/1 C:\\Users\\lenovo\\smartfactory\\YOLO_dataset_renewal\\test\\images\\battery_img_074_6.jpg: 288x288 1 Battery, 1 Pollution, 20.0ms\n",
      "Speed: 2.0ms preprocess, 20.0ms inference, 3.0ms postprocess per image at shape (1, 3, 288, 288)\n",
      "\n",
      "image 1/1 C:\\Users\\lenovo\\smartfactory\\YOLO_dataset_renewal\\test\\images\\battery_img_076_1.jpg: 288x288 1 Battery, 17.1ms\n",
      "Speed: 2.0ms preprocess, 17.1ms inference, 2.9ms postprocess per image at shape (1, 3, 288, 288)\n",
      "\n",
      "image 1/1 C:\\Users\\lenovo\\smartfactory\\YOLO_dataset_renewal\\test\\images\\battery_img_078_2.jpg: 288x288 1 Battery, 1 Pollution, 17.0ms\n",
      "Speed: 2.0ms preprocess, 17.0ms inference, 3.0ms postprocess per image at shape (1, 3, 288, 288)\n",
      "\n",
      "image 1/1 C:\\Users\\lenovo\\smartfactory\\YOLO_dataset_renewal\\test\\images\\battery_img_083_6.jpg: 224x288 1 Battery, 2 Pollutions, 17.0ms\n",
      "Speed: 2.0ms preprocess, 17.0ms inference, 3.0ms postprocess per image at shape (1, 3, 224, 288)\n",
      "\n",
      "image 1/1 C:\\Users\\lenovo\\smartfactory\\YOLO_dataset_renewal\\test\\images\\battery_img_084_4.jpg: 288x288 1 Battery, 1 Damaged, 20.9ms\n",
      "Speed: 3.1ms preprocess, 20.9ms inference, 3.0ms postprocess per image at shape (1, 3, 288, 288)\n",
      "\n",
      "image 1/1 C:\\Users\\lenovo\\smartfactory\\YOLO_dataset_renewal\\test\\images\\battery_img_088_6.jpg: 224x288 1 Battery, 1 Pollution, 15.9ms\n",
      "Speed: 2.1ms preprocess, 15.9ms inference, 2.0ms postprocess per image at shape (1, 3, 224, 288)\n",
      "\n",
      "image 1/1 C:\\Users\\lenovo\\smartfactory\\YOLO_dataset_renewal\\test\\images\\battery_img_089_6.jpg: 288x288 1 Battery, 1 Pollution, 19.1ms\n",
      "Speed: 3.0ms preprocess, 19.1ms inference, 2.0ms postprocess per image at shape (1, 3, 288, 288)\n",
      "\n",
      "image 1/1 C:\\Users\\lenovo\\smartfactory\\YOLO_dataset_renewal\\test\\images\\battery_img_090_1.jpg: 224x288 1 Battery, 1 Damaged, 18.0ms\n",
      "Speed: 2.1ms preprocess, 18.0ms inference, 2.0ms postprocess per image at shape (1, 3, 224, 288)\n",
      "\n",
      "image 1/1 C:\\Users\\lenovo\\smartfactory\\YOLO_dataset_renewal\\test\\images\\battery_img_091_5.jpg: 224x288 1 Battery, 1 Damaged, 15.0ms\n",
      "Speed: 3.9ms preprocess, 15.0ms inference, 4.0ms postprocess per image at shape (1, 3, 224, 288)\n",
      "\n",
      "image 1/1 C:\\Users\\lenovo\\smartfactory\\YOLO_dataset_renewal\\test\\images\\battery_img_092_6.jpg: 288x288 1 Battery, 1 Pollution, 21.0ms\n",
      "Speed: 3.0ms preprocess, 21.0ms inference, 2.0ms postprocess per image at shape (1, 3, 288, 288)\n",
      "\n",
      "image 1/1 C:\\Users\\lenovo\\smartfactory\\YOLO_dataset_renewal\\test\\images\\battery_img_094_4.jpg: 288x288 1 Battery, 20.0ms\n",
      "Speed: 2.0ms preprocess, 20.0ms inference, 3.0ms postprocess per image at shape (1, 3, 288, 288)\n",
      "\n",
      "image 1/1 C:\\Users\\lenovo\\smartfactory\\YOLO_dataset_renewal\\test\\images\\battery_img_095_2.jpg: 288x288 1 Battery, 2 Damageds, 17.0ms\n",
      "Speed: 3.0ms preprocess, 17.0ms inference, 3.9ms postprocess per image at shape (1, 3, 288, 288)\n",
      "\n",
      "image 1/1 C:\\Users\\lenovo\\smartfactory\\YOLO_dataset_renewal\\test\\images\\battery_img_095_3.jpg: 288x288 1 Battery, 1 Pollution, 17.1ms\n",
      "Speed: 2.0ms preprocess, 17.1ms inference, 2.9ms postprocess per image at shape (1, 3, 288, 288)\n",
      "\n",
      "image 1/1 C:\\Users\\lenovo\\smartfactory\\YOLO_dataset_renewal\\test\\images\\battery_img_095_4.jpg: 224x288 1 Battery, 1 Damaged, 1 Pollution, 18.9ms\n",
      "Speed: 4.0ms preprocess, 18.9ms inference, 4.0ms postprocess per image at shape (1, 3, 224, 288)\n",
      "\n",
      "image 1/1 C:\\Users\\lenovo\\smartfactory\\YOLO_dataset_renewal\\test\\images\\battery_img_098_3.jpg: 224x288 1 Battery, 1 Pollution, 15.0ms\n",
      "Speed: 2.0ms preprocess, 15.0ms inference, 4.0ms postprocess per image at shape (1, 3, 224, 288)\n",
      "\n",
      "image 1/1 C:\\Users\\lenovo\\smartfactory\\YOLO_dataset_renewal\\test\\images\\battery_img_098_5.jpg: 288x288 1 Battery, 1 Pollution, 27.0ms\n",
      "Speed: 3.0ms preprocess, 27.0ms inference, 2.0ms postprocess per image at shape (1, 3, 288, 288)\n",
      "\n",
      "image 1/1 C:\\Users\\lenovo\\smartfactory\\YOLO_dataset_renewal\\test\\images\\battery_img_099_2.jpg: 224x288 1 Battery, 1 Damaged, 1 Pollution, 19.1ms\n",
      "Speed: 2.0ms preprocess, 19.1ms inference, 2.0ms postprocess per image at shape (1, 3, 224, 288)\n",
      "\n",
      "image 1/1 C:\\Users\\lenovo\\smartfactory\\YOLO_dataset_renewal\\test\\images\\battery_img_100_5.jpg: 288x288 1 Battery, 1 Damaged, 1 Pollution, 19.0ms\n",
      "Speed: 3.0ms preprocess, 19.0ms inference, 3.0ms postprocess per image at shape (1, 3, 288, 288)\n",
      "\n",
      "image 1/1 C:\\Users\\lenovo\\smartfactory\\YOLO_dataset_renewal\\test\\images\\battery_img_101_3.jpg: 224x288 1 Battery, 1 Pollution, 19.0ms\n",
      "Speed: 2.0ms preprocess, 19.0ms inference, 2.0ms postprocess per image at shape (1, 3, 224, 288)\n",
      "\n",
      "image 1/1 C:\\Users\\lenovo\\smartfactory\\YOLO_dataset_renewal\\test\\images\\battery_img_104_1.jpg: 288x288 1 Battery, 22.0ms\n",
      "Speed: 4.0ms preprocess, 22.0ms inference, 2.0ms postprocess per image at shape (1, 3, 288, 288)\n",
      "\n",
      "image 1/1 C:\\Users\\lenovo\\smartfactory\\YOLO_dataset_renewal\\test\\images\\battery_img_104_4.jpg: 288x288 1 Battery, 17.0ms\n",
      "Speed: 3.0ms preprocess, 17.0ms inference, 3.0ms postprocess per image at shape (1, 3, 288, 288)\n",
      "\n",
      "image 1/1 C:\\Users\\lenovo\\smartfactory\\YOLO_dataset_renewal\\test\\images\\battery_img_105_3.jpg: 288x288 1 Battery, 1 Pollution, 17.0ms\n",
      "Speed: 4.0ms preprocess, 17.0ms inference, 3.0ms postprocess per image at shape (1, 3, 288, 288)\n",
      "\n",
      "image 1/1 C:\\Users\\lenovo\\smartfactory\\YOLO_dataset_renewal\\test\\images\\battery_img_106_4.jpg: 288x288 1 Battery, 21.0ms\n",
      "Speed: 3.0ms preprocess, 21.0ms inference, 3.0ms postprocess per image at shape (1, 3, 288, 288)\n",
      "\n",
      "image 1/1 C:\\Users\\lenovo\\smartfactory\\YOLO_dataset_renewal\\test\\images\\battery_img_110_1.jpg: 224x288 1 Battery, 16.0ms\n",
      "Speed: 2.1ms preprocess, 16.0ms inference, 2.9ms postprocess per image at shape (1, 3, 224, 288)\n",
      "\n",
      "image 1/1 C:\\Users\\lenovo\\smartfactory\\YOLO_dataset_renewal\\test\\images\\battery_img_110_2.jpg: 288x288 1 Battery, 1 Pollution, 23.0ms\n",
      "Speed: 2.0ms preprocess, 23.0ms inference, 4.0ms postprocess per image at shape (1, 3, 288, 288)\n",
      "\n",
      "image 1/1 C:\\Users\\lenovo\\smartfactory\\YOLO_dataset_renewal\\test\\images\\battery_img_110_4.jpg: 224x288 1 Battery, 18.0ms\n",
      "Speed: 2.0ms preprocess, 18.0ms inference, 4.0ms postprocess per image at shape (1, 3, 224, 288)\n",
      "\n",
      "image 1/1 C:\\Users\\lenovo\\smartfactory\\YOLO_dataset_renewal\\test\\images\\battery_img_112_3.jpg: 288x288 1 Battery, 1 Damaged, 22.1ms\n",
      "Speed: 3.0ms preprocess, 22.1ms inference, 2.9ms postprocess per image at shape (1, 3, 288, 288)\n",
      "\n",
      "image 1/1 C:\\Users\\lenovo\\smartfactory\\YOLO_dataset_renewal\\test\\images\\battery_img_116_2.jpg: 288x288 1 Battery, 1 Pollution, 21.0ms\n",
      "Speed: 3.0ms preprocess, 21.0ms inference, 2.0ms postprocess per image at shape (1, 3, 288, 288)\n",
      "\n",
      "image 1/1 C:\\Users\\lenovo\\smartfactory\\YOLO_dataset_renewal\\test\\images\\battery_img_118_5.jpg: 288x288 1 Battery, 17.0ms\n",
      "Speed: 2.0ms preprocess, 17.0ms inference, 5.0ms postprocess per image at shape (1, 3, 288, 288)\n",
      "\n",
      "image 1/1 C:\\Users\\lenovo\\smartfactory\\YOLO_dataset_renewal\\test\\images\\battery_img_119_4.jpg: 288x288 1 Battery, 18.0ms\n",
      "Speed: 3.0ms preprocess, 18.0ms inference, 3.0ms postprocess per image at shape (1, 3, 288, 288)\n",
      "\n",
      "image 1/1 C:\\Users\\lenovo\\smartfactory\\YOLO_dataset_renewal\\test\\images\\battery_img_123_2.jpg: 288x288 1 Battery, 2 Damageds, 2 Pollutions, 24.0ms\n",
      "Speed: 2.0ms preprocess, 24.0ms inference, 4.0ms postprocess per image at shape (1, 3, 288, 288)\n",
      "\n",
      "image 1/1 C:\\Users\\lenovo\\smartfactory\\YOLO_dataset_renewal\\test\\images\\battery_img_125_5.jpg: 288x288 1 Battery, 1 Damaged, 17.0ms\n",
      "Speed: 4.1ms preprocess, 17.0ms inference, 3.0ms postprocess per image at shape (1, 3, 288, 288)\n",
      "\n",
      "image 1/1 C:\\Users\\lenovo\\smartfactory\\YOLO_dataset_renewal\\test\\images\\battery_img_126_2.jpg: 288x288 1 Battery, 1 Pollution, 21.0ms\n",
      "Speed: 4.0ms preprocess, 21.0ms inference, 3.0ms postprocess per image at shape (1, 3, 288, 288)\n",
      "\n",
      "image 1/1 C:\\Users\\lenovo\\smartfactory\\YOLO_dataset_renewal\\test\\images\\battery_img_127_1.jpg: 288x288 1 Battery, 18.0ms\n",
      "Speed: 2.0ms preprocess, 18.0ms inference, 2.0ms postprocess per image at shape (1, 3, 288, 288)\n",
      "\n",
      "image 1/1 C:\\Users\\lenovo\\smartfactory\\YOLO_dataset_renewal\\test\\images\\battery_img_128_2.jpg: 288x288 1 Battery, 1 Pollution, 19.0ms\n",
      "Speed: 2.0ms preprocess, 19.0ms inference, 3.0ms postprocess per image at shape (1, 3, 288, 288)\n",
      "\n",
      "image 1/1 C:\\Users\\lenovo\\smartfactory\\YOLO_dataset_renewal\\test\\images\\battery_img_130_3.jpg: 288x288 1 Battery, 18.0ms\n",
      "Speed: 2.0ms preprocess, 18.0ms inference, 4.0ms postprocess per image at shape (1, 3, 288, 288)\n",
      "\n",
      "image 1/1 C:\\Users\\lenovo\\smartfactory\\YOLO_dataset_renewal\\test\\images\\battery_img_130_4.jpg: 224x288 1 Battery, 18.0ms\n",
      "Speed: 2.0ms preprocess, 18.0ms inference, 2.0ms postprocess per image at shape (1, 3, 224, 288)\n",
      "\n",
      "image 1/1 C:\\Users\\lenovo\\smartfactory\\YOLO_dataset_renewal\\test\\images\\battery_img_132_5.jpg: 288x288 1 Battery, 1 Pollution, 19.0ms\n",
      "Speed: 2.0ms preprocess, 19.0ms inference, 2.0ms postprocess per image at shape (1, 3, 288, 288)\n",
      "\n",
      "image 1/1 C:\\Users\\lenovo\\smartfactory\\YOLO_dataset_renewal\\test\\images\\battery_img_134_5.jpg: 224x288 1 Battery, 20.0ms\n",
      "Speed: 2.0ms preprocess, 20.0ms inference, 6.0ms postprocess per image at shape (1, 3, 224, 288)\n",
      "\n",
      "image 1/1 C:\\Users\\lenovo\\smartfactory\\YOLO_dataset_renewal\\test\\images\\battery_img_135_2.jpg: 288x288 1 Battery, 1 Pollution, 19.0ms\n",
      "Speed: 2.0ms preprocess, 19.0ms inference, 2.0ms postprocess per image at shape (1, 3, 288, 288)\n",
      "\n",
      "image 1/1 C:\\Users\\lenovo\\smartfactory\\YOLO_dataset_renewal\\test\\images\\battery_img_135_4.jpg: 224x288 1 Battery, 33.0ms\n",
      "Speed: 3.0ms preprocess, 33.0ms inference, 5.0ms postprocess per image at shape (1, 3, 224, 288)\n",
      "\n",
      "image 1/1 C:\\Users\\lenovo\\smartfactory\\YOLO_dataset_renewal\\test\\images\\battery_img_136_2.jpg: 288x288 1 Battery, 1 Pollution, 19.0ms\n",
      "Speed: 2.0ms preprocess, 19.0ms inference, 3.0ms postprocess per image at shape (1, 3, 288, 288)\n",
      "\n",
      "image 1/1 C:\\Users\\lenovo\\smartfactory\\YOLO_dataset_renewal\\test\\images\\battery_img_136_3.jpg: 224x288 1 Battery, 2 Pollutions, 17.0ms\n",
      "Speed: 2.0ms preprocess, 17.0ms inference, 2.0ms postprocess per image at shape (1, 3, 224, 288)\n",
      "\n",
      "image 1/1 C:\\Users\\lenovo\\smartfactory\\YOLO_dataset_renewal\\test\\images\\battery_img_141_2.jpg: 288x288 1 Battery, 2 Pollutions, 21.0ms\n",
      "Speed: 2.0ms preprocess, 21.0ms inference, 2.0ms postprocess per image at shape (1, 3, 288, 288)\n",
      "\n",
      "image 1/1 C:\\Users\\lenovo\\smartfactory\\YOLO_dataset_renewal\\test\\images\\battery_img_142_3.jpg: 288x288 1 Battery, 1 Pollution, 17.0ms\n",
      "Speed: 4.0ms preprocess, 17.0ms inference, 2.0ms postprocess per image at shape (1, 3, 288, 288)\n",
      "\n",
      "image 1/1 C:\\Users\\lenovo\\smartfactory\\YOLO_dataset_renewal\\test\\images\\battery_img_145_2.jpg: 288x288 1 Battery, 1 Pollution, 22.0ms\n",
      "Speed: 2.0ms preprocess, 22.0ms inference, 4.0ms postprocess per image at shape (1, 3, 288, 288)\n",
      "\n",
      "image 1/1 C:\\Users\\lenovo\\smartfactory\\YOLO_dataset_renewal\\test\\images\\battery_img_146_2.jpg: 288x288 1 Battery, 1 Damaged, 1 Pollution, 16.0ms\n",
      "Speed: 2.0ms preprocess, 16.0ms inference, 3.0ms postprocess per image at shape (1, 3, 288, 288)\n",
      "\n",
      "image 1/1 C:\\Users\\lenovo\\smartfactory\\YOLO_dataset_renewal\\test\\images\\battery_img_149_2.jpg: 224x288 1 Battery, 1 Pollution, 17.0ms\n",
      "Speed: 2.0ms preprocess, 17.0ms inference, 3.0ms postprocess per image at shape (1, 3, 224, 288)\n",
      "\n",
      "image 1/1 C:\\Users\\lenovo\\smartfactory\\YOLO_dataset_renewal\\test\\images\\battery_img_149_6.jpg: 288x288 1 Battery, 1 Pollution, 24.0ms\n",
      "Speed: 3.0ms preprocess, 24.0ms inference, 3.0ms postprocess per image at shape (1, 3, 288, 288)\n",
      "\n",
      "image 1/1 C:\\Users\\lenovo\\smartfactory\\YOLO_dataset_renewal\\test\\images\\battery_img_150_3.jpg: 288x288 1 Battery, 1 Damaged, 1 Pollution, 17.0ms\n",
      "Speed: 2.0ms preprocess, 17.0ms inference, 2.0ms postprocess per image at shape (1, 3, 288, 288)\n",
      "\n",
      "image 1/1 C:\\Users\\lenovo\\smartfactory\\YOLO_dataset_renewal\\test\\images\\battery_img_150_5.jpg: 288x288 1 Battery, 2 Pollutions, 19.1ms\n",
      "Speed: 2.0ms preprocess, 19.1ms inference, 1.9ms postprocess per image at shape (1, 3, 288, 288)\n",
      "\n",
      "image 1/1 C:\\Users\\lenovo\\smartfactory\\YOLO_dataset_renewal\\test\\images\\battery_img_153_4.jpg: 288x288 1 Battery, 19.0ms\n",
      "Speed: 3.0ms preprocess, 19.0ms inference, 4.0ms postprocess per image at shape (1, 3, 288, 288)\n",
      "\n",
      "image 1/1 C:\\Users\\lenovo\\smartfactory\\YOLO_dataset_renewal\\test\\images\\battery_img_155_2.jpg: 288x288 1 Battery, 1 Pollution, 18.9ms\n",
      "Speed: 3.0ms preprocess, 18.9ms inference, 3.0ms postprocess per image at shape (1, 3, 288, 288)\n",
      "\n",
      "image 1/1 C:\\Users\\lenovo\\smartfactory\\YOLO_dataset_renewal\\test\\images\\battery_img_155_4.jpg: 224x288 1 Battery, 18.9ms\n",
      "Speed: 3.1ms preprocess, 18.9ms inference, 4.1ms postprocess per image at shape (1, 3, 224, 288)\n",
      "\n",
      "image 1/1 C:\\Users\\lenovo\\smartfactory\\YOLO_dataset_renewal\\test\\images\\battery_img_158_4.jpg: 288x288 1 Battery, 20.0ms\n",
      "Speed: 3.9ms preprocess, 20.0ms inference, 3.0ms postprocess per image at shape (1, 3, 288, 288)\n",
      "\n",
      "image 1/1 C:\\Users\\lenovo\\smartfactory\\YOLO_dataset_renewal\\test\\images\\battery_img_159_2.jpg: 224x288 1 Battery, 2 Pollutions, 17.1ms\n",
      "Speed: 2.9ms preprocess, 17.1ms inference, 1.9ms postprocess per image at shape (1, 3, 224, 288)\n",
      "\n",
      "image 1/1 C:\\Users\\lenovo\\smartfactory\\YOLO_dataset_renewal\\test\\images\\battery_img_161_5.jpg: 224x288 1 Battery, 16.0ms\n",
      "Speed: 3.0ms preprocess, 16.0ms inference, 4.0ms postprocess per image at shape (1, 3, 224, 288)\n",
      "\n",
      "image 1/1 C:\\Users\\lenovo\\smartfactory\\YOLO_dataset_renewal\\test\\images\\battery_img_163_6.jpg: 224x288 1 Battery, 1 Pollution, 16.0ms\n",
      "Speed: 4.0ms preprocess, 16.0ms inference, 2.0ms postprocess per image at shape (1, 3, 224, 288)\n",
      "\n",
      "image 1/1 C:\\Users\\lenovo\\smartfactory\\YOLO_dataset_renewal\\test\\images\\battery_img_167_1.jpg: 288x288 1 Battery, 21.0ms\n",
      "Speed: 4.0ms preprocess, 21.0ms inference, 2.0ms postprocess per image at shape (1, 3, 288, 288)\n",
      "\n",
      "image 1/1 C:\\Users\\lenovo\\smartfactory\\YOLO_dataset_renewal\\test\\images\\battery_img_167_4.jpg: 224x288 1 Battery, 32.0ms\n",
      "Speed: 4.0ms preprocess, 32.0ms inference, 3.0ms postprocess per image at shape (1, 3, 224, 288)\n",
      "\n",
      "image 1/1 C:\\Users\\lenovo\\smartfactory\\YOLO_dataset_renewal\\test\\images\\battery_img_168_1.jpg: 224x288 1 Battery, 20.0ms\n",
      "Speed: 3.0ms preprocess, 20.0ms inference, 5.0ms postprocess per image at shape (1, 3, 224, 288)\n",
      "\n",
      "image 1/1 C:\\Users\\lenovo\\smartfactory\\YOLO_dataset_renewal\\test\\images\\battery_img_171_1.jpg: 288x288 1 Battery, 18.0ms\n",
      "Speed: 3.0ms preprocess, 18.0ms inference, 2.0ms postprocess per image at shape (1, 3, 288, 288)\n",
      "\n",
      "image 1/1 C:\\Users\\lenovo\\smartfactory\\YOLO_dataset_renewal\\test\\images\\battery_img_173_3.jpg: 224x288 1 Battery, 2 Pollutions, 17.0ms\n",
      "Speed: 2.0ms preprocess, 17.0ms inference, 4.0ms postprocess per image at shape (1, 3, 224, 288)\n",
      "\n",
      "image 1/1 C:\\Users\\lenovo\\smartfactory\\YOLO_dataset_renewal\\test\\images\\battery_img_176_3.jpg: 224x288 1 Battery, 3 Pollutions, 16.0ms\n",
      "Speed: 3.0ms preprocess, 16.0ms inference, 4.0ms postprocess per image at shape (1, 3, 224, 288)\n",
      "\n",
      "image 1/1 C:\\Users\\lenovo\\smartfactory\\YOLO_dataset_renewal\\test\\images\\battery_img_176_6.jpg: 288x288 1 Battery, 1 Pollution, 22.0ms\n",
      "Speed: 3.0ms preprocess, 22.0ms inference, 4.0ms postprocess per image at shape (1, 3, 288, 288)\n",
      "\n",
      "image 1/1 C:\\Users\\lenovo\\smartfactory\\YOLO_dataset_renewal\\test\\images\\battery_img_177_1.jpg: 288x288 1 Battery, 18.0ms\n",
      "Speed: 4.0ms preprocess, 18.0ms inference, 3.0ms postprocess per image at shape (1, 3, 288, 288)\n",
      "\n",
      "image 1/1 C:\\Users\\lenovo\\smartfactory\\YOLO_dataset_renewal\\test\\images\\battery_img_177_2.jpg: 224x288 1 Battery, 1 Pollution, 17.9ms\n",
      "Speed: 2.0ms preprocess, 17.9ms inference, 2.0ms postprocess per image at shape (1, 3, 224, 288)\n",
      "\n",
      "image 1/1 C:\\Users\\lenovo\\smartfactory\\YOLO_dataset_renewal\\test\\images\\battery_img_177_6.jpg: 288x288 1 Battery, 1 Pollution, 19.0ms\n",
      "Speed: 4.0ms preprocess, 19.0ms inference, 3.0ms postprocess per image at shape (1, 3, 288, 288)\n",
      "\n",
      "image 1/1 C:\\Users\\lenovo\\smartfactory\\YOLO_dataset_renewal\\test\\images\\battery_img_179_4.jpg: 288x288 1 Battery, 18.0ms\n",
      "Speed: 5.0ms preprocess, 18.0ms inference, 2.0ms postprocess per image at shape (1, 3, 288, 288)\n",
      "\n",
      "image 1/1 C:\\Users\\lenovo\\smartfactory\\YOLO_dataset_renewal\\test\\images\\battery_img_179_6.jpg: 288x288 1 Battery, 1 Pollution, 18.0ms\n",
      "Speed: 3.0ms preprocess, 18.0ms inference, 3.0ms postprocess per image at shape (1, 3, 288, 288)\n",
      "\n",
      "image 1/1 C:\\Users\\lenovo\\smartfactory\\YOLO_dataset_renewal\\test\\images\\battery_img_181_5.jpg: 224x288 1 Battery, 1 Pollution, 16.9ms\n",
      "Speed: 4.1ms preprocess, 16.9ms inference, 3.0ms postprocess per image at shape (1, 3, 224, 288)\n",
      "\n",
      "image 1/1 C:\\Users\\lenovo\\smartfactory\\YOLO_dataset_renewal\\test\\images\\battery_img_182_5.jpg: 288x288 1 Battery, 1 Pollution, 20.0ms\n",
      "Speed: 3.0ms preprocess, 20.0ms inference, 3.0ms postprocess per image at shape (1, 3, 288, 288)\n",
      "\n",
      "image 1/1 C:\\Users\\lenovo\\smartfactory\\YOLO_dataset_renewal\\test\\images\\battery_img_183_3.jpg: 224x288 1 Battery, 1 Pollution, 18.0ms\n",
      "Speed: 3.0ms preprocess, 18.0ms inference, 2.0ms postprocess per image at shape (1, 3, 224, 288)\n",
      "\n",
      "image 1/1 C:\\Users\\lenovo\\smartfactory\\YOLO_dataset_renewal\\test\\images\\battery_img_184_4.jpg: 288x288 1 Battery, 21.0ms\n",
      "Speed: 4.0ms preprocess, 21.0ms inference, 3.0ms postprocess per image at shape (1, 3, 288, 288)\n",
      "\n",
      "image 1/1 C:\\Users\\lenovo\\smartfactory\\YOLO_dataset_renewal\\test\\images\\battery_img_186_6.jpg: 288x288 1 Battery, 23.0ms\n",
      "Speed: 3.0ms preprocess, 23.0ms inference, 3.0ms postprocess per image at shape (1, 3, 288, 288)\n",
      "\n",
      "image 1/1 C:\\Users\\lenovo\\smartfactory\\YOLO_dataset_renewal\\test\\images\\battery_img_187_1.jpg: 288x288 1 Battery, 1 Pollution, 17.9ms\n",
      "Speed: 2.0ms preprocess, 17.9ms inference, 2.0ms postprocess per image at shape (1, 3, 288, 288)\n",
      "\n",
      "image 1/1 C:\\Users\\lenovo\\smartfactory\\YOLO_dataset_renewal\\test\\images\\battery_img_187_6.jpg: 288x288 1 Battery, 26.0ms\n",
      "Speed: 3.0ms preprocess, 26.0ms inference, 3.0ms postprocess per image at shape (1, 3, 288, 288)\n",
      "\n",
      "image 1/1 C:\\Users\\lenovo\\smartfactory\\YOLO_dataset_renewal\\test\\images\\battery_img_188_5.jpg: 288x288 1 Battery, 17.0ms\n",
      "Speed: 3.0ms preprocess, 17.0ms inference, 3.0ms postprocess per image at shape (1, 3, 288, 288)\n",
      "\n",
      "image 1/1 C:\\Users\\lenovo\\smartfactory\\YOLO_dataset_renewal\\test\\images\\battery_img_194_5.jpg: 224x288 1 Battery, 18.0ms\n",
      "Speed: 3.0ms preprocess, 18.0ms inference, 5.1ms postprocess per image at shape (1, 3, 224, 288)\n",
      "\n",
      "image 1/1 C:\\Users\\lenovo\\smartfactory\\YOLO_dataset_renewal\\test\\images\\battery_img_195_5.jpg: 288x288 1 Battery, 21.0ms\n",
      "Speed: 3.0ms preprocess, 21.0ms inference, 3.0ms postprocess per image at shape (1, 3, 288, 288)\n",
      "\n",
      "image 1/1 C:\\Users\\lenovo\\smartfactory\\YOLO_dataset_renewal\\test\\images\\battery_img_196_6.jpg: 288x288 1 Battery, 17.0ms\n",
      "Speed: 3.0ms preprocess, 17.0ms inference, 4.1ms postprocess per image at shape (1, 3, 288, 288)\n",
      "\n",
      "image 1/1 C:\\Users\\lenovo\\smartfactory\\YOLO_dataset_renewal\\test\\images\\battery_img_198_2.jpg: 288x288 1 Battery, 18.0ms\n",
      "Speed: 3.0ms preprocess, 18.0ms inference, 2.1ms postprocess per image at shape (1, 3, 288, 288)\n",
      "\n",
      "image 1/1 C:\\Users\\lenovo\\smartfactory\\YOLO_dataset_renewal\\test\\images\\battery_img_198_6.jpg: 224x288 1 Battery, 19.0ms\n",
      "Speed: 2.0ms preprocess, 19.0ms inference, 3.0ms postprocess per image at shape (1, 3, 224, 288)\n",
      "\n",
      "image 1/1 C:\\Users\\lenovo\\smartfactory\\YOLO_dataset_renewal\\test\\images\\battery_img_199_5.jpg: 224x288 1 Battery, 14.9ms\n",
      "Speed: 4.0ms preprocess, 14.9ms inference, 2.0ms postprocess per image at shape (1, 3, 224, 288)\n",
      "\n",
      "image 1/1 C:\\Users\\lenovo\\smartfactory\\YOLO_dataset_renewal\\test\\images\\battery_img_200_4.jpg: 224x288 1 Battery, 1 Pollution, 16.0ms\n",
      "Speed: 1.9ms preprocess, 16.0ms inference, 3.1ms postprocess per image at shape (1, 3, 224, 288)\n",
      "\n",
      "image 1/1 C:\\Users\\lenovo\\smartfactory\\YOLO_dataset_renewal\\test\\images\\battery_img_202_4.jpg: 224x288 1 Battery, 1 Damaged, 19.0ms\n",
      "Speed: 3.0ms preprocess, 19.0ms inference, 3.0ms postprocess per image at shape (1, 3, 224, 288)\n",
      "\n",
      "image 1/1 C:\\Users\\lenovo\\smartfactory\\YOLO_dataset_renewal\\test\\images\\battery_img_203_5.jpg: 288x288 1 Battery, 19.0ms\n",
      "Speed: 2.0ms preprocess, 19.0ms inference, 2.0ms postprocess per image at shape (1, 3, 288, 288)\n",
      "\n",
      "image 1/1 C:\\Users\\lenovo\\smartfactory\\YOLO_dataset_renewal\\test\\images\\battery_img_205_2.jpg: 288x288 1 Battery, 16.9ms\n",
      "Speed: 2.0ms preprocess, 16.9ms inference, 3.0ms postprocess per image at shape (1, 3, 288, 288)\n",
      "\n",
      "image 1/1 C:\\Users\\lenovo\\smartfactory\\YOLO_dataset_renewal\\test\\images\\battery_img_210_6.jpg: 224x288 1 Battery, 17.0ms\n",
      "Speed: 2.0ms preprocess, 17.0ms inference, 2.0ms postprocess per image at shape (1, 3, 224, 288)\n",
      "\n",
      "image 1/1 C:\\Users\\lenovo\\smartfactory\\YOLO_dataset_renewal\\test\\images\\battery_img_211_2.jpg: 288x288 1 Battery, 23.0ms\n",
      "Speed: 3.0ms preprocess, 23.0ms inference, 2.9ms postprocess per image at shape (1, 3, 288, 288)\n",
      "\n",
      "image 1/1 C:\\Users\\lenovo\\smartfactory\\YOLO_dataset_renewal\\test\\images\\battery_img_212_4.jpg: 224x288 1 Battery, 1 Pollution, 47.0ms\n",
      "Speed: 2.0ms preprocess, 47.0ms inference, 3.0ms postprocess per image at shape (1, 3, 224, 288)\n",
      "\n",
      "image 1/1 C:\\Users\\lenovo\\smartfactory\\YOLO_dataset_renewal\\test\\images\\battery_img_213_2.jpg: 288x288 1 Battery, 18.0ms\n",
      "Speed: 3.0ms preprocess, 18.0ms inference, 3.0ms postprocess per image at shape (1, 3, 288, 288)\n",
      "\n",
      "image 1/1 C:\\Users\\lenovo\\smartfactory\\YOLO_dataset_renewal\\test\\images\\battery_img_214_5.jpg: 224x288 1 Battery, 26.1ms\n",
      "Speed: 3.0ms preprocess, 26.1ms inference, 4.0ms postprocess per image at shape (1, 3, 224, 288)\n",
      "\n",
      "image 1/1 C:\\Users\\lenovo\\smartfactory\\YOLO_dataset_renewal\\test\\images\\battery_img_218_2.jpg: 288x288 1 Battery, 19.1ms\n",
      "Speed: 2.9ms preprocess, 19.1ms inference, 1.9ms postprocess per image at shape (1, 3, 288, 288)\n",
      "\n",
      "image 1/1 C:\\Users\\lenovo\\smartfactory\\YOLO_dataset_renewal\\test\\images\\battery_img_221_1.jpg: 288x288 1 Battery, 17.0ms\n",
      "Speed: 2.0ms preprocess, 17.0ms inference, 2.0ms postprocess per image at shape (1, 3, 288, 288)\n",
      "\n",
      "image 1/1 C:\\Users\\lenovo\\smartfactory\\YOLO_dataset_renewal\\test\\images\\battery_img_221_3.jpg: 224x288 1 Battery, 17.0ms\n",
      "Speed: 2.0ms preprocess, 17.0ms inference, 3.0ms postprocess per image at shape (1, 3, 224, 288)\n",
      "\n",
      "image 1/1 C:\\Users\\lenovo\\smartfactory\\YOLO_dataset_renewal\\test\\images\\battery_img_221_5.jpg: 224x288 1 Battery, 15.0ms\n",
      "Speed: 2.0ms preprocess, 15.0ms inference, 3.0ms postprocess per image at shape (1, 3, 224, 288)\n",
      "\n",
      "image 1/1 C:\\Users\\lenovo\\smartfactory\\YOLO_dataset_renewal\\test\\images\\battery_img_223_4.jpg: 288x288 1 Battery, 1 Pollution, 22.0ms\n",
      "Speed: 3.0ms preprocess, 22.0ms inference, 2.0ms postprocess per image at shape (1, 3, 288, 288)\n",
      "\n",
      "image 1/1 C:\\Users\\lenovo\\smartfactory\\YOLO_dataset_renewal\\test\\images\\battery_img_225_3.jpg: 288x288 1 Battery, 18.0ms\n",
      "Speed: 3.0ms preprocess, 18.0ms inference, 2.0ms postprocess per image at shape (1, 3, 288, 288)\n",
      "\n",
      "image 1/1 C:\\Users\\lenovo\\smartfactory\\YOLO_dataset_renewal\\test\\images\\battery_img_227_6.jpg: 288x288 1 Battery, 17.0ms\n",
      "Speed: 3.0ms preprocess, 17.0ms inference, 2.0ms postprocess per image at shape (1, 3, 288, 288)\n",
      "\n",
      "image 1/1 C:\\Users\\lenovo\\smartfactory\\YOLO_dataset_renewal\\test\\images\\battery_img_228_1.jpg: 224x288 1 Battery, 1 Pollution, 21.0ms\n",
      "Speed: 3.0ms preprocess, 21.0ms inference, 4.0ms postprocess per image at shape (1, 3, 224, 288)\n",
      "\n",
      "image 1/1 C:\\Users\\lenovo\\smartfactory\\YOLO_dataset_renewal\\test\\images\\battery_img_231_1.jpg: 288x288 1 Battery, 1 Pollution, 19.0ms\n",
      "Speed: 3.0ms preprocess, 19.0ms inference, 3.0ms postprocess per image at shape (1, 3, 288, 288)\n",
      "\n",
      "image 1/1 C:\\Users\\lenovo\\smartfactory\\YOLO_dataset_renewal\\test\\images\\battery_img_233_2.jpg: 288x288 1 Battery, 18.0ms\n",
      "Speed: 3.0ms preprocess, 18.0ms inference, 5.0ms postprocess per image at shape (1, 3, 288, 288)\n",
      "\n",
      "image 1/1 C:\\Users\\lenovo\\smartfactory\\YOLO_dataset_renewal\\test\\images\\battery_img_235_3.jpg: 288x288 1 Battery, 26.0ms\n",
      "Speed: 2.0ms preprocess, 26.0ms inference, 3.0ms postprocess per image at shape (1, 3, 288, 288)\n",
      "\n",
      "image 1/1 C:\\Users\\lenovo\\smartfactory\\YOLO_dataset_renewal\\test\\images\\battery_img_238_5.jpg: 288x288 1 Battery, 38.0ms\n",
      "Speed: 3.0ms preprocess, 38.0ms inference, 6.0ms postprocess per image at shape (1, 3, 288, 288)\n",
      "\n",
      "image 1/1 C:\\Users\\lenovo\\smartfactory\\YOLO_dataset_renewal\\test\\images\\battery_img_240_2.jpg: 288x288 1 Battery, 2 Pollutions, 18.0ms\n",
      "Speed: 5.0ms preprocess, 18.0ms inference, 4.1ms postprocess per image at shape (1, 3, 288, 288)\n",
      "\n",
      "image 1/1 C:\\Users\\lenovo\\smartfactory\\YOLO_dataset_renewal\\test\\images\\battery_img_240_4.jpg: 224x288 1 Battery, 2 Pollutions, 17.0ms\n",
      "Speed: 4.0ms preprocess, 17.0ms inference, 2.0ms postprocess per image at shape (1, 3, 224, 288)\n",
      "\n",
      "image 1/1 C:\\Users\\lenovo\\smartfactory\\YOLO_dataset_renewal\\test\\images\\battery_img_247_2.jpg: 224x288 1 Battery, 16.0ms\n",
      "Speed: 2.9ms preprocess, 16.0ms inference, 3.1ms postprocess per image at shape (1, 3, 224, 288)\n",
      "\n",
      "image 1/1 C:\\Users\\lenovo\\smartfactory\\YOLO_dataset_renewal\\test\\images\\battery_img_247_6.jpg: 288x288 1 Battery, 1 Damaged, 19.0ms\n",
      "Speed: 3.0ms preprocess, 19.0ms inference, 2.0ms postprocess per image at shape (1, 3, 288, 288)\n",
      "\n",
      "image 1/1 C:\\Users\\lenovo\\smartfactory\\YOLO_dataset_renewal\\test\\images\\battery_img_249_1.jpg: 288x288 1 Battery, 1 Damaged, 1 Pollution, 17.1ms\n",
      "Speed: 3.0ms preprocess, 17.1ms inference, 1.9ms postprocess per image at shape (1, 3, 288, 288)\n",
      "\n",
      "image 1/1 C:\\Users\\lenovo\\smartfactory\\YOLO_dataset_renewal\\test\\images\\battery_img_249_5.jpg: 224x288 1 Battery, 16.0ms\n",
      "Speed: 2.0ms preprocess, 16.0ms inference, 1.9ms postprocess per image at shape (1, 3, 224, 288)\n",
      "\n",
      "image 1/1 C:\\Users\\lenovo\\smartfactory\\YOLO_dataset_renewal\\test\\images\\battery_img_251_3.jpg: 224x288 1 Battery, 1 Damaged, 18.0ms\n",
      "Speed: 3.0ms preprocess, 18.0ms inference, 6.1ms postprocess per image at shape (1, 3, 224, 288)\n",
      "\n",
      "image 1/1 C:\\Users\\lenovo\\smartfactory\\YOLO_dataset_renewal\\test\\images\\battery_img_251_5.jpg: 224x288 1 Battery, 15.9ms\n",
      "Speed: 3.0ms preprocess, 15.9ms inference, 4.0ms postprocess per image at shape (1, 3, 224, 288)\n",
      "\n",
      "image 1/1 C:\\Users\\lenovo\\smartfactory\\YOLO_dataset_renewal\\test\\images\\battery_img_251_6.jpg: 288x288 1 Battery, 1 Pollution, 19.9ms\n",
      "Speed: 4.1ms preprocess, 19.9ms inference, 2.0ms postprocess per image at shape (1, 3, 288, 288)\n",
      "\n",
      "image 1/1 C:\\Users\\lenovo\\smartfactory\\YOLO_dataset_renewal\\test\\images\\battery_img_252_5.jpg: 288x288 1 Battery, 17.0ms\n",
      "Speed: 4.0ms preprocess, 17.0ms inference, 3.0ms postprocess per image at shape (1, 3, 288, 288)\n",
      "\n",
      "image 1/1 C:\\Users\\lenovo\\smartfactory\\YOLO_dataset_renewal\\test\\images\\battery_img_253_2.jpg: 288x288 1 Battery, 1 Pollution, 17.0ms\n",
      "Speed: 2.0ms preprocess, 17.0ms inference, 3.0ms postprocess per image at shape (1, 3, 288, 288)\n",
      "\n",
      "image 1/1 C:\\Users\\lenovo\\smartfactory\\YOLO_dataset_renewal\\test\\images\\battery_img_253_3.jpg: 224x288 1 Battery, 17.0ms\n",
      "Speed: 2.0ms preprocess, 17.0ms inference, 2.0ms postprocess per image at shape (1, 3, 224, 288)\n",
      "\n",
      "image 1/1 C:\\Users\\lenovo\\smartfactory\\YOLO_dataset_renewal\\test\\images\\battery_img_253_4.jpg: 288x288 1 Battery, 2 Pollutions, 19.0ms\n",
      "Speed: 3.0ms preprocess, 19.0ms inference, 2.0ms postprocess per image at shape (1, 3, 288, 288)\n",
      "\n",
      "image 1/1 C:\\Users\\lenovo\\smartfactory\\YOLO_dataset_renewal\\test\\images\\battery_img_256_6.jpg: 288x288 1 Battery, 17.0ms\n",
      "Speed: 3.0ms preprocess, 17.0ms inference, 2.0ms postprocess per image at shape (1, 3, 288, 288)\n",
      "\n",
      "image 1/1 C:\\Users\\lenovo\\smartfactory\\YOLO_dataset_renewal\\test\\images\\battery_img_257_2.jpg: 224x288 1 Battery, 18.0ms\n",
      "Speed: 1.0ms preprocess, 18.0ms inference, 2.0ms postprocess per image at shape (1, 3, 224, 288)\n",
      "\n",
      "image 1/1 C:\\Users\\lenovo\\smartfactory\\YOLO_dataset_renewal\\test\\images\\battery_img_258_3.jpg: 224x288 1 Battery, 16.0ms\n",
      "Speed: 2.0ms preprocess, 16.0ms inference, 3.0ms postprocess per image at shape (1, 3, 224, 288)\n",
      "\n",
      "image 1/1 C:\\Users\\lenovo\\smartfactory\\YOLO_dataset_renewal\\test\\images\\battery_img_261_3.jpg: 224x288 1 Battery, 20.0ms\n",
      "Speed: 3.0ms preprocess, 20.0ms inference, 3.0ms postprocess per image at shape (1, 3, 224, 288)\n",
      "\n",
      "image 1/1 C:\\Users\\lenovo\\smartfactory\\YOLO_dataset_renewal\\test\\images\\battery_img_261_6.jpg: 288x288 1 Battery, 20.0ms\n",
      "Speed: 3.0ms preprocess, 20.0ms inference, 5.0ms postprocess per image at shape (1, 3, 288, 288)\n",
      "\n",
      "image 1/1 C:\\Users\\lenovo\\smartfactory\\YOLO_dataset_renewal\\test\\images\\battery_img_262_2.jpg: 224x288 1 Battery, 19.0ms\n",
      "Speed: 3.0ms preprocess, 19.0ms inference, 3.0ms postprocess per image at shape (1, 3, 224, 288)\n",
      "\n",
      "image 1/1 C:\\Users\\lenovo\\smartfactory\\YOLO_dataset_renewal\\test\\images\\battery_img_262_5.jpg: 288x288 1 Battery, 1 Pollution, 20.0ms\n",
      "Speed: 3.0ms preprocess, 20.0ms inference, 2.0ms postprocess per image at shape (1, 3, 288, 288)\n",
      "\n",
      "image 1/1 C:\\Users\\lenovo\\smartfactory\\YOLO_dataset_renewal\\test\\images\\battery_img_265_1.jpg: 224x288 1 Battery, 1 Damaged, 19.0ms\n",
      "Speed: 2.0ms preprocess, 19.0ms inference, 3.0ms postprocess per image at shape (1, 3, 224, 288)\n",
      "\n",
      "image 1/1 C:\\Users\\lenovo\\smartfactory\\YOLO_dataset_renewal\\test\\images\\battery_img_265_4.jpg: 224x288 1 Battery, 1 Damaged, 1 Pollution, 16.0ms\n",
      "Speed: 3.0ms preprocess, 16.0ms inference, 3.0ms postprocess per image at shape (1, 3, 224, 288)\n",
      "\n",
      "image 1/1 C:\\Users\\lenovo\\smartfactory\\YOLO_dataset_renewal\\test\\images\\battery_img_268_6.jpg: 224x288 1 Battery, 16.0ms\n",
      "Speed: 2.0ms preprocess, 16.0ms inference, 3.0ms postprocess per image at shape (1, 3, 224, 288)\n",
      "\n",
      "image 1/1 C:\\Users\\lenovo\\smartfactory\\YOLO_dataset_renewal\\test\\images\\battery_img_270_5.jpg: 288x288 1 Battery, 1 Damaged, 22.0ms\n",
      "Speed: 3.0ms preprocess, 22.0ms inference, 2.1ms postprocess per image at shape (1, 3, 288, 288)\n",
      "\n",
      "image 1/1 C:\\Users\\lenovo\\smartfactory\\YOLO_dataset_renewal\\test\\images\\battery_img_270_6.jpg: 224x288 1 Battery, 1 Damaged, 16.9ms\n",
      "Speed: 2.0ms preprocess, 16.9ms inference, 3.0ms postprocess per image at shape (1, 3, 224, 288)\n",
      "\n",
      "image 1/1 C:\\Users\\lenovo\\smartfactory\\YOLO_dataset_renewal\\test\\images\\battery_img_273_2.jpg: 288x288 1 Battery, 19.0ms\n",
      "Speed: 2.0ms preprocess, 19.0ms inference, 2.0ms postprocess per image at shape (1, 3, 288, 288)\n",
      "\n",
      "image 1/1 C:\\Users\\lenovo\\smartfactory\\YOLO_dataset_renewal\\test\\images\\battery_img_275_1.jpg: 224x288 1 Battery, 19.0ms\n",
      "Speed: 2.0ms preprocess, 19.0ms inference, 2.0ms postprocess per image at shape (1, 3, 224, 288)\n",
      "\n",
      "image 1/1 C:\\Users\\lenovo\\smartfactory\\YOLO_dataset_renewal\\test\\images\\battery_img_276_4.jpg: 288x288 1 Battery, 1 Damaged, 42.0ms\n",
      "Speed: 3.0ms preprocess, 42.0ms inference, 2.0ms postprocess per image at shape (1, 3, 288, 288)\n",
      "\n",
      "image 1/1 C:\\Users\\lenovo\\smartfactory\\YOLO_dataset_renewal\\test\\images\\battery_img_277_3.jpg: 288x288 1 Battery, 2 Damageds, 18.0ms\n",
      "Speed: 3.0ms preprocess, 18.0ms inference, 2.0ms postprocess per image at shape (1, 3, 288, 288)\n",
      "\n",
      "image 1/1 C:\\Users\\lenovo\\smartfactory\\YOLO_dataset_renewal\\test\\images\\battery_img_278_5.jpg: 288x288 1 Battery, 1 Pollution, 24.0ms\n",
      "Speed: 3.0ms preprocess, 24.0ms inference, 3.0ms postprocess per image at shape (1, 3, 288, 288)\n",
      "\n",
      "image 1/1 C:\\Users\\lenovo\\smartfactory\\YOLO_dataset_renewal\\test\\images\\battery_img_279_3.jpg: 288x288 1 Battery, 1 Damaged, 17.0ms\n",
      "Speed: 3.0ms preprocess, 17.0ms inference, 3.0ms postprocess per image at shape (1, 3, 288, 288)\n",
      "\n",
      "image 1/1 C:\\Users\\lenovo\\smartfactory\\YOLO_dataset_renewal\\test\\images\\battery_img_283_1.jpg: 224x288 1 Battery, 28.0ms\n",
      "Speed: 3.0ms preprocess, 28.0ms inference, 4.0ms postprocess per image at shape (1, 3, 224, 288)\n",
      "\n",
      "image 1/1 C:\\Users\\lenovo\\smartfactory\\YOLO_dataset_renewal\\test\\images\\battery_img_283_4.jpg: 288x288 1 Battery, 1 Pollution, 18.0ms\n",
      "Speed: 2.0ms preprocess, 18.0ms inference, 2.0ms postprocess per image at shape (1, 3, 288, 288)\n",
      "\n",
      "image 1/1 C:\\Users\\lenovo\\smartfactory\\YOLO_dataset_renewal\\test\\images\\battery_img_284_6.jpg: 288x288 1 Battery, 17.0ms\n",
      "Speed: 3.0ms preprocess, 17.0ms inference, 3.0ms postprocess per image at shape (1, 3, 288, 288)\n",
      "\n",
      "image 1/1 C:\\Users\\lenovo\\smartfactory\\YOLO_dataset_renewal\\test\\images\\battery_img_287_3.jpg: 288x288 1 Battery, 1 Damaged, 17.0ms\n",
      "Speed: 4.0ms preprocess, 17.0ms inference, 2.0ms postprocess per image at shape (1, 3, 288, 288)\n",
      "\n",
      "image 1/1 C:\\Users\\lenovo\\smartfactory\\YOLO_dataset_renewal\\test\\images\\battery_img_289_6.jpg: 288x288 1 Battery, 2 Damageds, 17.0ms\n",
      "Speed: 2.0ms preprocess, 17.0ms inference, 2.0ms postprocess per image at shape (1, 3, 288, 288)\n",
      "\n",
      "image 1/1 C:\\Users\\lenovo\\smartfactory\\YOLO_dataset_renewal\\test\\images\\battery_img_290_6.jpg: 224x288 1 Battery, 1 Damaged, 17.9ms\n",
      "Speed: 3.1ms preprocess, 17.9ms inference, 2.0ms postprocess per image at shape (1, 3, 224, 288)\n",
      "\n",
      "image 1/1 C:\\Users\\lenovo\\smartfactory\\YOLO_dataset_renewal\\test\\images\\battery_img_292_3.jpg: 288x288 1 Battery, 1 Damaged, 18.0ms\n",
      "Speed: 1.9ms preprocess, 18.0ms inference, 3.0ms postprocess per image at shape (1, 3, 288, 288)\n",
      "\n",
      "image 1/1 C:\\Users\\lenovo\\smartfactory\\YOLO_dataset_renewal\\test\\images\\battery_img_295_3.jpg: 288x288 1 Battery, 1 Damaged, 17.0ms\n",
      "Speed: 3.0ms preprocess, 17.0ms inference, 5.0ms postprocess per image at shape (1, 3, 288, 288)\n",
      "\n",
      "image 1/1 C:\\Users\\lenovo\\smartfactory\\YOLO_dataset_renewal\\test\\images\\battery_img_298_6.jpg: 224x288 1 Battery, 2 Damageds, 26.0ms\n",
      "Speed: 4.0ms preprocess, 26.0ms inference, 8.0ms postprocess per image at shape (1, 3, 224, 288)\n",
      "\n",
      "image 1/1 C:\\Users\\lenovo\\smartfactory\\YOLO_dataset_renewal\\test\\images\\battery_img_299_2.jpg: 224x288 1 Battery, 15.0ms\n",
      "Speed: 3.0ms preprocess, 15.0ms inference, 4.0ms postprocess per image at shape (1, 3, 224, 288)\n",
      "\n",
      "image 1/1 C:\\Users\\lenovo\\smartfactory\\YOLO_dataset_renewal\\test\\images\\battery_img_302_4.jpg: 224x288 1 Battery, 1 Pollution, 16.0ms\n",
      "Speed: 3.0ms preprocess, 16.0ms inference, 2.0ms postprocess per image at shape (1, 3, 224, 288)\n",
      "\n",
      "image 1/1 C:\\Users\\lenovo\\smartfactory\\YOLO_dataset_renewal\\test\\images\\battery_img_303_3.jpg: 224x288 1 Battery, 15.9ms\n",
      "Speed: 2.1ms preprocess, 15.9ms inference, 2.0ms postprocess per image at shape (1, 3, 224, 288)\n",
      "\n",
      "image 1/1 C:\\Users\\lenovo\\smartfactory\\YOLO_dataset_renewal\\test\\images\\battery_img_303_5.jpg: 288x288 1 Battery, 19.0ms\n",
      "Speed: 2.0ms preprocess, 19.0ms inference, 3.0ms postprocess per image at shape (1, 3, 288, 288)\n",
      "\n",
      "image 1/1 C:\\Users\\lenovo\\smartfactory\\YOLO_dataset_renewal\\test\\images\\battery_img_304_1.jpg: 288x288 1 Battery, 1 Pollution, 18.0ms\n",
      "Speed: 3.0ms preprocess, 18.0ms inference, 4.0ms postprocess per image at shape (1, 3, 288, 288)\n",
      "\n",
      "image 1/1 C:\\Users\\lenovo\\smartfactory\\YOLO_dataset_renewal\\test\\images\\battery_img_304_6.jpg: 288x288 1 Battery, 1 Damaged, 17.0ms\n",
      "Speed: 2.0ms preprocess, 17.0ms inference, 3.0ms postprocess per image at shape (1, 3, 288, 288)\n",
      "\n",
      "image 1/1 C:\\Users\\lenovo\\smartfactory\\YOLO_dataset_renewal\\test\\images\\battery_img_309_3.jpg: 288x288 1 Battery, 1 Damaged, 24.0ms\n",
      "Speed: 3.0ms preprocess, 24.0ms inference, 3.0ms postprocess per image at shape (1, 3, 288, 288)\n",
      "\n",
      "image 1/1 C:\\Users\\lenovo\\smartfactory\\YOLO_dataset_renewal\\test\\images\\battery_img_311_2.jpg: 288x288 1 Battery, 18.0ms\n",
      "Speed: 3.0ms preprocess, 18.0ms inference, 3.0ms postprocess per image at shape (1, 3, 288, 288)\n",
      "\n",
      "image 1/1 C:\\Users\\lenovo\\smartfactory\\YOLO_dataset_renewal\\test\\images\\battery_img_311_4.jpg: 288x288 1 Battery, 18.0ms\n",
      "Speed: 3.0ms preprocess, 18.0ms inference, 2.0ms postprocess per image at shape (1, 3, 288, 288)\n",
      "예측 결과 저장이 완료되었습니다.\n"
     ]
    }
   ],
   "source": [
    "import os\n",
    "from ultralytics import YOLO\n",
    "\n",
    "# 3. 모델 평가 및 테스트\n",
    "# 학습된 모델의 정확한 경로를 확인\n",
    "\n",
    "##########################\n",
    "###### 경로 바꾸기 ########\n",
    "##########################\n",
    "\n",
    "model_dir = 'runs/detect/train29/weights'\n",
    "model_path = os.path.join(model_dir, 'best.pt')\n",
    "\n",
    "# 모델 경로 확인\n",
    "if os.path.exists(model_path):\n",
    "    model = YOLO(model_path)\n",
    "    # 모델 평가 (검증 데이터셋 사용)\n",
    "    # results = model.val(data=data_config)\n",
    "    # print(results)\n",
    "else:\n",
    "    print(f\"모델 파일을 찾을 수 없습니다: {model_path}\")\n",
    "\n",
    "# 테스트 이미지 디렉토리 설정\n",
    "test_dir = 'YOLO_dataset_renewal/test/images'\n",
    "\n",
    "# 결과를 저장할 디렉토리 설정\n",
    "\n",
    "##########################\n",
    "###### 경로 바꾸기 ########\n",
    "##########################\n",
    "\n",
    "save_dir = 'D:/SmartFactory/image/test29'\n",
    "if not os.path.exists(save_dir):\n",
    "    os.makedirs(save_dir)  # 디렉토리가 없으면 생성\n",
    "\n",
    "# PNG와 JPG 파일을 모두 가져오기\n",
    "images = [f for f in os.listdir(test_dir) if f.endswith('.png') or f.endswith('.jpg')]\n",
    "for image in images:  # 모든 이미지에 대해 반복\n",
    "    image_path = os.path.join(test_dir, image)\n",
    "    results = model(image_path)\n",
    "\n",
    "    # 예측 결과를 개별적으로 저장\n",
    "    for result_idx, result in enumerate(results):\n",
    "        save_path = os.path.join(save_dir, f'{os.path.splitext(image)[0]}_prediction_{result_idx}.png')\n",
    "        result.save(filename=save_path)\n",
    "\n",
    "print(\"예측 결과 저장이 완료되었습니다.\")\n"
   ]
  },
  {
   "cell_type": "code",
   "execution_count": 23,
   "id": "f34cb74f-ae6a-455e-b5d8-1d192ab0aaaa",
   "metadata": {},
   "outputs": [
    {
     "name": "stdout",
     "output_type": "stream",
     "text": [
      "Collecting ultralytics\n",
      "  Using cached ultralytics-8.2.69-py3-none-any.whl.metadata (41 kB)\n",
      "Requirement already satisfied: ray[tune] in d:\\anaconda\\lib\\site-packages (2.33.0)\n",
      "Requirement already satisfied: numpy<2.0.0,>=1.23.0 in d:\\anaconda\\lib\\site-packages (from ultralytics) (1.26.4)\n",
      "Requirement already satisfied: matplotlib>=3.3.0 in d:\\anaconda\\lib\\site-packages (from ultralytics) (3.8.4)\n",
      "Requirement already satisfied: opencv-python>=4.6.0 in d:\\anaconda\\lib\\site-packages (from ultralytics) (4.10.0.84)\n",
      "Requirement already satisfied: pillow>=7.1.2 in d:\\anaconda\\lib\\site-packages (from ultralytics) (10.3.0)\n",
      "Requirement already satisfied: pyyaml>=5.3.1 in d:\\anaconda\\lib\\site-packages (from ultralytics) (6.0.1)\n",
      "Requirement already satisfied: requests>=2.23.0 in d:\\anaconda\\lib\\site-packages (from ultralytics) (2.32.2)\n",
      "Requirement already satisfied: scipy>=1.4.1 in d:\\anaconda\\lib\\site-packages (from ultralytics) (1.13.1)\n",
      "Requirement already satisfied: torch>=1.8.0 in d:\\anaconda\\lib\\site-packages (from ultralytics) (2.3.1)\n",
      "Requirement already satisfied: torchvision>=0.9.0 in d:\\anaconda\\lib\\site-packages (from ultralytics) (0.18.1)\n",
      "Requirement already satisfied: tqdm>=4.64.0 in d:\\anaconda\\lib\\site-packages (from ultralytics) (4.66.4)\n",
      "Requirement already satisfied: psutil in d:\\anaconda\\lib\\site-packages (from ultralytics) (5.9.0)\n",
      "Requirement already satisfied: py-cpuinfo in d:\\anaconda\\lib\\site-packages (from ultralytics) (9.0.0)\n",
      "Requirement already satisfied: pandas>=1.1.4 in d:\\anaconda\\lib\\site-packages (from ultralytics) (2.2.2)\n",
      "Requirement already satisfied: seaborn>=0.11.0 in d:\\anaconda\\lib\\site-packages (from ultralytics) (0.13.2)\n",
      "Collecting ultralytics-thop>=2.0.0 (from ultralytics)\n",
      "  Using cached ultralytics_thop-2.0.0-py3-none-any.whl.metadata (8.5 kB)\n",
      "Requirement already satisfied: click>=7.0 in d:\\anaconda\\lib\\site-packages (from ray[tune]) (8.1.7)\n",
      "Requirement already satisfied: filelock in d:\\anaconda\\lib\\site-packages (from ray[tune]) (3.13.1)\n",
      "Requirement already satisfied: jsonschema in d:\\anaconda\\lib\\site-packages (from ray[tune]) (4.19.2)\n",
      "Requirement already satisfied: msgpack<2.0.0,>=1.0.0 in d:\\anaconda\\lib\\site-packages (from ray[tune]) (1.0.3)\n",
      "Requirement already satisfied: packaging in d:\\anaconda\\lib\\site-packages (from ray[tune]) (23.2)\n",
      "Requirement already satisfied: protobuf!=3.19.5,>=3.15.3 in d:\\anaconda\\lib\\site-packages (from ray[tune]) (3.20.3)\n",
      "Requirement already satisfied: aiosignal in d:\\anaconda\\lib\\site-packages (from ray[tune]) (1.2.0)\n",
      "Requirement already satisfied: frozenlist in d:\\anaconda\\lib\\site-packages (from ray[tune]) (1.4.0)\n",
      "Requirement already satisfied: tensorboardX>=1.9 in d:\\anaconda\\lib\\site-packages (from ray[tune]) (2.6.2.2)\n",
      "Requirement already satisfied: pyarrow>=6.0.1 in d:\\anaconda\\lib\\site-packages (from ray[tune]) (14.0.2)\n",
      "Requirement already satisfied: fsspec in d:\\anaconda\\lib\\site-packages (from ray[tune]) (2024.3.1)\n",
      "Requirement already satisfied: colorama in d:\\anaconda\\lib\\site-packages (from click>=7.0->ray[tune]) (0.4.6)\n",
      "Requirement already satisfied: contourpy>=1.0.1 in d:\\anaconda\\lib\\site-packages (from matplotlib>=3.3.0->ultralytics) (1.2.0)\n",
      "Requirement already satisfied: cycler>=0.10 in d:\\anaconda\\lib\\site-packages (from matplotlib>=3.3.0->ultralytics) (0.11.0)\n",
      "Requirement already satisfied: fonttools>=4.22.0 in d:\\anaconda\\lib\\site-packages (from matplotlib>=3.3.0->ultralytics) (4.51.0)\n",
      "Requirement already satisfied: kiwisolver>=1.3.1 in d:\\anaconda\\lib\\site-packages (from matplotlib>=3.3.0->ultralytics) (1.4.4)\n",
      "Requirement already satisfied: pyparsing>=2.3.1 in d:\\anaconda\\lib\\site-packages (from matplotlib>=3.3.0->ultralytics) (3.0.9)\n",
      "Requirement already satisfied: python-dateutil>=2.7 in d:\\anaconda\\lib\\site-packages (from matplotlib>=3.3.0->ultralytics) (2.9.0.post0)\n",
      "Requirement already satisfied: pytz>=2020.1 in d:\\anaconda\\lib\\site-packages (from pandas>=1.1.4->ultralytics) (2024.1)\n",
      "Requirement already satisfied: tzdata>=2022.7 in d:\\anaconda\\lib\\site-packages (from pandas>=1.1.4->ultralytics) (2023.3)\n",
      "Requirement already satisfied: charset-normalizer<4,>=2 in d:\\anaconda\\lib\\site-packages (from requests>=2.23.0->ultralytics) (2.0.4)\n",
      "Requirement already satisfied: idna<4,>=2.5 in d:\\anaconda\\lib\\site-packages (from requests>=2.23.0->ultralytics) (3.7)\n",
      "Requirement already satisfied: urllib3<3,>=1.21.1 in d:\\anaconda\\lib\\site-packages (from requests>=2.23.0->ultralytics) (2.2.2)\n",
      "Requirement already satisfied: certifi>=2017.4.17 in d:\\anaconda\\lib\\site-packages (from requests>=2.23.0->ultralytics) (2024.7.4)\n",
      "Requirement already satisfied: typing-extensions>=4.8.0 in d:\\anaconda\\lib\\site-packages (from torch>=1.8.0->ultralytics) (4.11.0)\n",
      "Requirement already satisfied: sympy in d:\\anaconda\\lib\\site-packages (from torch>=1.8.0->ultralytics) (1.12)\n",
      "Requirement already satisfied: networkx in d:\\anaconda\\lib\\site-packages (from torch>=1.8.0->ultralytics) (3.2.1)\n",
      "Requirement already satisfied: jinja2 in d:\\anaconda\\lib\\site-packages (from torch>=1.8.0->ultralytics) (3.1.4)\n",
      "Requirement already satisfied: mkl<=2021.4.0,>=2021.1.1 in d:\\anaconda\\lib\\site-packages (from torch>=1.8.0->ultralytics) (2021.4.0)\n",
      "Requirement already satisfied: attrs>=22.2.0 in d:\\anaconda\\lib\\site-packages (from jsonschema->ray[tune]) (23.1.0)\n",
      "Requirement already satisfied: jsonschema-specifications>=2023.03.6 in d:\\anaconda\\lib\\site-packages (from jsonschema->ray[tune]) (2023.7.1)\n",
      "Requirement already satisfied: referencing>=0.28.4 in d:\\anaconda\\lib\\site-packages (from jsonschema->ray[tune]) (0.30.2)\n",
      "Requirement already satisfied: rpds-py>=0.7.1 in d:\\anaconda\\lib\\site-packages (from jsonschema->ray[tune]) (0.10.6)\n",
      "Requirement already satisfied: intel-openmp==2021.* in d:\\anaconda\\lib\\site-packages (from mkl<=2021.4.0,>=2021.1.1->torch>=1.8.0->ultralytics) (2021.4.0)\n",
      "Requirement already satisfied: tbb==2021.* in d:\\anaconda\\lib\\site-packages (from mkl<=2021.4.0,>=2021.1.1->torch>=1.8.0->ultralytics) (2021.13.0)\n",
      "Requirement already satisfied: six>=1.5 in d:\\anaconda\\lib\\site-packages (from python-dateutil>=2.7->matplotlib>=3.3.0->ultralytics) (1.16.0)\n",
      "Requirement already satisfied: MarkupSafe>=2.0 in d:\\anaconda\\lib\\site-packages (from jinja2->torch>=1.8.0->ultralytics) (2.1.3)\n",
      "Requirement already satisfied: mpmath>=0.19 in d:\\anaconda\\lib\\site-packages (from sympy->torch>=1.8.0->ultralytics) (1.3.0)\n",
      "Using cached ultralytics-8.2.69-py3-none-any.whl (825 kB)\n",
      "Using cached ultralytics_thop-2.0.0-py3-none-any.whl (25 kB)\n",
      "Installing collected packages: ultralytics-thop, ultralytics\n",
      "Successfully installed ultralytics-8.2.69 ultralytics-thop-2.0.0\n"
     ]
    }
   ],
   "source": [
    "!pip install -U ultralytics \"ray[tune]\""
   ]
  },
  {
   "cell_type": "code",
   "execution_count": 25,
   "id": "3af7a14d-5926-4b97-8dcc-c58fb05c7711",
   "metadata": {},
   "outputs": [
    {
     "data": {
      "text/html": [
       "<div class=\"tuneStatus\">\n",
       "  <div style=\"display: flex;flex-direction: row\">\n",
       "    <div style=\"display: flex;flex-direction: column;\">\n",
       "      <h3>Tune Status</h3>\n",
       "      <table>\n",
       "<tbody>\n",
       "<tr><td>Current time:</td><td>2024-07-30 17:28:38</td></tr>\n",
       "<tr><td>Running for: </td><td>00:01:28.56        </td></tr>\n",
       "<tr><td>Memory:      </td><td>13.6/15.8 GiB      </td></tr>\n",
       "</tbody>\n",
       "</table>\n",
       "    </div>\n",
       "    <div class=\"vDivider\"></div>\n",
       "    <div class=\"systemInfo\">\n",
       "      <h3>System Info</h3>\n",
       "      Using AsyncHyperBand: num_stopped=0<br>Bracket: Iter 30.000: None | Iter 10.000: None<br>Logical resource usage: 7.0/8 CPUs, 0/1 GPUs (0.0/1.0 accelerator_type:G)\n",
       "    </div>\n",
       "    <div class=\"vDivider\"></div>\n",
       "<div class=\"messages\">\n",
       "  <h3>Messages</h3>\n",
       "  \n",
       "  \n",
       "  Number of errored trials: 9<br><table>\n",
       "<thead>\n",
       "<tr><th>Trial name       </th><th style=\"text-align: right;\">  # failures</th><th>error file                                                                                                                                                                                                           </th></tr>\n",
       "</thead>\n",
       "<tbody>\n",
       "<tr><td>_tune_83797_00000</td><td style=\"text-align: right;\">           1</td><td>C:/Users/lenovo/AppData/Local/Temp/ray/session_2024-07-30_17-25-43_660609_12812/artifacts/2024-07-30_17-27-09/_tune_2024-07-30_17-27-09/driver_artifacts/_tune_83797_00000_0_lr0=0.0549_2024-07-30_17-27-09/error.txt</td></tr>\n",
       "<tr><td>_tune_83797_00001</td><td style=\"text-align: right;\">           1</td><td>C:/Users/lenovo/AppData/Local/Temp/ray/session_2024-07-30_17-25-43_660609_12812/artifacts/2024-07-30_17-27-09/_tune_2024-07-30_17-27-09/driver_artifacts/_tune_83797_00001_1_lr0=0.0603_2024-07-30_17-27-09/error.txt</td></tr>\n",
       "<tr><td>_tune_83797_00002</td><td style=\"text-align: right;\">           1</td><td>C:/Users/lenovo/AppData/Local/Temp/ray/session_2024-07-30_17-25-43_660609_12812/artifacts/2024-07-30_17-27-09/_tune_2024-07-30_17-27-09/driver_artifacts/_tune_83797_00002_2_lr0=0.0424_2024-07-30_17-27-09/error.txt</td></tr>\n",
       "<tr><td>_tune_83797_00003</td><td style=\"text-align: right;\">           1</td><td>C:/Users/lenovo/AppData/Local/Temp/ray/session_2024-07-30_17-25-43_660609_12812/artifacts/2024-07-30_17-27-09/_tune_2024-07-30_17-27-09/driver_artifacts/_tune_83797_00003_3_lr0=0.0438_2024-07-30_17-27-09/error.txt</td></tr>\n",
       "<tr><td>_tune_83797_00004</td><td style=\"text-align: right;\">           1</td><td>C:/Users/lenovo/AppData/Local/Temp/ray/session_2024-07-30_17-25-43_660609_12812/artifacts/2024-07-30_17-27-09/_tune_2024-07-30_17-27-09/driver_artifacts/_tune_83797_00004_4_lr0=0.0964_2024-07-30_17-27-09/error.txt</td></tr>\n",
       "<tr><td>_tune_83797_00005</td><td style=\"text-align: right;\">           1</td><td>C:/Users/lenovo/AppData/Local/Temp/ray/session_2024-07-30_17-25-43_660609_12812/artifacts/2024-07-30_17-27-09/_tune_2024-07-30_17-27-09/driver_artifacts/_tune_83797_00005_5_lr0=0.0792_2024-07-30_17-27-09/error.txt</td></tr>\n",
       "<tr><td>_tune_83797_00006</td><td style=\"text-align: right;\">           1</td><td>C:/Users/lenovo/AppData/Local/Temp/ray/session_2024-07-30_17-25-43_660609_12812/artifacts/2024-07-30_17-27-09/_tune_2024-07-30_17-27-09/driver_artifacts/_tune_83797_00006_6_lr0=0.0568_2024-07-30_17-27-09/error.txt</td></tr>\n",
       "<tr><td>_tune_83797_00007</td><td style=\"text-align: right;\">           1</td><td>C:/Users/lenovo/AppData/Local/Temp/ray/session_2024-07-30_17-25-43_660609_12812/artifacts/2024-07-30_17-27-09/_tune_2024-07-30_17-27-09/driver_artifacts/_tune_83797_00007_7_lr0=0.0071_2024-07-30_17-27-09/error.txt</td></tr>\n",
       "<tr><td>_tune_83797_00008</td><td style=\"text-align: right;\">           1</td><td>C:/Users/lenovo/AppData/Local/Temp/ray/session_2024-07-30_17-25-43_660609_12812/artifacts/2024-07-30_17-27-09/_tune_2024-07-30_17-27-09/driver_artifacts/_tune_83797_00008_8_lr0=0.0020_2024-07-30_17-27-09/error.txt</td></tr>\n",
       "</tbody>\n",
       "</table>\n",
       "</div>\n",
       "<style>\n",
       ".messages {\n",
       "  color: var(--jp-ui-font-color1);\n",
       "  display: flex;\n",
       "  flex-direction: column;\n",
       "  padding-left: 1em;\n",
       "  overflow-y: auto;\n",
       "}\n",
       ".messages h3 {\n",
       "  font-weight: bold;\n",
       "}\n",
       ".vDivider {\n",
       "  border-left-width: var(--jp-border-width);\n",
       "  border-left-color: var(--jp-border-color0);\n",
       "  border-left-style: solid;\n",
       "  margin: 0.5em 1em 0.5em 1em;\n",
       "}\n",
       "</style>\n",
       "\n",
       "  </div>\n",
       "  <div class=\"hDivider\"></div>\n",
       "  <div class=\"trialStatus\">\n",
       "    <h3>Trial Status</h3>\n",
       "    <table>\n",
       "<thead>\n",
       "<tr><th>Trial name       </th><th>status  </th><th>loc            </th><th style=\"text-align: right;\">       lr0</th></tr>\n",
       "</thead>\n",
       "<tbody>\n",
       "<tr><td>_tune_83797_00009</td><td>RUNNING </td><td>127.0.0.1:25252</td><td style=\"text-align: right;\">0.0778179 </td></tr>\n",
       "<tr><td>_tune_83797_00000</td><td>ERROR   </td><td>127.0.0.1:16264</td><td style=\"text-align: right;\">0.0548859 </td></tr>\n",
       "<tr><td>_tune_83797_00001</td><td>ERROR   </td><td>127.0.0.1:3812 </td><td style=\"text-align: right;\">0.0602803 </td></tr>\n",
       "<tr><td>_tune_83797_00002</td><td>ERROR   </td><td>127.0.0.1:4488 </td><td style=\"text-align: right;\">0.0423712 </td></tr>\n",
       "<tr><td>_tune_83797_00003</td><td>ERROR   </td><td>127.0.0.1:10656</td><td style=\"text-align: right;\">0.0437643 </td></tr>\n",
       "<tr><td>_tune_83797_00004</td><td>ERROR   </td><td>127.0.0.1:14824</td><td style=\"text-align: right;\">0.0963666 </td></tr>\n",
       "<tr><td>_tune_83797_00005</td><td>ERROR   </td><td>127.0.0.1:12008</td><td style=\"text-align: right;\">0.0791746 </td></tr>\n",
       "<tr><td>_tune_83797_00006</td><td>ERROR   </td><td>127.0.0.1:13572</td><td style=\"text-align: right;\">0.0568088 </td></tr>\n",
       "<tr><td>_tune_83797_00007</td><td>ERROR   </td><td>127.0.0.1:22232</td><td style=\"text-align: right;\">0.0071129 </td></tr>\n",
       "<tr><td>_tune_83797_00008</td><td>ERROR   </td><td>127.0.0.1:20212</td><td style=\"text-align: right;\">0.00203164</td></tr>\n",
       "</tbody>\n",
       "</table>\n",
       "  </div>\n",
       "</div>\n",
       "<style>\n",
       ".tuneStatus {\n",
       "  color: var(--jp-ui-font-color1);\n",
       "}\n",
       ".tuneStatus .systemInfo {\n",
       "  display: flex;\n",
       "  flex-direction: column;\n",
       "}\n",
       ".tuneStatus td {\n",
       "  white-space: nowrap;\n",
       "}\n",
       ".tuneStatus .trialStatus {\n",
       "  display: flex;\n",
       "  flex-direction: column;\n",
       "}\n",
       ".tuneStatus h3 {\n",
       "  font-weight: bold;\n",
       "}\n",
       ".tuneStatus .hDivider {\n",
       "  border-bottom-width: var(--jp-border-width);\n",
       "  border-bottom-color: var(--jp-border-color0);\n",
       "  border-bottom-style: solid;\n",
       "}\n",
       ".tuneStatus .vDivider {\n",
       "  border-left-width: var(--jp-border-width);\n",
       "  border-left-color: var(--jp-border-color0);\n",
       "  border-left-style: solid;\n",
       "  margin: 0.5em 1em 0.5em 1em;\n",
       "}\n",
       "</style>\n"
      ],
      "text/plain": [
       "<IPython.core.display.HTML object>"
      ]
     },
     "metadata": {},
     "output_type": "display_data"
    },
    {
     "name": "stderr",
     "output_type": "stream",
     "text": [
      "2024-07-30 17:27:09,761\tINFO wandb.py:307 -- Already logged into W&B.\n",
      "2024-07-30 17:27:17,693\tERROR tune_controller.py:1332 -- Trial task failed for trial _tune_83797_00000\n",
      "Traceback (most recent call last):\n",
      "  File \"D:\\Anaconda\\envs\\py380\\lib\\site-packages\\ray\\air\\execution\\_internal\\event_manager.py\", line 110, in resolve_future\n",
      "    result = ray.get(future)\n",
      "  File \"D:\\Anaconda\\envs\\py380\\lib\\site-packages\\ray\\_private\\auto_init_hook.py\", line 21, in auto_init_wrapper\n",
      "    return fn(*args, **kwargs)\n",
      "  File \"D:\\Anaconda\\envs\\py380\\lib\\site-packages\\ray\\_private\\client_mode_hook.py\", line 103, in wrapper\n",
      "    return func(*args, **kwargs)\n",
      "  File \"D:\\Anaconda\\envs\\py380\\lib\\site-packages\\ray\\_private\\worker.py\", line 2667, in get\n",
      "    values, debugger_breakpoint = worker.get_objects(object_refs, timeout=timeout)\n",
      "  File \"D:\\Anaconda\\envs\\py380\\lib\\site-packages\\ray\\_private\\worker.py\", line 864, in get_objects\n",
      "    raise value.as_instanceof_cause()\n",
      "ray.exceptions.RayTaskError(AssertionError): \u001b[36mray::ImplicitFunc.train()\u001b[39m (pid=16264, ip=127.0.0.1, actor_id=dd93e0491bfbbfb1afca276401000000, repr=_tune)\n",
      "  File \"python\\ray\\_raylet.pyx\", line 1889, in ray._raylet.execute_task\n",
      "  File \"python\\ray\\_raylet.pyx\", line 1830, in ray._raylet.execute_task.function_executor\n",
      "  File \"D:\\Anaconda\\envs\\py380\\lib\\site-packages\\ray\\_private\\function_manager.py\", line 724, in actor_method_executor\n",
      "    return method(__ray_actor, *args, **kwargs)\n",
      "  File \"D:\\Anaconda\\envs\\py380\\lib\\site-packages\\ray\\util\\tracing\\tracing_helper.py\", line 467, in _resume_span\n",
      "    return method(self, *_args, **_kwargs)\n",
      "  File \"D:\\Anaconda\\envs\\py380\\lib\\site-packages\\ray\\tune\\trainable\\trainable.py\", line 334, in train\n",
      "    raise skipped from exception_cause(skipped)\n",
      "  File \"D:\\Anaconda\\envs\\py380\\lib\\site-packages\\ray\\air\\_internal\\util.py\", line 88, in run\n",
      "    self._ret = self._target(*self._args, **self._kwargs)\n",
      "  File \"D:\\Anaconda\\envs\\py380\\lib\\site-packages\\ray\\tune\\trainable\\function_trainable.py\", line 53, in <lambda>\n",
      "    training_func=lambda: self._trainable_func(self.config),\n",
      "  File \"D:\\Anaconda\\envs\\py380\\lib\\site-packages\\ray\\util\\tracing\\tracing_helper.py\", line 467, in _resume_span\n",
      "    return method(self, *_args, **_kwargs)\n",
      "  File \"D:\\Anaconda\\envs\\py380\\lib\\site-packages\\ray\\tune\\trainable\\function_trainable.py\", line 261, in _trainable_func\n",
      "    output = fn()\n",
      "  File \"D:\\Anaconda\\envs\\py380\\lib\\site-packages\\ultralytics\\utils\\tuner.py\", line 104, in _tune\n",
      "    results = model_to_train.train(**config)\n",
      "  File \"D:\\Anaconda\\envs\\py380\\lib\\site-packages\\ultralytics\\engine\\model.py\", line 805, in train\n",
      "    self.trainer = (trainer or self._smart_load(\"trainer\"))(overrides=args, _callbacks=self.callbacks)\n",
      "  File \"D:\\Anaconda\\envs\\py380\\lib\\site-packages\\ultralytics\\engine\\trainer.py\", line 103, in __init__\n",
      "    self.device = select_device(self.args.device, self.args.batch)\n",
      "  File \"D:\\Anaconda\\envs\\py380\\lib\\site-packages\\ultralytics\\utils\\torch_utils.py\", line 196, in select_device\n",
      "    p = torch.cuda.get_device_properties(i)\n",
      "  File \"D:\\Anaconda\\envs\\py380\\lib\\site-packages\\torch\\cuda\\__init__.py\", line 452, in get_device_properties\n",
      "    raise AssertionError(\"Invalid device id\")\n",
      "AssertionError: Invalid device id\n",
      "2024-07-30 17:27:26,495\tERROR tune_controller.py:1332 -- Trial task failed for trial _tune_83797_00001\n",
      "Traceback (most recent call last):\n",
      "  File \"D:\\Anaconda\\envs\\py380\\lib\\site-packages\\ray\\air\\execution\\_internal\\event_manager.py\", line 110, in resolve_future\n",
      "    result = ray.get(future)\n",
      "  File \"D:\\Anaconda\\envs\\py380\\lib\\site-packages\\ray\\_private\\auto_init_hook.py\", line 21, in auto_init_wrapper\n",
      "    return fn(*args, **kwargs)\n",
      "  File \"D:\\Anaconda\\envs\\py380\\lib\\site-packages\\ray\\_private\\client_mode_hook.py\", line 103, in wrapper\n",
      "    return func(*args, **kwargs)\n",
      "  File \"D:\\Anaconda\\envs\\py380\\lib\\site-packages\\ray\\_private\\worker.py\", line 2667, in get\n",
      "    values, debugger_breakpoint = worker.get_objects(object_refs, timeout=timeout)\n",
      "  File \"D:\\Anaconda\\envs\\py380\\lib\\site-packages\\ray\\_private\\worker.py\", line 864, in get_objects\n",
      "    raise value.as_instanceof_cause()\n",
      "ray.exceptions.RayTaskError(AssertionError): \u001b[36mray::ImplicitFunc.train()\u001b[39m (pid=3812, ip=127.0.0.1, actor_id=8c83145cc0ab766b763736dc01000000, repr=_tune)\n",
      "  File \"python\\ray\\_raylet.pyx\", line 1889, in ray._raylet.execute_task\n",
      "  File \"python\\ray\\_raylet.pyx\", line 1830, in ray._raylet.execute_task.function_executor\n",
      "  File \"D:\\Anaconda\\envs\\py380\\lib\\site-packages\\ray\\_private\\function_manager.py\", line 724, in actor_method_executor\n",
      "    return method(__ray_actor, *args, **kwargs)\n",
      "  File \"D:\\Anaconda\\envs\\py380\\lib\\site-packages\\ray\\util\\tracing\\tracing_helper.py\", line 467, in _resume_span\n",
      "    return method(self, *_args, **_kwargs)\n",
      "  File \"D:\\Anaconda\\envs\\py380\\lib\\site-packages\\ray\\tune\\trainable\\trainable.py\", line 334, in train\n",
      "    raise skipped from exception_cause(skipped)\n",
      "  File \"D:\\Anaconda\\envs\\py380\\lib\\site-packages\\ray\\air\\_internal\\util.py\", line 88, in run\n",
      "    self._ret = self._target(*self._args, **self._kwargs)\n",
      "  File \"D:\\Anaconda\\envs\\py380\\lib\\site-packages\\ray\\tune\\trainable\\function_trainable.py\", line 53, in <lambda>\n",
      "    training_func=lambda: self._trainable_func(self.config),\n",
      "  File \"D:\\Anaconda\\envs\\py380\\lib\\site-packages\\ray\\util\\tracing\\tracing_helper.py\", line 467, in _resume_span\n",
      "    return method(self, *_args, **_kwargs)\n",
      "  File \"D:\\Anaconda\\envs\\py380\\lib\\site-packages\\ray\\tune\\trainable\\function_trainable.py\", line 261, in _trainable_func\n",
      "    output = fn()\n",
      "  File \"D:\\Anaconda\\envs\\py380\\lib\\site-packages\\ultralytics\\utils\\tuner.py\", line 104, in _tune\n",
      "    results = model_to_train.train(**config)\n",
      "  File \"D:\\Anaconda\\envs\\py380\\lib\\site-packages\\ultralytics\\engine\\model.py\", line 805, in train\n",
      "    self.trainer = (trainer or self._smart_load(\"trainer\"))(overrides=args, _callbacks=self.callbacks)\n",
      "  File \"D:\\Anaconda\\envs\\py380\\lib\\site-packages\\ultralytics\\engine\\trainer.py\", line 103, in __init__\n",
      "    self.device = select_device(self.args.device, self.args.batch)\n",
      "  File \"D:\\Anaconda\\envs\\py380\\lib\\site-packages\\ultralytics\\utils\\torch_utils.py\", line 196, in select_device\n",
      "    p = torch.cuda.get_device_properties(i)\n",
      "  File \"D:\\Anaconda\\envs\\py380\\lib\\site-packages\\torch\\cuda\\__init__.py\", line 452, in get_device_properties\n",
      "    raise AssertionError(\"Invalid device id\")\n",
      "AssertionError: Invalid device id\n",
      "2024-07-30 17:27:35,839\tERROR tune_controller.py:1332 -- Trial task failed for trial _tune_83797_00002\n",
      "Traceback (most recent call last):\n",
      "  File \"D:\\Anaconda\\envs\\py380\\lib\\site-packages\\ray\\air\\execution\\_internal\\event_manager.py\", line 110, in resolve_future\n",
      "    result = ray.get(future)\n",
      "  File \"D:\\Anaconda\\envs\\py380\\lib\\site-packages\\ray\\_private\\auto_init_hook.py\", line 21, in auto_init_wrapper\n",
      "    return fn(*args, **kwargs)\n",
      "  File \"D:\\Anaconda\\envs\\py380\\lib\\site-packages\\ray\\_private\\client_mode_hook.py\", line 103, in wrapper\n",
      "    return func(*args, **kwargs)\n",
      "  File \"D:\\Anaconda\\envs\\py380\\lib\\site-packages\\ray\\_private\\worker.py\", line 2667, in get\n",
      "    values, debugger_breakpoint = worker.get_objects(object_refs, timeout=timeout)\n",
      "  File \"D:\\Anaconda\\envs\\py380\\lib\\site-packages\\ray\\_private\\worker.py\", line 864, in get_objects\n",
      "    raise value.as_instanceof_cause()\n",
      "ray.exceptions.RayTaskError(AssertionError): \u001b[36mray::ImplicitFunc.train()\u001b[39m (pid=4488, ip=127.0.0.1, actor_id=67e514b0529cdf01d5dee75401000000, repr=_tune)\n",
      "  File \"python\\ray\\_raylet.pyx\", line 1889, in ray._raylet.execute_task\n",
      "  File \"python\\ray\\_raylet.pyx\", line 1830, in ray._raylet.execute_task.function_executor\n",
      "  File \"D:\\Anaconda\\envs\\py380\\lib\\site-packages\\ray\\_private\\function_manager.py\", line 724, in actor_method_executor\n",
      "    return method(__ray_actor, *args, **kwargs)\n",
      "  File \"D:\\Anaconda\\envs\\py380\\lib\\site-packages\\ray\\util\\tracing\\tracing_helper.py\", line 467, in _resume_span\n",
      "    return method(self, *_args, **_kwargs)\n",
      "  File \"D:\\Anaconda\\envs\\py380\\lib\\site-packages\\ray\\tune\\trainable\\trainable.py\", line 334, in train\n",
      "    raise skipped from exception_cause(skipped)\n",
      "  File \"D:\\Anaconda\\envs\\py380\\lib\\site-packages\\ray\\air\\_internal\\util.py\", line 88, in run\n",
      "    self._ret = self._target(*self._args, **self._kwargs)\n",
      "  File \"D:\\Anaconda\\envs\\py380\\lib\\site-packages\\ray\\tune\\trainable\\function_trainable.py\", line 53, in <lambda>\n",
      "    training_func=lambda: self._trainable_func(self.config),\n",
      "  File \"D:\\Anaconda\\envs\\py380\\lib\\site-packages\\ray\\util\\tracing\\tracing_helper.py\", line 467, in _resume_span\n",
      "    return method(self, *_args, **_kwargs)\n",
      "  File \"D:\\Anaconda\\envs\\py380\\lib\\site-packages\\ray\\tune\\trainable\\function_trainable.py\", line 261, in _trainable_func\n",
      "    output = fn()\n",
      "  File \"D:\\Anaconda\\envs\\py380\\lib\\site-packages\\ultralytics\\utils\\tuner.py\", line 104, in _tune\n",
      "    results = model_to_train.train(**config)\n",
      "  File \"D:\\Anaconda\\envs\\py380\\lib\\site-packages\\ultralytics\\engine\\model.py\", line 805, in train\n",
      "    self.trainer = (trainer or self._smart_load(\"trainer\"))(overrides=args, _callbacks=self.callbacks)\n",
      "  File \"D:\\Anaconda\\envs\\py380\\lib\\site-packages\\ultralytics\\engine\\trainer.py\", line 103, in __init__\n",
      "    self.device = select_device(self.args.device, self.args.batch)\n",
      "  File \"D:\\Anaconda\\envs\\py380\\lib\\site-packages\\ultralytics\\utils\\torch_utils.py\", line 196, in select_device\n",
      "    p = torch.cuda.get_device_properties(i)\n",
      "  File \"D:\\Anaconda\\envs\\py380\\lib\\site-packages\\torch\\cuda\\__init__.py\", line 452, in get_device_properties\n",
      "    raise AssertionError(\"Invalid device id\")\n",
      "AssertionError: Invalid device id\n",
      "2024-07-30 17:27:44,600\tERROR tune_controller.py:1332 -- Trial task failed for trial _tune_83797_00003\n",
      "Traceback (most recent call last):\n",
      "  File \"D:\\Anaconda\\envs\\py380\\lib\\site-packages\\ray\\air\\execution\\_internal\\event_manager.py\", line 110, in resolve_future\n",
      "    result = ray.get(future)\n",
      "  File \"D:\\Anaconda\\envs\\py380\\lib\\site-packages\\ray\\_private\\auto_init_hook.py\", line 21, in auto_init_wrapper\n",
      "    return fn(*args, **kwargs)\n",
      "  File \"D:\\Anaconda\\envs\\py380\\lib\\site-packages\\ray\\_private\\client_mode_hook.py\", line 103, in wrapper\n",
      "    return func(*args, **kwargs)\n",
      "  File \"D:\\Anaconda\\envs\\py380\\lib\\site-packages\\ray\\_private\\worker.py\", line 2667, in get\n",
      "    values, debugger_breakpoint = worker.get_objects(object_refs, timeout=timeout)\n",
      "  File \"D:\\Anaconda\\envs\\py380\\lib\\site-packages\\ray\\_private\\worker.py\", line 864, in get_objects\n",
      "    raise value.as_instanceof_cause()\n",
      "ray.exceptions.RayTaskError(AssertionError): \u001b[36mray::ImplicitFunc.train()\u001b[39m (pid=10656, ip=127.0.0.1, actor_id=9413de7a70ff4b02de8ef0d801000000, repr=_tune)\n",
      "  File \"python\\ray\\_raylet.pyx\", line 1889, in ray._raylet.execute_task\n",
      "  File \"python\\ray\\_raylet.pyx\", line 1830, in ray._raylet.execute_task.function_executor\n",
      "  File \"D:\\Anaconda\\envs\\py380\\lib\\site-packages\\ray\\_private\\function_manager.py\", line 724, in actor_method_executor\n",
      "    return method(__ray_actor, *args, **kwargs)\n",
      "  File \"D:\\Anaconda\\envs\\py380\\lib\\site-packages\\ray\\util\\tracing\\tracing_helper.py\", line 467, in _resume_span\n",
      "    return method(self, *_args, **_kwargs)\n",
      "  File \"D:\\Anaconda\\envs\\py380\\lib\\site-packages\\ray\\tune\\trainable\\trainable.py\", line 334, in train\n",
      "    raise skipped from exception_cause(skipped)\n",
      "  File \"D:\\Anaconda\\envs\\py380\\lib\\site-packages\\ray\\air\\_internal\\util.py\", line 88, in run\n",
      "    self._ret = self._target(*self._args, **self._kwargs)\n",
      "  File \"D:\\Anaconda\\envs\\py380\\lib\\site-packages\\ray\\tune\\trainable\\function_trainable.py\", line 53, in <lambda>\n",
      "    training_func=lambda: self._trainable_func(self.config),\n",
      "  File \"D:\\Anaconda\\envs\\py380\\lib\\site-packages\\ray\\util\\tracing\\tracing_helper.py\", line 467, in _resume_span\n",
      "    return method(self, *_args, **_kwargs)\n",
      "  File \"D:\\Anaconda\\envs\\py380\\lib\\site-packages\\ray\\tune\\trainable\\function_trainable.py\", line 261, in _trainable_func\n",
      "    output = fn()\n",
      "  File \"D:\\Anaconda\\envs\\py380\\lib\\site-packages\\ultralytics\\utils\\tuner.py\", line 104, in _tune\n",
      "    results = model_to_train.train(**config)\n",
      "  File \"D:\\Anaconda\\envs\\py380\\lib\\site-packages\\ultralytics\\engine\\model.py\", line 805, in train\n",
      "    self.trainer = (trainer or self._smart_load(\"trainer\"))(overrides=args, _callbacks=self.callbacks)\n",
      "  File \"D:\\Anaconda\\envs\\py380\\lib\\site-packages\\ultralytics\\engine\\trainer.py\", line 103, in __init__\n",
      "    self.device = select_device(self.args.device, self.args.batch)\n",
      "  File \"D:\\Anaconda\\envs\\py380\\lib\\site-packages\\ultralytics\\utils\\torch_utils.py\", line 196, in select_device\n",
      "    p = torch.cuda.get_device_properties(i)\n",
      "  File \"D:\\Anaconda\\envs\\py380\\lib\\site-packages\\torch\\cuda\\__init__.py\", line 452, in get_device_properties\n",
      "    raise AssertionError(\"Invalid device id\")\n",
      "AssertionError: Invalid device id\n",
      "2024-07-30 17:27:53,604\tERROR tune_controller.py:1332 -- Trial task failed for trial _tune_83797_00004\n",
      "Traceback (most recent call last):\n",
      "  File \"D:\\Anaconda\\envs\\py380\\lib\\site-packages\\ray\\air\\execution\\_internal\\event_manager.py\", line 110, in resolve_future\n",
      "    result = ray.get(future)\n",
      "  File \"D:\\Anaconda\\envs\\py380\\lib\\site-packages\\ray\\_private\\auto_init_hook.py\", line 21, in auto_init_wrapper\n",
      "    return fn(*args, **kwargs)\n",
      "  File \"D:\\Anaconda\\envs\\py380\\lib\\site-packages\\ray\\_private\\client_mode_hook.py\", line 103, in wrapper\n",
      "    return func(*args, **kwargs)\n",
      "  File \"D:\\Anaconda\\envs\\py380\\lib\\site-packages\\ray\\_private\\worker.py\", line 2667, in get\n",
      "    values, debugger_breakpoint = worker.get_objects(object_refs, timeout=timeout)\n",
      "  File \"D:\\Anaconda\\envs\\py380\\lib\\site-packages\\ray\\_private\\worker.py\", line 864, in get_objects\n",
      "    raise value.as_instanceof_cause()\n",
      "ray.exceptions.RayTaskError(AssertionError): \u001b[36mray::ImplicitFunc.train()\u001b[39m (pid=14824, ip=127.0.0.1, actor_id=191dd0cce102e6890419150401000000, repr=_tune)\n",
      "  File \"python\\ray\\_raylet.pyx\", line 1889, in ray._raylet.execute_task\n",
      "  File \"python\\ray\\_raylet.pyx\", line 1830, in ray._raylet.execute_task.function_executor\n",
      "  File \"D:\\Anaconda\\envs\\py380\\lib\\site-packages\\ray\\_private\\function_manager.py\", line 724, in actor_method_executor\n",
      "    return method(__ray_actor, *args, **kwargs)\n",
      "  File \"D:\\Anaconda\\envs\\py380\\lib\\site-packages\\ray\\util\\tracing\\tracing_helper.py\", line 467, in _resume_span\n",
      "    return method(self, *_args, **_kwargs)\n",
      "  File \"D:\\Anaconda\\envs\\py380\\lib\\site-packages\\ray\\tune\\trainable\\trainable.py\", line 334, in train\n",
      "    raise skipped from exception_cause(skipped)\n",
      "  File \"D:\\Anaconda\\envs\\py380\\lib\\site-packages\\ray\\air\\_internal\\util.py\", line 88, in run\n",
      "    self._ret = self._target(*self._args, **self._kwargs)\n",
      "  File \"D:\\Anaconda\\envs\\py380\\lib\\site-packages\\ray\\tune\\trainable\\function_trainable.py\", line 53, in <lambda>\n",
      "    training_func=lambda: self._trainable_func(self.config),\n",
      "  File \"D:\\Anaconda\\envs\\py380\\lib\\site-packages\\ray\\util\\tracing\\tracing_helper.py\", line 467, in _resume_span\n",
      "    return method(self, *_args, **_kwargs)\n",
      "  File \"D:\\Anaconda\\envs\\py380\\lib\\site-packages\\ray\\tune\\trainable\\function_trainable.py\", line 261, in _trainable_func\n",
      "    output = fn()\n",
      "  File \"D:\\Anaconda\\envs\\py380\\lib\\site-packages\\ultralytics\\utils\\tuner.py\", line 104, in _tune\n",
      "    results = model_to_train.train(**config)\n",
      "  File \"D:\\Anaconda\\envs\\py380\\lib\\site-packages\\ultralytics\\engine\\model.py\", line 805, in train\n",
      "    self.trainer = (trainer or self._smart_load(\"trainer\"))(overrides=args, _callbacks=self.callbacks)\n",
      "  File \"D:\\Anaconda\\envs\\py380\\lib\\site-packages\\ultralytics\\engine\\trainer.py\", line 103, in __init__\n",
      "    self.device = select_device(self.args.device, self.args.batch)\n",
      "  File \"D:\\Anaconda\\envs\\py380\\lib\\site-packages\\ultralytics\\utils\\torch_utils.py\", line 196, in select_device\n",
      "    p = torch.cuda.get_device_properties(i)\n",
      "  File \"D:\\Anaconda\\envs\\py380\\lib\\site-packages\\torch\\cuda\\__init__.py\", line 452, in get_device_properties\n",
      "    raise AssertionError(\"Invalid device id\")\n",
      "AssertionError: Invalid device id\n",
      "2024-07-30 17:28:03,371\tERROR tune_controller.py:1332 -- Trial task failed for trial _tune_83797_00005\n",
      "Traceback (most recent call last):\n",
      "  File \"D:\\Anaconda\\envs\\py380\\lib\\site-packages\\ray\\air\\execution\\_internal\\event_manager.py\", line 110, in resolve_future\n",
      "    result = ray.get(future)\n",
      "  File \"D:\\Anaconda\\envs\\py380\\lib\\site-packages\\ray\\_private\\auto_init_hook.py\", line 21, in auto_init_wrapper\n",
      "    return fn(*args, **kwargs)\n",
      "  File \"D:\\Anaconda\\envs\\py380\\lib\\site-packages\\ray\\_private\\client_mode_hook.py\", line 103, in wrapper\n",
      "    return func(*args, **kwargs)\n",
      "  File \"D:\\Anaconda\\envs\\py380\\lib\\site-packages\\ray\\_private\\worker.py\", line 2667, in get\n",
      "    values, debugger_breakpoint = worker.get_objects(object_refs, timeout=timeout)\n",
      "  File \"D:\\Anaconda\\envs\\py380\\lib\\site-packages\\ray\\_private\\worker.py\", line 864, in get_objects\n",
      "    raise value.as_instanceof_cause()\n",
      "ray.exceptions.RayTaskError(AssertionError): \u001b[36mray::ImplicitFunc.train()\u001b[39m (pid=12008, ip=127.0.0.1, actor_id=39da65168e34366dcd46ee8001000000, repr=_tune)\n",
      "  File \"python\\ray\\_raylet.pyx\", line 1889, in ray._raylet.execute_task\n",
      "  File \"python\\ray\\_raylet.pyx\", line 1830, in ray._raylet.execute_task.function_executor\n",
      "  File \"D:\\Anaconda\\envs\\py380\\lib\\site-packages\\ray\\_private\\function_manager.py\", line 724, in actor_method_executor\n",
      "    return method(__ray_actor, *args, **kwargs)\n",
      "  File \"D:\\Anaconda\\envs\\py380\\lib\\site-packages\\ray\\util\\tracing\\tracing_helper.py\", line 467, in _resume_span\n",
      "    return method(self, *_args, **_kwargs)\n",
      "  File \"D:\\Anaconda\\envs\\py380\\lib\\site-packages\\ray\\tune\\trainable\\trainable.py\", line 334, in train\n",
      "    raise skipped from exception_cause(skipped)\n",
      "  File \"D:\\Anaconda\\envs\\py380\\lib\\site-packages\\ray\\air\\_internal\\util.py\", line 88, in run\n",
      "    self._ret = self._target(*self._args, **self._kwargs)\n",
      "  File \"D:\\Anaconda\\envs\\py380\\lib\\site-packages\\ray\\tune\\trainable\\function_trainable.py\", line 53, in <lambda>\n",
      "    training_func=lambda: self._trainable_func(self.config),\n",
      "  File \"D:\\Anaconda\\envs\\py380\\lib\\site-packages\\ray\\util\\tracing\\tracing_helper.py\", line 467, in _resume_span\n",
      "    return method(self, *_args, **_kwargs)\n",
      "  File \"D:\\Anaconda\\envs\\py380\\lib\\site-packages\\ray\\tune\\trainable\\function_trainable.py\", line 261, in _trainable_func\n",
      "    output = fn()\n",
      "  File \"D:\\Anaconda\\envs\\py380\\lib\\site-packages\\ultralytics\\utils\\tuner.py\", line 104, in _tune\n",
      "    results = model_to_train.train(**config)\n",
      "  File \"D:\\Anaconda\\envs\\py380\\lib\\site-packages\\ultralytics\\engine\\model.py\", line 805, in train\n",
      "    self.trainer = (trainer or self._smart_load(\"trainer\"))(overrides=args, _callbacks=self.callbacks)\n",
      "  File \"D:\\Anaconda\\envs\\py380\\lib\\site-packages\\ultralytics\\engine\\trainer.py\", line 103, in __init__\n",
      "    self.device = select_device(self.args.device, self.args.batch)\n",
      "  File \"D:\\Anaconda\\envs\\py380\\lib\\site-packages\\ultralytics\\utils\\torch_utils.py\", line 196, in select_device\n",
      "    p = torch.cuda.get_device_properties(i)\n",
      "  File \"D:\\Anaconda\\envs\\py380\\lib\\site-packages\\torch\\cuda\\__init__.py\", line 452, in get_device_properties\n",
      "    raise AssertionError(\"Invalid device id\")\n",
      "AssertionError: Invalid device id\n",
      "2024-07-30 17:28:12,990\tERROR tune_controller.py:1332 -- Trial task failed for trial _tune_83797_00006\n",
      "Traceback (most recent call last):\n",
      "  File \"D:\\Anaconda\\envs\\py380\\lib\\site-packages\\ray\\air\\execution\\_internal\\event_manager.py\", line 110, in resolve_future\n",
      "    result = ray.get(future)\n",
      "  File \"D:\\Anaconda\\envs\\py380\\lib\\site-packages\\ray\\_private\\auto_init_hook.py\", line 21, in auto_init_wrapper\n",
      "    return fn(*args, **kwargs)\n",
      "  File \"D:\\Anaconda\\envs\\py380\\lib\\site-packages\\ray\\_private\\client_mode_hook.py\", line 103, in wrapper\n",
      "    return func(*args, **kwargs)\n",
      "  File \"D:\\Anaconda\\envs\\py380\\lib\\site-packages\\ray\\_private\\worker.py\", line 2667, in get\n",
      "    values, debugger_breakpoint = worker.get_objects(object_refs, timeout=timeout)\n",
      "  File \"D:\\Anaconda\\envs\\py380\\lib\\site-packages\\ray\\_private\\worker.py\", line 864, in get_objects\n",
      "    raise value.as_instanceof_cause()\n",
      "ray.exceptions.RayTaskError(AssertionError): \u001b[36mray::ImplicitFunc.train()\u001b[39m (pid=13572, ip=127.0.0.1, actor_id=b0b172e7999b30a1a5dc5e0201000000, repr=_tune)\n",
      "  File \"python\\ray\\_raylet.pyx\", line 1889, in ray._raylet.execute_task\n",
      "  File \"python\\ray\\_raylet.pyx\", line 1830, in ray._raylet.execute_task.function_executor\n",
      "  File \"D:\\Anaconda\\envs\\py380\\lib\\site-packages\\ray\\_private\\function_manager.py\", line 724, in actor_method_executor\n",
      "    return method(__ray_actor, *args, **kwargs)\n",
      "  File \"D:\\Anaconda\\envs\\py380\\lib\\site-packages\\ray\\util\\tracing\\tracing_helper.py\", line 467, in _resume_span\n",
      "    return method(self, *_args, **_kwargs)\n",
      "  File \"D:\\Anaconda\\envs\\py380\\lib\\site-packages\\ray\\tune\\trainable\\trainable.py\", line 334, in train\n",
      "    raise skipped from exception_cause(skipped)\n",
      "  File \"D:\\Anaconda\\envs\\py380\\lib\\site-packages\\ray\\air\\_internal\\util.py\", line 88, in run\n",
      "    self._ret = self._target(*self._args, **self._kwargs)\n",
      "  File \"D:\\Anaconda\\envs\\py380\\lib\\site-packages\\ray\\tune\\trainable\\function_trainable.py\", line 53, in <lambda>\n",
      "    training_func=lambda: self._trainable_func(self.config),\n",
      "  File \"D:\\Anaconda\\envs\\py380\\lib\\site-packages\\ray\\util\\tracing\\tracing_helper.py\", line 467, in _resume_span\n",
      "    return method(self, *_args, **_kwargs)\n",
      "  File \"D:\\Anaconda\\envs\\py380\\lib\\site-packages\\ray\\tune\\trainable\\function_trainable.py\", line 261, in _trainable_func\n",
      "    output = fn()\n",
      "  File \"D:\\Anaconda\\envs\\py380\\lib\\site-packages\\ultralytics\\utils\\tuner.py\", line 104, in _tune\n",
      "    results = model_to_train.train(**config)\n",
      "  File \"D:\\Anaconda\\envs\\py380\\lib\\site-packages\\ultralytics\\engine\\model.py\", line 805, in train\n",
      "    self.trainer = (trainer or self._smart_load(\"trainer\"))(overrides=args, _callbacks=self.callbacks)\n",
      "  File \"D:\\Anaconda\\envs\\py380\\lib\\site-packages\\ultralytics\\engine\\trainer.py\", line 103, in __init__\n",
      "    self.device = select_device(self.args.device, self.args.batch)\n",
      "  File \"D:\\Anaconda\\envs\\py380\\lib\\site-packages\\ultralytics\\utils\\torch_utils.py\", line 196, in select_device\n",
      "    p = torch.cuda.get_device_properties(i)\n",
      "  File \"D:\\Anaconda\\envs\\py380\\lib\\site-packages\\torch\\cuda\\__init__.py\", line 452, in get_device_properties\n",
      "    raise AssertionError(\"Invalid device id\")\n",
      "AssertionError: Invalid device id\n",
      "2024-07-30 17:28:21,612\tERROR tune_controller.py:1332 -- Trial task failed for trial _tune_83797_00007\n",
      "Traceback (most recent call last):\n",
      "  File \"D:\\Anaconda\\envs\\py380\\lib\\site-packages\\ray\\air\\execution\\_internal\\event_manager.py\", line 110, in resolve_future\n",
      "    result = ray.get(future)\n",
      "  File \"D:\\Anaconda\\envs\\py380\\lib\\site-packages\\ray\\_private\\auto_init_hook.py\", line 21, in auto_init_wrapper\n",
      "    return fn(*args, **kwargs)\n",
      "  File \"D:\\Anaconda\\envs\\py380\\lib\\site-packages\\ray\\_private\\client_mode_hook.py\", line 103, in wrapper\n",
      "    return func(*args, **kwargs)\n",
      "  File \"D:\\Anaconda\\envs\\py380\\lib\\site-packages\\ray\\_private\\worker.py\", line 2667, in get\n",
      "    values, debugger_breakpoint = worker.get_objects(object_refs, timeout=timeout)\n",
      "  File \"D:\\Anaconda\\envs\\py380\\lib\\site-packages\\ray\\_private\\worker.py\", line 864, in get_objects\n",
      "    raise value.as_instanceof_cause()\n",
      "ray.exceptions.RayTaskError(AssertionError): \u001b[36mray::ImplicitFunc.train()\u001b[39m (pid=22232, ip=127.0.0.1, actor_id=348e9da494787746e258a5e501000000, repr=_tune)\n",
      "  File \"python\\ray\\_raylet.pyx\", line 1889, in ray._raylet.execute_task\n",
      "  File \"python\\ray\\_raylet.pyx\", line 1830, in ray._raylet.execute_task.function_executor\n",
      "  File \"D:\\Anaconda\\envs\\py380\\lib\\site-packages\\ray\\_private\\function_manager.py\", line 724, in actor_method_executor\n",
      "    return method(__ray_actor, *args, **kwargs)\n",
      "  File \"D:\\Anaconda\\envs\\py380\\lib\\site-packages\\ray\\util\\tracing\\tracing_helper.py\", line 467, in _resume_span\n",
      "    return method(self, *_args, **_kwargs)\n",
      "  File \"D:\\Anaconda\\envs\\py380\\lib\\site-packages\\ray\\tune\\trainable\\trainable.py\", line 334, in train\n",
      "    raise skipped from exception_cause(skipped)\n",
      "  File \"D:\\Anaconda\\envs\\py380\\lib\\site-packages\\ray\\air\\_internal\\util.py\", line 88, in run\n",
      "    self._ret = self._target(*self._args, **self._kwargs)\n",
      "  File \"D:\\Anaconda\\envs\\py380\\lib\\site-packages\\ray\\tune\\trainable\\function_trainable.py\", line 53, in <lambda>\n",
      "    training_func=lambda: self._trainable_func(self.config),\n",
      "  File \"D:\\Anaconda\\envs\\py380\\lib\\site-packages\\ray\\util\\tracing\\tracing_helper.py\", line 467, in _resume_span\n",
      "    return method(self, *_args, **_kwargs)\n",
      "  File \"D:\\Anaconda\\envs\\py380\\lib\\site-packages\\ray\\tune\\trainable\\function_trainable.py\", line 261, in _trainable_func\n",
      "    output = fn()\n",
      "  File \"D:\\Anaconda\\envs\\py380\\lib\\site-packages\\ultralytics\\utils\\tuner.py\", line 104, in _tune\n",
      "    results = model_to_train.train(**config)\n",
      "  File \"D:\\Anaconda\\envs\\py380\\lib\\site-packages\\ultralytics\\engine\\model.py\", line 805, in train\n",
      "    self.trainer = (trainer or self._smart_load(\"trainer\"))(overrides=args, _callbacks=self.callbacks)\n",
      "  File \"D:\\Anaconda\\envs\\py380\\lib\\site-packages\\ultralytics\\engine\\trainer.py\", line 103, in __init__\n",
      "    self.device = select_device(self.args.device, self.args.batch)\n",
      "  File \"D:\\Anaconda\\envs\\py380\\lib\\site-packages\\ultralytics\\utils\\torch_utils.py\", line 196, in select_device\n",
      "    p = torch.cuda.get_device_properties(i)\n",
      "  File \"D:\\Anaconda\\envs\\py380\\lib\\site-packages\\torch\\cuda\\__init__.py\", line 452, in get_device_properties\n",
      "    raise AssertionError(\"Invalid device id\")\n",
      "AssertionError: Invalid device id\n",
      "2024-07-30 17:28:31,310\tERROR tune_controller.py:1332 -- Trial task failed for trial _tune_83797_00008\n",
      "Traceback (most recent call last):\n",
      "  File \"D:\\Anaconda\\envs\\py380\\lib\\site-packages\\ray\\air\\execution\\_internal\\event_manager.py\", line 110, in resolve_future\n",
      "    result = ray.get(future)\n",
      "  File \"D:\\Anaconda\\envs\\py380\\lib\\site-packages\\ray\\_private\\auto_init_hook.py\", line 21, in auto_init_wrapper\n",
      "    return fn(*args, **kwargs)\n",
      "  File \"D:\\Anaconda\\envs\\py380\\lib\\site-packages\\ray\\_private\\client_mode_hook.py\", line 103, in wrapper\n",
      "    return func(*args, **kwargs)\n",
      "  File \"D:\\Anaconda\\envs\\py380\\lib\\site-packages\\ray\\_private\\worker.py\", line 2667, in get\n",
      "    values, debugger_breakpoint = worker.get_objects(object_refs, timeout=timeout)\n",
      "  File \"D:\\Anaconda\\envs\\py380\\lib\\site-packages\\ray\\_private\\worker.py\", line 864, in get_objects\n",
      "    raise value.as_instanceof_cause()\n",
      "ray.exceptions.RayTaskError(AssertionError): \u001b[36mray::ImplicitFunc.train()\u001b[39m (pid=20212, ip=127.0.0.1, actor_id=e568b7018103617b0bc4a34401000000, repr=_tune)\n",
      "  File \"python\\ray\\_raylet.pyx\", line 1889, in ray._raylet.execute_task\n",
      "  File \"python\\ray\\_raylet.pyx\", line 1830, in ray._raylet.execute_task.function_executor\n",
      "  File \"D:\\Anaconda\\envs\\py380\\lib\\site-packages\\ray\\_private\\function_manager.py\", line 724, in actor_method_executor\n",
      "    return method(__ray_actor, *args, **kwargs)\n",
      "  File \"D:\\Anaconda\\envs\\py380\\lib\\site-packages\\ray\\util\\tracing\\tracing_helper.py\", line 467, in _resume_span\n",
      "    return method(self, *_args, **_kwargs)\n",
      "  File \"D:\\Anaconda\\envs\\py380\\lib\\site-packages\\ray\\tune\\trainable\\trainable.py\", line 334, in train\n",
      "    raise skipped from exception_cause(skipped)\n",
      "  File \"D:\\Anaconda\\envs\\py380\\lib\\site-packages\\ray\\air\\_internal\\util.py\", line 88, in run\n",
      "    self._ret = self._target(*self._args, **self._kwargs)\n",
      "  File \"D:\\Anaconda\\envs\\py380\\lib\\site-packages\\ray\\tune\\trainable\\function_trainable.py\", line 53, in <lambda>\n",
      "    training_func=lambda: self._trainable_func(self.config),\n",
      "  File \"D:\\Anaconda\\envs\\py380\\lib\\site-packages\\ray\\util\\tracing\\tracing_helper.py\", line 467, in _resume_span\n",
      "    return method(self, *_args, **_kwargs)\n",
      "  File \"D:\\Anaconda\\envs\\py380\\lib\\site-packages\\ray\\tune\\trainable\\function_trainable.py\", line 261, in _trainable_func\n",
      "    output = fn()\n",
      "  File \"D:\\Anaconda\\envs\\py380\\lib\\site-packages\\ultralytics\\utils\\tuner.py\", line 104, in _tune\n",
      "    results = model_to_train.train(**config)\n",
      "  File \"D:\\Anaconda\\envs\\py380\\lib\\site-packages\\ultralytics\\engine\\model.py\", line 805, in train\n",
      "    self.trainer = (trainer or self._smart_load(\"trainer\"))(overrides=args, _callbacks=self.callbacks)\n",
      "  File \"D:\\Anaconda\\envs\\py380\\lib\\site-packages\\ultralytics\\engine\\trainer.py\", line 103, in __init__\n",
      "    self.device = select_device(self.args.device, self.args.batch)\n",
      "  File \"D:\\Anaconda\\envs\\py380\\lib\\site-packages\\ultralytics\\utils\\torch_utils.py\", line 196, in select_device\n",
      "    p = torch.cuda.get_device_properties(i)\n",
      "  File \"D:\\Anaconda\\envs\\py380\\lib\\site-packages\\torch\\cuda\\__init__.py\", line 452, in get_device_properties\n",
      "    raise AssertionError(\"Invalid device id\")\n",
      "AssertionError: Invalid device id\n",
      "2024-07-30 17:28:38,292\tWARNING tune.py:229 -- Stop signal received (e.g. via SIGINT/Ctrl+C), ending Ray Tune run. This will try to checkpoint the experiment state one last time. Press CTRL+C (or send SIGINT/SIGKILL/SIGTERM) to skip. \n",
      "2024-07-30 17:28:38,319\tINFO tune.py:1016 -- Wrote the latest version of all result files and experiment state to 'C:/Users/lenovo/smartfactory/runs/detect/tune8/_tune_2024-07-30_17-27-09' in 0.0250s.\n",
      "2024-07-30 17:28:40,060\tERROR worker.py:406 -- Unhandled error (suppress with 'RAY_IGNORE_UNHANDLED_ERRORS=1'): \u001b[36mray::ImplicitFunc.train()\u001b[39m (pid=25252, ip=127.0.0.1, actor_id=b5724af2d978cf4a18f13c0b01000000, repr=_tune)\n",
      "  File \"python\\ray\\_raylet.pyx\", line 1889, in ray._raylet.execute_task\n",
      "  File \"python\\ray\\_raylet.pyx\", line 1830, in ray._raylet.execute_task.function_executor\n",
      "  File \"D:\\Anaconda\\envs\\py380\\lib\\site-packages\\ray\\_private\\function_manager.py\", line 724, in actor_method_executor\n",
      "    return method(__ray_actor, *args, **kwargs)\n",
      "  File \"D:\\Anaconda\\envs\\py380\\lib\\site-packages\\ray\\util\\tracing\\tracing_helper.py\", line 467, in _resume_span\n",
      "    return method(self, *_args, **_kwargs)\n",
      "  File \"D:\\Anaconda\\envs\\py380\\lib\\site-packages\\ray\\tune\\trainable\\trainable.py\", line 334, in train\n",
      "    raise skipped from exception_cause(skipped)\n",
      "  File \"D:\\Anaconda\\envs\\py380\\lib\\site-packages\\ray\\air\\_internal\\util.py\", line 88, in run\n",
      "    self._ret = self._target(*self._args, **self._kwargs)\n",
      "  File \"D:\\Anaconda\\envs\\py380\\lib\\site-packages\\ray\\tune\\trainable\\function_trainable.py\", line 53, in <lambda>\n",
      "    training_func=lambda: self._trainable_func(self.config),\n",
      "  File \"D:\\Anaconda\\envs\\py380\\lib\\site-packages\\ray\\util\\tracing\\tracing_helper.py\", line 467, in _resume_span\n",
      "    return method(self, *_args, **_kwargs)\n",
      "  File \"D:\\Anaconda\\envs\\py380\\lib\\site-packages\\ray\\tune\\trainable\\function_trainable.py\", line 261, in _trainable_func\n",
      "    output = fn()\n",
      "  File \"D:\\Anaconda\\envs\\py380\\lib\\site-packages\\ultralytics\\utils\\tuner.py\", line 104, in _tune\n",
      "    results = model_to_train.train(**config)\n",
      "  File \"D:\\Anaconda\\envs\\py380\\lib\\site-packages\\ultralytics\\engine\\model.py\", line 805, in train\n",
      "    self.trainer = (trainer or self._smart_load(\"trainer\"))(overrides=args, _callbacks=self.callbacks)\n",
      "  File \"D:\\Anaconda\\envs\\py380\\lib\\site-packages\\ultralytics\\engine\\trainer.py\", line 103, in __init__\n",
      "    self.device = select_device(self.args.device, self.args.batch)\n",
      "  File \"D:\\Anaconda\\envs\\py380\\lib\\site-packages\\ultralytics\\utils\\torch_utils.py\", line 196, in select_device\n",
      "    p = torch.cuda.get_device_properties(i)\n",
      "  File \"D:\\Anaconda\\envs\\py380\\lib\\site-packages\\torch\\cuda\\__init__.py\", line 452, in get_device_properties\n",
      "    raise AssertionError(\"Invalid device id\")\n",
      "AssertionError: Invalid device id\n",
      "2024-07-30 17:28:40,071\tERROR tune.py:1044 -- Trials did not complete: [_tune_83797_00000, _tune_83797_00001, _tune_83797_00002, _tune_83797_00003, _tune_83797_00004, _tune_83797_00005, _tune_83797_00006, _tune_83797_00007, _tune_83797_00008]\n",
      "2024-07-30 17:28:40,074\tINFO tune.py:1048 -- Total run time: 90.38 seconds (88.53 seconds for the tuning loop).\n",
      "2024-07-30 17:28:40,076\tWARNING tune.py:1063 -- Experiment has been interrupted, but the most recent state was saved.\n",
      "Resume experiment with: Tuner.restore(path=\"C:/Users/lenovo/smartfactory/runs/detect/tune8/_tune_2024-07-30_17-27-09\", trainable=...)\n"
     ]
    }
   ],
   "source": [
    "from ultralytics import YOLO\n",
    "import yaml\n",
    "from ray import tune\n",
    "\n",
    "# 1. YOLOv8 모델 로드 (사전 학습된 모델 사용)\n",
    "model = YOLO('yolov8n.pt')  # YOLOv8의 다양한 버전 중 하나 선택 (예: yolov8s.pt, yolov8m.pt 등)\n",
    "\n",
    "# 2. 데이터셋 설정 파일 경로\n",
    "data_config = 'C:/Users/lenovo/smartfactory/YOLO_dataset_renewal/data.yaml'\n",
    "\n",
    "# Run Ray Tune on the model\n",
    "result_grid = model.tune(\n",
    "    data=data_config,\n",
    "    space={\"lr0\": tune.uniform(1e-5, 1e-1)},\n",
    "    epochs=50,\n",
    "    use_ray=True,\n",
    ")"
   ]
  },
  {
   "cell_type": "code",
   "execution_count": null,
   "id": "b5b4f990-665f-4ce6-bf83-412583ac2143",
   "metadata": {},
   "outputs": [],
   "source": [
    "from ultralytics import YOLO\n",
    "import yaml\n",
    "from ray import tune\n",
    "\n",
    "# 1. YOLOv8 모델 로드 (사전 학습된 모델 사용)\n",
    "model = YOLO('yolov8n.pt')  # YOLOv8의 다양한 버전 중 하나 선택 (예: yolov8s.pt, yolov8m.pt 등)\n",
    "\n",
    "# 2. 데이터셋 설정 파일 경로\n",
    "data_config = 'C:/Users/lenovo/smartfactory/YOLO_dataset_renewal/data.yaml'\n",
    "\n",
    "# Start tuning hyperparameters for YOLOv8n training on the COCO8 dataset\n",
    "result_grid = model.tune(data=data_config, use_ray=True)"
   ]
  },
  {
   "cell_type": "code",
   "execution_count": 16,
   "id": "f14fc280-8b5c-4615-900d-3cff2ce75433",
   "metadata": {},
   "outputs": [],
   "source": [
    "import os\n",
    "import shutil\n",
    "\n",
    "def reduce_images_and_labels(image_dir, label_dir, output_image_dir, output_label_dir):\n",
    "    # 디렉토리 생성\n",
    "    os.makedirs(output_image_dir, exist_ok=True)\n",
    "    os.makedirs(output_label_dir, exist_ok=True)\n",
    "\n",
    "    # 이미지와 라벨 파일 목록 가져오기\n",
    "    image_files = sorted(os.listdir(image_dir))\n",
    "    label_files = sorted(os.listdir(label_dir))\n",
    "\n",
    "    # 이미지와 라벨의 개수 확인\n",
    "    if len(image_files) != len(label_files):\n",
    "        raise ValueError(\"이미지와 라벨의 개수가 일치하지 않습니다.\")\n",
    "\n",
    "    # 선택된 파일 저장\n",
    "    for i in range(len(image_files)):\n",
    "        if i % 7 == 0:  # 7개 중 1개 선택\n",
    "            # 이미지 복사\n",
    "            shutil.copy(os.path.join(image_dir, image_files[i]), output_image_dir)\n",
    "            # 라벨 복사\n",
    "            shutil.copy(os.path.join(label_dir, label_files[i]), output_label_dir)\n",
    "\n",
    "# 사용 예시\n",
    "image_directory = 'C:/Users/lenovo/smartfactory/YOLO_dataset_renewal - 복사본/train/images'  # 이미지 디렉토리 경로\n",
    "label_directory = 'C:/Users/lenovo/smartfactory/YOLO_dataset_renewal - 복사본/train/labels'  # 라벨 디렉토리 경로\n",
    "output_image_directory = 'C:/Users/lenovo/smartfactory/YOLO_dataset_renewal - 복사본/train/newimages'  # 출력 이미지 디렉토리 경로\n",
    "output_label_directory = 'C:/Users/lenovo/smartfactory/YOLO_dataset_renewal - 복사본/train/newlabels'  # 출력 라벨 디렉토리 경로\n",
    "\n",
    "reduce_images_and_labels(image_directory, label_directory, output_image_directory, output_label_directory)\n"
   ]
  },
  {
   "cell_type": "code",
   "execution_count": 4,
   "id": "cc85052b-cf2d-44a8-a3e5-20f340d16310",
   "metadata": {},
   "outputs": [
    {
     "ename": "IndexError",
     "evalue": "too many indices for array: array is 0-dimensional, but 1 were indexed",
     "output_type": "error",
     "traceback": [
      "\u001b[1;31m---------------------------------------------------------------------------\u001b[0m",
      "\u001b[1;31mIndexError\u001b[0m                                Traceback (most recent call last)",
      "Cell \u001b[1;32mIn[4], line 21\u001b[0m\n\u001b[0;32m     19\u001b[0m \u001b[38;5;66;03m# 3. KFold 교차검증\u001b[39;00m\n\u001b[0;32m     20\u001b[0m \u001b[38;5;28;01mfor\u001b[39;00m fold, (train_index, val_index) \u001b[38;5;129;01min\u001b[39;00m \u001b[38;5;28menumerate\u001b[39m(kf\u001b[38;5;241m.\u001b[39msplit(images)):\n\u001b[1;32m---> 21\u001b[0m     train_images \u001b[38;5;241m=\u001b[39m \u001b[43mnp\u001b[49m\u001b[38;5;241;43m.\u001b[39;49m\u001b[43marray\u001b[49m\u001b[43m(\u001b[49m\u001b[43mimages\u001b[49m\u001b[43m)\u001b[49m\u001b[43m[\u001b[49m\u001b[43mtrain_index\u001b[49m\u001b[43m]\u001b[49m\n\u001b[0;32m     22\u001b[0m     val_images \u001b[38;5;241m=\u001b[39m np\u001b[38;5;241m.\u001b[39marray(images)[val_index]\n\u001b[0;32m     24\u001b[0m     \u001b[38;5;66;03m# 변환하여 새로운 YAML 파일 생성\u001b[39;00m\n",
      "\u001b[1;31mIndexError\u001b[0m: too many indices for array: array is 0-dimensional, but 1 were indexed"
     ]
    }
   ],
   "source": [
    "from ultralytics import YOLO\n",
    "import yaml\n",
    "from sklearn.model_selection import KFold\n",
    "import numpy as np\n",
    "\n",
    "# 데이터셋 설정 파일 경로\n",
    "data_config = 'C:/Users/lenovo/smartfactory/YOLO_dataset_renewal_2/data.yaml'\n",
    "\n",
    "# 1. KFold 설정\n",
    "k = 5  # 원하는 k 값 설정\n",
    "kf = KFold(n_splits=k, shuffle=True, random_state=42)\n",
    "\n",
    "# 2. 데이터 로드\n",
    "# 데이터셋의 경로와 같은 형태로 학습할 파일 리스트를 불러오세요.\n",
    "with open(data_config) as file:\n",
    "    data = yaml.safe_load(file)\n",
    "    images = data['train']  # 학습에 사용할 이미지 리스트 가져오기\n",
    "\n",
    "# 3. KFold 교차검증\n",
    "for fold, (train_index, val_index) in enumerate(kf.split(images)):\n",
    "    train_images = np.array(images)[train_index]\n",
    "    val_images = np.array(images)[val_index]\n",
    "\n",
    "    # 변환하여 새로운 YAML 파일 생성\n",
    "    fold_data_config = f\"fold_{fold + 1}.yaml\"\n",
    "    with open(fold_data_config, 'w') as file:\n",
    "        yaml.dump({'train': train_images.tolist(), 'val': val_images.tolist()}, file)\n",
    "\n",
    "    # 4. YOLOv8 모델 학습\n",
    "    model = YOLO('yolov8n.pt')  # YOLOv8의 다양한 버전 중 하나 선택\n",
    "\n",
    "    # 모델 학습\n",
    "    model.train(data=fold_data_config, epochs=100, imgsz=270)\n",
    "\n",
    "    print(f\"{fold + 1}번째 폴드의 모델 학습이 완료되었습니다.\")\n",
    "\n",
    "print(\"모든 폴드에 대한 모델 학습이 완료되었습니다.\")\n"
   ]
  },
  {
   "cell_type": "code",
   "execution_count": 7,
   "id": "608c418b-5f3e-476a-8c96-5941da7dc78b",
   "metadata": {},
   "outputs": [
    {
     "name": "stdout",
     "output_type": "stream",
     "text": [
      "New https://pypi.org/project/ultralytics/8.2.70 available  Update with 'pip install -U ultralytics'\n"
     ]
    },
    {
     "ename": "SyntaxError",
     "evalue": "'\u001b[31m\u001b[1mloss\u001b[0m' is not a valid YOLO argument. Similar arguments are i.e. ['plots=True'].\n\n    Arguments received: ['yolo', '-f', 'C:\\\\Users\\\\lenovo\\\\AppData\\\\Roaming\\\\jupyter\\\\runtime\\\\kernel-04ccc16a-d55c-4a34-9f44-c69422e15899.json']. Ultralytics 'yolo' commands use the following syntax:\n\n        yolo TASK MODE ARGS\n\n        Where   TASK (optional) is one of {'obb', 'pose', 'segment', 'classify', 'detect'}\n                MODE (required) is one of {'benchmark', 'val', 'track', 'train', 'export', 'predict'}\n                ARGS (optional) are any number of custom 'arg=value' pairs like 'imgsz=320' that override defaults.\n                    See all ARGS at https://docs.ultralytics.com/usage/cfg or with 'yolo cfg'\n\n    1. Train a detection model for 10 epochs with an initial learning_rate of 0.01\n        yolo train data=coco8.yaml model=yolov8n.pt epochs=10 lr0=0.01\n\n    2. Predict a YouTube video using a pretrained segmentation model at image size 320:\n        yolo predict model=yolov8n-seg.pt source='https://youtu.be/LNwODJXcvt4' imgsz=320\n\n    3. Val a pretrained detection model at batch-size 1 and image size 640:\n        yolo val model=yolov8n.pt data=coco8.yaml batch=1 imgsz=640\n\n    4. Export a YOLOv8n classification model to ONNX format at image size 224 by 128 (no TASK required)\n        yolo export model=yolov8n-cls.pt format=onnx imgsz=224,128\n\n    5. Explore your datasets using semantic search and SQL with a simple GUI powered by Ultralytics Explorer API\n        yolo explorer data=data.yaml model=yolov8n.pt\n    \n    6. Streamlit real-time object detection on your webcam with Ultralytics YOLOv8\n        yolo streamlit-predict\n        \n    7. Run special commands:\n        yolo help\n        yolo checks\n        yolo version\n        yolo settings\n        yolo copy-cfg\n        yolo cfg\n\n    Docs: https://docs.ultralytics.com\n    Community: https://community.ultralytics.com\n    GitHub: https://github.com/ultralytics/ultralytics\n     (<string>)",
     "output_type": "error",
     "traceback": [
      "Traceback \u001b[1;36m(most recent call last)\u001b[0m:\n",
      "\u001b[0m  File \u001b[0;32mD:\\Anaconda\\envs\\py380\\lib\\site-packages\\IPython\\core\\interactiveshell.py:3508\u001b[0m in \u001b[0;35mrun_code\u001b[0m\n    exec(code_obj, self.user_global_ns, self.user_ns)\u001b[0m\n",
      "\u001b[0m  Cell \u001b[0;32mIn[7], line 24\u001b[0m\n    model.train(data=data_config, epochs=100, imgsz=270, loss=focal_loss)\u001b[0m\n",
      "\u001b[0m  File \u001b[0;32mD:\\Anaconda\\envs\\py380\\lib\\site-packages\\ultralytics\\engine\\model.py:805\u001b[0m in \u001b[0;35mtrain\u001b[0m\n    self.trainer = (trainer or self._smart_load(\"trainer\"))(overrides=args, _callbacks=self.callbacks)\u001b[0m\n",
      "\u001b[0m  File \u001b[0;32mD:\\Anaconda\\envs\\py380\\lib\\site-packages\\ultralytics\\engine\\trainer.py:101\u001b[0m in \u001b[0;35m__init__\u001b[0m\n    self.args = get_cfg(cfg, overrides)\u001b[0m\n",
      "\u001b[0m  File \u001b[0;32mD:\\Anaconda\\envs\\py380\\lib\\site-packages\\ultralytics\\cfg\\__init__.py:253\u001b[0m in \u001b[0;35mget_cfg\u001b[0m\n    check_dict_alignment(cfg, overrides)\u001b[0m\n",
      "\u001b[1;36m  File \u001b[1;32mD:\\Anaconda\\envs\\py380\\lib\\site-packages\\ultralytics\\cfg\\__init__.py:440\u001b[1;36m in \u001b[1;35mcheck_dict_alignment\u001b[1;36m\n\u001b[1;33m    raise SyntaxError(string + CLI_HELP_MSG) from e\u001b[1;36m\n",
      "\u001b[1;36m  File \u001b[1;32m<string>\u001b[1;36m\u001b[0m\n\u001b[1;31mSyntaxError\u001b[0m\u001b[1;31m:\u001b[0m '\u001b[31m\u001b[1mloss\u001b[0m' is not a valid YOLO argument. Similar arguments are i.e. ['plots=True'].\n\n    Arguments received: ['yolo', '-f', 'C:\\\\Users\\\\lenovo\\\\AppData\\\\Roaming\\\\jupyter\\\\runtime\\\\kernel-04ccc16a-d55c-4a34-9f44-c69422e15899.json']. Ultralytics 'yolo' commands use the following syntax:\n\n        yolo TASK MODE ARGS\n\n        Where   TASK (optional) is one of {'obb', 'pose', 'segment', 'classify', 'detect'}\n                MODE (required) is one of {'benchmark', 'val', 'track', 'train', 'export', 'predict'}\n                ARGS (optional) are any number of custom 'arg=value' pairs like 'imgsz=320' that override defaults.\n                    See all ARGS at https://docs.ultralytics.com/usage/cfg or with 'yolo cfg'\n\n    1. Train a detection model for 10 epochs with an initial learning_rate of 0.01\n        yolo train data=coco8.yaml model=yolov8n.pt epochs=10 lr0=0.01\n\n    2. Predict a YouTube video using a pretrained segmentation model at image size 320:\n        yolo predict model=yolov8n-seg.pt source='https://youtu.be/LNwODJXcvt4' imgsz=320\n\n    3. Val a pretrained detection model at batch-size 1 and image size 640:\n        yolo val model=yolov8n.pt data=coco8.yaml batch=1 imgsz=640\n\n    4. Export a YOLOv8n classification model to ONNX format at image size 224 by 128 (no TASK required)\n        yolo export model=yolov8n-cls.pt format=onnx imgsz=224,128\n\n    5. Explore your datasets using semantic search and SQL with a simple GUI powered by Ultralytics Explorer API\n        yolo explorer data=data.yaml model=yolov8n.pt\n    \n    6. Streamlit real-time object detection on your webcam with Ultralytics YOLOv8\n        yolo streamlit-predict\n        \n    7. Run special commands:\n        yolo help\n        yolo checks\n        yolo version\n        yolo settings\n        yolo copy-cfg\n        yolo cfg\n\n    Docs: https://docs.ultralytics.com\n    Community: https://community.ultralytics.com\n    GitHub: https://github.com/ultralytics/ultralytics\n    \n"
     ]
    }
   ],
   "source": [
    "from ultralytics import YOLO\n",
    "import yaml\n",
    "\n",
    "# Focal Loss 구현\n",
    "def focal_loss(pred, target, alpha=1, gamma=2, reduction='mean'):\n",
    "    BCE_loss = F.binary_cross_entropy_with_logits(pred, target, reduction='none')\n",
    "    pt = torch.exp(-BCE_loss)\n",
    "    F_loss = alpha * (1 - pt) ** gamma * BCE_loss\n",
    "    \n",
    "    if reduction == 'mean':\n",
    "        return F_loss.mean()\n",
    "    elif reduction == 'sum':\n",
    "        return F_loss.sum()\n",
    "    else:\n",
    "        return F_loss\n",
    "\n",
    "# YOLOv8 모델 로드\n",
    "model = YOLO('yolov8n.pt')\n",
    "\n",
    "# 데이터셋 설정 파일 경로\n",
    "data_config = 'C:/Users/lenovo/smartfactory/YOLO_dataset_renewal_2/data.yaml'\n",
    "\n",
    "# 모델 학습\n",
    "model.train(data=data_config, epochs=100, imgsz=270, loss=focal_loss)\n",
    "\n",
    "print(\"모델 학습이 완료되었습니다.\")\n"
   ]
  },
  {
   "cell_type": "code",
   "execution_count": null,
   "id": "dfb13882-cdca-429a-b781-0377c8149d70",
   "metadata": {},
   "outputs": [],
   "source": []
  }
 ],
 "metadata": {
  "kernelspec": {
   "display_name": "py380",
   "language": "python",
   "name": "py380"
  },
  "language_info": {
   "codemirror_mode": {
    "name": "ipython",
    "version": 3
   },
   "file_extension": ".py",
   "mimetype": "text/x-python",
   "name": "python",
   "nbconvert_exporter": "python",
   "pygments_lexer": "ipython3",
   "version": "3.8.19"
  }
 },
 "nbformat": 4,
 "nbformat_minor": 5
}
